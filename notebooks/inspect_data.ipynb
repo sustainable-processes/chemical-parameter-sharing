{
 "cells": [
  {
   "cell_type": "markdown",
   "metadata": {},
   "source": [
    "# Inspect datasets for the parameter sharing model"
   ]
  },
  {
   "cell_type": "code",
   "execution_count": 1,
   "metadata": {},
   "outputs": [],
   "source": [
    "import pandas as pd\n",
    "import numpy as np\n",
    "import matplotlib.pyplot as plt\n",
    "from collections import Counter"
   ]
  },
  {
   "cell_type": "code",
   "execution_count": 2,
   "metadata": {},
   "outputs": [],
   "source": [
    "# read this file:\n",
    "# data/fingerprints/mid_class_train.npy\n",
    "\n",
    "mid_class_train_fp = np.load('../data/fingerprints/mid_class_train.npy')"
   ]
  },
  {
   "cell_type": "code",
   "execution_count": 3,
   "metadata": {},
   "outputs": [
    {
     "data": {
      "text/plain": [
       "(271394, 4096)"
      ]
     },
     "execution_count": 3,
     "metadata": {},
     "output_type": "execute_result"
    }
   ],
   "source": [
    "mid_class_train_fp.shape"
   ]
  },
  {
   "cell_type": "code",
   "execution_count": 4,
   "metadata": {},
   "outputs": [],
   "source": [
    "mid_class_train_df = pd.read_parquet('../data/mid_class_train.parquet')"
   ]
  },
  {
   "cell_type": "code",
   "execution_count": 5,
   "metadata": {},
   "outputs": [
    {
     "data": {
      "text/plain": [
       "(271394, 14)"
      ]
     },
     "execution_count": 5,
     "metadata": {},
     "output_type": "execute_result"
    }
   ],
   "source": [
    "mid_class_train_df.shape"
   ]
  },
  {
   "cell_type": "code",
   "execution_count": 9,
   "metadata": {},
   "outputs": [
    {
     "data": {
      "text/plain": [
       "{'1', '10', '11', '2', '3', '4', '5', '6', '7', '8', '9'}"
      ]
     },
     "execution_count": 9,
     "metadata": {},
     "output_type": "execute_result"
    }
   ],
   "source": [
    "set(mid_class_train_df['super class'])"
   ]
  },
  {
   "cell_type": "code",
   "execution_count": 12,
   "metadata": {},
   "outputs": [
    {
     "data": {
      "text/plain": [
       "2         9\n",
       "3         7\n",
       "4         1\n",
       "5         8\n",
       "7         4\n",
       "         ..\n",
       "356901    1\n",
       "356902    2\n",
       "356903    9\n",
       "356904    1\n",
       "356905    1\n",
       "Name: super class, Length: 271394, dtype: int8"
      ]
     },
     "execution_count": 12,
     "metadata": {},
     "output_type": "execute_result"
    }
   ],
   "source": [
    "mid_class_train_df['super class'].astype(np.int8)"
   ]
  },
  {
   "cell_type": "code",
   "execution_count": 5,
   "metadata": {},
   "outputs": [
    {
     "name": "stdout",
     "output_type": "stream",
     "text": [
      "total df size:  306427\n"
     ]
    }
   ],
   "source": [
    "# orderly-mid-class dataset size:\n",
    "mid_class_train_path = '../data/mid_class_train.parquet'\n",
    "mid_class_train_df = pd.read_parquet(mid_class_train_path)\n",
    "mid_class_test_path = '../data/mid_class_test.parquet'\n",
    "mid_class_test_df = pd.read_parquet(mid_class_test_path)\n",
    "\n",
    "print('total df size: ', mid_class_train_df.shape[0] + mid_class_test_df.shape[0])"
   ]
  },
  {
   "cell_type": "markdown",
   "metadata": {},
   "source": [
    "# Check the datasets"
   ]
  },
  {
   "cell_type": "code",
   "execution_count": 5,
   "metadata": {},
   "outputs": [],
   "source": [
    "train = pd.read_parquet('../data/super_class_cc_train.parquet')\n",
    "test = pd.read_parquet('../data/super_class_cc_test.parquet')"
   ]
  },
  {
   "cell_type": "code",
   "execution_count": 30,
   "metadata": {},
   "outputs": [
    {
     "data": {
      "text/plain": [
       "1     81799\n",
       "6     61144\n",
       "2     40993\n",
       "7     33476\n",
       "9     29514\n",
       "4     10423\n",
       "8      8241\n",
       "10     8151\n",
       "5      3991\n",
       "11      508\n",
       "Name: super class, dtype: int64"
      ]
     },
     "execution_count": 30,
     "metadata": {},
     "output_type": "execute_result"
    }
   ],
   "source": [
    "train['super class'].value_counts()"
   ]
  },
  {
   "cell_type": "code",
   "execution_count": 32,
   "metadata": {},
   "outputs": [
    {
     "data": {
      "text/plain": [
       "3    28187\n",
       "Name: super class, dtype: int64"
      ]
     },
     "execution_count": 32,
     "metadata": {},
     "output_type": "execute_result"
    }
   ],
   "source": [
    "test['super class'].value_counts()"
   ]
  },
  {
   "cell_type": "code",
   "execution_count": 6,
   "metadata": {},
   "outputs": [
    {
     "data": {
      "text/plain": [
       "((278240, 14), (28187, 14))"
      ]
     },
     "execution_count": 6,
     "metadata": {},
     "output_type": "execute_result"
    }
   ],
   "source": [
    "train.shape, test.shape"
   ]
  },
  {
   "cell_type": "code",
   "execution_count": 26,
   "metadata": {},
   "outputs": [],
   "source": [
    "data_test = (train['agent_000'], train['agent_001'])\n",
    "data_train = (test['agent_000'], test['agent_001'])\n",
    "top_n=3"
   ]
  },
  {
   "cell_type": "code",
   "execution_count": 27,
   "metadata": {},
   "outputs": [
    {
     "data": {
      "text/plain": [
       "(28187,)"
      ]
     },
     "execution_count": 27,
     "metadata": {},
     "output_type": "execute_result"
    }
   ],
   "source": [
    "data_train[0].shape"
   ]
  },
  {
   "cell_type": "code",
   "execution_count": 28,
   "metadata": {},
   "outputs": [
    {
     "name": "stdout",
     "output_type": "stream",
     "text": [
      "0.2194867740080506 [(('Cl', 'NULL'), 2535), (('O=C([O-])[O-]', '[K+]'), 1999), (('[Na+]', '[OH-]'), 1609)]\n"
     ]
    }
   ],
   "source": [
    "data_train_np = np.array(data_train).transpose()\n",
    "data_test_np = np.array(data_test).transpose()\n",
    "data_train_np = np.where(data_train_np == None, \"NULL\", data_train_np)\n",
    "data_test_np = np.where(data_test_np == None, \"NULL\", data_test_np)\n",
    "data_train_np = np.sort(data_train_np, axis=1)\n",
    "data_test_np = np.sort(data_test_np, axis=1)\n",
    "\n",
    "data_train_list = [tuple(row) for row in data_train_np]\n",
    "data_test_list = [tuple(row) for row in data_test_np]\n",
    "\n",
    "row_counts = Counter(data_train_list)\n",
    "\n",
    "# Find the most frequent row and its count\n",
    "most_frequent_rows = row_counts.most_common(top_n)\n",
    "\n",
    "# Count the occurrences of the most frequent row in data_train_np\n",
    "correct_predictions = 0\n",
    "for row in most_frequent_rows:\n",
    "    correct_predictions += data_test_list.count(row[0])\n",
    "\n",
    "print(correct_predictions / len(data_test_list), most_frequent_rows)"
   ]
  },
  {
   "cell_type": "code",
   "execution_count": 22,
   "metadata": {},
   "outputs": [
    {
     "data": {
      "text/plain": [
       "[(('Cl', 'NULL'), 25097),\n",
       " (('O=C([O-])[O-]', '[K+]'), 19579),\n",
       " (('[Na+]', '[OH-]'), 16394)]"
      ]
     },
     "execution_count": 22,
     "metadata": {},
     "output_type": "execute_result"
    }
   ],
   "source": [
    "most_frequent_rows"
   ]
  },
  {
   "cell_type": "code",
   "execution_count": 29,
   "metadata": {},
   "outputs": [
    {
     "data": {
      "text/plain": [
       "[(('Cl', 'NULL'), 2535),\n",
       " (('O=C([O-])[O-]', '[K+]'), 1999),\n",
       " (('[Na+]', '[OH-]'), 1609)]"
      ]
     },
     "execution_count": 29,
     "metadata": {},
     "output_type": "execute_result"
    }
   ],
   "source": [
    "most_frequent_rows"
   ]
  },
  {
   "cell_type": "code",
   "execution_count": 24,
   "metadata": {},
   "outputs": [
    {
     "data": {
      "text/plain": [
       "(278240, 14)"
      ]
     },
     "execution_count": 24,
     "metadata": {},
     "output_type": "execute_result"
    }
   ],
   "source": [
    "train.shape"
   ]
  },
  {
   "cell_type": "code",
   "execution_count": 25,
   "metadata": {},
   "outputs": [
    {
     "data": {
      "text/plain": [
       "0.08804988499137435"
      ]
     },
     "execution_count": 25,
     "metadata": {},
     "output_type": "execute_result"
    }
   ],
   "source": [
    "24499/278240"
   ]
  },
  {
   "cell_type": "code",
   "execution_count": 17,
   "metadata": {},
   "outputs": [
    {
     "data": {
      "text/plain": [
       "(28187, 14)"
      ]
     },
     "execution_count": 17,
     "metadata": {},
     "output_type": "execute_result"
    }
   ],
   "source": [
    "test.shape"
   ]
  },
  {
   "cell_type": "code",
   "execution_count": 18,
   "metadata": {},
   "outputs": [
    {
     "data": {
      "text/plain": [
       "0.08589065881434704"
      ]
     },
     "execution_count": 18,
     "metadata": {},
     "output_type": "execute_result"
    }
   ],
   "source": [
    "2421/28187"
   ]
  }
 ],
 "metadata": {
  "kernelspec": {
   "display_name": "chemistry",
   "language": "python",
   "name": "chemistry"
  },
  "language_info": {
   "codemirror_mode": {
    "name": "ipython",
    "version": 3
   },
   "file_extension": ".py",
   "mimetype": "text/x-python",
   "name": "python",
   "nbconvert_exporter": "python",
   "pygments_lexer": "ipython3",
   "version": "3.10.8"
  }
 },
 "nbformat": 4,
 "nbformat_minor": 2
}
