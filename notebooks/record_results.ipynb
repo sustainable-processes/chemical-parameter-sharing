{
 "cells": [
  {
   "cell_type": "markdown",
   "metadata": {},
   "source": [
    "# Generate results table"
   ]
  },
  {
   "cell_type": "code",
   "execution_count": 17,
   "metadata": {},
   "outputs": [],
   "source": [
    "import json"
   ]
  },
  {
   "cell_type": "code",
   "execution_count": 18,
   "metadata": {},
   "outputs": [],
   "source": [
    "def gen_results_table(freq_path, test_path, top_n=3):\n",
    "    \"\"\"\n",
    "    Generate results table for the paper\n",
    "    freq_path, test_path (str): path to frequency informed and test results, e.g. results/freq_informed_acc-c-c.json\n",
    "    top_n (int): top n accuracy\n",
    "    \"\"\"\n",
    "    lines = [\"Solvents\", \"Agents\", \"Solvents \\& Agents\"]\n",
    "    test_acc = json.load(open(test_path))['test_best']\n",
    "    freq_acc = json.load(open(freq_path))\n",
    "    \n",
    "    solvent_accuracy = test_acc[f\"solvent_accuracy_top{top_n}\"]\n",
    "    agent_accuracy = test_acc[f\"three_agents_accuracy_top{top_n}\"]\n",
    "    overall_accuracy = test_acc[f\"overall_accuracy_top{top_n}\"]\n",
    "\n",
    "    # Get frequency informed solvent, agent and overall accuracy\n",
    "    fi_solvent_accuracy = freq_acc[f\"frequency_informed_solvent_accuracy_top_{top_n}\"]\n",
    "    fi_agent_accuracy = freq_acc[f\"frequency_informed_agent_accuracy_top_{top_n}\"]\n",
    "    fi_overall_accuracy = freq_acc[f\"frequency_informed_overall_accuracy_top_{top_n}\"]\n",
    "\n",
    "    # Improvement\n",
    "    solvent_improvement = (solvent_accuracy-fi_solvent_accuracy)/(1-fi_solvent_accuracy)\n",
    "    solvent_improvement_color = \"Green\" if solvent_improvement>0 else \"red\"\n",
    "    agent_improvement = (agent_accuracy-fi_agent_accuracy)/(1-fi_agent_accuracy)\n",
    "    agent_improvement_color = \"Green\" if agent_improvement>0 else \"red\"\n",
    "    overall_improvement = (overall_accuracy-fi_overall_accuracy)/(1-fi_overall_accuracy)\n",
    "    overall_improvement_color = \"Green\" if overall_improvement>0 else \"red\"\n",
    "\n",
    "    # Create table lines\n",
    "    lines[0] += f\" & {fi_solvent_accuracy*100:.0f} / {solvent_accuracy*100:.0f} / \\\\textcolor{{{solvent_improvement_color}}}{{{solvent_improvement*100:.0f}\\%}} \"\n",
    "    lines[1] += f\" & {fi_agent_accuracy*100:.0f} / {agent_accuracy*100:.0f} / \\\\textcolor{{{agent_improvement_color}}}{{{agent_improvement*100:.0f}\\%}} \"\n",
    "    lines[2] += f\" & {fi_overall_accuracy*100:.0f} / {overall_accuracy*100:.0f} / \\\\textcolor{{{overall_improvement_color}}}{{{overall_improvement*100:.0f}\\%}} \"\n",
    "    print(\"\\\\\\\\ \\n\".join(lines) + \"\\\\\\\\\")"
   ]
  },
  {
   "cell_type": "code",
   "execution_count": 3,
   "metadata": {},
   "outputs": [
    {
     "name": "stdout",
     "output_type": "stream",
     "text": [
      "Solvents & 23 // 40 // \\textcolor{lessgreen}{22\\%} \\\\ \n",
      "Agents & 21 // 38 // \\textcolor{lessgreen}{22\\%} \\\\ \n",
      "Solvents \\& Agents & 4 // 18 // \\textcolor{lessgreen}{14\\%} \\\\\n"
     ]
    }
   ],
   "source": [
    "# super class c-c\n",
    "freq_path = \"results/freq_informed_acc-c-c.json\"\n",
    "test_path = \"results/test_metrics-c-c.json\"\n",
    "gen_results_table(freq_path, test_path)\n"
   ]
  },
  {
   "cell_type": "code",
   "execution_count": 4,
   "metadata": {},
   "outputs": [
    {
     "name": "stdout",
     "output_type": "stream",
     "text": [
      "Solvents & 23 // 30 // \\textcolor{lessgreen}{9\\%} \\\\ \n",
      "Agents & 21 // 27 // \\textcolor{lessgreen}{7\\%} \\\\ \n",
      "Solvents \\& Agents & 4 // 10 // \\textcolor{lessgreen}{6\\%} \\\\\n"
     ]
    }
   ],
   "source": [
    "# super class fgi\n",
    "freq_path = \"results/freq_informed_acc-fgi.json\"\n",
    "test_path = \"results/test_metrics-fgi.json\"\n",
    "gen_results_table(freq_path, test_path)\n"
   ]
  },
  {
   "cell_type": "code",
   "execution_count": 5,
   "metadata": {},
   "outputs": [
    {
     "name": "stdout",
     "output_type": "stream",
     "text": [
      "Solvents & 23 // 29 // \\textcolor{lessgreen}{7\\%} \\\\ \n",
      "Agents & 21 // 28 // \\textcolor{lessgreen}{9\\%} \\\\ \n",
      "Solvents \\& Agents & 4 // 10 // \\textcolor{lessgreen}{6\\%} \\\\\n"
     ]
    }
   ],
   "source": [
    "# super class reductions\n",
    "freq_path = \"results/freq_informed_acc-reductions.json\"\n",
    "test_path = \"results/test_metrics-reductions.json\"\n",
    "gen_results_table(freq_path, test_path)\n"
   ]
  },
  {
   "cell_type": "code",
   "execution_count": null,
   "metadata": {},
   "outputs": [],
   "source": [
    "# mid split, gao model\n",
    "freq_path = \"results/freq_informed_acc-mid-class.json\"\n",
    "test_path = \"results/test_metrics-mid-class.json\"\n",
    "gen_results_table(freq_path, test_path)"
   ]
  },
  {
   "cell_type": "code",
   "execution_count": 51,
   "metadata": {},
   "outputs": [
    {
     "name": "stdout",
     "output_type": "stream",
     "text": [
      "Solvents & 24 / 33 / \\textcolor{Green}{11\\%} \\\\ \n",
      "Agents & 21 / 25 / \\textcolor{Green}{6\\%} \\\\ \n",
      "Solvents \\& Agents & 4 / 10 / \\textcolor{Green}{6\\%} \\\\\n"
     ]
    }
   ],
   "source": [
    "# mid split, multi-ps\n",
    "freq_path = \"../models/multi_ps/freq_informed_acc.json\"\n",
    "test_path = \"../models/multi_ps/test_metrics.json\"\n",
    "gen_results_table(freq_path, test_path)"
   ]
  },
  {
   "cell_type": "markdown",
   "metadata": {},
   "source": [
    "# Experiments for paper"
   ]
  },
  {
   "cell_type": "code",
   "execution_count": 6,
   "metadata": {},
   "outputs": [
    {
     "name": "stdout",
     "output_type": "stream",
     "text": [
      "Solvents & 23 / 41 / \\textcolor{lessgreen}{23\\%} \\\\ \n",
      "Agents & 21 / 38 / \\textcolor{lessgreen}{22\\%} \\\\ \n",
      "Solvents \\& Agents & 4 / 19 / \\textcolor{lessgreen}{16\\%} \\\\\n"
     ]
    }
   ],
   "source": [
    "# 1.1: random split, gao model\n",
    "freq_path = \"../models/gao_random_split/freq_informed_acc.json\"\n",
    "test_path = \"../models/gao_random_split/test_metrics.json\"\n",
    "gen_results_table(freq_path, test_path)"
   ]
  },
  {
   "cell_type": "code",
   "execution_count": 7,
   "metadata": {},
   "outputs": [
    {
     "name": "stdout",
     "output_type": "stream",
     "text": [
      "Solvents & 23 / 42 / \\textcolor{lessgreen}{24\\%} \\\\ \n",
      "Agents & 21 / 40 / \\textcolor{lessgreen}{25\\%} \\\\ \n",
      "Solvents \\& Agents & 4 / 20 / \\textcolor{lessgreen}{16\\%} \\\\\n"
     ]
    }
   ],
   "source": [
    "# 1.2: random split+OHE, gao model\n",
    "freq_path = \"../models/gao_ohe_random_split/freq_informed_acc.json\"\n",
    "test_path = \"../models/gao_ohe_random_split/test_metrics.json\"\n",
    "gen_results_table(freq_path, test_path)"
   ]
  },
  {
   "cell_type": "code",
   "execution_count": 24,
   "metadata": {},
   "outputs": [
    {
     "name": "stdout",
     "output_type": "stream",
     "text": [
      "Solvents & 23 / 31 / \\textcolor{Green}{10\\%} \\\\ \n",
      "Agents & 21 / 26 / \\textcolor{Green}{7\\%} \\\\ \n",
      "Solvents \\& Agents & 4 / 10 / \\textcolor{Green}{6\\%} \\\\\n"
     ]
    }
   ],
   "source": [
    "# 1.3: param sharing random split\n",
    "freq_path = \"../models/ps_random_split/freq_informed_acc.json\"\n",
    "test_path = \"../models/ps_random_split/test_metrics.json\"\n",
    "gen_results_table(freq_path, test_path)"
   ]
  },
  {
   "cell_type": "markdown",
   "metadata": {},
   "source": [
    "## Results section 2: data splits"
   ]
  },
  {
   "cell_type": "code",
   "execution_count": 25,
   "metadata": {},
   "outputs": [
    {
     "name": "stdout",
     "output_type": "stream",
     "text": [
      "Solvents & 23 / 40 / \\textcolor{Green}{21\\%} \\\\ \n",
      "Agents & 20 / 38 / \\textcolor{Green}{22\\%} \\\\ \n",
      "Solvents \\& Agents & 4 / 18 / \\textcolor{Green}{15\\%} \\\\\n"
     ]
    }
   ],
   "source": [
    "# 2.1 Reductions\n",
    "freq_path = \"../models/super_class_reductions/freq_informed_acc.json\"\n",
    "test_path = \"../models/super_class_reductions/test_metrics.json\"\n",
    "gen_results_table(freq_path, test_path)"
   ]
  },
  {
   "cell_type": "code",
   "execution_count": 26,
   "metadata": {},
   "outputs": [
    {
     "name": "stdout",
     "output_type": "stream",
     "text": [
      "Solvents & 23 / 40 / \\textcolor{Green}{22\\%} \\\\ \n",
      "Agents & 21 / 39 / \\textcolor{Green}{23\\%} \\\\ \n",
      "Solvents \\& Agents & 4 / 19 / \\textcolor{Green}{15\\%} \\\\\n"
     ]
    }
   ],
   "source": [
    "# 2.2 FGI\n",
    "freq_path = \"../models/super_class_fgi/freq_informed_acc.json\"\n",
    "test_path = \"../models/super_class_fgi/test_metrics.json\"\n",
    "gen_results_table(freq_path, test_path)"
   ]
  },
  {
   "cell_type": "code",
   "execution_count": 27,
   "metadata": {},
   "outputs": [
    {
     "name": "stdout",
     "output_type": "stream",
     "text": [
      "Solvents & 23 / 42 / \\textcolor{Green}{24\\%} \\\\ \n",
      "Agents & 21 / 39 / \\textcolor{Green}{23\\%} \\\\ \n",
      "Solvents \\& Agents & 4 / 20 / \\textcolor{Green}{16\\%} \\\\\n"
     ]
    }
   ],
   "source": [
    "# 2.3 CC\n",
    "freq_path = \"../models/super_class_cc/freq_informed_acc.json\"\n",
    "test_path = \"../models/super_class_cc/test_metrics.json\"\n",
    "gen_results_table(freq_path, test_path)"
   ]
  },
  {
   "cell_type": "code",
   "execution_count": 28,
   "metadata": {},
   "outputs": [
    {
     "name": "stdout",
     "output_type": "stream",
     "text": [
      "Solvents & 23 / 42 / \\textcolor{Green}{25\\%} \\\\ \n",
      "Agents & 21 / 40 / \\textcolor{Green}{24\\%} \\\\ \n",
      "Solvents \\& Agents & 4 / 20 / \\textcolor{Green}{17\\%} \\\\\n"
     ]
    }
   ],
   "source": [
    "# 2.4 Mid split, gao model\n",
    "freq_path = \"../models/gao_mid_class/freq_informed_acc.json\"\n",
    "test_path = \"../models/gao_mid_class/test_metrics.json\"\n",
    "gen_results_table(freq_path, test_path)"
   ]
  },
  {
   "cell_type": "code",
   "execution_count": 29,
   "metadata": {},
   "outputs": [
    {
     "name": "stdout",
     "output_type": "stream",
     "text": [
      "Solvents & 24 / 32 / \\textcolor{Green}{11\\%} \\\\ \n",
      "Agents & 21 / 26 / \\textcolor{Green}{7\\%} \\\\ \n",
      "Solvents \\& Agents & 4 / 10 / \\textcolor{Green}{6\\%} \\\\\n"
     ]
    }
   ],
   "source": [
    "# 2.5 Mid split, PS model\n",
    "freq_path = \"../models/ps_mid_class_split/freq_informed_acc.json\"\n",
    "test_path = \"../models/ps_mid_class_split/test_metrics.json\"\n",
    "gen_results_table(freq_path, test_path)"
   ]
  },
  {
   "cell_type": "markdown",
   "metadata": {},
   "source": [
    "## Ideal param sharing model"
   ]
  },
  {
   "cell_type": "code",
   "execution_count": 30,
   "metadata": {},
   "outputs": [
    {
     "name": "stdout",
     "output_type": "stream",
     "text": [
      "Solvents & 24 / 32 / \\textcolor{Green}{10\\%} \\\\ \n",
      "Agents & 21 / 26 / \\textcolor{Green}{7\\%} \\\\ \n",
      "Solvents \\& Agents & 4 / 10 / \\textcolor{Green}{6\\%} \\\\\n"
     ]
    }
   ],
   "source": [
    "# 3.1 PS, 05k\n",
    "freq_path = \"../models/upstream_05k/freq_informed_acc.json\"\n",
    "test_path = \"../models/upstream_05k/test_metrics.json\"\n",
    "gen_results_table(freq_path, test_path)"
   ]
  },
  {
   "cell_type": "code",
   "execution_count": 31,
   "metadata": {},
   "outputs": [
    {
     "name": "stdout",
     "output_type": "stream",
     "text": [
      "Solvents & 24 / 33 / \\textcolor{Green}{12\\%} \\\\ \n",
      "Agents & 21 / 27 / \\textcolor{Green}{7\\%} \\\\ \n",
      "Solvents \\& Agents & 4 / 11 / \\textcolor{Green}{7\\%} \\\\\n"
     ]
    }
   ],
   "source": [
    "# 3.2 PS, 1k\n",
    "freq_path = \"../models/upstream/freq_informed_acc.json\"\n",
    "test_path = \"../models/upstream/test_metrics.json\"\n",
    "gen_results_table(freq_path, test_path)"
   ]
  },
  {
   "cell_type": "code",
   "execution_count": 32,
   "metadata": {},
   "outputs": [
    {
     "name": "stdout",
     "output_type": "stream",
     "text": [
      "Solvents & 24 / 33 / \\textcolor{Green}{12\\%} \\\\ \n",
      "Agents & 21 / 27 / \\textcolor{Green}{8\\%} \\\\ \n",
      "Solvents \\& Agents & 4 / 11 / \\textcolor{Green}{7\\%} \\\\\n"
     ]
    }
   ],
   "source": [
    "# 3.3 PS, 2k\n",
    "freq_path = \"../models/upstream_2k/freq_informed_acc.json\"\n",
    "test_path = \"../models/upstream_2k/test_metrics.json\"\n",
    "gen_results_table(freq_path, test_path)"
   ]
  },
  {
   "cell_type": "code",
   "execution_count": 33,
   "metadata": {},
   "outputs": [
    {
     "name": "stdout",
     "output_type": "stream",
     "text": [
      "Solvents & 24 / 32 / \\textcolor{Green}{11\\%} \\\\ \n",
      "Agents & 21 / 27 / \\textcolor{Green}{7\\%} \\\\ \n",
      "Solvents \\& Agents & 4 / 10 / \\textcolor{Green}{6\\%} \\\\\n"
     ]
    }
   ],
   "source": [
    "# 3.4 PS, 4k\n",
    "freq_path = \"../models/upstream_4k/freq_informed_acc.json\"\n",
    "test_path = \"../models/upstream_4k/test_metrics.json\"\n",
    "gen_results_table(freq_path, test_path)"
   ]
  },
  {
   "cell_type": "code",
   "execution_count": 34,
   "metadata": {},
   "outputs": [
    {
     "name": "stdout",
     "output_type": "stream",
     "text": [
      "Solvents & 24 / 32 / \\textcolor{Green}{11\\%} \\\\ \n",
      "Agents & 21 / 24 / \\textcolor{Green}{5\\%} \\\\ \n",
      "Solvents \\& Agents & 4 / 9 / \\textcolor{Green}{5\\%} \\\\\n"
     ]
    }
   ],
   "source": [
    "# 3.5 PS, 8k\n",
    "freq_path = \"../models/upstream_8k/freq_informed_acc.json\"\n",
    "test_path = \"../models/upstream_8k/test_metrics.json\"\n",
    "gen_results_table(freq_path, test_path)"
   ]
  },
  {
   "cell_type": "markdown",
   "metadata": {},
   "source": [
    "### Dataset fraction"
   ]
  },
  {
   "cell_type": "code",
   "execution_count": 35,
   "metadata": {},
   "outputs": [
    {
     "name": "stdout",
     "output_type": "stream",
     "text": [
      "Solvents & 24 / 32 / \\textcolor{Green}{11\\%} \\\\ \n",
      "Agents & 21 / 27 / \\textcolor{Green}{8\\%} \\\\ \n",
      "Solvents \\& Agents & 4 / 10 / \\textcolor{Green}{6\\%} \\\\\n"
     ]
    }
   ],
   "source": [
    "# 4.1 20%\n",
    "freq_path = \"../models/upstream_20/freq_informed_acc.json\"\n",
    "test_path = \"../models/upstream_20/test_metrics.json\"\n",
    "gen_results_table(freq_path, test_path)"
   ]
  },
  {
   "cell_type": "code",
   "execution_count": 36,
   "metadata": {},
   "outputs": [
    {
     "name": "stdout",
     "output_type": "stream",
     "text": [
      "Solvents & 24 / 33 / \\textcolor{Green}{11\\%} \\\\ \n",
      "Agents & 21 / 27 / \\textcolor{Green}{8\\%} \\\\ \n",
      "Solvents \\& Agents & 4 / 11 / \\textcolor{Green}{6\\%} \\\\\n"
     ]
    }
   ],
   "source": [
    "# 4.1 20%\n",
    "freq_path = \"../models/upstream_40/freq_informed_acc.json\"\n",
    "test_path = \"../models/upstream_40/test_metrics.json\"\n",
    "gen_results_table(freq_path, test_path)"
   ]
  },
  {
   "cell_type": "code",
   "execution_count": 37,
   "metadata": {},
   "outputs": [
    {
     "name": "stdout",
     "output_type": "stream",
     "text": [
      "Solvents & 24 / 32 / \\textcolor{Green}{11\\%} \\\\ \n",
      "Agents & 21 / 26 / \\textcolor{Green}{7\\%} \\\\ \n",
      "Solvents \\& Agents & 4 / 10 / \\textcolor{Green}{6\\%} \\\\\n"
     ]
    }
   ],
   "source": [
    "# 4.1 20%\n",
    "freq_path = \"../models/upstream_60/freq_informed_acc.json\"\n",
    "test_path = \"../models/upstream_60/test_metrics.json\"\n",
    "gen_results_table(freq_path, test_path)"
   ]
  },
  {
   "cell_type": "code",
   "execution_count": 38,
   "metadata": {},
   "outputs": [
    {
     "name": "stdout",
     "output_type": "stream",
     "text": [
      "Solvents & 24 / 33 / \\textcolor{Green}{12\\%} \\\\ \n",
      "Agents & 21 / 26 / \\textcolor{Green}{7\\%} \\\\ \n",
      "Solvents \\& Agents & 4 / 11 / \\textcolor{Green}{7\\%} \\\\\n"
     ]
    }
   ],
   "source": [
    "# 4.1 20%\n",
    "freq_path = \"../models/upstream_80/freq_informed_acc.json\"\n",
    "test_path = \"../models/upstream_80/test_metrics.json\"\n",
    "gen_results_table(freq_path, test_path)"
   ]
  },
  {
   "cell_type": "code",
   "execution_count": 39,
   "metadata": {},
   "outputs": [
    {
     "name": "stdout",
     "output_type": "stream",
     "text": [
      "Solvents & 24 / 33 / \\textcolor{Green}{12\\%} \\\\ \n",
      "Agents & 21 / 27 / \\textcolor{Green}{7\\%} \\\\ \n",
      "Solvents \\& Agents & 4 / 11 / \\textcolor{Green}{7\\%} \\\\\n"
     ]
    }
   ],
   "source": [
    "# 4.1 20%\n",
    "freq_path = \"../models/upstream/freq_informed_acc.json\"\n",
    "test_path = \"../models/upstream/test_metrics.json\"\n",
    "gen_results_table(freq_path, test_path)"
   ]
  },
  {
   "cell_type": "code",
   "execution_count": null,
   "metadata": {},
   "outputs": [],
   "source": []
  },
  {
   "cell_type": "code",
   "execution_count": 7,
   "metadata": {},
   "outputs": [
    {
     "data": {
      "image/png": "[encoded data removed]",
      "text/plain": [
       "<Figure size 1000x1000 with 1 Axes>"
      ]
     },
     "metadata": {},
     "output_type": "display_data"
    }
   ],
   "source": [
    "import matplotlib.pyplot as plt\n",
    "\n",
    "# Data\n",
    "x = [0.2, 0.4, 0.6, 0.8, 1]\n",
    "solvents = [0.11, 0.11, 0.11, 0.12, 0.12]\n",
    "agents = [0.08, 0.08, 0.07, 0.07, 0.07]\n",
    "all_ = [0.06, 0.06, 0.06, 0.07, 0.07]\n",
    "\n",
    "# Plotting with connected dots\n",
    "plt.figure(figsize=(10, 10))\n",
    "plt.plot(x, solvents, 'o-', label=\"Solvents\")  # Connected dots for solvents\n",
    "plt.plot(x, agents, 'o-', label=\"Agents\")      # Connected dots for agents\n",
    "plt.plot(x, all_, 'o-', label=\"Solvents & Agents\")  # Connected dots for all\n",
    "\n",
    "# Axis labels and title with increased font size\n",
    "plt.xlabel(\"Fraction of data used\", fontsize=20)\n",
    "plt.ylabel(\"Average Improvement over Baseline (AIB%)\", fontsize=20)\n",
    "# plt.title(\"Average improvement over baseline, parameter sharing model\", fontsize=16)\n",
    "\n",
    "# Set y-axis range\n",
    "plt.ylim(0, 0.3)\n",
    "plt.rcParams.update({'font.size': 18})\n",
    "\n",
    "# # Increase tick size\n",
    "plt.xticks(fontsize=16)\n",
    "plt.yticks(fontsize=16)\n",
    "\n",
    "# change font size of \n",
    "\n",
    "# # Adjusting the legend font size\n",
    "plt.legend(fontsize=18)\n",
    "\n",
    "\n",
    "# Save the plot\n",
    "plt.savefig(\"data_fraction.png\", dpi=600)\n"
   ]
  },
  {
   "cell_type": "markdown",
   "metadata": {},
   "source": [
    "# v6 results"
   ]
  },
  {
   "cell_type": "code",
   "execution_count": null,
   "metadata": {},
   "outputs": [],
   "source": [
    "#534/534 - 1342s - loss: 10.8579 - mol1_loss: 2.6301 - mol2_loss: 1.5522 - mol3_loss: 2.6562 - mol4_loss: 1.6508 - mol5_loss: 0.6368 - mol1_acc: 0.2806 - mol1_top3: 0.5334 - mol1_top5: 0.6765 - mol2_acc: 0.6645 - mol2_top3: 0.7969 - mol2_top5: 0.8600 - mol3_acc: 0.4048 - mol3_top3: 0.6384 - mol3_top5: 0.7166 - mol4_acc: 0.6186 - mol4_top3: 0.8093 - mol4_top5: 0.8672 - mol5_acc: 0.8692 - mol5_top3: 0.9536 - mol5_top5: 0.9734 - val_loss: 11.0637 - val_mol1_loss: 2.6706 - val_mol2_loss: 1.5718 - val_mol3_loss: 2.7888 - val_mol4_loss: 1.6365 - val_mol5_loss: 0.6290 - val_mol1_acc: 0.2721 - val_mol1_top3: 0.5234 - val_mol1_top5: 0.6686 - val_mol2_acc: 0.6655 - val_mol2_top3: 0.7949 - val_mol2_top5: 0.8565 - val_mol3_acc: 0.3947 - val_mol3_top3: 0.6229 - val_mol3_top5: 0.6994 - val_mol4_acc: 0.6202 - val_mol4_top3: 0.8087 - val_mol4_top5: 0.8657 - val_mol5_acc: 0.8680 - val_mol5_top3: 0.9533 - val_mol5_top5: 0.9722 - training_throughput: 203.4407 - time_per_step: 2.5167 - 1342s/epoch - 3s/step\n",
    "loss: 10.8579 - mol1_loss: 2.6301 - mol2_loss: 1.5522 - mol3_loss: 2.6562 - mol4_loss: 1.6508 - mol5_loss: 0.6368 - \n",
    "mol1_acc: 0.2806 - mol1_top3: 0.5334 - mol1_top5: 0.6765 - mol2_acc: 0.6645 - mol2_top3: 0.7969 - mol2_top5: 0.8600 - mol3_acc: 0.4048 - mol3_top3: 0.6384 - mol3_top5: 0.7166 - mol4_acc: 0.6186 - mol4_top3: 0.8093 - mol4_top5: 0.8672 - mol5_acc: 0.8692 - mol5_top3: 0.9536 - mol5_top5: 0.9734 - val_loss: 11.0637 - \n",
    "val_mol1_loss: 2.6706 - val_mol2_loss: 1.5718 - val_mol3_loss: 2.7888 - val_mol4_loss: 1.6365 - val_mol5_loss: 0.6290 - val_mol1_acc: 0.2721 - val_mol1_top3: 0.5234 - val_mol1_top5: 0.6686 - val_mol2_acc: 0.6655 - val_mol2_top3: 0.7949 - val_mol2_top5: 0.8565 - val_mol3_acc: 0.3947 - val_mol3_top3: 0.6229 - val_mol3_top5: 0.6994 - val_mol4_acc: 0.6202 - val_mol4_top3: 0.8087 - val_mol4_top5: 0.8657 - val_mol5_acc: 0.8680 - val_mol5_top3: 0.9533 - val_mol5_top5: 0.9722 - \n",
    "\n",
    "loss: 10.8579\n",
    "val_mol1_top3: 0.5234\n",
    "val_mol2_top3: 0.7949\n",
    "val_mol3_top3: 0.6229\n",
    "val_mol4_top3: 0.8087\n",
    "val_mol5_top3: 0.9533\n",
    "23min per epoch\n"
   ]
  },
  {
   "cell_type": "code",
   "execution_count": null,
   "metadata": {},
   "outputs": [],
   "source": [
    "534/534 - 36s - loss: 5.8083 - mol1_loss: 1.8194 - mol2_loss: 1.2399 - mol3_loss: 1.4466 - mol4_loss: 0.9173 - mol5_loss: 0.3851 - mol1_acc: 0.4839 - mol1_top3: 0.7295 - mol1_top5: 0.8252 - mol2_acc: 0.6773 - mol2_top3: 0.8405 - \n",
    "mol2_top5: 0.9036 - mol3_acc: 0.6442 - mol3_top3: 0.8206 - mol3_top5: 0.8722 - mol4_acc: 0.7640 - mol4_top3: 0.9006 - mol4_top5: 0.9367 - mol5_acc: 0.8971 - mol5_top3: 0.9724 - mol5_top5: 0.9847 - val_loss: 8.7553 - \n",
    "val_mol1_loss: 2.4185 - val_mol2_loss: 1.5018 - val_mol3_loss: 2.5609 - val_mol4_loss: 1.6121 - val_mol5_loss: 0.6620 - val_mol1_acc: 0.3628 - val_mol1_top3: 0.6069 - val_mol1_top5: 0.7249 - val_mol2_acc: 0.6566 - val_mol2_top3: 0.8150 - val_mol2_top5: 0.8788 - val_mol3_acc: 0.4791 - val_mol3_top3: 0.6725 - val_mol3_top5: 0.7409 - val_mol4_acc: 0.6456 - val_mol4_top3: 0.8303 - val_mol4_top5: 0.8888 - val_mol5_acc: 0.8635 - val_mol5_top3: 0.9601 - val_mol5_top5: 0.9780 - training_throughput: 7590.3254 - time_per_step: 0.0675 - 36s/epoch - 67ms/step\n",
    "\n",
    "loss: 5.8083\n",
    "val_mol1_top3: 0.6069\n",
    "val_mol2_top3: 0.8150\n",
    "val_mol3_top3: 0.6725\n",
    "val_mol4_top3: 0.8303\n",
    "val_mol5_top3: 0.9601\n",
    "1/2 min per epoch"
   ]
  }
 ],
 "metadata": {
  "kernelspec": {
   "display_name": "chemistry",
   "language": "python",
   "name": "chemistry"
  },
  "language_info": {
   "codemirror_mode": {
    "name": "ipython",
    "version": 3
   },
   "file_extension": ".py",
   "mimetype": "text/x-python",
   "name": "python",
   "nbconvert_exporter": "python",
   "pygments_lexer": "ipython3",
   "version": "3.10.8"
  },
  "orig_nbformat": 4
 },
 "nbformat": 4,
 "nbformat_minor": 2
}
