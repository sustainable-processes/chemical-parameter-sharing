{
 "cells": [
  {
   "cell_type": "markdown",
   "metadata": {},
   "source": [
    "# Find hydrogenation rxn"
   ]
  },
  {
   "cell_type": "code",
   "execution_count": 2,
   "metadata": {},
   "outputs": [],
   "source": [
    "import pandas as pd"
   ]
  },
  {
   "cell_type": "code",
   "execution_count": 5,
   "metadata": {},
   "outputs": [],
   "source": [
    "df = pd.read_parquet('/Users/danielwigh/Library/CloudStorage/OneDrive-UniversityofCambridge/Cambridge/Projects/Datasets/param-sharing-data/super_class_train.parquet')"
   ]
  },
  {
   "cell_type": "code",
   "execution_count": 11,
   "metadata": {},
   "outputs": [
    {
     "data": {
      "text/html": [
       "<div>\n",
       "<style scoped>\n",
       "    .dataframe tbody tr th:only-of-type {\n",
       "        vertical-align: middle;\n",
       "    }\n",
       "\n",
       "    .dataframe tbody tr th {\n",
       "        vertical-align: top;\n",
       "    }\n",
       "\n",
       "    .dataframe thead th {\n",
       "        text-align: right;\n",
       "    }\n",
       "</style>\n",
       "<table border=\"1\" class=\"dataframe\">\n",
       "  <thead>\n",
       "    <tr style=\"text-align: right;\">\n",
       "      <th></th>\n",
       "      <th>Reaction_String</th>\n",
       "      <th>Reaction_Class</th>\n",
       "      <th>solvent_000</th>\n",
       "      <th>solvent_001</th>\n",
       "      <th>agent_000</th>\n",
       "      <th>agent_001</th>\n",
       "      <th>agent_002</th>\n",
       "      <th>super class</th>\n",
       "      <th>mid class</th>\n",
       "      <th>super class name</th>\n",
       "      <th>mid class name</th>\n",
       "    </tr>\n",
       "  </thead>\n",
       "  <tbody>\n",
       "    <tr>\n",
       "      <th>14</th>\n",
       "      <td>[CH3:1][CH2:2][CH2:3][N:4]([CH2:5][CH2:6][CH3:...</td>\n",
       "      <td>7.6.1</td>\n",
       "      <td>O=S(Cl)Cl</td>\n",
       "      <td>c1ccncc1</td>\n",
       "      <td>Cl</td>\n",
       "      <td>None</td>\n",
       "      <td>None</td>\n",
       "      <td>7</td>\n",
       "      <td>7.6</td>\n",
       "      <td>Reductions</td>\n",
       "      <td>7.6 Alkene to alkane</td>\n",
       "    </tr>\n",
       "    <tr>\n",
       "      <th>24</th>\n",
       "      <td>[CH3:1][O:2][c:3]1[cH:4][cH:5][c:6]2[c:7]([cH:...</td>\n",
       "      <td>7.6.1</td>\n",
       "      <td>CC(=O)O</td>\n",
       "      <td>None</td>\n",
       "      <td>[Pd]</td>\n",
       "      <td>None</td>\n",
       "      <td>None</td>\n",
       "      <td>7</td>\n",
       "      <td>7.6</td>\n",
       "      <td>Reductions</td>\n",
       "      <td>7.6 Alkene to alkane</td>\n",
       "    </tr>\n",
       "    <tr>\n",
       "      <th>187</th>\n",
       "      <td>[O:1]=[C:2]1[NH:3][c:4]2[cH:5][cH:6][cH:7][cH:...</td>\n",
       "      <td>7.6.1</td>\n",
       "      <td>O</td>\n",
       "      <td>CS(C)=O</td>\n",
       "      <td>Cl</td>\n",
       "      <td>None</td>\n",
       "      <td>None</td>\n",
       "      <td>7</td>\n",
       "      <td>7.6</td>\n",
       "      <td>Reductions</td>\n",
       "      <td>7.6 Alkene to alkane</td>\n",
       "    </tr>\n",
       "    <tr>\n",
       "      <th>190</th>\n",
       "      <td>[O:1]=[C:2]([CH2:3][CH2:4][c:5]1[cH:6][cH:7][c...</td>\n",
       "      <td>7.6.1</td>\n",
       "      <td>COc1ccccc1</td>\n",
       "      <td>None</td>\n",
       "      <td>C</td>\n",
       "      <td>[Pd]</td>\n",
       "      <td>[H][H]</td>\n",
       "      <td>7</td>\n",
       "      <td>7.6</td>\n",
       "      <td>Reductions</td>\n",
       "      <td>7.6 Alkene to alkane</td>\n",
       "    </tr>\n",
       "    <tr>\n",
       "      <th>194</th>\n",
       "      <td>[O:1]=[C:2]1[CH:3]=[CH:4][c:5]2[cH:6][cH:7][cH...</td>\n",
       "      <td>7.6.1</td>\n",
       "      <td>CN(C)C=O</td>\n",
       "      <td>None</td>\n",
       "      <td>[H][H]</td>\n",
       "      <td>[Na+]</td>\n",
       "      <td>[H-]</td>\n",
       "      <td>7</td>\n",
       "      <td>7.6</td>\n",
       "      <td>Reductions</td>\n",
       "      <td>7.6 Alkene to alkane</td>\n",
       "    </tr>\n",
       "    <tr>\n",
       "      <th>...</th>\n",
       "      <td>...</td>\n",
       "      <td>...</td>\n",
       "      <td>...</td>\n",
       "      <td>...</td>\n",
       "      <td>...</td>\n",
       "      <td>...</td>\n",
       "      <td>...</td>\n",
       "      <td>...</td>\n",
       "      <td>...</td>\n",
       "      <td>...</td>\n",
       "      <td>...</td>\n",
       "    </tr>\n",
       "    <tr>\n",
       "      <th>356565</th>\n",
       "      <td>[CH3:1][CH2:2][CH2:3][CH2:4][CH2:5][CH2:6][O:7...</td>\n",
       "      <td>7.6.1</td>\n",
       "      <td>ClCCl</td>\n",
       "      <td>O</td>\n",
       "      <td>BrB(Br)Br</td>\n",
       "      <td>None</td>\n",
       "      <td>None</td>\n",
       "      <td>7</td>\n",
       "      <td>7.6</td>\n",
       "      <td>Reductions</td>\n",
       "      <td>7.6 Alkene to alkane</td>\n",
       "    </tr>\n",
       "    <tr>\n",
       "      <th>356625</th>\n",
       "      <td>[F:1][c:2]1[cH:3][cH:4][c:5]([C:6]2=[N:15][N:1...</td>\n",
       "      <td>7.6.1</td>\n",
       "      <td>CC(C)=O</td>\n",
       "      <td>None</td>\n",
       "      <td>O=C([O-])[O-]</td>\n",
       "      <td>[K+]</td>\n",
       "      <td>None</td>\n",
       "      <td>7</td>\n",
       "      <td>7.6</td>\n",
       "      <td>Reductions</td>\n",
       "      <td>7.6 Alkene to alkane</td>\n",
       "    </tr>\n",
       "    <tr>\n",
       "      <th>356757</th>\n",
       "      <td>[CH3:1][c:2]1[cH:3][cH:4][cH:5][c:6]([C:7](=[O...</td>\n",
       "      <td>7.6.1</td>\n",
       "      <td>CN(C)C=O</td>\n",
       "      <td>None</td>\n",
       "      <td>O=C([O-])[O-]</td>\n",
       "      <td>[K+]</td>\n",
       "      <td>None</td>\n",
       "      <td>7</td>\n",
       "      <td>7.6</td>\n",
       "      <td>Reductions</td>\n",
       "      <td>7.6 Alkene to alkane</td>\n",
       "    </tr>\n",
       "    <tr>\n",
       "      <th>356811</th>\n",
       "      <td>[CH3:1][C:2]1=[CH:3][c:4]2[c:5]([F:6])[cH:7][c...</td>\n",
       "      <td>7.6.1</td>\n",
       "      <td>C1CCOC1</td>\n",
       "      <td>None</td>\n",
       "      <td>[Al+3]</td>\n",
       "      <td>[H-]</td>\n",
       "      <td>[Li+]</td>\n",
       "      <td>7</td>\n",
       "      <td>7.6</td>\n",
       "      <td>Reductions</td>\n",
       "      <td>7.6 Alkene to alkane</td>\n",
       "    </tr>\n",
       "    <tr>\n",
       "      <th>356831</th>\n",
       "      <td>[CH3:1][c:2]1[cH:3][cH:4][c:5](-[c:6]2[cH:7][c...</td>\n",
       "      <td>7.6.1</td>\n",
       "      <td>CS(C)=O</td>\n",
       "      <td>CCO</td>\n",
       "      <td>[Na+]</td>\n",
       "      <td>OO</td>\n",
       "      <td>None</td>\n",
       "      <td>7</td>\n",
       "      <td>7.6</td>\n",
       "      <td>Reductions</td>\n",
       "      <td>7.6 Alkene to alkane</td>\n",
       "    </tr>\n",
       "  </tbody>\n",
       "</table>\n",
       "<p>5261 rows × 11 columns</p>\n",
       "</div>"
      ],
      "text/plain": [
       "                                          Reaction_String Reaction_Class  \\\n",
       "14      [CH3:1][CH2:2][CH2:3][N:4]([CH2:5][CH2:6][CH3:...          7.6.1   \n",
       "24      [CH3:1][O:2][c:3]1[cH:4][cH:5][c:6]2[c:7]([cH:...          7.6.1   \n",
       "187     [O:1]=[C:2]1[NH:3][c:4]2[cH:5][cH:6][cH:7][cH:...          7.6.1   \n",
       "190     [O:1]=[C:2]([CH2:3][CH2:4][c:5]1[cH:6][cH:7][c...          7.6.1   \n",
       "194     [O:1]=[C:2]1[CH:3]=[CH:4][c:5]2[cH:6][cH:7][cH...          7.6.1   \n",
       "...                                                   ...            ...   \n",
       "356565  [CH3:1][CH2:2][CH2:3][CH2:4][CH2:5][CH2:6][O:7...          7.6.1   \n",
       "356625  [F:1][c:2]1[cH:3][cH:4][c:5]([C:6]2=[N:15][N:1...          7.6.1   \n",
       "356757  [CH3:1][c:2]1[cH:3][cH:4][cH:5][c:6]([C:7](=[O...          7.6.1   \n",
       "356811  [CH3:1][C:2]1=[CH:3][c:4]2[c:5]([F:6])[cH:7][c...          7.6.1   \n",
       "356831  [CH3:1][c:2]1[cH:3][cH:4][c:5](-[c:6]2[cH:7][c...          7.6.1   \n",
       "\n",
       "       solvent_000 solvent_001      agent_000 agent_001 agent_002 super class  \\\n",
       "14       O=S(Cl)Cl    c1ccncc1             Cl      None      None           7   \n",
       "24         CC(=O)O        None           [Pd]      None      None           7   \n",
       "187              O     CS(C)=O             Cl      None      None           7   \n",
       "190     COc1ccccc1        None              C      [Pd]    [H][H]           7   \n",
       "194       CN(C)C=O        None         [H][H]     [Na+]      [H-]           7   \n",
       "...            ...         ...            ...       ...       ...         ...   \n",
       "356565       ClCCl           O      BrB(Br)Br      None      None           7   \n",
       "356625     CC(C)=O        None  O=C([O-])[O-]      [K+]      None           7   \n",
       "356757    CN(C)C=O        None  O=C([O-])[O-]      [K+]      None           7   \n",
       "356811     C1CCOC1        None         [Al+3]      [H-]     [Li+]           7   \n",
       "356831     CS(C)=O         CCO          [Na+]        OO      None           7   \n",
       "\n",
       "       mid class super class name        mid class name  \n",
       "14           7.6       Reductions  7.6 Alkene to alkane  \n",
       "24           7.6       Reductions  7.6 Alkene to alkane  \n",
       "187          7.6       Reductions  7.6 Alkene to alkane  \n",
       "190          7.6       Reductions  7.6 Alkene to alkane  \n",
       "194          7.6       Reductions  7.6 Alkene to alkane  \n",
       "...          ...              ...                   ...  \n",
       "356565       7.6       Reductions  7.6 Alkene to alkane  \n",
       "356625       7.6       Reductions  7.6 Alkene to alkane  \n",
       "356757       7.6       Reductions  7.6 Alkene to alkane  \n",
       "356811       7.6       Reductions  7.6 Alkene to alkane  \n",
       "356831       7.6       Reductions  7.6 Alkene to alkane  \n",
       "\n",
       "[5261 rows x 11 columns]"
      ]
     },
     "execution_count": 11,
     "metadata": {},
     "output_type": "execute_result"
    }
   ],
   "source": [
    "df[df['Reaction_Class']==\"7.6.1\"]\n",
    "# 7.5.3\n",
    "#"
   ]
  },
  {
   "cell_type": "code",
   "execution_count": 21,
   "metadata": {},
   "outputs": [
    {
     "data": {
      "text/plain": [
       "'[O:1]=[C:2]([CH2:3][CH2:4][c:5]1[cH:6][cH:7][c:8]([OH:9])[cH:10][cH:11]1)[c:12]1[c:13]([OH:14])[cH:15][c:16]([OH:17])[cH:18][c:19]1[OH:20]>>[O:1]=[C:2]([CH2:3][CH2:4][C:5]1=[CH:6][CH2:7][CH:8]([OH:9])[CH:10]=[CH:11]1)[c:12]1[c:13]([OH:14])[cH:15][c:16]([OH:17])[cH:18][c:19]1[OH:20]'"
      ]
     },
     "execution_count": 21,
     "metadata": {},
     "output_type": "execute_result"
    }
   ],
   "source": [
    "df.loc[190]['Reaction_String']"
   ]
  },
  {
   "cell_type": "code",
   "execution_count": 23,
   "metadata": {},
   "outputs": [
    {
     "data": {
      "text/plain": [
       "'[O:1]=[C:2]([CH2:3][CH2:4][c:5]1[cH:6][cH:7][c:8]([OH:9])[cH:10][cH:11]1)[c:12]1[c:13]([OH:14])[cH:15][c:16]([OH:17])[cH:18][c:19]1[OH:20]>>[O:1]=[C:2]([CH2:3][CH2:4][C:5]1=[CH:6][CH2:7][CH:8]([OH:9])[CH:10]=[CH:11]1)[c:12]1[c:13]([OH:14])[cH:15][c:16]([OH:17])[cH:18][c:19]1[OH:20]'"
      ]
     },
     "execution_count": 23,
     "metadata": {},
     "output_type": "execute_result"
    }
   ],
   "source": [
    "'[O:1]=[C:2]([CH2:3][CH2:4][c:5]1[cH:6][cH:7][c:8]([OH:9])[cH:10][cH:11]1)[c:12]1[c:13]([OH:14])[cH:15][c:16]([OH:17])[cH:18][c:19]1[OH:20]>>[O:1]=[C:2]([CH2:3][CH2:4][C:5]1=[CH:6][CH2:7][CH:8]([OH:9])[CH:10]=[CH:11]1)[c:12]1[c:13]([OH:14])[cH:15][c:16]([OH:17])[cH:18][c:19]1[OH:20]'\n"
   ]
  },
  {
   "cell_type": "code",
   "execution_count": 16,
   "metadata": {},
   "outputs": [],
   "source": [
    "df2 = pd.read_parquet('/Users/danielwigh/Library/CloudStorage/OneDrive-UniversityofCambridge/Cambridge/Projects/Datasets/param-sharing-data/orderly_condition_train.parquet')"
   ]
  },
  {
   "cell_type": "code",
   "execution_count": 22,
   "metadata": {},
   "outputs": [
    {
     "data": {
      "text/html": [
       "<div>\n",
       "<style scoped>\n",
       "    .dataframe tbody tr th:only-of-type {\n",
       "        vertical-align: middle;\n",
       "    }\n",
       "\n",
       "    .dataframe tbody tr th {\n",
       "        vertical-align: top;\n",
       "    }\n",
       "\n",
       "    .dataframe thead th {\n",
       "        text-align: right;\n",
       "    }\n",
       "</style>\n",
       "<table border=\"1\" class=\"dataframe\">\n",
       "  <thead>\n",
       "    <tr style=\"text-align: right;\">\n",
       "      <th></th>\n",
       "      <th>agent_000</th>\n",
       "      <th>agent_001</th>\n",
       "      <th>agent_002</th>\n",
       "      <th>date_of_experiment</th>\n",
       "      <th>extracted_from_file</th>\n",
       "      <th>grant_date</th>\n",
       "      <th>is_mapped</th>\n",
       "      <th>procedure_details</th>\n",
       "      <th>product_000</th>\n",
       "      <th>reactant_000</th>\n",
       "      <th>reactant_001</th>\n",
       "      <th>rxn_str</th>\n",
       "      <th>rxn_time</th>\n",
       "      <th>solvent_000</th>\n",
       "      <th>solvent_001</th>\n",
       "      <th>temperature</th>\n",
       "      <th>yield_000</th>\n",
       "    </tr>\n",
       "  </thead>\n",
       "  <tbody>\n",
       "  </tbody>\n",
       "</table>\n",
       "</div>"
      ],
      "text/plain": [
       "Empty DataFrame\n",
       "Columns: [agent_000, agent_001, agent_002, date_of_experiment, extracted_from_file, grant_date, is_mapped, procedure_details, product_000, reactant_000, reactant_001, rxn_str, rxn_time, solvent_000, solvent_001, temperature, yield_000]\n",
       "Index: []"
      ]
     },
     "execution_count": 22,
     "metadata": {},
     "output_type": "execute_result"
    }
   ],
   "source": [
    "hydrogenation_rxn = '[O:1]=[C:2]([CH2:3][CH2:4][c:5]1[cH:6][cH:7][c:8]([OH:9])[cH:10][cH:11]1)[c:12]1[c:13]([OH:14])[cH:15][c:16]([OH:17])[cH:18][c:19]1[OH:20]>>[O:1]=[C:2]([CH2:3][CH2:4][C:5]1=[CH:6][CH2:7][CH:8]([OH:9])[CH:10]=[CH:11]1)[c:12]1[c:13]([OH:14])[cH:15][c:16]([OH:17])[cH:18][c:19]1[OH:20]'\n",
    "df2[df2['rxn_str']==hydrogenation_rxn]"
   ]
  },
  {
   "cell_type": "code",
   "execution_count": 38,
   "metadata": {},
   "outputs": [
    {
     "data": {
      "text/plain": [
       "'[N+:1]([C:4]1[C:17]2[C:16](=[O:18])[C:15]3[C:10](=[CH:11][CH:12]=[CH:13][CH:14]=3)[C:9](=[O:19])[C:8]=2[CH:7]=[CH:6][CH:5]=1)([O-])=O.C1(OC)C=CC=CC=1.C.[H][H]>[Pd]>[NH2:1][C:4]1[C:17]2[C:16](=[O:18])[C:15]3[C:10](=[CH:11][CH:12]=[CH:13][CH:14]=3)[C:9](=[O:19])[C:8]=2[CH:7]=[CH:6][CH:5]=1'"
      ]
     },
     "execution_count": 38,
     "metadata": {},
     "output_type": "execute_result"
    }
   ],
   "source": [
    "df2.loc[190]['rxn_str']"
   ]
  },
  {
   "cell_type": "code",
   "execution_count": 40,
   "metadata": {},
   "outputs": [
    {
     "ename": "AttributeError",
     "evalue": "'str' object has no attribute 'contains'",
     "output_type": "error",
     "traceback": [
      "\u001b[0;31m---------------------------------------------------------------------------\u001b[0m",
      "\u001b[0;31mAttributeError\u001b[0m                            Traceback (most recent call last)",
      "Cell \u001b[0;32mIn[40], line 1\u001b[0m\n\u001b[0;32m----> 1\u001b[0m \u001b[38;5;124;43m'\u001b[39;49m\u001b[38;5;124;43m[N+:1]([C:4]1[C:17]2[C:16](=[O:18])[C:15]3[C:10](=[CH:11][CH:12]=[CH:13][CH:14]=3)[C:9](=[O:19])[C:8]=2[CH:7]=[CH:6][CH:5]=1)([O-])=O.C1(OC)C=CC=CC=1.C.[H][H]>[Pd]>[NH2:1][C:4]1[C:17]2[C:16](=[O:18])[C:15]3[C:10](=[CH:11][CH:12]=[CH:13][CH:14]=3)[C:9](=[O:19])[C:8]=2[CH:7]=[CH:6][CH:5]=1\u001b[39;49m\u001b[38;5;124;43m'\u001b[39;49m\u001b[38;5;241;43m.\u001b[39;49m\u001b[43mcontains\u001b[49m(\u001b[38;5;124m'\u001b[39m\u001b[38;5;124m[H][H]\u001b[39m\u001b[38;5;124m'\u001b[39m)\n",
      "\u001b[0;31mAttributeError\u001b[0m: 'str' object has no attribute 'contains'"
     ]
    }
   ],
   "source": [
    "'[N+:1]([C:4]1[C:17]2[C:16](=[O:18])[C:15]3[C:10](=[CH:11][CH:12]=[CH:13][CH:14]=3)[C:9](=[O:19])[C:8]=2[CH:7]=[CH:6][CH:5]=1)([O-])=O.C1(OC)C=CC=CC=1.C.[H][H]>[Pd]>[NH2:1][C:4]1[C:17]2[C:16](=[O:18])[C:15]3[C:10](=[CH:11][CH:12]=[CH:13][CH:14]=3)[C:9](=[O:19])[C:8]=2[CH:7]=[CH:6][CH:5]=1'.contains('[H][H]')\n"
   ]
  },
  {
   "cell_type": "code",
   "execution_count": 41,
   "metadata": {},
   "outputs": [
    {
     "ename": "AttributeError",
     "evalue": "'str' object has no attribute 'contains'",
     "output_type": "error",
     "traceback": [
      "\u001b[0;31m---------------------------------------------------------------------------\u001b[0m",
      "\u001b[0;31mAttributeError\u001b[0m                            Traceback (most recent call last)",
      "Cell \u001b[0;32mIn[41], line 1\u001b[0m\n\u001b[0;32m----> 1\u001b[0m \u001b[43mdf2\u001b[49m\u001b[38;5;241;43m.\u001b[39;49m\u001b[43mloc\u001b[49m\u001b[43m[\u001b[49m\u001b[38;5;241;43m190\u001b[39;49m\u001b[43m]\u001b[49m\u001b[43m[\u001b[49m\u001b[38;5;124;43m'\u001b[39;49m\u001b[38;5;124;43mrxn_str\u001b[39;49m\u001b[38;5;124;43m'\u001b[39;49m\u001b[43m]\u001b[49m\u001b[38;5;241;43m.\u001b[39;49m\u001b[43mcontains\u001b[49m[\u001b[38;5;124m'\u001b[39m\u001b[38;5;124m[H][H]\u001b[39m\u001b[38;5;124m'\u001b[39m]\n",
      "\u001b[0;31mAttributeError\u001b[0m: 'str' object has no attribute 'contains'"
     ]
    }
   ],
   "source": [
    "df2.loc[190]['rxn_str'].contains['[H][H]']"
   ]
  },
  {
   "cell_type": "code",
   "execution_count": 39,
   "metadata": {},
   "outputs": [
    {
     "name": "stdout",
     "output_type": "stream",
     "text": [
      "Number of strings containing '[H][H]': 7541\n"
     ]
    }
   ],
   "source": [
    "# This creates a boolean series where each True value represents a string containing '[H][H]'\n",
    "contains_hh = df2['rxn_str'].str.contains(r'\\[H\\]\\[H\\]', regex=True, na=False)\n",
    "\n",
    "# Summing the boolean series gives the count of True values, i.e., the number of strings containing '[H][H]'\n",
    "count = contains_hh.sum()\n",
    "\n",
    "print(f\"Number of strings containing '[H][H]': {count}\")"
   ]
  },
  {
   "cell_type": "code",
   "execution_count": 44,
   "metadata": {},
   "outputs": [
    {
     "data": {
      "text/plain": [
       "False"
      ]
     },
     "execution_count": 44,
     "metadata": {},
     "output_type": "execute_result"
    }
   ],
   "source": [
    "df2['rxn_str'].str.contains('[H][H]').loc[190]"
   ]
  },
  {
   "cell_type": "code",
   "execution_count": null,
   "metadata": {},
   "outputs": [],
   "source": []
  }
 ],
 "metadata": {
  "kernelspec": {
   "display_name": "orderly2",
   "language": "python",
   "name": "python3"
  },
  "language_info": {
   "codemirror_mode": {
    "name": "ipython",
    "version": 3
   },
   "file_extension": ".py",
   "mimetype": "text/x-python",
   "name": "python",
   "nbconvert_exporter": "python",
   "pygments_lexer": "ipython3",
   "version": "3.10.13"
  }
 },
 "nbformat": 4,
 "nbformat_minor": 2
}
