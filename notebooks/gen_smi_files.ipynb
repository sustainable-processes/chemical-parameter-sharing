{
 "cells": [
  {
   "cell_type": "markdown",
   "metadata": {},
   "source": [
    "# Generate SMILES file from ORDerly dataset"
   ]
  },
  {
   "cell_type": "code",
   "execution_count": 1,
   "metadata": {},
   "outputs": [],
   "source": [
    "import pandas as pd"
   ]
  },
  {
   "cell_type": "code",
   "execution_count": 4,
   "metadata": {},
   "outputs": [],
   "source": [
    "def save_react_prod_to_smi(input_path, output_path):\n",
    "    \"\"\"\n",
    "    input_path: to parquet file\n",
    "    \"\"\"\n",
    "    orderly_data = pd.read_parquet(input_path)\n",
    "    orderly_data['reactant_001'] = '.'+orderly_data['reactant_001']\n",
    "    orderly_data['reactant_001'].replace('.NULL', '', inplace=True)\n",
    "    orderly_data['rxn'] = orderly_data['reactant_000'] + orderly_data['reactant_001'] + '>>' + orderly_data['product_000']\n",
    "    rxn = orderly_data['rxn'].tolist()\n",
    "    \n",
    "    with open(output_path, 'w') as file:\n",
    "        # Write each string followed by a newline character\n",
    "        for string in rxn:\n",
    "            file.write(string + '\\n')\n",
    "\n",
    "    # Close the file\n",
    "    print(\"File saved successfully.\")"
   ]
  },
  {
   "cell_type": "code",
   "execution_count": 5,
   "metadata": {},
   "outputs": [
    {
     "name": "stdout",
     "output_type": "stream",
     "text": [
      "File saved successfully.\n",
      "File saved successfully.\n"
     ]
    }
   ],
   "source": [
    "save_react_prod_to_smi('orderly_condition_train.parquet', 'orderly_condition_train.smi')\n",
    "save_react_prod_to_smi('orderly_condition_test.parquet', 'orderly_condition_test.smi')"
   ]
  },
  {
   "cell_type": "code",
   "execution_count": null,
   "metadata": {},
   "outputs": [],
   "source": []
  }
 ],
 "metadata": {
  "kernelspec": {
   "display_name": "chemistry",
   "language": "python",
   "name": "chemistry"
  },
  "language_info": {
   "codemirror_mode": {
    "name": "ipython",
    "version": 3
   },
   "file_extension": ".py",
   "mimetype": "text/x-python",
   "name": "python",
   "nbconvert_exporter": "python",
   "pygments_lexer": "ipython3",
   "version": "3.10.8"
  },
  "orig_nbformat": 4
 },
 "nbformat": 4,
 "nbformat_minor": 2
}
