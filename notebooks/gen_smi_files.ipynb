{
 "cells": [
  {
   "cell_type": "markdown",
   "metadata": {},
   "source": [
    "# Generate SMILES file from ORDerly dataset"
   ]
  },
  {
   "cell_type": "code",
   "execution_count": 7,
   "metadata": {},
   "outputs": [],
   "source": [
    "import pandas as pd\n",
    "import numpy as np"
   ]
  },
  {
   "cell_type": "code",
   "execution_count": 8,
   "metadata": {},
   "outputs": [],
   "source": [
    "import pandas as pd\n",
    "\n",
    "def save_react_prod_to_smi(input_path, output_path, include_agents=False):\n",
    "    \"\"\"\n",
    "    input_path: path to parquet file\n",
    "    output_path: path to save the output file\n",
    "    include_agents: if True, include agents in the SMILES string\n",
    "    \"\"\"\n",
    "    orderly_data = pd.read_parquet(input_path)\n",
    "    # only first 100 rows\n",
    "    # orderly_data = orderly_data.head(100)\n",
    "    columns = ['reactant_001']\n",
    "    for col in columns:\n",
    "        orderly_data[col] = orderly_data[col].replace(\"NULL\", None)\n",
    "\n",
    "    # Define a function to concatenate elements in a row, ignoring None, with a period between molecule strings\n",
    "    def concatenate_elements(row):\n",
    "        # Group the elements\n",
    "        reactants = [row['reactant_000'], row['reactant_001']]\n",
    "        agents = [row['solvent_000'], row['solvent_001'], row['agent_000'], row['agent_001'], row['agent_002']]\n",
    "        products = [row['product_000']]\n",
    "\n",
    "        # Function to concatenate elements in a group, separated by '.'\n",
    "        def concatenate_group(group):\n",
    "            return '.'.join([str(element) for element in group if element is not None])\n",
    "\n",
    "\n",
    "        # Concatenate each group and join groups with '>'\n",
    "        # Add an extra '>' if there are no agents\n",
    "        # rxn_string = reactants +'>' + agents+'>' + products\n",
    "\n",
    "        if include_agents:\n",
    "            rxn_string = '>'.join([\n",
    "                concatenate_group(reactants),\n",
    "                concatenate_group(agents),\n",
    "                concatenate_group(products)\n",
    "            ])\n",
    "        else:\n",
    "            rxn_string = '>>'.join([\n",
    "                concatenate_group(reactants),\n",
    "                concatenate_group(products)\n",
    "            ])\n",
    "        return rxn_string\n",
    "\n",
    "    # Apply the function to each row\n",
    "    orderly_data['rxn'] = orderly_data.apply(concatenate_elements, axis=1)\n",
    "\n",
    "    # Convert to list\n",
    "    rxn = orderly_data['rxn'].tolist()\n",
    "\n",
    "    with open(output_path, 'w') as file:\n",
    "        # Write each string followed by a newline character\n",
    "        for string in rxn:\n",
    "            file.write(string + '\\n')\n",
    "\n",
    "    print(\"File saved successfully.\")"
   ]
  },
  {
   "cell_type": "code",
   "execution_count": 4,
   "metadata": {},
   "outputs": [
    {
     "name": "stdout",
     "output_type": "stream",
     "text": [
      "File saved successfully.\n",
      "File saved successfully.\n"
     ]
    }
   ],
   "source": [
    "# Takes about 25s\n",
    "parent = '/Users/danielwigh/projects_local/chemical-parameter-sharing/data/v6/'\n",
    "save_react_prod_to_smi(parent+'orderly_no_trust_no_min_freq_train.parquet', parent+'orderly_condition_train.smi', include_agents=True)\n",
    "save_react_prod_to_smi(parent+'orderly_no_trust_no_min_freq_test.parquet', parent+'orderly_condition_test.smi', include_agents=True)"
   ]
  },
  {
   "cell_type": "code",
   "execution_count": 9,
   "metadata": {},
   "outputs": [
    {
     "name": "stdout",
     "output_type": "stream",
     "text": [
      "File saved successfully.\n",
      "File saved successfully.\n"
     ]
    }
   ],
   "source": [
    "# Takes about 25s\n",
    "parent = '/Users/danielwigh/projects_local/chemical-parameter-sharing/data/v6/'\n",
    "save_react_prod_to_smi(parent+'orderly_no_trust_no_min_freq_train.parquet', parent+'orderly_condition_wo_ag_train.smi', include_agents=False)\n",
    "save_react_prod_to_smi(parent+'orderly_no_trust_no_min_freq_test.parquet', parent+'orderly_condition_wo_ag_test.smi', include_agents=False)"
   ]
  },
  {
   "cell_type": "code",
   "execution_count": 10,
   "metadata": {},
   "outputs": [
    {
     "name": "stdout",
     "output_type": "stream",
     "text": [
      "./namerxn /Users/danielwigh/projects_local/chemical-parameter-sharing/data/v6/orderly_condition_wo_ag_train.smi /Users/danielwigh/projects_local/chemical-parameter-sharing/data/v6/orderly_condition_wo_ag_train_classified.smi\n"
     ]
    }
   ],
   "source": [
    "# run this command:\n",
    "# ./namerxn <infile> [<outfile>]\n",
    "in_path = '/Users/danielwigh/projects_local/chemical-parameter-sharing/data/v6/orderly_condition_wo_ag_train.smi'\n",
    "out_path = '/Users/danielwigh/projects_local/chemical-parameter-sharing/data/v6/orderly_condition_wo_ag_train_classified.smi'\n",
    "print('./namerxn '+in_path+' '+out_path)"
   ]
  },
  {
   "cell_type": "code",
   "execution_count": 5,
   "metadata": {},
   "outputs": [
    {
     "name": "stdout",
     "output_type": "stream",
     "text": [
      "./namerxn /Users/danielwigh/projects_local/chemical-parameter-sharing/data/v6/orderly_condition_test.smi /Users/danielwigh/projects_local/chemical-parameter-sharing/data/v6/orderly_condition_test_classified.smi\n"
     ]
    }
   ],
   "source": [
    "# run this command:\n",
    "# ./namerxn <infile> [<outfile>]\n",
    "in_path = '/Users/danielwigh/projects_local/chemical-parameter-sharing/data/v6/orderly_condition_test.smi'\n",
    "out_path = '/Users/danielwigh/projects_local/chemical-parameter-sharing/data/v6/orderly_condition_test_classified.smi'\n",
    "print('./namerxn '+in_path+' '+out_path)"
   ]
  },
  {
   "cell_type": "code",
   "execution_count": null,
   "metadata": {},
   "outputs": [],
   "source": [
    "./namerxn /Users/danielwigh/projects_local/chemical-parameter-sharing/data/v6/orderly_condition_wo_ag_test.smi /Users/danielwigh/projects_local/chemical-parameter-sharing/data/v6/orderly_condition_wo_ag_test_classified.smi"
   ]
  },
  {
   "cell_type": "markdown",
   "metadata": {},
   "source": [
    "# inspect"
   ]
  },
  {
   "cell_type": "code",
   "execution_count": 35,
   "metadata": {},
   "outputs": [],
   "source": [
    "path = '/Users/danielwigh/projects_local/chemical-parameter-sharing/data/v6/orderly_no_trust_no_min_freq_train.parquet'\n",
    "df = pd.read_parquet(path)"
   ]
  },
  {
   "cell_type": "code",
   "execution_count": 34,
   "metadata": {},
   "outputs": [
    {
     "name": "stdout",
     "output_type": "stream",
     "text": [
      "682576\n",
      "682576\n",
      "False\n"
     ]
    }
   ],
   "source": [
    "print(len(df))\n",
    "print(len(df['reactant_001'].dropna()))\n",
    "# check if \"NULL\" is in the column\n",
    "print('NULL' in df['agent_001'].dropna().tolist())"
   ]
  },
  {
   "cell_type": "code",
   "execution_count": 32,
   "metadata": {},
   "outputs": [
    {
     "data": {
      "text/html": [
       "<div>\n",
       "<style scoped>\n",
       "    .dataframe tbody tr th:only-of-type {\n",
       "        vertical-align: middle;\n",
       "    }\n",
       "\n",
       "    .dataframe tbody tr th {\n",
       "        vertical-align: top;\n",
       "    }\n",
       "\n",
       "    .dataframe thead th {\n",
       "        text-align: right;\n",
       "    }\n",
       "</style>\n",
       "<table border=\"1\" class=\"dataframe\">\n",
       "  <thead>\n",
       "    <tr style=\"text-align: right;\">\n",
       "      <th></th>\n",
       "      <th>original_index</th>\n",
       "      <th>agent_000</th>\n",
       "      <th>agent_001</th>\n",
       "      <th>agent_002</th>\n",
       "      <th>date_of_experiment</th>\n",
       "      <th>extracted_from_file</th>\n",
       "      <th>grant_date</th>\n",
       "      <th>is_mapped</th>\n",
       "      <th>procedure_details</th>\n",
       "      <th>product_000</th>\n",
       "      <th>reactant_000</th>\n",
       "      <th>reactant_001</th>\n",
       "      <th>rxn_str</th>\n",
       "      <th>rxn_time</th>\n",
       "      <th>solvent_000</th>\n",
       "      <th>solvent_001</th>\n",
       "      <th>temperature</th>\n",
       "      <th>yield_000</th>\n",
       "    </tr>\n",
       "    <tr>\n",
       "      <th>index</th>\n",
       "      <th></th>\n",
       "      <th></th>\n",
       "      <th></th>\n",
       "      <th></th>\n",
       "      <th></th>\n",
       "      <th></th>\n",
       "      <th></th>\n",
       "      <th></th>\n",
       "      <th></th>\n",
       "      <th></th>\n",
       "      <th></th>\n",
       "      <th></th>\n",
       "      <th></th>\n",
       "      <th></th>\n",
       "      <th></th>\n",
       "      <th></th>\n",
       "      <th></th>\n",
       "      <th></th>\n",
       "    </tr>\n",
       "  </thead>\n",
       "  <tbody>\n",
       "  </tbody>\n",
       "</table>\n",
       "</div>"
      ],
      "text/plain": [
       "Empty DataFrame\n",
       "Columns: [original_index, agent_000, agent_001, agent_002, date_of_experiment, extracted_from_file, grant_date, is_mapped, procedure_details, product_000, reactant_000, reactant_001, rxn_str, rxn_time, solvent_000, solvent_001, temperature, yield_000]\n",
       "Index: []"
      ]
     },
     "execution_count": 32,
     "metadata": {},
     "output_type": "execute_result"
    }
   ],
   "source": [
    "df[df['agent_002']=='NULL']"
   ]
  }
 ],
 "metadata": {
  "kernelspec": {
   "display_name": "chemistry",
   "language": "python",
   "name": "python3"
  },
  "language_info": {
   "codemirror_mode": {
    "name": "ipython",
    "version": 3
   },
   "file_extension": ".py",
   "mimetype": "text/x-python",
   "name": "python",
   "nbconvert_exporter": "python",
   "pygments_lexer": "ipython3",
   "version": "3.10.13"
  },
  "orig_nbformat": 4
 },
 "nbformat": 4,
 "nbformat_minor": 2
}
