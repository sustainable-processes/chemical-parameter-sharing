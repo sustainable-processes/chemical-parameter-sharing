{
 "metadata": {
  "name": ""
 },
 "nbformat": 3,
 "nbformat_minor": 0,
 "worksheets": [
  {
   "cells": [
    {
     "cell_type": "code",
     "collapsed": false,
     "input": [
      "from rdkit import Chem\n",
      "from rdkit.Chem import AllChem\n",
      "from rdkit import DataStructs\n",
      "import cPickle,gzip\n",
      "from collections import defaultdict\n",
      "import random\n",
      "import createFingerprintsReaction"
     ],
     "language": "python",
     "metadata": {},
     "outputs": [],
     "prompt_number": 1
    },
    {
     "cell_type": "code",
     "collapsed": false,
     "input": [
      "dataDir = \"../data/\""
     ],
     "language": "python",
     "metadata": {},
     "outputs": [],
     "prompt_number": 2
    },
    {
     "cell_type": "markdown",
     "metadata": {},
     "source": [
      "Create different transformation FPs (AP3, MG2 and TT) as SparseIntVect"
     ]
    },
    {
     "cell_type": "code",
     "collapsed": false,
     "input": [
      "infile = gzip.open(dataDir+'training_test_set_patent_data.pkl.gz', 'rb')\n",
      "pklfile = gzip.open(dataDir+'transformationFPs_test_set_patent_data.pkl.gz','wb+')\n",
      "\n",
      "lineNo=0\n",
      "while 1:\n",
      "    lineNo+=1\n",
      "    try:\n",
      "        smi,lbl,klass = cPickle.load(infile) \n",
      "    except EOFError:\n",
      "        break\n",
      "    try:\n",
      "        rxn = AllChem.ReactionFromSmarts(smi,useSmiles=True)\n",
      "        fp_AP3 = createFingerprintsReaction.create_transformation_FP(rxn,AllChem.FingerprintType.AtomPairFP)\n",
      "        fp_MG2 = createFingerprintsReaction.create_transformation_FP(rxn,AllChem.FingerprintType.MorganFP)\n",
      "        fp_TT = createFingerprintsReaction.create_transformation_FP(rxn,AllChem.FingerprintType.TopologicalTorsion)\n",
      "    except:\n",
      "        print \"Cannot build fingerprint/reaction of: %s\\n\"%smi\n",
      "        continue;\n",
      "    cPickle.dump((lbl,klass,fp_AP3, fp_MG2, fp_TT),pklfile,2)\n",
      "    if not lineNo%5000:\n",
      "        print \"Done: %d\"%lineNo"
     ],
     "language": "python",
     "metadata": {},
     "outputs": [
      {
       "output_type": "stream",
       "stream": "stdout",
       "text": [
        "Done: 5000\n",
        "Done: 10000"
       ]
      },
      {
       "output_type": "stream",
       "stream": "stdout",
       "text": [
        "\n",
        "Done: 15000"
       ]
      },
      {
       "output_type": "stream",
       "stream": "stdout",
       "text": [
        "\n",
        "Done: 20000"
       ]
      },
      {
       "output_type": "stream",
       "stream": "stdout",
       "text": [
        "\n",
        "Done: 25000"
       ]
      },
      {
       "output_type": "stream",
       "stream": "stdout",
       "text": [
        "\n",
        "Done: 30000"
       ]
      },
      {
       "output_type": "stream",
       "stream": "stdout",
       "text": [
        "\n",
        "Done: 35000"
       ]
      },
      {
       "output_type": "stream",
       "stream": "stdout",
       "text": [
        "\n",
        "Done: 40000"
       ]
      },
      {
       "output_type": "stream",
       "stream": "stdout",
       "text": [
        "\n",
        "Done: 45000"
       ]
      },
      {
       "output_type": "stream",
       "stream": "stdout",
       "text": [
        "\n",
        "Done: 50000"
       ]
      },
      {
       "output_type": "stream",
       "stream": "stdout",
       "text": [
        "\n"
       ]
      }
     ],
     "prompt_number": 3
    },
    {
     "cell_type": "markdown",
     "metadata": {},
     "source": [
      "Combine AP3 fingerprint with agent feature und Morgan2 FPs"
     ]
    },
    {
     "cell_type": "code",
     "collapsed": false,
     "input": [
      "infile = gzip.open(dataDir+'training_test_set_patent_data.pkl.gz', 'rb')\n",
      "pklfile = gzip.open(dataDir+'transformationFPs_MG2_agentFPs_test_set_patent_data.pkl.gz','wb+')\n",
      "\n",
      "lineNo=0\n",
      "while 1:\n",
      "    lineNo+=1\n",
      "    try:\n",
      "        smi,lbl,klass = cPickle.load(infile) \n",
      "    except EOFError:\n",
      "        break\n",
      "    try:\n",
      "        rxn = AllChem.ReactionFromSmarts(smi,useSmiles=True)\n",
      "        fp_AP3 = createFingerprintsReaction.create_transformation_FP(rxn,AllChem.FingerprintType.AtomPairFP)\n",
      "        fp_MG2_agents = createFingerprintsReaction.create_agent_morgan2_FP(rxn)\n",
      "        if fp_MG2_agents is None:\n",
      "            fp_MG2_agents = DataStructs.UIntSparseIntVect(4096)\n",
      "        fp_featureAgent = createFingerprintsReaction.create_agent_feature_FP(rxn)\n",
      "    except:\n",
      "        print \"Cannot build fingerprint/reaction of: %s\\n\"%smi\n",
      "        continue;\n",
      "    cPickle.dump((lbl,klass,fp_AP3,fp_featureAgent,fp_MG2_agents),pklfile,2)\n",
      "    if not lineNo%5000:\n",
      "        print \"Done: %d\"%lineNo"
     ],
     "language": "python",
     "metadata": {},
     "outputs": [
      {
       "output_type": "stream",
       "stream": "stdout",
       "text": [
        "Done: 5000\n",
        "Done: 10000"
       ]
      },
      {
       "output_type": "stream",
       "stream": "stdout",
       "text": [
        "\n",
        "Done: 15000"
       ]
      },
      {
       "output_type": "stream",
       "stream": "stdout",
       "text": [
        "\n",
        "Done: 20000"
       ]
      },
      {
       "output_type": "stream",
       "stream": "stdout",
       "text": [
        "\n",
        "Done: 25000"
       ]
      },
      {
       "output_type": "stream",
       "stream": "stdout",
       "text": [
        "\n",
        "Done: 30000"
       ]
      },
      {
       "output_type": "stream",
       "stream": "stdout",
       "text": [
        "\n",
        "Done: 35000"
       ]
      },
      {
       "output_type": "stream",
       "stream": "stdout",
       "text": [
        "\n",
        "Done: 40000"
       ]
      },
      {
       "output_type": "stream",
       "stream": "stdout",
       "text": [
        "\n",
        "Done: 45000"
       ]
      },
      {
       "output_type": "stream",
       "stream": "stdout",
       "text": [
        "\n",
        "Done: 50000"
       ]
      },
      {
       "output_type": "stream",
       "stream": "stdout",
       "text": [
        "\n"
       ]
      }
     ],
     "prompt_number": 4
    },
    {
     "cell_type": "markdown",
     "metadata": {},
     "source": [
      "Create transformation FP (AP3 + agent featureFP) for external test set A"
     ]
    },
    {
     "cell_type": "code",
     "collapsed": false,
     "input": [
      "infile = gzip.open(dataDir+'training_test_set_patent_data.pkl.gz', 'rb')\n",
      "pklfile = gzip.open(dataDir+'transformationFPs_agentFPs_external_test_set_A.pkl.gz','wb+')\n",
      "\n",
      "lineNo=0\n",
      "while 1:\n",
      "    lineNo+=1\n",
      "    try:\n",
      "        smi,lbl,klass = cPickle.load(infile) \n",
      "    except EOFError:\n",
      "        break\n",
      "    try:\n",
      "        rxn = AllChem.ReactionFromSmarts(smi,useSmiles=True)\n",
      "        fp_AP3 = createFingerprintsReaction.create_transformation_FP(rxn,AllChem.FingerprintType.AtomPairFP)\n",
      "        fp_featureAgent = createFingerprintsReaction.create_agent_feature_FP(rxn)\n",
      "    except:\n",
      "        print \"Cannot build fingerprint/reaction of: %s\\n\"%smi\n",
      "        continue;\n",
      "    cPickle.dump((lbl,klass,fp_AP3,fp_featureAgent),pklfile,2)\n",
      "    if not lineNo%5000:\n",
      "        print \"Done: %d\"%lineNo"
     ],
     "language": "python",
     "metadata": {},
     "outputs": [
      {
       "output_type": "stream",
       "stream": "stdout",
       "text": [
        "Done: 5000\n",
        "Done: 10000"
       ]
      },
      {
       "output_type": "stream",
       "stream": "stdout",
       "text": [
        "\n",
        "Done: 15000"
       ]
      },
      {
       "output_type": "stream",
       "stream": "stdout",
       "text": [
        "\n",
        "Done: 20000"
       ]
      },
      {
       "output_type": "stream",
       "stream": "stdout",
       "text": [
        "\n",
        "Done: 25000"
       ]
      },
      {
       "output_type": "stream",
       "stream": "stdout",
       "text": [
        "\n",
        "Done: 30000"
       ]
      },
      {
       "output_type": "stream",
       "stream": "stdout",
       "text": [
        "\n",
        "Done: 35000"
       ]
      },
      {
       "output_type": "stream",
       "stream": "stdout",
       "text": [
        "\n",
        "Done: 40000"
       ]
      },
      {
       "output_type": "stream",
       "stream": "stdout",
       "text": [
        "\n",
        "Done: 45000"
       ]
      },
      {
       "output_type": "stream",
       "stream": "stdout",
       "text": [
        "\n",
        "Done: 50000"
       ]
      },
      {
       "output_type": "stream",
       "stream": "stdout",
       "text": [
        "\n"
       ]
      }
     ],
     "prompt_number": 5
    },
    {
     "cell_type": "markdown",
     "metadata": {},
     "source": [
      "Create transformation FP (AP3 + agent featureFP) for external test set B (unclassified reactions)"
     ]
    },
    {
     "cell_type": "code",
     "collapsed": false,
     "input": [
      "infile = gzip.open(dataDir+'unclassified_reactions_patent_data.pkl.gz', 'rb')\n",
      "pklfile = gzip.open(dataDir+'transformationFPs_agentFPs_external_test_set_B.pkl.gz','wb+')\n",
      "\n",
      "lineNo=0\n",
      "while 1:\n",
      "    lineNo+=1\n",
      "    try:\n",
      "        smi,lbl,klass = cPickle.load(infile) \n",
      "    except EOFError:\n",
      "        break\n",
      "    try:\n",
      "        rxn = AllChem.ReactionFromSmarts(smi,useSmiles=True)\n",
      "        fp_AP3 = createFingerprintsReaction.create_transformation_FP(rxn,AllChem.FingerprintType.AtomPairFP)\n",
      "        fp_featureAgent = createFingerprintsReaction.create_agent_feature_FP(rxn)\n",
      "    except:\n",
      "        print \"Cannot build fingerprint/reaction of: %s\\n\"%smi\n",
      "        continue;\n",
      "    cPickle.dump((lbl,smi,fp_AP3,fp_featureAgent),pklfile,2)\n",
      "    if not lineNo%5000:\n",
      "        print \"Done: %d\"%lineNo"
     ],
     "language": "python",
     "metadata": {},
     "outputs": [
      {
       "output_type": "stream",
       "stream": "stdout",
       "text": [
        "Done: 5000\n",
        "Done: 10000"
       ]
      },
      {
       "output_type": "stream",
       "stream": "stdout",
       "text": [
        "\n",
        "Done: 15000"
       ]
      },
      {
       "output_type": "stream",
       "stream": "stdout",
       "text": [
        "\n",
        "Done: 20000"
       ]
      },
      {
       "output_type": "stream",
       "stream": "stdout",
       "text": [
        "\n",
        "Done: 25000"
       ]
      },
      {
       "output_type": "stream",
       "stream": "stdout",
       "text": [
        "\n",
        "Done: 30000"
       ]
      },
      {
       "output_type": "stream",
       "stream": "stdout",
       "text": [
        "\n",
        "Done: 35000"
       ]
      },
      {
       "output_type": "stream",
       "stream": "stdout",
       "text": [
        "\n",
        "Done: 40000"
       ]
      },
      {
       "output_type": "stream",
       "stream": "stdout",
       "text": [
        "\n",
        "Done: 45000"
       ]
      },
      {
       "output_type": "stream",
       "stream": "stdout",
       "text": [
        "\n",
        "Done: 50000"
       ]
      },
      {
       "output_type": "stream",
       "stream": "stdout",
       "text": [
        "\n"
       ]
      }
     ],
     "prompt_number": 6
    }
   ],
   "metadata": {}
  }
 ]
}