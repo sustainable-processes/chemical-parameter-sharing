{
 "metadata": {
  "name": ""
 },
 "nbformat": 3,
 "nbformat_minor": 0,
 "worksheets": [
  {
   "cells": [
    {
     "cell_type": "code",
     "collapsed": false,
     "input": [
      "from rdkit import Chem\n",
      "from rdkit.Chem import AllChem\n",
      "import cPickle,gzip\n",
      "from collections import defaultdict\n",
      "import random\n",
      "import createFingerprintsReaction\n",
      "from rdkit import DataStructs "
     ],
     "language": "python",
     "metadata": {},
     "outputs": [],
     "prompt_number": 1
    },
    {
     "cell_type": "code",
     "collapsed": false,
     "input": [
      "dataDir = \"../data/\""
     ],
     "language": "python",
     "metadata": {},
     "outputs": [],
     "prompt_number": 4
    },
    {
     "cell_type": "markdown",
     "metadata": {},
     "source": [
      "Create different reaction difference FPs (2048 bit, AP FP (max path length = 30))"
     ]
    },
    {
     "cell_type": "code",
     "collapsed": false,
     "input": [
      "infile = gzip.open(dataDir+'training_test_set_patent_data.pkl.gz', 'rb')\n",
      "pklfile = gzip.open(dataDir+'reaction_FPs_training_test_set_patent_data.pkl.gz','wb+')\n",
      "lineNo=0\n",
      "while 1:\n",
      "    lineNo+=1\n",
      "    try:\n",
      "        smi,lbl,klass = cPickle.load(infile) \n",
      "    except EOFError:\n",
      "        break\n",
      "    try:\n",
      "        rxn = AllChem.ReactionFromSmarts(smi,useSmiles=True)\n",
      "        rxn.RemoveUnmappedReactantTemplates()\n",
      "        params = AllChem.ReactionFingerprintParams()\n",
      "        # ignore agents \n",
      "        fp_woA = AllChem.CreateDifferenceFingerprintForReaction(rxn, params)\n",
      "        # use default agent settings\n",
      "        params.includeAgents=True\n",
      "        params.noAgentWeight=10\n",
      "        params.agentWeight=1\n",
      "        fp_wA1 = AllChem.CreateDifferenceFingerprintForReaction(rxn, params)\n",
      "        # use agents as reactants\n",
      "        params.includeAgents=True\n",
      "        params.noAgentWeight=10\n",
      "        params.agentWeight=-1\n",
      "        fp_wA2 = AllChem.CreateDifferenceFingerprintForReaction(rxn, params)\n",
      "        # use equal weighting for reactants, products and agents\n",
      "        params.includeAgents=True\n",
      "        params.noAgentWeight=1\n",
      "        params.agentWeight=1\n",
      "        fp_wA3 = AllChem.CreateDifferenceFingerprintForReaction(rxn, params)\n",
      "    except:\n",
      "        print \"Cannot build fingerprint/reaction of: %s\\n\"%smi\n",
      "        continue;\n",
      "    cPickle.dump((lbl,klass,fp_woA,fp_wA1,fp_wA2,fp_wA3),pklfile,2)\n",
      "    if not lineNo%5000:\n",
      "        print \"Done: %d\"%lineNo\n",
      "infile.close()\n",
      "pklfile.close()"
     ],
     "language": "python",
     "metadata": {},
     "outputs": [
      {
       "output_type": "stream",
       "stream": "stdout",
       "text": [
        "Done: 5000\n",
        "Done: 10000"
       ]
      },
      {
       "output_type": "stream",
       "stream": "stdout",
       "text": [
        "\n",
        "Done: 15000"
       ]
      },
      {
       "output_type": "stream",
       "stream": "stdout",
       "text": [
        "\n",
        "Done: 20000"
       ]
      },
      {
       "output_type": "stream",
       "stream": "stdout",
       "text": [
        "\n",
        "Done: 25000"
       ]
      },
      {
       "output_type": "stream",
       "stream": "stdout",
       "text": [
        "\n",
        "Done: 30000"
       ]
      },
      {
       "output_type": "stream",
       "stream": "stdout",
       "text": [
        "\n",
        "Done: 35000"
       ]
      },
      {
       "output_type": "stream",
       "stream": "stdout",
       "text": [
        "\n",
        "Done: 40000"
       ]
      },
      {
       "output_type": "stream",
       "stream": "stdout",
       "text": [
        "\n",
        "Done: 45000"
       ]
      },
      {
       "output_type": "stream",
       "stream": "stdout",
       "text": [
        "\n",
        "Done: 50000"
       ]
      },
      {
       "output_type": "stream",
       "stream": "stdout",
       "text": [
        "\n"
       ]
      }
     ],
     "prompt_number": 9
    },
    {
     "cell_type": "markdown",
     "metadata": {},
     "source": [
      "Create larger reaction difference FPs 4096bit"
     ]
    },
    {
     "cell_type": "code",
     "collapsed": false,
     "input": [
      "infile = gzip.open(dataDir+'training_test_set_patent_data.pkl.gz', 'rb')\n",
      "pklfile = gzip.open(dataDir+'reaction_FPs_4096bit_training_test_set_patent_data.pkl.gz','wb+')\n",
      "lineNo=0\n",
      "while 1:\n",
      "    lineNo+=1\n",
      "    try:\n",
      "        smi,lbl,klass = cPickle.load(infile)        \n",
      "    except EOFError:\n",
      "        break\n",
      "    try:\n",
      "        rxn = AllChem.ReactionFromSmarts(smi,useSmiles=True)\n",
      "        #rxn = AllChem.ReactionFromSmarts(smi)\n",
      "        rxn.RemoveUnmappedReactantTemplates()\n",
      "        params = AllChem.ReactionFingerprintParams()\n",
      "        params.fpSize = 4096\n",
      "        # ignore agents \n",
      "        fp_woA = AllChem.CreateDifferenceFingerprintForReaction(rxn, params)\n",
      "        # use default agent settings\n",
      "        params.includeAgents=True\n",
      "        params.noAgentWeight=10\n",
      "        params.agentWeight=1\n",
      "        fp_wA1 = AllChem.CreateDifferenceFingerprintForReaction(rxn, params)\n",
      "        # use agents as reactants\n",
      "        params.includeAgents=True\n",
      "        params.noAgentWeight=10\n",
      "        params.agentWeight=-1\n",
      "        fp_wA2 = AllChem.CreateDifferenceFingerprintForReaction(rxn, params)\n",
      "        # use equal weighting for reactants, products and agents\n",
      "        params.includeAgents=True\n",
      "        params.noAgentWeight=1\n",
      "        params.agentWeight=1\n",
      "        fp_wA3 = AllChem.CreateDifferenceFingerprintForReaction(rxn, params)\n",
      "    except:\n",
      "        print \"Cannot build fingerprint/reaction of: %s\\n\"%smi\n",
      "        continue;\n",
      "    cPickle.dump((lbl,klass,fp_woA,fp_wA1,fp_wA2,fp_wA3),pklfile,2)\n",
      "    if not lineNo%5000:\n",
      "        print \"Done: %d\"%lineNo\n",
      "infile.close()\n",
      "pklfile.close()"
     ],
     "language": "python",
     "metadata": {},
     "outputs": [
      {
       "output_type": "stream",
       "stream": "stdout",
       "text": [
        "Done: 5000\n",
        "Done: 10000"
       ]
      },
      {
       "output_type": "stream",
       "stream": "stdout",
       "text": [
        "\n",
        "Done: 15000"
       ]
      },
      {
       "output_type": "stream",
       "stream": "stdout",
       "text": [
        "\n",
        "Done: 20000"
       ]
      },
      {
       "output_type": "stream",
       "stream": "stdout",
       "text": [
        "\n",
        "Done: 25000"
       ]
      },
      {
       "output_type": "stream",
       "stream": "stdout",
       "text": [
        "\n",
        "Done: 30000"
       ]
      },
      {
       "output_type": "stream",
       "stream": "stdout",
       "text": [
        "\n",
        "Done: 35000"
       ]
      },
      {
       "output_type": "stream",
       "stream": "stdout",
       "text": [
        "\n",
        "Done: 40000"
       ]
      },
      {
       "output_type": "stream",
       "stream": "stdout",
       "text": [
        "\n",
        "Done: 45000"
       ]
      },
      {
       "output_type": "stream",
       "stream": "stdout",
       "text": [
        "\n",
        "Done: 50000"
       ]
      },
      {
       "output_type": "stream",
       "stream": "stdout",
       "text": [
        "\n"
       ]
      }
     ],
     "prompt_number": 10
    },
    {
     "cell_type": "markdown",
     "metadata": {},
     "source": [
      "Combine difference reaction FP (2048 bit, AP30) with agent feature FPs"
     ]
    },
    {
     "cell_type": "code",
     "collapsed": true,
     "input": [
      "infile = gzip.open(dataDir+'training_test_set_patent_data.pkl.gz', 'rb')\n",
      "pklfile = gzip.open(dataDir+'reaction_FPs_agentFeatureFPs_training_test_set_patent_data.pkl.gz','wb+')\n",
      "lineNo=0\n",
      "while 1:\n",
      "    lineNo+=1\n",
      "    try:\n",
      "        smi,lbl,klass = cPickle.load(infile)        \n",
      "    except EOFError:\n",
      "        break\n",
      "    try:\n",
      "        rxn = AllChem.ReactionFromSmarts(smi,useSmiles=True)       \n",
      "        rxn.RemoveUnmappedReactantTemplates()\n",
      "        params = AllChem.ReactionFingerprintParams()\n",
      "        # ignore agents \n",
      "        fp_woA = AllChem.CreateDifferenceFingerprintForReaction(rxn, params)\n",
      "        fp_featureAgent = createFingerprintsReaction.create_agent_feature_FP(rxn)\n",
      "    except:\n",
      "        print \"Cannot build fingerprint/reaction of: %s\\n\"%smi\n",
      "        continue;\n",
      "    cPickle.dump((lbl,klass,fp_woA,fp_featureAgent),pklfile,2)\n",
      "    if not lineNo%5000:\n",
      "        print \"Done: %d\"%lineNo\n",
      "infile.close()\n",
      "pklfile.close()"
     ],
     "language": "python",
     "metadata": {},
     "outputs": [
      {
       "output_type": "stream",
       "stream": "stdout",
       "text": [
        "Done: 5000\n",
        "Done: 10000"
       ]
      },
      {
       "output_type": "stream",
       "stream": "stdout",
       "text": [
        "\n",
        "Done: 15000"
       ]
      },
      {
       "output_type": "stream",
       "stream": "stdout",
       "text": [
        "\n",
        "Done: 20000"
       ]
      },
      {
       "output_type": "stream",
       "stream": "stdout",
       "text": [
        "\n",
        "Done: 25000"
       ]
      },
      {
       "output_type": "stream",
       "stream": "stdout",
       "text": [
        "\n",
        "Done: 30000"
       ]
      },
      {
       "output_type": "stream",
       "stream": "stdout",
       "text": [
        "\n",
        "Done: 35000"
       ]
      },
      {
       "output_type": "stream",
       "stream": "stdout",
       "text": [
        "\n",
        "Done: 40000"
       ]
      },
      {
       "output_type": "stream",
       "stream": "stdout",
       "text": [
        "\n",
        "Done: 45000"
       ]
      },
      {
       "output_type": "stream",
       "stream": "stdout",
       "text": [
        "\n",
        "Done: 50000"
       ]
      },
      {
       "output_type": "stream",
       "stream": "stdout",
       "text": [
        "\n"
       ]
      }
     ],
     "prompt_number": 11
    },
    {
     "cell_type": "markdown",
     "metadata": {},
     "source": [
      "Combine difference reaction FP (2048 bit, AP30) with agent Morgan2 FP"
     ]
    },
    {
     "cell_type": "code",
     "collapsed": true,
     "input": [
      "infile = gzip.open(dataDir+'training_test_set_patent_data.pkl.gz', 'rb')\n",
      "pklfile = gzip.open(dataDir+'reaction_FPs_agentMG2FPs_training_test_set_patent_data.pkl.gz','wb+')\n",
      "lineNo=0\n",
      "while 1:\n",
      "    lineNo+=1\n",
      "    try:\n",
      "        smi,lbl,klass = cPickle.load(infile)        \n",
      "    except EOFError:\n",
      "        break\n",
      "    try:\n",
      "        rxn = AllChem.ReactionFromSmarts(smi,useSmiles=True)       \n",
      "        rxn.RemoveUnmappedReactantTemplates()\n",
      "        params = AllChem.ReactionFingerprintParams()\n",
      "        # ignore agents \n",
      "        fp_woA = AllChem.CreateDifferenceFingerprintForReaction(rxn, params)\n",
      "        fp_MG2_agents = createFingerprintsReaction.create_agent_morgan2_FP(rxn)\n",
      "        if fp_MG2_agents is None:\n",
      "            fp_MG2_agents = DataStructs.UIntSparseIntVect(4096)\n",
      "    except:\n",
      "        print \"Cannot build fingerprint/reaction of: %s\\n\"%smi\n",
      "        continue;\n",
      "    cPickle.dump((lbl,klass,fp_woA,fp_MG2_agents),pklfile,2)\n",
      "    if not lineNo%5000:\n",
      "        print \"Done: %d\"%lineNo\n",
      "infile.close()\n",
      "pklfile.close()"
     ],
     "language": "python",
     "metadata": {},
     "outputs": [
      {
       "output_type": "stream",
       "stream": "stdout",
       "text": [
        "Done: 5000\n",
        "Done: 10000"
       ]
      },
      {
       "output_type": "stream",
       "stream": "stdout",
       "text": [
        "\n",
        "Done: 15000"
       ]
      },
      {
       "output_type": "stream",
       "stream": "stdout",
       "text": [
        "\n",
        "Done: 20000"
       ]
      },
      {
       "output_type": "stream",
       "stream": "stdout",
       "text": [
        "\n",
        "Done: 25000"
       ]
      },
      {
       "output_type": "stream",
       "stream": "stdout",
       "text": [
        "\n",
        "Done: 30000"
       ]
      },
      {
       "output_type": "stream",
       "stream": "stdout",
       "text": [
        "\n",
        "Done: 35000"
       ]
      },
      {
       "output_type": "stream",
       "stream": "stdout",
       "text": [
        "\n",
        "Done: 40000"
       ]
      },
      {
       "output_type": "stream",
       "stream": "stdout",
       "text": [
        "\n",
        "Done: 45000"
       ]
      },
      {
       "output_type": "stream",
       "stream": "stdout",
       "text": [
        "\n",
        "Done: 50000"
       ]
      },
      {
       "output_type": "stream",
       "stream": "stdout",
       "text": [
        "\n"
       ]
      }
     ],
     "prompt_number": 12
    },
    {
     "cell_type": "markdown",
     "metadata": {},
     "source": [
      "Combine difference reaction FP (2048 bit, AP30) with agent dictionary-based FP"
     ]
    },
    {
     "cell_type": "code",
     "collapsed": true,
     "input": [
      "infile = gzip.open(dataDir+'training_test_set_patent_data.pkl.gz', 'rb')\n",
      "pklfile = gzip.open(dataDir+'reaction_FPs_agentDictBasedFPs_training_test_set_patent_data.pkl.gz','wb+')\n",
      "lineNo=0\n",
      "while 1:\n",
      "    lineNo+=1\n",
      "    try:\n",
      "        smi,lbl,klass = cPickle.load(infile)        \n",
      "    except EOFError:\n",
      "        break\n",
      "    try:\n",
      "        rxn = AllChem.ReactionFromSmarts(smi,useSmiles=True)       \n",
      "        rxn.RemoveUnmappedReactantTemplates()\n",
      "        params = AllChem.ReactionFingerprintParams()\n",
      "        # ignore agents \n",
      "        fp_woA = AllChem.CreateDifferenceFingerprintForReaction(rxn, params)\n",
      "        fp_dictinarybased_agents = createFingerprintsReaction.create_agent_dictionary_FP(rxn)\n",
      "    except:\n",
      "        print \"Cannot build fingerprint/reaction of: %s\\n\"%smi\n",
      "        continue;\n",
      "    cPickle.dump((lbl,klass,fp_woA,fp_dictinarybased_agents),pklfile,2)\n",
      "    if not lineNo%5000:\n",
      "        print \"Done: %d\"%lineNo\n",
      "infile.close()\n",
      "pklfile.close()"
     ],
     "language": "python",
     "metadata": {},
     "outputs": [
      {
       "output_type": "stream",
       "stream": "stdout",
       "text": [
        "Done: 5000\n",
        "Done: 10000"
       ]
      },
      {
       "output_type": "stream",
       "stream": "stdout",
       "text": [
        "\n",
        "Done: 15000"
       ]
      },
      {
       "output_type": "stream",
       "stream": "stdout",
       "text": [
        "\n",
        "Done: 20000"
       ]
      },
      {
       "output_type": "stream",
       "stream": "stdout",
       "text": [
        "\n",
        "Done: 25000"
       ]
      },
      {
       "output_type": "stream",
       "stream": "stdout",
       "text": [
        "\n",
        "Done: 30000"
       ]
      },
      {
       "output_type": "stream",
       "stream": "stdout",
       "text": [
        "\n",
        "Done: 35000"
       ]
      },
      {
       "output_type": "stream",
       "stream": "stdout",
       "text": [
        "\n",
        "Done: 40000"
       ]
      },
      {
       "output_type": "stream",
       "stream": "stdout",
       "text": [
        "\n",
        "Done: 45000"
       ]
      },
      {
       "output_type": "stream",
       "stream": "stdout",
       "text": [
        "\n",
        "Done: 50000"
       ]
      },
      {
       "output_type": "stream",
       "stream": "stdout",
       "text": [
        "\n"
       ]
      }
     ],
     "prompt_number": 13
    }
   ],
   "metadata": {}
  }
 ]
}