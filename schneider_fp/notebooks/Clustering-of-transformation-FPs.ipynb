{
 "metadata": {
  "name": ""
 },
 "nbformat": 3,
 "nbformat_minor": 0,
 "worksheets": [
  {
   "cells": [
    {
     "cell_type": "heading",
     "level": 3,
     "metadata": {},
     "source": [
      "Clustering of the AP3 fingerprints to evaluate the applicability for similarity search "
     ]
    },
    {
     "cell_type": "code",
     "collapsed": false,
     "input": [
      "import cPickle,gzip,time\n",
      "from collections import defaultdict\n",
      "import random\n",
      "from rdkit.ML.Cluster import Butina\n",
      "from rdkit import DataStructs\n",
      "import utilsFunctions"
     ],
     "language": "python",
     "metadata": {},
     "outputs": [
      {
       "output_type": "stream",
       "stream": "stderr",
       "text": [
        "/usr/prog/python/2.7.5/lib/python2.7/site-packages/nose/plugins/manager.py:418: UserWarning: Module argparse was already imported from /usr/prog/python/2.7.5/lib/python2.7/argparse.pyc, but /usr/prog/python/2.7.5/lib/python2.7/site-packages is being added to sys.path\n",
        "  import pkg_resources\n"
       ]
      }
     ],
     "prompt_number": 1
    },
    {
     "cell_type": "markdown",
     "metadata": {},
     "source": [
      "Choose some larger text size in the plots"
     ]
    },
    {
     "cell_type": "code",
     "collapsed": false,
     "input": [
      "rcParams.update({'font.size': 14})"
     ],
     "language": "python",
     "metadata": {},
     "outputs": [],
     "prompt_number": 2
    },
    {
     "cell_type": "code",
     "collapsed": false,
     "input": [
      "dataDir = \"../data/\"\n",
      "reaction_types = cPickle.load(file(dataDir+\"reactionTypes_training_test_set_patent_data.pkl\"))\n",
      "names_rTypes = cPickle.load(file(dataDir+\"names_rTypes_classes_superclasses_training_test_set_patent_data.pkl\"))"
     ],
     "language": "python",
     "metadata": {},
     "outputs": [],
     "prompt_number": 3
    },
    {
     "cell_type": "markdown",
     "metadata": {},
     "source": [
      "Load the transformation FPs "
     ]
    },
    {
     "cell_type": "code",
     "collapsed": false,
     "input": [
      "infile = gzip.open(dataDir+\"transformationFPs_test_set_patent_data.pkl.gz\", 'rb')\n",
      "\n",
      "lineNo=0\n",
      "fps=[]\n",
      "idx=0\n",
      "while 1:\n",
      "    lineNo+=1\n",
      "    try:\n",
      "        lbl,cls,fp_AP3,fp_MG2,fp_TT = cPickle.load(infile)        \n",
      "    except EOFError:\n",
      "        break\n",
      "    fps.append([idx,lbl,cls,fp_AP3])\n",
      "    idx+=1\n",
      "    if not lineNo%10000:\n",
      "        print \"Done \"+str(lineNo)"
     ],
     "language": "python",
     "metadata": {},
     "outputs": [
      {
       "output_type": "stream",
       "stream": "stdout",
       "text": [
        "Done 10000\n",
        "Done 20000"
       ]
      },
      {
       "output_type": "stream",
       "stream": "stdout",
       "text": [
        "\n",
        "Done 30000"
       ]
      },
      {
       "output_type": "stream",
       "stream": "stdout",
       "text": [
        "\n",
        "Done 40000"
       ]
      },
      {
       "output_type": "stream",
       "stream": "stdout",
       "text": [
        "\n",
        "Done 50000"
       ]
      },
      {
       "output_type": "stream",
       "stream": "stdout",
       "text": [
        "\n"
       ]
      }
     ],
     "prompt_number": 4
    },
    {
     "cell_type": "markdown",
     "metadata": {},
     "source": [
      "Build a subset of the fingerprints (training set) (10000 FPs) for efficiency reasons."
     ]
    },
    {
     "cell_type": "code",
     "collapsed": false,
     "input": [
      "random.seed(0xd00f)\n",
      "indices=range(len(fps))\n",
      "random.shuffle(indices)\n",
      "\n",
      "nActive=200\n",
      "fpsz= 256\n",
      "fpsubset = []\n",
      "\n",
      "rtypes=sorted(list(reaction_types))\n",
      "for i,klass in enumerate(rtypes):\n",
      "    actIds = [x for x in indices if fps[x][2]==klass]\n",
      "    for x in actIds[:nActive]:\n",
      "        trfp_AP3 = utilsFunctions.hashFP(fps[x][3],fpsz)\n",
      "        trfp_AP3 = utilsFunctions.removeNegativeCountsFP(trfp_AP3)\n",
      "        fpsubset.append((trfp_AP3,fps[x][2]))"
     ],
     "language": "python",
     "metadata": {},
     "outputs": [],
     "prompt_number": 5
    },
    {
     "cell_type": "markdown",
     "metadata": {},
     "source": [
      "Cluster this subset using the Butina algorithm from the RDKit with the Dice coefficent as similiarty metric and a threshold of 0.5 for similar FPs."
     ]
    },
    {
     "cell_type": "code",
     "collapsed": false,
     "input": [
      "t1=time.time()\n",
      "tf=[x[0] for x in fpsubset]\n",
      "cs = Butina.ClusterData(tf,len(tf),0.5,distFunc=lambda x,y:1.-DataStructs.DiceSimilarity(x,y))\n",
      "t2=time.time()\n",
      "print '%.2f'%(t2-t1)\n",
      "print len(cs)\n",
      "hist([len(x) for x in cs],bins=20,log=True)"
     ],
     "language": "python",
     "metadata": {},
     "outputs": [
      {
       "output_type": "stream",
       "stream": "stdout",
       "text": [
        "82.05\n",
        "655\n"
       ]
      },
      {
       "metadata": {},
       "output_type": "pyout",
       "prompt_number": 6,
       "text": [
        "(array([599,  21,  11,   6,   4,   4,   2,   0,   1,   0,   1,   0,   1,\n",
        "         3,   1,   0,   0,   0,   0,   1]),\n",
        " array([   1.  ,   33.15,   65.3 ,   97.45,  129.6 ,  161.75,  193.9 ,\n",
        "        226.05,  258.2 ,  290.35,  322.5 ,  354.65,  386.8 ,  418.95,\n",
        "        451.1 ,  483.25,  515.4 ,  547.55,  579.7 ,  611.85,  644.  ]),\n",
        " <a list of 20 Patch objects>)"
       ]
      },
      {
       "metadata": {},
       "output_type": "display_data",
       "png": "[encoded data removed]",
       "text": [
        "<matplotlib.figure.Figure at 0x9d36810>"
       ]
      }
     ],
     "prompt_number": 6
    },
    {
     "cell_type": "markdown",
     "metadata": {},
     "source": [
      "Determine the purity of the clusters with at least ten members. The purity of the cluster is calculated by determining the main reaction type, class and super-class and normalizing this quantity by the size of the cluster."
     ]
    },
    {
     "cell_type": "code",
     "collapsed": false,
     "input": [
      "import operator\n",
      "purities=[]\n",
      "nAccountedFor=0\n",
      "for (i,c) in enumerate(cs):\n",
      "    sz=len(c)\n",
      "    if sz<=10:\n",
      "        continue\n",
      "    nAccountedFor+=sz\n",
      "    tcounts1=defaultdict(int)\n",
      "    tcounts2=defaultdict(int)\n",
      "    tcounts3=defaultdict(int)\n",
      "    for idx in c:\n",
      "        lbl = fpsubset[idx][1]\n",
      "        slbl = lbl.split(' ')[0].split('.')\n",
      "        tcounts1[slbl[0]]+=1\n",
      "        tcounts2['.'.join(slbl[:2])]+=1\n",
      "        tcounts3['.'.join(slbl[:3])]+=1\n",
      "        \n",
      "    tcounts1_sorted = sorted(tcounts1.items(), key=operator.itemgetter(1), reverse=True) \n",
      "    maxc1 = tcounts1_sorted[0][1]\n",
      "    maxlbl1 = tcounts1_sorted[0][0]\n",
      "    tcounts2_sorted = sorted(tcounts2.items(), key=operator.itemgetter(1), reverse=True) \n",
      "    maxc2 = tcounts2_sorted[0][1]\n",
      "    maxlbl2 = tcounts2_sorted[0][0]\n",
      "    tcounts3_sorted = sorted(tcounts3.items(), key=operator.itemgetter(1), reverse=True) \n",
      "    maxc3 = tcounts3_sorted[0][1]\n",
      "    maxlbl3 = tcounts3_sorted[0][0]\n",
      "    purities.append((i,sz,(1.*maxc1/sz,1.*maxc2/sz,1.*maxc3/sz),(maxlbl1, maxlbl2, maxlbl3),(maxc1,maxc2,maxc3)))\n",
      "print len(purities),nAccountedFor"
     ],
     "language": "python",
     "metadata": {},
     "outputs": [
      {
       "output_type": "stream",
       "stream": "stdout",
       "text": [
        "115 8702\n"
       ]
      }
     ],
     "prompt_number": 7
    },
    {
     "cell_type": "markdown",
     "metadata": {},
     "source": [
      "Determine the number of members per reaction type, class and super-class in the FP subset."
     ]
    },
    {
     "cell_type": "code",
     "collapsed": false,
     "input": [
      "members_rtype=defaultdict(int)\n",
      "members_class=defaultdict(int)\n",
      "members_superclass=defaultdict(int)\n",
      "for i in fpsubset:\n",
      "    members_rtype[i[1]]+=1\n",
      "    members_class[i[1].split('.')[0]+'.'+i[1].split('.')[1]]+=1\n",
      "    members_superclass[i[1].split('.')[0]]+=1"
     ],
     "language": "python",
     "metadata": {},
     "outputs": [],
     "prompt_number": 8
    },
    {
     "cell_type": "heading",
     "level": 5,
     "metadata": {},
     "source": [
      "Calculate F-score, precision and recall for the reaction type purity of the clusters."
     ]
    },
    {
     "cell_type": "markdown",
     "metadata": {},
     "source": [
      "The mean purity per reaction type can be regarded as a kind of precision value. We were also interested in the recall, the number of reactions per reaction type which could be actually recovered within the clusters. Hence, the recall is calculated by the number of recovered reactions divided by number of reactions of that type contained in the data. Using the recall and precision the F-score of the clustering for each reaction type can be determined."
     ]
    },
    {
     "cell_type": "markdown",
     "metadata": {},
     "source": [
      "Merge the clusters with the same main reaction type and calculate based on this the mean F-score, precision and recall."
     ]
    },
    {
     "cell_type": "code",
     "collapsed": false,
     "input": [
      "# input purities list of the Butina clustering, number of members dict per reation type, class or super-class\n",
      "# level: super-class = 0, class = 1, reation type = 2 \n",
      "rtype_purity_dict = utilsFunctions.evaluatePurityClusters(purities, members_rtype, 2)"
     ],
     "language": "python",
     "metadata": {},
     "outputs": [
      {
       "output_type": "stream",
       "stream": "stdout",
       "text": [
        "Mean F-score:  0.604477550969\n",
        "Median F-score:  0.634877170564\n",
        "Min, Max F-score : 0.987405541562 0.0550458715596\n",
        "Mean precision:  0.776199671429\n",
        "Median precision:  0.775090351202\n",
        "Min, Max precision : 1.0 0.310559006211\n",
        "Mean recall:  0.575729166667\n",
        "Median recall:  0.6175\n",
        "Min, Max recall : 1.0 0.03\n"
       ]
      }
     ],
     "prompt_number": 9
    },
    {
     "cell_type": "markdown",
     "metadata": {},
     "source": [
      "Sort the final clusters based on the number of clusters they were build of in ascending order."
     ]
    },
    {
     "cell_type": "code",
     "collapsed": false,
     "input": [
      "rtype_purity_sorted = sorted(rtype_purity_dict.items(), key=operator.itemgetter(1))"
     ],
     "language": "python",
     "metadata": {},
     "outputs": [],
     "prompt_number": 10
    },
    {
     "cell_type": "markdown",
     "metadata": {},
     "source": [
      "Plot the distribution of the different reaction type clusters considering the number of clusters they were build of and their F-score. "
     ]
    },
    {
     "cell_type": "code",
     "collapsed": false,
     "input": [
      "labels = [x[0] for x in rtype_purity_sorted]\n",
      "yvalues1 = [x[1][0] for x in rtype_purity_sorted]\n",
      "colors = [x[1][5] for x in rtype_purity_sorted]\n",
      "\n",
      "xvalues = np.arange(len(rtype_purity_sorted))\n",
      "colors.append(1.0) # to a scale from 0.0. to 1.0\n",
      "colors.append(0.0) # to a scale from 0.0. to 1.0\n",
      "\n",
      "width = 0.5\n",
      "fig=figure(1,figsize(20,5),dpi=200)\n",
      "ax1=subplot(1,1,1)\n",
      "ax1.bar(xvalues, yvalues1,width,color=cm.Blues(colors))\n",
      "xticks(xvalues+width/2., labels,rotation='vertical')\n",
      "ylabel('Number of clusters')\n",
      "xlabel('Reaction types')\n",
      "sm = cm.ScalarMappable(cmap=cm.Blues)\n",
      "sm.set_array(colors)\n",
      "cb = colorbar(sm)\n",
      "cb.set_label('F-score')"
     ],
     "language": "python",
     "metadata": {},
     "outputs": [
      {
       "metadata": {},
       "output_type": "display_data",
       "png": "[encoded data removed]",
       "text": [
        "<matplotlib.figure.Figure at 0xbf9a950>"
       ]
      }
     ],
     "prompt_number": 11
    },
    {
     "cell_type": "markdown",
     "metadata": {},
     "source": [
      "Merge the clusters with the same main reaction class and calculate based on this the mean F-score, precision and recall."
     ]
    },
    {
     "cell_type": "code",
     "collapsed": false,
     "input": [
      "# input purities list of the Butina clustering, number of members dict per reation type, class or super-class\n",
      "# level: super-class = 0, class = 1, reation type = 2 \n",
      "class_purity_dict = utilsFunctions.evaluatePurityClusters(purities, members_class, 1)"
     ],
     "language": "python",
     "metadata": {},
     "outputs": [
      {
       "output_type": "stream",
       "stream": "stdout",
       "text": [
        "Mean F-score:  0.7282979298\n",
        "Median F-score:  0.808252999937\n",
        "Min, Max F-score : 0.987405541562 0.104265402844\n",
        "Mean precision:  0.893592163848\n",
        "Median precision:  0.931946864111\n",
        "Min, Max precision : 1.0 0.664375\n",
        "Mean recall:  0.672678571429\n",
        "Median recall:  0.7575\n",
        "Min, Max recall : 0.995 0.055\n"
       ]
      }
     ],
     "prompt_number": 12
    },
    {
     "cell_type": "markdown",
     "metadata": {},
     "source": [
      "Sort the final clusters based on their mean F-score in ascending order."
     ]
    },
    {
     "cell_type": "code",
     "collapsed": false,
     "input": [
      "class_purity_sorted = sorted(class_purity_dict.items(), key=lambda x: x[1][5])"
     ],
     "language": "python",
     "metadata": {},
     "outputs": [],
     "prompt_number": 13
    },
    {
     "cell_type": "markdown",
     "metadata": {},
     "source": [
      "Plot the distribution of the different reaction class clusters their mean F-score. "
     ]
    },
    {
     "cell_type": "code",
     "collapsed": false,
     "input": [
      "labels = [x[0] for x in class_purity_sorted]\n",
      "yvalues1 = [x[1][5] for x in class_purity_sorted]\n",
      "colors = [x[1][5] for x in class_purity_sorted]\n",
      "xvalues = np.arange(len(class_purity_sorted))\n",
      "colors.append(1.0) # to a scale from 0.0. to 1.0\n",
      "colors.append(0.0) # to a scale from 0.0. to 1.0\n",
      "\n",
      "width = 0.5\n",
      "fig=figure(1,figsize(20,5),dpi=200)\n",
      "ax1=subplot(1,1,1)\n",
      "ax1.bar(xvalues, yvalues1,width)#,color=cm.Blues(colors))\n",
      "xticks(xvalues+width/2., labels,rotation='vertical')\n",
      "ylabel('F-score')\n",
      "_=xlabel('Reaction classes')"
     ],
     "language": "python",
     "metadata": {},
     "outputs": [
      {
       "metadata": {},
       "output_type": "display_data",
       "png": "[encoded data removed]",
       "text": [
        "<matplotlib.figure.Figure at 0xbf112d0>"
       ]
      }
     ],
     "prompt_number": 14
    },
    {
     "cell_type": "markdown",
     "metadata": {},
     "source": [
      "Merge the clusters with the same main reaction super-class and calculate based on this the mean F-score, precision and recall."
     ]
    },
    {
     "cell_type": "code",
     "collapsed": false,
     "input": [
      "# input purities list of the Butina clustering, number of members dict per reation type, class or super-class\n",
      "# level: super-class = 0, class = 1, reation type = 2 \n",
      "superclass_purity_dict = utilsFunctions.evaluatePurityClusters(purities, members_superclass, 0)"
     ],
     "language": "python",
     "metadata": {},
     "outputs": [
      {
       "output_type": "stream",
       "stream": "stdout",
       "text": [
        "Mean F-score:  0.819428773758\n",
        "Median F-score:  0.888888888889\n",
        "Min, Max F-score : 0.96945594481 0.276422764228\n",
        "Mean precision:  0.933349567512\n",
        "Median precision:  0.95857511283\n",
        "Min, Max precision : 1.0 0.739130434783\n",
        "Mean recall:  0.757625\n",
        "Median recall:  0.8\n",
        "Min, Max recall : 0.986875 0.17\n"
       ]
      }
     ],
     "prompt_number": 15
    },
    {
     "cell_type": "markdown",
     "metadata": {},
     "source": [
      "Sort the final clusters based on their mean F-score in ascending order."
     ]
    },
    {
     "cell_type": "code",
     "collapsed": false,
     "input": [
      "superclass_purity_sorted = sorted(superclass_purity_dict.items(), key=lambda x: x[1][5])"
     ],
     "language": "python",
     "metadata": {},
     "outputs": [],
     "prompt_number": 16
    },
    {
     "cell_type": "markdown",
     "metadata": {},
     "source": [
      "Plot the distribution of the different reaction super-class clusters their mean F-score. "
     ]
    },
    {
     "cell_type": "code",
     "collapsed": false,
     "input": [
      "labels = [x[0] for x in superclass_purity_sorted]\n",
      "yvalues1 = [x[1][5] for x in superclass_purity_sorted]\n",
      "colors = [x[1][5] for x in superclass_purity_sorted]\n",
      "\n",
      "xvalues = np.arange(len(superclass_purity_sorted))\n",
      "colors.append(1.0) # to a scale from 0.0. to 1.0\n",
      "colors.append(0.0) # to a scale from 0.0. to 1.0\n",
      "\n",
      "width = 0.5\n",
      "fig=figure(1,figsize(20,5),dpi=200)\n",
      "ax1=subplot(1,1,1)\n",
      "ax1.bar(xvalues, yvalues1,width)#,color=cm.Blues(colors))\n",
      "xticks(xvalues+width/2., labels,rotation='vertical')\n",
      "ylabel('F-score')\n",
      "_=xlabel('Reaction super-classes')"
     ],
     "language": "python",
     "metadata": {},
     "outputs": [
      {
       "metadata": {},
       "output_type": "display_data",
       "png": "[encoded data removed]",
       "text": [
        "<matplotlib.figure.Figure at 0xb9aa5d0>"
       ]
      }
     ],
     "prompt_number": 17
    }
   ],
   "metadata": {}
  }
 ]
}