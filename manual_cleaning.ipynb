{
 "cells": [
  {
   "cell_type": "markdown",
   "metadata": {},
   "source": [
    "# Manual cleaning"
   ]
  },
  {
   "cell_type": "code",
   "execution_count": 1,
   "metadata": {},
   "outputs": [],
   "source": [
    "# The aim of the manual cleaning is to canonicalise the catalysts, reagents, and solvents\n",
    "# canonical means that there's only one representation for each molecule\n",
    "# Some molecules may be represented in a way that the rdkit canonicalisation won't pick up that it's the same\n",
    "# E.g. [Pd+2] and [Pd]; [Pd].Ph and [Pd].[Pd].Ph.Ph\n",
    "\n",
    "# Important note: All the examples I listed here are just examples, I could do these things myself as well. Your chemistry knowledge is going beyond the examples I already listed, e.g. which metals to look for, whether mol.mol is the same as mol (e.g. is Ph.Ph the same as Ph? Is Ph.Ph.Pd the same as Ph.Pd?) etc. "
   ]
  },
  {
   "cell_type": "markdown",
   "metadata": {},
   "source": [
    "## Read in data"
   ]
  },
  {
   "cell_type": "code",
   "execution_count": 2,
   "metadata": {},
   "outputs": [],
   "source": [
    "import pandas as pd"
   ]
  },
  {
   "cell_type": "code",
   "execution_count": 4,
   "metadata": {},
   "outputs": [],
   "source": [
    "# read in pickled clean data\n",
    "df = pd.read_pickle(f\"data/ORD_USPTO/cleaned_data.pkl\")"
   ]
  },
  {
   "cell_type": "markdown",
   "metadata": {},
   "source": [
    "## Clean catalysts"
   ]
  },
  {
   "cell_type": "code",
   "execution_count": 6,
   "metadata": {},
   "outputs": [],
   "source": [
    "# print out all catalysts\n",
    "#sorted(list(set(df['catalyst_0'].dropna())))"
   ]
  },
  {
   "cell_type": "code",
   "execution_count": 8,
   "metadata": {},
   "outputs": [],
   "source": [
    "catalyst_replacements = {}\n",
    "\n",
    "catalyst_wrong = []\n",
    "# All the data should have already been cleaned using rdkit.canonsmiles so I'm very surprised that there are some catalysts that are wrong. If you see any wrong catalysts, just remove them\n"
   ]
  },
  {
   "cell_type": "code",
   "execution_count": 9,
   "metadata": {},
   "outputs": [],
   "source": [
    "# Add a catalyst to the catalyst_replacements df\n",
    "catalyst_replacements['[pd]'] = 'Pd'\n",
    "\n",
    "# add any wrong catalysts you spot, e.g.\n",
    "catalyst_wrong += ['molecule A']\n"
   ]
  },
  {
   "cell_type": "markdown",
   "metadata": {},
   "source": [
    "## Repeat for Reagents"
   ]
  },
  {
   "cell_type": "code",
   "execution_count": null,
   "metadata": {},
   "outputs": [],
   "source": [
    "# Given that the molecules are already canonicalised by rdkit, these shouldn't be too bad"
   ]
  },
  {
   "attachments": {},
   "cell_type": "markdown",
   "metadata": {},
   "source": [
    "## Repeat for Solvents"
   ]
  },
  {
   "cell_type": "markdown",
   "metadata": {},
   "source": []
  },
  {
   "cell_type": "code",
   "execution_count": null,
   "metadata": {},
   "outputs": [],
   "source": [
    "## Any other manual cleaning\n",
    "# E.g. check whether there are catalysing metals listed as a reagent or sovlent\n",
    "count = 0\n",
    "for i in data_df['reagents_0']:\n",
    "    try:\n",
    "        if 'pd' in i or 'Pd' in i or 'palladium' in i or 'Palladium' in i:\n",
    "            count +=1\n",
    "            #print(i)\n",
    "    except TypeError:\n",
    "        continue\n",
    "print('Number of Pd in the reagents columns: ', count )\n"
   ]
  },
  {
   "cell_type": "code",
   "execution_count": null,
   "metadata": {},
   "outputs": [],
   "source": [
    "# Move them to the catalyst column\n",
    "\n",
    "#NB: Rows where there's two reagents, and one of them is Pd, the second reagent might be the ligand! Need to check this"
   ]
  }
 ],
 "metadata": {
  "kernelspec": {
   "display_name": "chemistry",
   "language": "python",
   "name": "python3"
  },
  "language_info": {
   "codemirror_mode": {
    "name": "ipython",
    "version": 3
   },
   "file_extension": ".py",
   "mimetype": "text/x-python",
   "name": "python",
   "nbconvert_exporter": "python",
   "pygments_lexer": "ipython3",
   "version": "3.10.8"
  },
  "orig_nbformat": 4,
  "vscode": {
   "interpreter": {
    "hash": "c1a6c9805cce96d1e29a306d4faa1abec69cf2c9ee1771799b926a7cc969fbbc"
   }
  }
 },
 "nbformat": 4,
 "nbformat_minor": 2
}
