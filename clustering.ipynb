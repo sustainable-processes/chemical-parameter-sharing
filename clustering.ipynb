{
 "cells": [
  {
   "cell_type": "markdown",
   "metadata": {},
   "source": [
    "# Clustering of cleaned USPTO using NameRxn from Nextmove software"
   ]
  },
  {
   "cell_type": "code",
   "execution_count": 1,
   "metadata": {},
   "outputs": [],
   "source": [
    "import pandas as pd\n",
    "import matplotlib.pyplot as plt"
   ]
  },
  {
   "cell_type": "code",
   "execution_count": 2,
   "metadata": {},
   "outputs": [],
   "source": [
    "# read in rxn class data:\n",
    "with open(\"data/orderly_cond_classes.smi\", \"r\") as file:\n",
    "    lines = file.readlines()\n",
    "\n",
    "# Split each line and create a list of lists\n",
    "data = [line.strip().split(\" \") for line in lines]\n",
    "\n",
    "# Create a dataframe\n",
    "df = pd.DataFrame(data, columns=['Reaction_String', 'Reaction_Class'])\n",
    "\n",
    "# Read in reaction conditions data\n",
    "df2 = pd.read_parquet(\"data/orderly_condition_train.parquet\")\n",
    "df3 = pd.read_parquet(\"data/orderly_condition_test.parquet\")\n",
    "\n",
    "# Merge the two dataframes\n",
    "df4 = pd.concat([df2, df3])\n",
    "df[['solvent_000', 'solvent_001', 'agent_000', 'agent_001', 'agent_002']] = df4[['solvent_000', 'solvent_001', 'agent_000', 'agent_001', 'agent_002']]\n",
    "\n",
    "df['Reaction_Class'] = df['Reaction_Class'].replace('0.0', '0.0.0')\n",
    "\n",
    "# Split the 'Reaction_Class' column\n",
    "df['super class'] = df['Reaction_Class'].str.split('.').str[0]\n",
    "df['mid class'] = df['Reaction_Class'].str.split('.').str[0] + '.' + df['Reaction_Class'].str.split('.').str[1]\n",
    "\n",
    "\n",
    "\n",
    "\n",
    "\n"
   ]
  },
  {
   "cell_type": "code",
   "execution_count": 3,
   "metadata": {},
   "outputs": [],
   "source": [
    "super_class_dict = {\n",
    "    \"0\": \"Unassigned\",\n",
    "    \"1\": \"Heteroatom alkylation and arylation\",\n",
    "    \"2\": \"Acylation and related processes\",\n",
    "    \"3\": \"C-C bond formation\",\n",
    "    \"4\": \"Heterocycle formation\",\n",
    "    \"5\": \"Protections\",\n",
    "    \"6\": \"Deprotections\",\n",
    "    \"7\": \"Reductions\",\n",
    "    \"8\": \"Oxidations\",\n",
    "    \"9\": \"Functional group interconversion (FGI)\",\n",
    "    \"10\": \"Functional group addition (FGA)\",\n",
    "    \"11\": \"Resolution\",\n",
    "    \"12\": \"Miscellaneous\"\n",
    "}"
   ]
  },
  {
   "cell_type": "code",
   "execution_count": 4,
   "metadata": {},
   "outputs": [],
   "source": [
    "mid_class_dict = {\n",
    "    \"0\": \"Unassigned\",\n",
    "    \"0.1\": \"Failed reaction\",\n",
    "    \"0.2\": \"Compound purchase\",\n",
    "    \"1\": \"Heteroatom alkylation and arylation\",\n",
    "    \"1.1\": \"N-substitution with alkyl-X\",\n",
    "    \"1.2\": \"Reductive amination\",\n",
    "    \"1.3\": \"N-arylation with Ar-X\",\n",
    "    \"1.4\": \"Amide N-alkylation\",\n",
    "    \"1.5\": \"Aniline N-alkylation\",\n",
    "    \"1.6\": \"Heteroaryl N-alkylation\",\n",
    "    \"1.7\": \"O-substitution\",\n",
    "    \"1.8\": \"S-substitution\",\n",
    "    \"1.9\": \"Other heteroatom alkylation/arylation\",\n",
    "    \"2\": \"Acylation and related processes\",\n",
    "    \"2.1\": \"N-acylation to amide\",\n",
    "    \"2.2\": \"N-sulfonylation\",\n",
    "    \"2.3\": \"N-acylation to urea\",\n",
    "    \"2.4\": \"Carbamate/carbonate formation\",\n",
    "    \"2.5\": \"Amidine formation\",\n",
    "    \"2.6\": \"O-acylation to ester\",\n",
    "    \"2.7\": \"O-sulfonylation\",\n",
    "    \"2.8\": \"Other acylation\",\n",
    "    \"3\": \"C-C bond formation\",\n",
    "    \"3.1\": \"Suzuki coupling\",\n",
    "    \"3.2\": \"Heck reaction\",\n",
    "    \"3.3\": \"Sonogashira reaction\",\n",
    "    \"3.4\": \"Stille reaction\",\n",
    "    \"3.5\": \"Other Pd-catalyzed reactions (Negishi, Kumada, etc.)\",\n",
    "    \"3.6\": \"Ester condensation\",\n",
    "    \"3.7\": \"Grignard\",\n",
    "    \"3.8\": \"Wittig olefination\",\n",
    "    \"3.9\": \"Other organometallic C-C bond formation\",\n",
    "    \"3.10\": \"Friedel-Crafts acylation\",\n",
    "    \"3.11\": \"Other C-C bond formation\",\n",
    "    \"4\": \"Heterocycle formation\",\n",
    "    \"4.1\": \"N-containing heterocycle formation\",\n",
    "    \"4.2\": \"O-containing heterocycle formation\",\n",
    "    \"4.3\": \"S-containing heterocycle formation\",\n",
    "    \"4.4\": \"Other heterocycle forming reactions\",\n",
    "    \"5\": \"Protections\",\n",
    "    \"5.1\": \"NH protections\",\n",
    "    \"5.2\": \"RCO2H protections\",\n",
    "    \"5.3\": \"ROH protections\",\n",
    "    \"5.4\": \"RSH protections\",\n",
    "    \"5.5\": \"Other protections\",\n",
    "    \"6\": \"Deprotections\",\n",
    "    \"6.1\": \"NH deprotections\",\n",
    "    \"6.2\": \"RCO2H deprotections\",\n",
    "    \"6.3\": \"ROH deprotections\",\n",
    "    \"6.4\": \"RSH deprotections\",\n",
    "    \"6.5\": \"Other deprotections\",\n",
    "    \"7\": \"Reductions\",\n",
    "    \"7.1\": \"Nitro to amine reduction\",\n",
    "    \"7.2\": \"Amide to amine reduction\",\n",
    "    \"7.3\": \"Cyano or imine to amine\",\n",
    "    \"7.4\": \"Ester to alcohol\",\n",
    "    \"7.5\": \"Ketone to alcohol\",\n",
    "    \"7.6\": \"Alkene to alkane\",\n",
    "    \"7.7\": \"Alkyne to alkane\",\n",
    "    \"7.8\": \"Aryl/hetaryl to fully saturated\",\n",
    "    \"7.9\": \"Other reductions\",\n",
    "    \"8\": \"Oxidations\",\n",
    "    \"8.1\": \"Alcohols to aldehydes\",\n",
    "    \"8.2\": \"Oxidations at sulphur\",\n",
    "    \"8.3\": \"Alcohols to acids\",\n",
    "    \"8.4\": \"Oxidations at nitrogen\",\n",
    "    \"8.5\": \"Alkene oxidative cleavage\",\n",
    "    \"8.6\": \"Benzylic/allylic oxidation\",\n",
    "    \"8.7\": \"Alkene oxidation\",\n",
    "    \"8.8\": \"Other oxidations\",\n",
    "    \"9\": \"Functional group interconversion (FGI)\",\n",
    "    \"9.1\": \"Alcohol to halide\",\n",
    "    \"9.2\": \"Amide to imidoyl chloride\",\n",
    "    \"9.3\": \"Acid to acid chloride\",\n",
    "    \"9.4\": \"Nitrile to acid\",\n",
    "    \"9.5\": \"Dehydration\",\n",
    "    \"9.6\": \"Carbonyl to C=N\",\n",
    "    \"9.7\": \"Other functional group interconversion\",\n",
    "    \"10\": \"Functional group addition (FGA)\",\n",
    "    \"10.1\": \"Halogenation\",\n",
    "    \"10.2\": \"Nitration\",\n",
    "    \"10.3\": \"Sulfonation\",\n",
    "    \"10.4\": \"Other functional group addition\",\n",
    "    \"11\": \"Resolution\",\n",
    "    \"11.1\": \"Purification\",\n",
    "    \"11.2\": \"Separation\",\n",
    "    \"11.3\": \"Chiral separation\",\n",
    "    \"11.4\": \"Ion exchange\",\n",
    "    \"11.5\": \"Isomerization\",\n",
    "    \"11.6\": \"Purification\",\n",
    "    \"11.7\": \"Racemization\",\n",
    "    \"11.8\": \"Salt formation\",\n",
    "    \"11.9\": \"Separation\",\n",
    "    \"12\": \"Miscellaneous\",\n",
    "    \"12.1\": \"Diazald diazomethane preparation\",\n",
    "    \"12.2\": \"MNNG diazomethane preparation\"\n",
    "}\n",
    "mid_class_dict = {key: f\"{key} {value}\" for key, value in mid_class_dict.items()}"
   ]
  },
  {
   "cell_type": "code",
   "execution_count": 5,
   "metadata": {},
   "outputs": [
    {
     "data": {
      "text/html": [
       "<div>\n",
       "<style scoped>\n",
       "    .dataframe tbody tr th:only-of-type {\n",
       "        vertical-align: middle;\n",
       "    }\n",
       "\n",
       "    .dataframe tbody tr th {\n",
       "        vertical-align: top;\n",
       "    }\n",
       "\n",
       "    .dataframe thead th {\n",
       "        text-align: right;\n",
       "    }\n",
       "</style>\n",
       "<table border=\"1\" class=\"dataframe\">\n",
       "  <thead>\n",
       "    <tr style=\"text-align: right;\">\n",
       "      <th></th>\n",
       "      <th>Reaction_String</th>\n",
       "      <th>Reaction_Class</th>\n",
       "      <th>solvent_000</th>\n",
       "      <th>solvent_001</th>\n",
       "      <th>agent_000</th>\n",
       "      <th>agent_001</th>\n",
       "      <th>agent_002</th>\n",
       "      <th>super class</th>\n",
       "      <th>mid class</th>\n",
       "    </tr>\n",
       "  </thead>\n",
       "  <tbody>\n",
       "    <tr>\n",
       "      <th>0</th>\n",
       "      <td>CC(C)(C)OC(=O)[N:14]1[CH2:13][CH2:12][CH:11]([...</td>\n",
       "      <td>6.1.1</td>\n",
       "      <td>O</td>\n",
       "      <td>CC(=O)O</td>\n",
       "      <td>[Fe]</td>\n",
       "      <td>[Na+]</td>\n",
       "      <td>[OH-]</td>\n",
       "      <td>Deprotections</td>\n",
       "      <td>6.1 NH deprotections</td>\n",
       "    </tr>\n",
       "    <tr>\n",
       "      <th>1</th>\n",
       "      <td>CN1C(=O)C(Br)=C(C2=C(CCCCC3=Cc4ccccc4N3)Nc3ccc...</td>\n",
       "      <td>0.0.0</td>\n",
       "      <td>CCO</td>\n",
       "      <td>None</td>\n",
       "      <td>Cl</td>\n",
       "      <td>None</td>\n",
       "      <td>None</td>\n",
       "      <td>Unassigned</td>\n",
       "      <td>NaN</td>\n",
       "    </tr>\n",
       "    <tr>\n",
       "      <th>2</th>\n",
       "      <td>BrC(Br)(Br)Br.O[CH2:1][c:2]1[cH:3][c:4]2[cH:5]...</td>\n",
       "      <td>9.1.5</td>\n",
       "      <td>CCO</td>\n",
       "      <td>None</td>\n",
       "      <td>Cl</td>\n",
       "      <td>None</td>\n",
       "      <td>None</td>\n",
       "      <td>Functional group interconversion (FGI)</td>\n",
       "      <td>9.1 Alcohol to halide</td>\n",
       "    </tr>\n",
       "    <tr>\n",
       "      <th>3</th>\n",
       "      <td>O=[N+:21]([O-])[c:20]1[cH:19][cH:18][c:17](-[c...</td>\n",
       "      <td>7.1.1</td>\n",
       "      <td>CCO</td>\n",
       "      <td>None</td>\n",
       "      <td>[K+]</td>\n",
       "      <td>[OH-]</td>\n",
       "      <td>Cl</td>\n",
       "      <td>Reductions</td>\n",
       "      <td>7.1 Nitro to amine reduction</td>\n",
       "    </tr>\n",
       "    <tr>\n",
       "      <th>4</th>\n",
       "      <td>O[CH2:10][CH2:9][NH:8][C:6]([O:5][C:2]([CH3:1]...</td>\n",
       "      <td>1.7.7</td>\n",
       "      <td>O</td>\n",
       "      <td>None</td>\n",
       "      <td>O=N[O-]</td>\n",
       "      <td>[Na+]</td>\n",
       "      <td>None</td>\n",
       "      <td>Heteroatom alkylation and arylation</td>\n",
       "      <td>1.7 O-substitution</td>\n",
       "    </tr>\n",
       "  </tbody>\n",
       "</table>\n",
       "</div>"
      ],
      "text/plain": [
       "                                     Reaction_String Reaction_Class  \\\n",
       "0  CC(C)(C)OC(=O)[N:14]1[CH2:13][CH2:12][CH:11]([...          6.1.1   \n",
       "1  CN1C(=O)C(Br)=C(C2=C(CCCCC3=Cc4ccccc4N3)Nc3ccc...          0.0.0   \n",
       "2  BrC(Br)(Br)Br.O[CH2:1][c:2]1[cH:3][c:4]2[cH:5]...          9.1.5   \n",
       "3  O=[N+:21]([O-])[c:20]1[cH:19][cH:18][c:17](-[c...          7.1.1   \n",
       "4  O[CH2:10][CH2:9][NH:8][C:6]([O:5][C:2]([CH3:1]...          1.7.7   \n",
       "\n",
       "  solvent_000 solvent_001 agent_000 agent_001 agent_002  \\\n",
       "0           O     CC(=O)O      [Fe]     [Na+]     [OH-]   \n",
       "1         CCO        None        Cl      None      None   \n",
       "2         CCO        None        Cl      None      None   \n",
       "3         CCO        None      [K+]     [OH-]        Cl   \n",
       "4           O        None   O=N[O-]     [Na+]      None   \n",
       "\n",
       "                              super class                     mid class  \n",
       "0                           Deprotections          6.1 NH deprotections  \n",
       "1                              Unassigned                           NaN  \n",
       "2  Functional group interconversion (FGI)         9.1 Alcohol to halide  \n",
       "3                              Reductions  7.1 Nitro to amine reduction  \n",
       "4     Heteroatom alkylation and arylation            1.7 O-substitution  "
      ]
     },
     "execution_count": 5,
     "metadata": {},
     "output_type": "execute_result"
    }
   ],
   "source": [
    "df['super class'] = df['super class'].map(super_class_dict)\n",
    "df['mid class'] = df['mid class'].map(mid_class_dict)\n",
    "df.head()"
   ]
  },
  {
   "cell_type": "code",
   "execution_count": 6,
   "metadata": {},
   "outputs": [
    {
     "data": {
      "image/png": "[encoded data removed]",
      "text/plain": [
       "<Figure size 432x288 with 1 Axes>"
      ]
     },
     "metadata": {
      "needs_background": "light"
     },
     "output_type": "display_data"
    }
   ],
   "source": [
    "# Plot histogram\n",
    "df['super class'].value_counts().plot(kind='bar')\n",
    "plt.title('Histogram of super class')\n",
    "plt.xlabel('Super Class')\n",
    "plt.ylabel('Frequency')\n",
    "plt.show()"
   ]
  },
  {
   "cell_type": "code",
   "execution_count": 7,
   "metadata": {},
   "outputs": [
    {
     "data": {
      "image/png": "[encoded data removed]",
      "text/plain": [
       "<Figure size 432x288 with 1 Axes>"
      ]
     },
     "metadata": {
      "needs_background": "light"
     },
     "output_type": "display_data"
    }
   ],
   "source": [
    "# Plot histogram\n",
    "df['mid class'].value_counts()[:12].plot(kind='bar')\n",
    "plt.title('Histogram of mid class')\n",
    "plt.xlabel('Mid Class')\n",
    "plt.ylabel('Frequency')\n",
    "plt.show()"
   ]
  },
  {
   "cell_type": "markdown",
   "metadata": {},
   "source": [
    "## Build train test splits based on rxn class"
   ]
  },
  {
   "cell_type": "code",
   "execution_count": 8,
   "metadata": {},
   "outputs": [],
   "source": [
    "# Remove unassigned reactions\n",
    "df = df[df['super class'] != '0.0.0']"
   ]
  },
  {
   "cell_type": "code",
   "execution_count": 9,
   "metadata": {},
   "outputs": [],
   "source": [
    "super_class_train = df[df['super class'] != '3']\n",
    "super_class_test = df[df['super class'] == '3']\n",
    "# save as parquet\n",
    "super_class_train.to_parquet('data/super_class_train.parquet')\n",
    "super_class_test.to_parquet('data/super_class_test.parquet')"
   ]
  },
  {
   "cell_type": "code",
   "execution_count": 10,
   "metadata": {},
   "outputs": [],
   "source": [
    "# For subclass split, randomly select one of the mid classes from each super class\n",
    "# I used google rng to select a random subclass from each\n",
    "# 1.5\n",
    "# 2.4\n",
    "# 3.8\n",
    "# 4.2\n",
    "# 5.4\n",
    "# 6.1\n",
    "# 7.5\n",
    "# 8.1\n",
    "# 9.3\n",
    "# 10.2\n",
    "# 11.4\n",
    "# 12.1\n",
    "# List of values to filter\n",
    "values_to_exclude = ['1.5', '2.4', '3.8', '4.2', '5.4', '6.1', '7.5', '8.1', '9.3', '10.2', '11.4', '12.1']\n",
    "\n",
    "# Create train and test dataframes\n",
    "train_df = df[~df['mid class'].isin(values_to_exclude)]\n",
    "test_df = df[df['mid class'].isin(values_to_exclude)]\n",
    "# save as parquet\n",
    "train_df.to_parquet('data/mid_class_train.parquet')\n",
    "test_df.to_parquet('data/mid_class_test.parquet')"
   ]
  },
  {
   "cell_type": "code",
   "execution_count": null,
   "metadata": {},
   "outputs": [],
   "source": []
  },
  {
   "cell_type": "code",
   "execution_count": null,
   "metadata": {},
   "outputs": [],
   "source": []
  }
 ],
 "metadata": {
  "kernelspec": {
   "display_name": "param_sharing",
   "language": "python",
   "name": "python3"
  },
  "language_info": {
   "codemirror_mode": {
    "name": "ipython",
    "version": 3
   },
   "file_extension": ".py",
   "mimetype": "text/x-python",
   "name": "python",
   "nbconvert_exporter": "python",
   "pygments_lexer": "ipython3",
   "version": "3.9.17"
  },
  "orig_nbformat": 4
 },
 "nbformat": 4,
 "nbformat_minor": 2
}
