{
 "cells": [
  {
   "cell_type": "markdown",
   "metadata": {
    "toc": true
   },
   "source": [
    "<h1>Table of Contents<span class=\"tocSkip\"></span></h1>\n",
    "<div class=\"toc\"><ul class=\"toc-item\"><li><span><a href=\"#Preprocessing-of-USPTO\" data-toc-modified-id=\"Preprocessing-of-USPTO-1\"><span class=\"toc-item-num\">1&nbsp;&nbsp;</span>Preprocessing of USPTO</a></span></li><li><span><a href=\"#Read-in-data-cleaned-by-rxn-utils\" data-toc-modified-id=\"Read-in-data-cleaned-by-rxn-utils-2\"><span class=\"toc-item-num\">2&nbsp;&nbsp;</span>Read in data cleaned by rxn utils</a></span></li></ul></div>"
   ]
  },
  {
   "cell_type": "markdown",
   "metadata": {},
   "source": [
    "# Preprocessing of USPTO"
   ]
  },
  {
   "cell_type": "code",
   "execution_count": 1,
   "metadata": {
    "ExecuteTime": {
     "end_time": "2022-11-04T17:56:40.793280Z",
     "start_time": "2022-11-04T17:56:40.789537Z"
    }
   },
   "outputs": [],
   "source": [
    "# Running code from:\n",
    "# https://molecularai.github.io/reaction_utils/uspto.html\n",
    "\n",
    "# From within the folder containing all the USPTO data\n",
    "\n",
    "# First run:\n",
    "# conda activate <rxnutilities>\n",
    "#  python -m rxnutils.data.uspto.preparation_pipeline run --nbatches 200  --max-workers 8 --max-num-splits 200\n",
    "\n",
    "# Then I was supposed to run:\n",
    "# conda activate rxnmapper\n",
    "# python -m rxnutils.data.mapping_pipeline run --data-prefix uspto --nbatches 200  --max-workers 8 --max-num-splits 200\n",
    "# But that didn't work, so I just ran the first part \n",
    "# Even after I replaced the delimiter (from \t to , it still failed ). I'll just give up lol"
   ]
  },
  {
   "cell_type": "markdown",
   "metadata": {
    "ExecuteTime": {
     "end_time": "2022-10-25T07:22:53.347947Z",
     "start_time": "2022-10-25T07:22:53.201886Z"
    }
   },
   "source": [
    "# Read in data cleaned by rxn utils"
   ]
  },
  {
   "cell_type": "code",
   "execution_count": 2,
   "metadata": {
    "ExecuteTime": {
     "end_time": "2022-11-04T17:57:26.709088Z",
     "start_time": "2022-11-04T17:57:25.875092Z"
    }
   },
   "outputs": [],
   "source": [
    "import pandas as pd"
   ]
  },
  {
   "cell_type": "code",
   "execution_count": 3,
   "metadata": {
    "ExecuteTime": {
     "end_time": "2022-11-04T17:57:52.442854Z",
     "start_time": "2022-11-04T17:57:27.443738Z"
    }
   },
   "outputs": [],
   "source": [
    "cleaned_USPTO = pd.read_csv('/Users/dsw46/USPTO_data/uspto_data_cleaned.csv', sep = '\t')"
   ]
  },
  {
   "cell_type": "code",
   "execution_count": 4,
   "metadata": {
    "ExecuteTime": {
     "end_time": "2022-11-04T17:58:09.515828Z",
     "start_time": "2022-11-04T17:57:52.482067Z"
    }
   },
   "outputs": [],
   "source": [
    "full_USPTO = pd.read_csv('/Users/dsw46/USPTO_data/uspto_data.csv', sep = '\t')"
   ]
  },
  {
   "cell_type": "code",
   "execution_count": 5,
   "metadata": {
    "ExecuteTime": {
     "end_time": "2022-11-04T17:58:09.576797Z",
     "start_time": "2022-11-04T17:58:09.565847Z"
    }
   },
   "outputs": [
    {
     "data": {
      "text/plain": [
       "(3740596, 7)"
      ]
     },
     "execution_count": 5,
     "metadata": {},
     "output_type": "execute_result"
    }
   ],
   "source": [
    "cleaned_USPTO.shape"
   ]
  },
  {
   "cell_type": "code",
   "execution_count": 6,
   "metadata": {
    "ExecuteTime": {
     "end_time": "2022-11-04T17:58:09.609425Z",
     "start_time": "2022-11-04T17:58:09.605980Z"
    }
   },
   "outputs": [
    {
     "data": {
      "text/plain": [
       "(3748190, 3)"
      ]
     },
     "execution_count": 6,
     "metadata": {},
     "output_type": "execute_result"
    }
   ],
   "source": [
    "full_USPTO.shape"
   ]
  },
  {
   "cell_type": "code",
   "execution_count": 10,
   "metadata": {
    "ExecuteTime": {
     "end_time": "2022-11-04T18:00:01.147783Z",
     "start_time": "2022-11-04T18:00:01.141978Z"
    }
   },
   "outputs": [
    {
     "data": {
      "text/plain": [
       "'OCCBr.CCS(=O)(=O)Cl.CCOCC.CCN(CC)CC>>CCS(=O)(=O)OCCBr'"
      ]
     },
     "execution_count": 10,
     "metadata": {},
     "output_type": "execute_result"
    }
   ],
   "source": [
    "cleaned_USPTO['ReactionSmilesClean'][0]"
   ]
  },
  {
   "cell_type": "code",
   "execution_count": 13,
   "metadata": {
    "ExecuteTime": {
     "end_time": "2022-11-04T18:02:55.380875Z",
     "start_time": "2022-11-04T18:02:55.374161Z"
    }
   },
   "outputs": [
    {
     "data": {
      "text/plain": [
       "'[Br:1][CH2:2][CH2:3][OH:4].[CH2:5]([S:7](Cl)(=[O:9])=[O:8])[CH3:6].CCOCC>C(N(CC)CC)C>[CH2:5]([S:7]([O:4][CH2:3][CH2:2][Br:1])(=[O:9])=[O:8])[CH3:6]'"
      ]
     },
     "execution_count": 13,
     "metadata": {},
     "output_type": "execute_result"
    }
   ],
   "source": [
    "full_USPTO['ReactionSmiles'][0]"
   ]
  },
  {
   "cell_type": "code",
   "execution_count": 14,
   "metadata": {
    "ExecuteTime": {
     "end_time": "2022-11-04T18:12:57.530071Z",
     "start_time": "2022-11-04T18:12:57.511847Z"
    }
   },
   "outputs": [
    {
     "data": {
      "text/html": [
       "<div>\n",
       "<style scoped>\n",
       "    .dataframe tbody tr th:only-of-type {\n",
       "        vertical-align: middle;\n",
       "    }\n",
       "\n",
       "    .dataframe tbody tr th {\n",
       "        vertical-align: top;\n",
       "    }\n",
       "\n",
       "    .dataframe thead th {\n",
       "        text-align: right;\n",
       "    }\n",
       "</style>\n",
       "<table border=\"1\" class=\"dataframe\">\n",
       "  <thead>\n",
       "    <tr style=\"text-align: right;\">\n",
       "      <th></th>\n",
       "      <th>ID</th>\n",
       "      <th>Year</th>\n",
       "      <th>ReactionSmiles</th>\n",
       "      <th>ReactionSmilesClean</th>\n",
       "      <th>BadMolecules</th>\n",
       "      <th>ReactantSize</th>\n",
       "      <th>ProductSize</th>\n",
       "    </tr>\n",
       "  </thead>\n",
       "  <tbody>\n",
       "    <tr>\n",
       "      <th>0</th>\n",
       "      <td>US03930836;;0</td>\n",
       "      <td>1976</td>\n",
       "      <td>[Br:1][CH2:2][CH2:3][OH:4].[CH2:5]([S:7](Cl)(=...</td>\n",
       "      <td>OCCBr.CCS(=O)(=O)Cl.CCOCC.CCN(CC)CC&gt;&gt;CCS(=O)(=...</td>\n",
       "      <td>NaN</td>\n",
       "      <td>22</td>\n",
       "      <td>9</td>\n",
       "    </tr>\n",
       "    <tr>\n",
       "      <th>1</th>\n",
       "      <td>US03930836;;1</td>\n",
       "      <td>1976</td>\n",
       "      <td>[Br:1][CH2:2][CH2:3][CH2:4][OH:5].[CH3:6][S:7]...</td>\n",
       "      <td>OCCCBr.CS(=O)(=O)Cl.CCOCC.CCN(CC)CC&gt;&gt;CS(=O)(=O...</td>\n",
       "      <td>NaN</td>\n",
       "      <td>22</td>\n",
       "      <td>9</td>\n",
       "    </tr>\n",
       "    <tr>\n",
       "      <th>2</th>\n",
       "      <td>US03930836;;2</td>\n",
       "      <td>1976</td>\n",
       "      <td>[CH2:1]([Cl:4])[CH2:2][OH:3].CCOCC.[CH2:10]([S...</td>\n",
       "      <td>OCCCl.CCOCC.CC(C)CS(=O)(=O)Cl.CCN(CC)CC&gt;&gt;CC(C)...</td>\n",
       "      <td>NaN</td>\n",
       "      <td>24</td>\n",
       "      <td>11</td>\n",
       "    </tr>\n",
       "    <tr>\n",
       "      <th>3</th>\n",
       "      <td>US03930839;;3</td>\n",
       "      <td>1976</td>\n",
       "      <td>[Br:1][CH2:2][CH2:3][OH:4].[CH2:5]([S:7](Cl)(=...</td>\n",
       "      <td>OCCBr.CCS(=O)(=O)Cl.CCOCC.CCN(CC)CC&gt;&gt;CCS(=O)(=...</td>\n",
       "      <td>NaN</td>\n",
       "      <td>22</td>\n",
       "      <td>9</td>\n",
       "    </tr>\n",
       "    <tr>\n",
       "      <th>4</th>\n",
       "      <td>US03930839;;4</td>\n",
       "      <td>1976</td>\n",
       "      <td>[Br:1][CH2:2][CH2:3][CH2:4][OH:5].[CH3:6][S:7]...</td>\n",
       "      <td>OCCCBr.CS(=O)(=O)Cl.CCOCC.CCN(CC)CC&gt;&gt;CS(=O)(=O...</td>\n",
       "      <td>NaN</td>\n",
       "      <td>22</td>\n",
       "      <td>9</td>\n",
       "    </tr>\n",
       "    <tr>\n",
       "      <th>...</th>\n",
       "      <td>...</td>\n",
       "      <td>...</td>\n",
       "      <td>...</td>\n",
       "      <td>...</td>\n",
       "      <td>...</td>\n",
       "      <td>...</td>\n",
       "      <td>...</td>\n",
       "    </tr>\n",
       "    <tr>\n",
       "      <th>3740591</th>\n",
       "      <td>US20160272617A1;2361;1939248</td>\n",
       "      <td>2016</td>\n",
       "      <td>[NH:1]1[C:9]2[C:4](=[CH:5][CH:6]=[C:7]([NH:10]...</td>\n",
       "      <td>CC1=C(C2=CC=C(C[C@H](NC(=O)[C@H]3CC[C@H](CNC(=...</td>\n",
       "      <td>NaN</td>\n",
       "      <td>65</td>\n",
       "      <td>50</td>\n",
       "    </tr>\n",
       "    <tr>\n",
       "      <th>3740592</th>\n",
       "      <td>US20160272617A1;2365;1939249</td>\n",
       "      <td>2016</td>\n",
       "      <td>[OH:1][CH:2]1[CH2:5][CH:4]([NH:6][C:7]([C:9]2[...</td>\n",
       "      <td>CC1=C(C2=CC=C(C[C@H](NC(=O)[C@H]3CC[C@H](CNC(=...</td>\n",
       "      <td>NaN</td>\n",
       "      <td>62</td>\n",
       "      <td>47</td>\n",
       "    </tr>\n",
       "    <tr>\n",
       "      <th>3740593</th>\n",
       "      <td>US20160272617A1;2373;1939250</td>\n",
       "      <td>2016</td>\n",
       "      <td>C(OC([NH:8][CH2:9][C@H:10]1[CH2:15][CH2:14][C@...</td>\n",
       "      <td>CC1=C(C2=CC=C(C[C@H](NC(=O)[C@H]3CC[C@H](CNC(=...</td>\n",
       "      <td>NaN</td>\n",
       "      <td>76</td>\n",
       "      <td>60</td>\n",
       "    </tr>\n",
       "    <tr>\n",
       "      <th>3740594</th>\n",
       "      <td>US20160272617A1;2377;1939251</td>\n",
       "      <td>2016</td>\n",
       "      <td>[CH:1]1([NH:4][C:5]([C:7]2[CH:12]=[CH:11][C:10...</td>\n",
       "      <td>CC1=C(C2=CC=C(C[C@H](NC(=O)[C@H]3CC[C@H](CNC(=...</td>\n",
       "      <td>NaN</td>\n",
       "      <td>58</td>\n",
       "      <td>45</td>\n",
       "    </tr>\n",
       "    <tr>\n",
       "      <th>3740595</th>\n",
       "      <td>US20160272617A1;2381;1939252</td>\n",
       "      <td>2016</td>\n",
       "      <td>[OH-].[Li+].FC(F)(F)C(O)=O.[NH2:10][CH2:11][C@...</td>\n",
       "      <td>[OH-].[Li+].O=C(O)C(F)(F)F.COC(=O)C(F)(F)C(F)(...</td>\n",
       "      <td>NaN</td>\n",
       "      <td>81</td>\n",
       "      <td>59</td>\n",
       "    </tr>\n",
       "  </tbody>\n",
       "</table>\n",
       "<p>3740596 rows × 7 columns</p>\n",
       "</div>"
      ],
      "text/plain": [
       "                                   ID  Year  \\\n",
       "0                       US03930836;;0  1976   \n",
       "1                       US03930836;;1  1976   \n",
       "2                       US03930836;;2  1976   \n",
       "3                       US03930839;;3  1976   \n",
       "4                       US03930839;;4  1976   \n",
       "...                               ...   ...   \n",
       "3740591  US20160272617A1;2361;1939248  2016   \n",
       "3740592  US20160272617A1;2365;1939249  2016   \n",
       "3740593  US20160272617A1;2373;1939250  2016   \n",
       "3740594  US20160272617A1;2377;1939251  2016   \n",
       "3740595  US20160272617A1;2381;1939252  2016   \n",
       "\n",
       "                                            ReactionSmiles  \\\n",
       "0        [Br:1][CH2:2][CH2:3][OH:4].[CH2:5]([S:7](Cl)(=...   \n",
       "1        [Br:1][CH2:2][CH2:3][CH2:4][OH:5].[CH3:6][S:7]...   \n",
       "2        [CH2:1]([Cl:4])[CH2:2][OH:3].CCOCC.[CH2:10]([S...   \n",
       "3        [Br:1][CH2:2][CH2:3][OH:4].[CH2:5]([S:7](Cl)(=...   \n",
       "4        [Br:1][CH2:2][CH2:3][CH2:4][OH:5].[CH3:6][S:7]...   \n",
       "...                                                    ...   \n",
       "3740591  [NH:1]1[C:9]2[C:4](=[CH:5][CH:6]=[C:7]([NH:10]...   \n",
       "3740592  [OH:1][CH:2]1[CH2:5][CH:4]([NH:6][C:7]([C:9]2[...   \n",
       "3740593  C(OC([NH:8][CH2:9][C@H:10]1[CH2:15][CH2:14][C@...   \n",
       "3740594  [CH:1]1([NH:4][C:5]([C:7]2[CH:12]=[CH:11][C:10...   \n",
       "3740595  [OH-].[Li+].FC(F)(F)C(O)=O.[NH2:10][CH2:11][C@...   \n",
       "\n",
       "                                       ReactionSmilesClean BadMolecules  \\\n",
       "0        OCCBr.CCS(=O)(=O)Cl.CCOCC.CCN(CC)CC>>CCS(=O)(=...          NaN   \n",
       "1        OCCCBr.CS(=O)(=O)Cl.CCOCC.CCN(CC)CC>>CS(=O)(=O...          NaN   \n",
       "2        OCCCl.CCOCC.CC(C)CS(=O)(=O)Cl.CCN(CC)CC>>CC(C)...          NaN   \n",
       "3        OCCBr.CCS(=O)(=O)Cl.CCOCC.CCN(CC)CC>>CCS(=O)(=...          NaN   \n",
       "4        OCCCBr.CS(=O)(=O)Cl.CCOCC.CCN(CC)CC>>CS(=O)(=O...          NaN   \n",
       "...                                                    ...          ...   \n",
       "3740591  CC1=C(C2=CC=C(C[C@H](NC(=O)[C@H]3CC[C@H](CNC(=...          NaN   \n",
       "3740592  CC1=C(C2=CC=C(C[C@H](NC(=O)[C@H]3CC[C@H](CNC(=...          NaN   \n",
       "3740593  CC1=C(C2=CC=C(C[C@H](NC(=O)[C@H]3CC[C@H](CNC(=...          NaN   \n",
       "3740594  CC1=C(C2=CC=C(C[C@H](NC(=O)[C@H]3CC[C@H](CNC(=...          NaN   \n",
       "3740595  [OH-].[Li+].O=C(O)C(F)(F)F.COC(=O)C(F)(F)C(F)(...          NaN   \n",
       "\n",
       "         ReactantSize  ProductSize  \n",
       "0                  22            9  \n",
       "1                  22            9  \n",
       "2                  24           11  \n",
       "3                  22            9  \n",
       "4                  22            9  \n",
       "...               ...          ...  \n",
       "3740591            65           50  \n",
       "3740592            62           47  \n",
       "3740593            76           60  \n",
       "3740594            58           45  \n",
       "3740595            81           59  \n",
       "\n",
       "[3740596 rows x 7 columns]"
      ]
     },
     "execution_count": 14,
     "metadata": {},
     "output_type": "execute_result"
    }
   ],
   "source": [
    "cleaned_USPTO"
   ]
  }
 ],
 "metadata": {
  "kernelspec": {
   "display_name": "Python 3 (ipykernel)",
   "language": "python",
   "name": "python3"
  },
  "language_info": {
   "codemirror_mode": {
    "name": "ipython",
    "version": 3
   },
   "file_extension": ".py",
   "mimetype": "text/x-python",
   "name": "python",
   "nbconvert_exporter": "python",
   "pygments_lexer": "ipython3",
   "version": "3.7.4"
  },
  "toc": {
   "base_numbering": 1,
   "nav_menu": {},
   "number_sections": true,
   "sideBar": true,
   "skip_h1_title": false,
   "title_cell": "Table of Contents",
   "title_sidebar": "Contents",
   "toc_cell": true,
   "toc_position": {
    "height": "calc(100% - 180px)",
    "left": "10px",
    "top": "150px",
    "width": "165px"
   },
   "toc_section_display": true,
   "toc_window_display": true
  },
  "varInspector": {
   "cols": {
    "lenName": 16,
    "lenType": 16,
    "lenVar": 40
   },
   "kernels_config": {
    "python": {
     "delete_cmd_postfix": "",
     "delete_cmd_prefix": "del ",
     "library": "var_list.py",
     "varRefreshCmd": "print(var_dic_list())"
    },
    "r": {
     "delete_cmd_postfix": ") ",
     "delete_cmd_prefix": "rm(",
     "library": "var_list.r",
     "varRefreshCmd": "cat(var_dic_list()) "
    }
   },
   "types_to_exclude": [
    "module",
    "function",
    "builtin_function_or_method",
    "instance",
    "_Feature"
   ],
   "window_display": false
  },
  "vscode": {
   "interpreter": {
    "hash": "8a8c66dd8df8d8e9fce8cd6f94944dc962461cf40f8c855feba90b69189199c9"
   }
  }
 },
 "nbformat": 4,
 "nbformat_minor": 2
}
