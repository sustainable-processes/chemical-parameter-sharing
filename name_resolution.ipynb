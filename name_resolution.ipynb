{
 "cells": [
  {
   "cell_type": "markdown",
   "metadata": {},
   "source": [
    "# Name Resolution"
   ]
  },
  {
   "cell_type": "code",
   "execution_count": null,
   "metadata": {},
   "outputs": [],
   "source": [
    "def merge_pickles():\n",
    "    #create one big list of all the pickled names\n",
    "    folder_path = 'data/USPTO/n'\n",
    "    onlyfiles = [f for f in listdir(folder_path) if isfile(join(folder_path, f))]\n",
    "    full_df = pd.DataFrame()\n",
    "    for file in tqdm(onlyfiles):\n",
    "        if file[0] != '.': #We don't want to try to unpickle .DS_Store\n",
    "            filepath = folder_path+file \n",
    "            unpickled_df = pd.read_pickle(filepath)\n",
    "            full_df = pd.concat([full_df, unpickled_df], ignore_index=True)\n",
    "            \n",
    "    return full_df"
   ]
  },
  {
   "cell_type": "markdown",
   "metadata": {},
   "source": []
  }
 ],
 "metadata": {
  "kernelspec": {
   "display_name": "chemistry",
   "language": "python",
   "name": "python3"
  },
  "language_info": {
   "name": "python",
   "version": "3.10.8"
  },
  "orig_nbformat": 4,
  "vscode": {
   "interpreter": {
    "hash": "c1a6c9805cce96d1e29a306d4faa1abec69cf2c9ee1771799b926a7cc969fbbc"
   }
  }
 },
 "nbformat": 4,
 "nbformat_minor": 2
}
