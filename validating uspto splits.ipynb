{
 "cells": [
  {
   "cell_type": "markdown",
   "id": "ebdb2af2",
   "metadata": {
    "toc": true
   },
   "source": [
    "<h1>Table of Contents<span class=\"tocSkip\"></span></h1>\n",
    "<div class=\"toc\"><ul class=\"toc-item\"></ul></div>"
   ]
  },
  {
   "cell_type": "code",
   "execution_count": 5,
   "id": "cbe24aea",
   "metadata": {
    "ExecuteTime": {
     "end_time": "2022-07-07T20:37:49.391080Z",
     "start_time": "2022-07-07T20:37:49.387531Z"
    }
   },
   "outputs": [],
   "source": [
    "import pickle#,gzip"
   ]
  },
  {
   "cell_type": "code",
   "execution_count": 7,
   "id": "985d67eb",
   "metadata": {
    "ExecuteTime": {
     "end_time": "2022-07-07T20:38:35.901515Z",
     "start_time": "2022-07-07T20:38:35.886127Z"
    }
   },
   "outputs": [
    {
     "ename": "TypeError",
     "evalue": "file must have 'read' and 'readline' attributes",
     "output_type": "error",
     "traceback": [
      "\u001b[0;31m---------------------------------------------------------------------------\u001b[0m",
      "\u001b[0;31mTypeError\u001b[0m                                 Traceback (most recent call last)",
      "Input \u001b[0;32mIn [7]\u001b[0m, in \u001b[0;36m<cell line: 2>\u001b[0;34m()\u001b[0m\n\u001b[1;32m      1\u001b[0m dataDir \u001b[38;5;241m=\u001b[39m \u001b[38;5;124m\"\u001b[39m\u001b[38;5;124m../data/\u001b[39m\u001b[38;5;124m\"\u001b[39m\n\u001b[0;32m----> 2\u001b[0m reaction_types \u001b[38;5;241m=\u001b[39m \u001b[43mpickle\u001b[49m\u001b[38;5;241;43m.\u001b[39;49m\u001b[43mload\u001b[49m\u001b[43m(\u001b[49m\u001b[43m(\u001b[49m\u001b[43mdataDir\u001b[49m\u001b[38;5;241;43m+\u001b[39;49m\u001b[38;5;124;43m\"\u001b[39;49m\u001b[38;5;124;43mreactionTypes_training_test_set_patent_data.pkl\u001b[39;49m\u001b[38;5;124;43m\"\u001b[39;49m\u001b[43m)\u001b[49m\u001b[43m)\u001b[49m\n\u001b[1;32m      3\u001b[0m names_rTypes \u001b[38;5;241m=\u001b[39m pickle\u001b[38;5;241m.\u001b[39mload((dataDir\u001b[38;5;241m+\u001b[39m\u001b[38;5;124m\"\u001b[39m\u001b[38;5;124mnames_rTypes_classes_superclasses_training_test_set_patent_data.pkl\u001b[39m\u001b[38;5;124m\"\u001b[39m))\n",
      "\u001b[0;31mTypeError\u001b[0m: file must have 'read' and 'readline' attributes"
     ]
    }
   ],
   "source": [
    "dataDir = \"../data/\"\n",
    "reaction_types = pickle.load((dataDir+\"reactionTypes_training_test_set_patent_data.pkl\"))\n",
    "names_rTypes = pickle.load((dataDir+\"names_rTypes_classes_superclasses_training_test_set_patent_data.pkl\"))"
   ]
  },
  {
   "cell_type": "code",
   "execution_count": 18,
   "id": "9a6ef04b",
   "metadata": {
    "ExecuteTime": {
     "end_time": "2022-07-07T20:50:00.573137Z",
     "start_time": "2022-07-07T20:50:00.569994Z"
    }
   },
   "outputs": [],
   "source": [
    "file_path = \"schneider_fp/data/reactionTypes_training_test_set_patent_data.pkl\"\n",
    "\n",
    "with open(file_path, 'rb') as f:\n",
    "    obj = pickle.load(f)"
   ]
  },
  {
   "cell_type": "code",
   "execution_count": 15,
   "id": "23d29008",
   "metadata": {
    "ExecuteTime": {
     "end_time": "2022-07-07T20:48:28.913778Z",
     "start_time": "2022-07-07T20:48:28.899361Z"
    }
   },
   "outputs": [
    {
     "data": {
      "text/plain": [
       "{'1.2.1',\n",
       " '1.2.4',\n",
       " '1.2.5',\n",
       " '1.3.6',\n",
       " '1.3.7',\n",
       " '1.3.8',\n",
       " '1.6.2',\n",
       " '1.6.4',\n",
       " '1.6.8',\n",
       " '1.7.4',\n",
       " '1.7.6',\n",
       " '1.7.7',\n",
       " '1.7.9',\n",
       " '1.8.5',\n",
       " '10.1.1',\n",
       " '10.1.2',\n",
       " '10.1.5',\n",
       " '10.2.1',\n",
       " '10.4.2',\n",
       " '2.1.1',\n",
       " '2.1.2',\n",
       " '2.1.7',\n",
       " '2.2.3',\n",
       " '2.3.1',\n",
       " '2.6.1',\n",
       " '2.6.3',\n",
       " '2.7.2',\n",
       " '3.1.1',\n",
       " '3.1.5',\n",
       " '3.1.6',\n",
       " '3.3.1',\n",
       " '3.4.1',\n",
       " '5.1.1',\n",
       " '6.1.1',\n",
       " '6.1.3',\n",
       " '6.1.5',\n",
       " '6.2.1',\n",
       " '6.2.2',\n",
       " '6.2.3',\n",
       " '6.3.1',\n",
       " '6.3.7',\n",
       " '7.1.1',\n",
       " '7.2.1',\n",
       " '7.3.1',\n",
       " '7.9.2',\n",
       " '8.1.4',\n",
       " '8.1.5',\n",
       " '8.2.1',\n",
       " '9.1.6',\n",
       " '9.3.1'}"
      ]
     },
     "execution_count": 15,
     "metadata": {},
     "output_type": "execute_result"
    }
   ],
   "source": [
    "obj"
   ]
  },
  {
   "cell_type": "code",
   "execution_count": null,
   "id": "463bf536",
   "metadata": {},
   "outputs": [],
   "source": []
  }
 ],
 "metadata": {
  "kernelspec": {
   "display_name": "chem_param_sharing",
   "language": "python",
   "name": "chem_param_sharing"
  },
  "language_info": {
   "codemirror_mode": {
    "name": "ipython",
    "version": 3
   },
   "file_extension": ".py",
   "mimetype": "text/x-python",
   "name": "python",
   "nbconvert_exporter": "python",
   "pygments_lexer": "ipython3",
   "version": "3.10.5"
  },
  "toc": {
   "base_numbering": 1,
   "nav_menu": {},
   "number_sections": true,
   "sideBar": true,
   "skip_h1_title": false,
   "title_cell": "Table of Contents",
   "title_sidebar": "Contents",
   "toc_cell": true,
   "toc_position": {},
   "toc_section_display": true,
   "toc_window_display": true
  },
  "varInspector": {
   "cols": {
    "lenName": 16,
    "lenType": 16,
    "lenVar": 40
   },
   "kernels_config": {
    "python": {
     "delete_cmd_postfix": "",
     "delete_cmd_prefix": "del ",
     "library": "var_list.py",
     "varRefreshCmd": "print(var_dic_list())"
    },
    "r": {
     "delete_cmd_postfix": ") ",
     "delete_cmd_prefix": "rm(",
     "library": "var_list.r",
     "varRefreshCmd": "cat(var_dic_list()) "
    }
   },
   "types_to_exclude": [
    "module",
    "function",
    "builtin_function_or_method",
    "instance",
    "_Feature"
   ],
   "window_display": false
  }
 },
 "nbformat": 4,
 "nbformat_minor": 5
}
