{
 "cells": [
  {
   "cell_type": "markdown",
   "metadata": {},
   "source": [
    "# Generate results table"
   ]
  },
  {
   "cell_type": "markdown",
   "metadata": {},
   "source": [
    "## Super class split, gao model"
   ]
  },
  {
   "cell_type": "code",
   "execution_count": null,
   "metadata": {
    "vscode": {
     "languageId": "plaintext"
    }
   },
   "outputs": [],
   "source": [
    "# super class c-c\n",
    "       epoch/time_per_step 0.02734\n",
    "wandb:                 epoch/training_throughput 18728.15601\n",
    "wandb:                            epoch/val_loss 12.88653\n",
    "wandb:                        epoch/val_mol1_acc 0.33696\n",
    "wandb:                       epoch/val_mol1_loss 2.95378\n",
    "wandb:                       epoch/val_mol1_top3 0.59264\n",
    "wandb:                       epoch/val_mol1_top5 0.7178\n",
    "wandb:                        epoch/val_mol2_acc 0.47445\n",
    "wandb:                       epoch/val_mol2_loss 2.16868\n",
    "wandb:                       epoch/val_mol2_top3 0.70842\n",
    "wandb:                       epoch/val_mol2_top5 0.81954\n",
    "wandb:                        epoch/val_mol3_acc 0.33771\n",
    "wandb:                       epoch/val_mol3_loss 3.42702\n",
    "wandb:                       epoch/val_mol3_top3 0.59837\n",
    "wandb:                       epoch/val_mol3_top5 0.70646\n",
    "wandb:                        epoch/val_mol4_acc 0.38303\n",
    "wandb:                       epoch/val_mol4_loss 2.93002\n",
    "wandb:                       epoch/val_mol4_top3 0.65406\n",
    "wandb:                       epoch/val_mol4_top5 0.76928\n",
    "wandb:                        epoch/val_mol5_acc 0.75338\n",
    "wandb:                       epoch/val_mol5_loss 1.40703\n",
    "wandb:                       epoch/val_mol5_top3 0.85342\n",
    "wandb:                       epoch/val_mol5_top5 0.9122\n",
    "wandb:   frequency_informed_agent_accuracy_top_1 0.08994\n",
    "wandb:   frequency_informed_agent_accuracy_top_3 0.20701\n",
    "wandb: frequency_informed_overall_accuracy_top_1 0.01809\n",
    "wandb: frequency_informed_overall_accuracy_top_3 0.04406\n",
    "wandb: frequency_informed_solvent_accuracy_top_1 0.08589\n",
    "wandb: frequency_informed_solvent_accuracy_top_3 0.22972\n",
    "wandb:                                      loss 9.44101\n",
    "wandb:                                  mol1_acc 0.35059\n",
    "wandb:                                 mol1_loss 2.24691\n",
    "wandb:                                 mol1_top3 0.63533\n",
    "wandb:                                 mol1_top5 0.76269\n",
    "wandb:                                  mol2_acc 0.56441\n",
    "wandb:                                 mol2_loss 1.69135\n",
    "wandb:                                 mol2_top3 0.77284\n",
    "wandb:                                 mol2_top5 0.8599\n",
    "wandb:                                  mol3_acc 0.36212\n",
    "wandb:                                 mol3_loss 2.39015\n",
    "wandb:                                 mol3_top3 0.6326\n",
    "wandb:                                 mol3_top5 0.74832\n",
    "wandb:                                  mol4_acc 0.42445\n",
    "wandb:                                 mol4_loss 2.08651\n",
    "wandb:                                 mol4_top3 0.69539\n",
    "wandb:                                 mol4_top5 0.80757\n",
    "wandb:                                  mol5_acc 0.78742\n",
    "wandb:                                 mol5_loss 1.02609\n",
    "wandb:                                 mol5_top3 0.8754\n",
    "wandb:                                 mol5_top5 0.9289\n",
    "wandb:                           trust_labelling False"
   ]
  },
  {
   "cell_type": "code",
   "execution_count": null,
   "metadata": {
    "vscode": {
     "languageId": "plaintext"
    }
   },
   "outputs": [],
   "source": [
    "# super class fgi"
   ]
  },
  {
   "cell_type": "code",
   "execution_count": null,
   "metadata": {
    "vscode": {
     "languageId": "plaintext"
    }
   },
   "outputs": [],
   "source": [
    "# super class reductions"
   ]
  },
  {
   "cell_type": "code",
   "execution_count": null,
   "metadata": {
    "vscode": {
     "languageId": "plaintext"
    }
   },
   "outputs": [],
   "source": [
    "# mid split, gao model\n"
   ]
  },
  {
   "cell_type": "code",
   "execution_count": null,
   "metadata": {
    "vscode": {
     "languageId": "plaintext"
    }
   },
   "outputs": [],
   "source": [
    "# Kobi code\n",
    "DATASETS = [\"with_trust_with_map\",\"with_trust_no_map\",\"no_trust_with_map\", \"no_trust_no_map\"]\n",
    "lines = [\"Solvents\", \"Agents\", \"Solvents \\& Agents\"]\n",
    "top_n = 3\n",
    "for dataset in DATASETS:\n",
    "    filters = {\n",
    "        \"state\": \"finished\",\n",
    "        \"config.output_folder_path\": f\"models/{dataset}\",\n",
    "        \"config.random_seed\": 54321,\n",
    "        \"config.train_fraction\": 1.0,\n",
    "        \"config.train_mode\": 0, # Teacher forcing\n",
    "        \"config.dataset_version\": {\"$in\": [\"v4\", \"v5\"]}\n",
    "    }\n",
    "    runs = api.runs(\n",
    "        f\"{wandb_entity}/{wandb_project}\",\n",
    "        filters=filters\n",
    "    )\n",
    "    run = runs[0]\n",
    "    if len(runs)>0:\n",
    "        for r in runs:\n",
    "            if run.config[\"dataset_version\"] == \"v5\":\n",
    "                run = r\n",
    "                break\n",
    "\n",
    "    # Get model solvent, agent and overall accuracy\n",
    "    test_best = run.summary[\"test_best\"]\n",
    "    solvent_accuracy = test_best[f\"solvent_accuracy_top{top_n}\"]\n",
    "    agent_accuracy = test_best[f\"three_agents_accuracy_top{top_n}\"]\n",
    "    overall_accuracy = test_best[f\"overall_accuracy_top{top_n}\"]\n",
    "\n",
    "    # Get frequency informed solvent, agent and overall accuracy\n",
    "    fi_solvent_accuracy = run.summary[f\"frequency_informed_solvent_accuracy_top_{top_n}\"]\n",
    "    fi_agent_accuracy = run.summary[f\"frequency_informed_agent_accuracy_top_{top_n}\"]\n",
    "    fi_overall_accuracy = run.summary[f\"frequency_informed_overall_accuracy_top_{top_n}\"]\n",
    "\n",
    "    # Improvement\n",
    "    solvent_improvement = (solvent_accuracy-fi_solvent_accuracy)/(1-fi_solvent_accuracy)\n",
    "    solvent_improvement_color = \"lessgreen\" if solvent_improvement>0 else \"red\"\n",
    "    agent_improvement = (agent_accuracy-fi_agent_accuracy)/(1-fi_agent_accuracy)\n",
    "    agent_improvement_color = \"lessgreen\" if agent_improvement>0 else \"red\"\n",
    "    overall_improvement = (overall_accuracy-fi_overall_accuracy)/(1-fi_overall_accuracy)\n",
    "    overall_improvement_color = \"lessgreen\" if overall_improvement>0 else \"red\"\n",
    "\n",
    "    # Create table lines\n",
    "    lines[0] += f\" & {fi_solvent_accuracy*100:.0f} // {solvent_accuracy*100:.0f} // \\\\textcolor{{{solvent_improvement_color}}}{{{solvent_improvement*100:.0f}\\%}} \"\n",
    "    lines[1] += f\" & {fi_agent_accuracy*100:.0f} // {agent_accuracy*100:.0f} // \\\\textcolor{{{agent_improvement_color}}}{{{agent_improvement*100:.0f}\\%}} \"\n",
    "    lines[2] += f\" & {fi_overall_accuracy*100:.0f} // {overall_accuracy*100:.0f} // \\\\textcolor{{{overall_improvement_color}}}{{{overall_improvement*100:.0f}\\%}} \"\n",
    "print(\"\\\\\\\\ \\n\".join(lines) + \"\\\\\\\\\")"
   ]
  }
 ],
 "metadata": {
  "language_info": {
   "name": "python"
  },
  "orig_nbformat": 4
 },
 "nbformat": 4,
 "nbformat_minor": 2
}
