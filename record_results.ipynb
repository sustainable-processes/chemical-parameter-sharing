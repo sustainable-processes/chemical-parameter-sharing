{
 "cells": [
  {
   "cell_type": "markdown",
   "metadata": {},
   "source": [
    "# Generate results table"
   ]
  },
  {
   "cell_type": "code",
   "execution_count": 1,
   "metadata": {},
   "outputs": [],
   "source": [
    "import json"
   ]
  },
  {
   "cell_type": "code",
   "execution_count": 2,
   "metadata": {},
   "outputs": [],
   "source": [
    "def gen_results_table(freq_path, test_path, top_n=3):\n",
    "    \"\"\"\n",
    "    Generate results table for the paper\n",
    "    freq_path, test_path (str): path to frequency informed and test results, e.g. results/freq_informed_acc-c-c.json\n",
    "    top_n (int): top n accuracy\n",
    "    \"\"\"\n",
    "    lines = [\"Solvents\", \"Agents\", \"Solvents \\& Agents\"]\n",
    "    test_acc = json.load(open(test_path))['test_best']\n",
    "    freq_acc = json.load(open(freq_path))\n",
    "    \n",
    "    solvent_accuracy = test_acc[f\"solvent_accuracy_top{top_n}\"]\n",
    "    agent_accuracy = test_acc[f\"three_agents_accuracy_top{top_n}\"]\n",
    "    overall_accuracy = test_acc[f\"overall_accuracy_top{top_n}\"]\n",
    "\n",
    "    # Get frequency informed solvent, agent and overall accuracy\n",
    "    fi_solvent_accuracy = freq_acc[f\"frequency_informed_solvent_accuracy_top_{top_n}\"]\n",
    "    fi_agent_accuracy = freq_acc[f\"frequency_informed_agent_accuracy_top_{top_n}\"]\n",
    "    fi_overall_accuracy = freq_acc[f\"frequency_informed_overall_accuracy_top_{top_n}\"]\n",
    "\n",
    "    # Improvement\n",
    "    solvent_improvement = (solvent_accuracy-fi_solvent_accuracy)/(1-fi_solvent_accuracy)\n",
    "    solvent_improvement_color = \"lessgreen\" if solvent_improvement>0 else \"red\"\n",
    "    agent_improvement = (agent_accuracy-fi_agent_accuracy)/(1-fi_agent_accuracy)\n",
    "    agent_improvement_color = \"lessgreen\" if agent_improvement>0 else \"red\"\n",
    "    overall_improvement = (overall_accuracy-fi_overall_accuracy)/(1-fi_overall_accuracy)\n",
    "    overall_improvement_color = \"lessgreen\" if overall_improvement>0 else \"red\"\n",
    "\n",
    "    # Create table lines\n",
    "    lines[0] += f\" & {fi_solvent_accuracy*100:.0f} // {solvent_accuracy*100:.0f} // \\\\textcolor{{{solvent_improvement_color}}}{{{solvent_improvement*100:.0f}\\%}} \"\n",
    "    lines[1] += f\" & {fi_agent_accuracy*100:.0f} // {agent_accuracy*100:.0f} // \\\\textcolor{{{agent_improvement_color}}}{{{agent_improvement*100:.0f}\\%}} \"\n",
    "    lines[2] += f\" & {fi_overall_accuracy*100:.0f} // {overall_accuracy*100:.0f} // \\\\textcolor{{{overall_improvement_color}}}{{{overall_improvement*100:.0f}\\%}} \"\n",
    "    print(\"\\\\\\\\ \\n\".join(lines) + \"\\\\\\\\\")"
   ]
  },
  {
   "cell_type": "code",
   "execution_count": 3,
   "metadata": {},
   "outputs": [
    {
     "name": "stdout",
     "output_type": "stream",
     "text": [
      "Solvents & 23 // 40 // \\textcolor{lessgreen}{22\\%} \\\\ \n",
      "Agents & 21 // 38 // \\textcolor{lessgreen}{22\\%} \\\\ \n",
      "Solvents \\& Agents & 4 // 18 // \\textcolor{lessgreen}{14\\%} \\\\\n"
     ]
    }
   ],
   "source": [
    "# super class c-c\n",
    "freq_path = \"results/freq_informed_acc-c-c.json\"\n",
    "test_path = \"results/test_metrics-c-c.json\"\n",
    "gen_results_table(freq_path, test_path)\n"
   ]
  },
  {
   "cell_type": "code",
   "execution_count": 4,
   "metadata": {},
   "outputs": [
    {
     "name": "stdout",
     "output_type": "stream",
     "text": [
      "Solvents & 23 // 30 // \\textcolor{lessgreen}{9\\%} \\\\ \n",
      "Agents & 21 // 27 // \\textcolor{lessgreen}{7\\%} \\\\ \n",
      "Solvents \\& Agents & 4 // 10 // \\textcolor{lessgreen}{6\\%} \\\\\n"
     ]
    }
   ],
   "source": [
    "# super class fgi\n",
    "freq_path = \"results/freq_informed_acc-fgi.json\"\n",
    "test_path = \"results/test_metrics-fgi.json\"\n",
    "gen_results_table(freq_path, test_path)\n"
   ]
  },
  {
   "cell_type": "code",
   "execution_count": 5,
   "metadata": {},
   "outputs": [
    {
     "name": "stdout",
     "output_type": "stream",
     "text": [
      "Solvents & 23 // 29 // \\textcolor{lessgreen}{7\\%} \\\\ \n",
      "Agents & 21 // 28 // \\textcolor{lessgreen}{9\\%} \\\\ \n",
      "Solvents \\& Agents & 4 // 10 // \\textcolor{lessgreen}{6\\%} \\\\\n"
     ]
    }
   ],
   "source": [
    "# super class reductions\n",
    "freq_path = \"results/freq_informed_acc-reductions.json\"\n",
    "test_path = \"results/test_metrics-reductions.json\"\n",
    "gen_results_table(freq_path, test_path)\n"
   ]
  },
  {
   "cell_type": "code",
   "execution_count": 8,
   "metadata": {},
   "outputs": [
    {
     "name": "stdout",
     "output_type": "stream",
     "text": [
      "Solvents & 24 // 41 // \\textcolor{lessgreen}{23\\%} \\\\ \n",
      "Agents & 21 // 39 // \\textcolor{lessgreen}{24\\%} \\\\ \n",
      "Solvents \\& Agents & 4 // 20 // \\textcolor{lessgreen}{16\\%} \\\\\n"
     ]
    }
   ],
   "source": [
    "# mid split, gao model\n",
    "freq_path = \"results/freq_informed_acc-mid-class.json\"\n",
    "test_path = \"results/test_metrics-mid-class.json\"\n",
    "gen_results_table(freq_path, test_path)"
   ]
  },
  {
   "cell_type": "code",
   "execution_count": null,
   "metadata": {},
   "outputs": [],
   "source": []
  }
 ],
 "metadata": {
  "kernelspec": {
   "display_name": "param_sharing",
   "language": "python",
   "name": "python3"
  },
  "language_info": {
   "codemirror_mode": {
    "name": "ipython",
    "version": 3
   },
   "file_extension": ".py",
   "mimetype": "text/x-python",
   "name": "python",
   "nbconvert_exporter": "python",
   "pygments_lexer": "ipython3",
   "version": "3.9.17"
  },
  "orig_nbformat": 4
 },
 "nbformat": 4,
 "nbformat_minor": 2
}
