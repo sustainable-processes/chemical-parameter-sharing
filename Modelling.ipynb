{
 "cells": [
  {
   "cell_type": "markdown",
   "id": "cfa032f6",
   "metadata": {},
   "source": [
    "# Preprocessing of USPTO (Reaxys formatted)"
   ]
  },
  {
   "cell_type": "code",
   "execution_count": 1,
   "id": "5580e9cc",
   "metadata": {},
   "outputs": [],
   "source": [
    "import pandas as pd\n",
    "from rdkit import Chem\n",
    "from rdkit import DataStructs\n",
    "from rdkit.Chem import AllChem\n",
    "import numpy as np\n",
    "from tqdm import tqdm\n",
    "from tqdm import trange\n",
    "# import pyarrow as pa"
   ]
  },
  {
   "cell_type": "code",
   "execution_count": 2,
   "id": "cc5da17b",
   "metadata": {},
   "outputs": [],
   "source": [
    "\"\"\"\n",
    "Disables RDKit whiny logging.\n",
    "\"\"\"\n",
    "import rdkit.rdBase as rkrb\n",
    "import rdkit.RDLogger as rkl\n",
    "logger = rkl.logger()\n",
    "logger.setLevel(rkl.ERROR)\n",
    "rkrb.DisableLog('rdApp.error')\n"
   ]
  },
  {
   "cell_type": "code",
   "execution_count": 3,
   "id": "5df7bb69",
   "metadata": {},
   "outputs": [
    {
     "data": {
      "text/plain": [
       "Index(['Unnamed: 0', 'level_0', 'index', 'original_rxn', 'fragments', 'source',\n",
       "       'year', 'mapped_rxn', 'confidence', 'canonical_rxn_with_fragment_info',\n",
       "       'canonical_rxn', 'ID', 'reaction_hash', 'reactants', 'products',\n",
       "       'retro_template', 'template_hash', 'selectivity', 'outcomes',\n",
       "       'reagents', 'labels'],\n",
       "      dtype='object')"
      ]
     },
     "execution_count": 3,
     "metadata": {},
     "output_type": "execute_result"
    }
   ],
   "source": [
    "USPTO_elsevier = pd.read_csv('data/USPTO_from_reaxys/uspto_1k_TPL_train_valid.tsv', sep='\\t')\n",
    "USPTO_elsevier.columns"
   ]
  },
  {
   "cell_type": "code",
   "execution_count": 4,
   "id": "27413372",
   "metadata": {},
   "outputs": [],
   "source": [
    "# USPTO_elsevier = USPTO_elsevier.iloc[:200000]"
   ]
  },
  {
   "cell_type": "code",
   "execution_count": 5,
   "id": "59bdfa4e",
   "metadata": {},
   "outputs": [],
   "source": [
    "# create lists for reactants and other stuff\n",
    "reactant1_list = []\n",
    "reactant2_list = []\n",
    "\n",
    "product_list = [] #there's only ever 1 product\n",
    "\n",
    "reagent1_list = []\n",
    "reagent2_list = []\n",
    "\n",
    "other_list = []\n",
    "\n",
    "for i in range(len(USPTO_elsevier)):\n",
    "    #handle reactants first\n",
    "    reactant1 = None\n",
    "    reactant2 = None\n",
    "    other = []\n",
    "    reactants = USPTO_elsevier['reactants'][i].split('.')\n",
    "    for molecule in reactants:\n",
    "        if '[' in molecule: #its a reactant\n",
    "            if not reactant1:\n",
    "                reactant1 = molecule\n",
    "            elif not reactant2:\n",
    "                reactant2 = molecule\n",
    "            else:\n",
    "                other +=[molecule]\n",
    "        else:\n",
    "            other +=[molecule]\n",
    "\n",
    "    #then reagents\n",
    "    reagent1 = None\n",
    "    reagent2 = None\n",
    "    reagents = USPTO_elsevier['reagents'][i]\n",
    "    if reagents == reagents:\n",
    "        reagents = reagents.split('.')\n",
    "        for molecule in reagents:\n",
    "            #populate the first two variables with reagents, add everything else to 'other'\n",
    "            if 'Pd' in molecule:\n",
    "                other += [molecule]\n",
    "            else: \n",
    "                if not reagent1:\n",
    "                    reagent1 = molecule\n",
    "                elif not reagent2:\n",
    "                    reagent2 = molecule\n",
    "                else:\n",
    "                    other +=[molecule]\n",
    "\n",
    "    reactant1_list += [reactant1]\n",
    "    reactant2_list += [reactant2]\n",
    "    product_list += [USPTO_elsevier['products'][i]]\n",
    "    reagent1_list += [reagent1]\n",
    "    reagent2_list += [reagent2]\n",
    "    other_list += [other]\n",
    "del USPTO_elsevier"
   ]
  },
  {
   "cell_type": "markdown",
   "id": "88e7c544",
   "metadata": {},
   "source": [
    "# Read in USPTO data from ORD format (pickled data)"
   ]
  },
  {
   "cell_type": "code",
   "execution_count": 6,
   "id": "add31e01",
   "metadata": {},
   "outputs": [],
   "source": [
    "from os import listdir\n",
    "from os.path import isfile, join\n",
    "import pandas as pd\n",
    "from tqdm import tqdm"
   ]
  },
  {
   "cell_type": "code",
   "execution_count": 7,
   "id": "473782c8",
   "metadata": {},
   "outputs": [],
   "source": [
    "# mypath = 'data/ORD_USPTO/pickled_data/'\n",
    "# onlyfiles = [f for f in listdir(mypath) if isfile(join(mypath, f))]"
   ]
  },
  {
   "cell_type": "code",
   "execution_count": 8,
   "id": "679fadb1",
   "metadata": {},
   "outputs": [],
   "source": [
    "# #create one big df of all the pickled data\n",
    "# full_df = pd.DataFrame()\n",
    "# for file in tqdm(onlyfiles):\n",
    "#     if file[0] != '.': #We don't want to try to unpickle .DS_Store\n",
    "#         filepath = mypath+file \n",
    "#         unpickled_df = pd.read_pickle(filepath)\n",
    "#         full_df = pd.concat([full_df, unpickled_df], ignore_index=True)\n"
   ]
  },
  {
   "cell_type": "code",
   "execution_count": 9,
   "id": "9dca6cc0",
   "metadata": {},
   "outputs": [],
   "source": [
    "# full_df"
   ]
  },
  {
   "cell_type": "markdown",
   "id": "d9a391a6",
   "metadata": {},
   "source": [
    "# Calculate FP"
   ]
  },
  {
   "cell_type": "code",
   "execution_count": 10,
   "id": "079f88ca",
   "metadata": {},
   "outputs": [],
   "source": [
    "def calc_fp(lst, radius, nBits):\n",
    "    ans = []\n",
    "    for i in tqdm(lst):\n",
    "        #convert to mole object\n",
    "        try:\n",
    "            mol = Chem.MolFromSmiles(i)\n",
    "            fp = AllChem.GetHashedMorganFingerprint(mol, radius, nBits=nBits)\n",
    "            array = np.zeros((0,), dtype=np.int8)\n",
    "            DataStructs.ConvertToNumpyArray(fp, array)\n",
    "            ans += [array]\n",
    "        except:\n",
    "            ans += [np.zeros((nBits,), dtype=int)]\n",
    "    return ans"
   ]
  },
  {
   "cell_type": "code",
   "execution_count": 11,
   "id": "3e8b632a",
   "metadata": {},
   "outputs": [],
   "source": [
    "# calculate fingerprints\n",
    "radius = 3\n",
    "nBits = 1024"
   ]
  },
  {
   "cell_type": "code",
   "execution_count": 12,
   "id": "a576e262",
   "metadata": {},
   "outputs": [
    {
     "name": "stderr",
     "output_type": "stream",
     "text": [
      "100%|██████████| 400604/400604 [01:27<00:00, 4553.06it/s]\n"
     ]
    }
   ],
   "source": [
    "reactant1_list_fp = calc_fp(reactant1_list, radius, nBits)"
   ]
  },
  {
   "cell_type": "code",
   "execution_count": 13,
   "id": "031a7059",
   "metadata": {},
   "outputs": [],
   "source": [
    "from collections import Counter\n",
    "counter_obj = Counter(reactant1_list)"
   ]
  },
  {
   "cell_type": "code",
   "execution_count": 14,
   "id": "81b9652a",
   "metadata": {},
   "outputs": [],
   "source": [
    "allowed_reactants = {k:v for k,v in counter_obj.items() if v > 10}\n",
    "allowed_reactants = list(allowed_reactants.keys())"
   ]
  },
  {
   "cell_type": "code",
   "execution_count": 15,
   "id": "df430c50",
   "metadata": {},
   "outputs": [],
   "source": [
    "allowed_idxes = [idx for idx, i in enumerate(reactant1_list) if i in allowed_reactants]\n",
    "# takes roughly 3 mins 30"
   ]
  },
  {
   "cell_type": "code",
   "execution_count": 16,
   "id": "64f76acd",
   "metadata": {},
   "outputs": [
    {
     "name": "stderr",
     "output_type": "stream",
     "text": [
      "100%|██████████| 400604/400604 [00:58<00:00, 6830.68it/s]\n"
     ]
    }
   ],
   "source": [
    "reactant2_list_fp = calc_fp(reactant2_list, radius, nBits)"
   ]
  },
  {
   "cell_type": "code",
   "execution_count": 17,
   "id": "66215cf5",
   "metadata": {},
   "outputs": [
    {
     "name": "stderr",
     "output_type": "stream",
     "text": [
      "100%|██████████| 400604/400604 [02:09<00:00, 3094.09it/s]\n"
     ]
    }
   ],
   "source": [
    "product_list_fp = calc_fp(product_list, radius, nBits)"
   ]
  },
  {
   "cell_type": "code",
   "execution_count": 18,
   "id": "12a8bd75",
   "metadata": {},
   "outputs": [
    {
     "name": "stderr",
     "output_type": "stream",
     "text": [
      "100%|██████████| 400604/400604 [00:36<00:00, 10918.28it/s]\n"
     ]
    }
   ],
   "source": [
    "#don't actually need to create a fp of the reagent\n",
    "reagent1_list_fp = calc_fp(reagent1_list, radius, nBits)"
   ]
  },
  {
   "cell_type": "code",
   "execution_count": 19,
   "id": "669edf17",
   "metadata": {},
   "outputs": [
    {
     "name": "stderr",
     "output_type": "stream",
     "text": [
      "100%|██████████| 400604/400604 [00:30<00:00, 13144.89it/s]\n"
     ]
    }
   ],
   "source": [
    "#don't actually need to create a fp of the reagent\n",
    "reagent2_list_fp = calc_fp(reagent2_list, radius, nBits)"
   ]
  },
  {
   "cell_type": "code",
   "execution_count": 20,
   "id": "80916524",
   "metadata": {},
   "outputs": [],
   "source": [
    "# convert to arrays\n",
    "p = np.array(product_list_fp)[allowed_idxes]\n",
    "r1 = np.array(reactant1_list_fp)[allowed_idxes]\n",
    "r2 = np.array(reactant2_list_fp)[allowed_idxes]\n",
    "rea1 = np.array(reagent1_list_fp)[allowed_idxes]\n",
    "rea2 = np.array(reagent2_list_fp)[allowed_idxes]\n",
    "del product_list_fp, reactant1_list_fp, reactant2_list_fp, reagent1_list_fp, reagent2_list_fp"
   ]
  },
  {
   "cell_type": "code",
   "execution_count": 21,
   "id": "3c841cb8",
   "metadata": {},
   "outputs": [],
   "source": [
    "# calculate rxn difference fp\n",
    "rxn_diff_fp = p - r1 - r2"
   ]
  },
  {
   "cell_type": "code",
   "execution_count": 22,
   "id": "09732632",
   "metadata": {},
   "outputs": [
    {
     "data": {
      "text/plain": [
       "(132735, 1024)"
      ]
     },
     "execution_count": 22,
     "metadata": {},
     "output_type": "execute_result"
    }
   ],
   "source": [
    "rxn_diff_fp.shape"
   ]
  },
  {
   "cell_type": "code",
   "execution_count": 29,
   "id": "da979108",
   "metadata": {},
   "outputs": [
    {
     "data": {
      "text/plain": [
       "11"
      ]
     },
     "execution_count": 29,
     "metadata": {},
     "output_type": "execute_result"
    }
   ],
   "source": [
    "np.min(np.sum(np.abs(rxn_diff_fp),axis=1))"
   ]
  },
  {
   "cell_type": "markdown",
   "id": "e8f86ce9",
   "metadata": {},
   "source": [
    "# Clustering"
   ]
  },
  {
   "cell_type": "code",
   "execution_count": 30,
   "id": "702780f5",
   "metadata": {
    "ExecuteTime": {
     "end_time": "2022-11-30T19:28:38.295655Z",
     "start_time": "2022-11-30T19:28:29.023522Z"
    }
   },
   "outputs": [],
   "source": [
    "# https://towardsdatascience.com/understanding-k-means-clustering-in-machine-learning-6a6e67336aa1\n",
    "# let's use sklearn KMeans\n",
    "import pandas as pd\n",
    "import numpy as np\n",
    "import matplotlib.pyplot as plt\n",
    "from sklearn.cluster import KMeans\n",
    "%matplotlib inline"
   ]
  },
  {
   "cell_type": "markdown",
   "id": "20c9fd31",
   "metadata": {},
   "source": [
    "# NN modelling"
   ]
  },
  {
   "cell_type": "code",
   "execution_count": 31,
   "id": "ac83b1b6",
   "metadata": {},
   "outputs": [],
   "source": [
    "import torch\n",
    "import torchmetrics\n",
    "from sklearn.preprocessing import OneHotEncoder\n",
    "from sklearn.model_selection import train_test_split"
   ]
  },
  {
   "cell_type": "code",
   "execution_count": 32,
   "id": "ff1332e0",
   "metadata": {},
   "outputs": [
    {
     "name": "stderr",
     "output_type": "stream",
     "text": [
      "400604it [07:11, 927.88it/s] \n"
     ]
    },
    {
     "name": "stdout",
     "output_type": "stream",
     "text": [
      "1187\n"
     ]
    }
   ],
   "source": [
    "# create one-hot encoding of reagent1_list\n",
    "\n",
    "#start by canonicalising all the reagents\n",
    "reag1  = []\n",
    "for idx, smiles in tqdm(enumerate(reagent1_list)):\n",
    "    if idx not in allowed_idxes:\n",
    "        continue\n",
    "    try:\n",
    "        canon_smiles = Chem.MolToSmiles(Chem.MolFromSmiles(smiles))\n",
    "        reag1 += [canon_smiles]\n",
    "    except TypeError:\n",
    "        reag1 += [np.nan]\n",
    "print(len(set(reag1)))\n",
    "reag1 = np.array(reag1)"
   ]
  },
  {
   "cell_type": "code",
   "execution_count": 33,
   "id": "ecbf1fd4",
   "metadata": {},
   "outputs": [
    {
     "name": "stderr",
     "output_type": "stream",
     "text": [
      "400604it [07:12, 925.41it/s] \n"
     ]
    },
    {
     "name": "stdout",
     "output_type": "stream",
     "text": [
      "1099\n"
     ]
    }
   ],
   "source": [
    "# create one-hot encoding of reagent1_list\n",
    "\n",
    "#start by canonicalising all the reagents\n",
    "reag2  = []\n",
    "for idx, smiles in tqdm(enumerate(reagent2_list)):\n",
    "    if idx not in allowed_idxes:\n",
    "        continue\n",
    "    try:\n",
    "        canon_smiles = Chem.MolToSmiles(Chem.MolFromSmiles(smiles))\n",
    "        reag2 += [canon_smiles]\n",
    "    except TypeError:\n",
    "        reag2 += [np.nan]\n",
    "print(len(set(reag2)))\n",
    "reag2 = np.array(reag1)"
   ]
  },
  {
   "cell_type": "code",
   "execution_count": 34,
   "id": "87666904",
   "metadata": {},
   "outputs": [],
   "source": [
    "reags = np.concatenate([reag1, reag2], axis=0)\n",
    "# Now do the one-hot encoding\n",
    "enc = OneHotEncoder(handle_unknown='ignore')\n",
    "reag_reshaped = reags.reshape(-1, 1)\n",
    "_ = enc.fit(reag_reshaped)"
   ]
  },
  {
   "cell_type": "code",
   "execution_count": 35,
   "id": "8e7d390b",
   "metadata": {},
   "outputs": [],
   "source": [
    "reag1_ohe = enc.transform(reag1.reshape(-1, 1)).toarray()\n",
    "reag2_ohe = enc.transform(reag2.reshape(-1, 1)).toarray()"
   ]
  },
  {
   "cell_type": "markdown",
   "id": "66f0c0da",
   "metadata": {},
   "source": [
    "## Fully connected"
   ]
  },
  {
   "cell_type": "code",
   "execution_count": 74,
   "id": "d02f61b5",
   "metadata": {},
   "outputs": [],
   "source": [
    "rxn_diff_fp_train, rxn_diff_fp_val, reag1_ohe_train, reag1_ohe_val = train_test_split(rxn_diff_fp, reag1_ohe, test_size=0.2, random_state=42)"
   ]
  },
  {
   "cell_type": "code",
   "execution_count": 75,
   "id": "aa22c027",
   "metadata": {},
   "outputs": [
    {
     "data": {
      "text/plain": [
       "(106188, 1024)"
      ]
     },
     "execution_count": 75,
     "metadata": {},
     "output_type": "execute_result"
    }
   ],
   "source": [
    "rxn_diff_fp_train.shape"
   ]
  },
  {
   "cell_type": "code",
   "execution_count": 76,
   "id": "f272aa82",
   "metadata": {},
   "outputs": [
    {
     "name": "stdout",
     "output_type": "stream",
     "text": [
      "Initialization complete\n",
      "Iteration 0, inertia 16178064.0.\n",
      "Iteration 1, inertia 10631820.721044775.\n",
      "Iteration 2, inertia 10347386.413162012.\n",
      "Iteration 3, inertia 10222251.837299956.\n",
      "Iteration 4, inertia 10166882.601709979.\n",
      "Iteration 5, inertia 10130821.195507627.\n",
      "Iteration 6, inertia 10102928.969857564.\n",
      "Iteration 7, inertia 10075160.417406263.\n",
      "Iteration 8, inertia 10034830.44332165.\n",
      "Iteration 9, inertia 9994791.255437668.\n",
      "Iteration 10, inertia 9969403.401320372.\n",
      "Iteration 11, inertia 9953464.201548258.\n",
      "Iteration 12, inertia 9918261.807112345.\n",
      "Iteration 13, inertia 9827079.558154698.\n",
      "Iteration 14, inertia 9712064.214222703.\n",
      "Iteration 15, inertia 9666499.286480855.\n",
      "Iteration 16, inertia 9650788.012199182.\n",
      "Iteration 17, inertia 9638883.113782724.\n",
      "Iteration 18, inertia 9629337.325867914.\n",
      "Iteration 19, inertia 9625147.292599605.\n",
      "Iteration 20, inertia 9623746.326649442.\n",
      "Iteration 21, inertia 9623240.660046693.\n",
      "Iteration 22, inertia 9623067.912866564.\n",
      "Iteration 23, inertia 9623017.290303659.\n",
      "Iteration 24, inertia 9623003.700831728.\n",
      "Iteration 25, inertia 9622999.10236346.\n",
      "Iteration 26, inertia 9622998.520778682.\n",
      "Converged at iteration 26: center shift 8.824232187706562e-06 within tolerance 1.200445921817421e-05.\n",
      "Initialization complete\n",
      "Iteration 0, inertia 14819481.0.\n",
      "Iteration 1, inertia 10150869.955234647.\n",
      "Iteration 2, inertia 9594868.222794175.\n",
      "Iteration 3, inertia 9369534.83317075.\n",
      "Iteration 4, inertia 9334169.022840066.\n",
      "Iteration 5, inertia 9328195.030008031.\n",
      "Iteration 6, inertia 9326969.727366501.\n",
      "Iteration 7, inertia 9326650.446042785.\n",
      "Iteration 8, inertia 9326578.082964446.\n",
      "Iteration 9, inertia 9326563.00036569.\n",
      "Iteration 10, inertia 9326560.313629393.\n",
      "Converged at iteration 10: center shift 1.0571855003285668e-05 within tolerance 1.200445921817421e-05.\n",
      "Initialization complete\n",
      "Iteration 0, inertia 13808037.0.\n",
      "Iteration 1, inertia 10780047.23280942.\n",
      "Iteration 2, inertia 10575048.240014512.\n",
      "Iteration 3, inertia 10433416.066483635.\n",
      "Iteration 4, inertia 10378424.848764962.\n",
      "Iteration 5, inertia 10370117.364897529.\n",
      "Iteration 6, inertia 10368840.394478736.\n",
      "Iteration 7, inertia 10368542.636222145.\n",
      "Iteration 8, inertia 10368459.003639866.\n",
      "Iteration 9, inertia 10368418.679460965.\n",
      "Iteration 10, inertia 10368222.004426917.\n",
      "Iteration 11, inertia 10367173.543761726.\n",
      "Iteration 12, inertia 10364550.348698255.\n",
      "Iteration 13, inertia 10360392.342896964.\n",
      "Iteration 14, inertia 10354226.71255076.\n",
      "Iteration 15, inertia 10338267.40247072.\n",
      "Iteration 16, inertia 10271511.357683016.\n",
      "Iteration 17, inertia 10075983.643456744.\n",
      "Iteration 18, inertia 9854105.72367648.\n",
      "Iteration 19, inertia 9749295.115133971.\n",
      "Iteration 20, inertia 9697769.093160367.\n",
      "Iteration 21, inertia 9675669.796845332.\n",
      "Iteration 22, inertia 9670284.108387383.\n",
      "Iteration 23, inertia 9668769.182768196.\n",
      "Iteration 24, inertia 9668296.975562185.\n",
      "Iteration 25, inertia 9668129.313798461.\n",
      "Iteration 26, inertia 9668064.57387779.\n",
      "Iteration 27, inertia 9668040.028925272.\n",
      "Iteration 28, inertia 9668023.406736908.\n",
      "Iteration 29, inertia 9668006.860306673.\n",
      "Iteration 30, inertia 9667965.849722631.\n",
      "Iteration 31, inertia 9667941.387698667.\n",
      "Iteration 32, inertia 9667934.43484956.\n",
      "Iteration 33, inertia 9667932.845383272.\n",
      "Iteration 34, inertia 9667932.39367151.\n",
      "Converged at iteration 34: center shift 1.0840281989884027e-05 within tolerance 1.200445921817421e-05.\n",
      "Initialization complete\n",
      "Iteration 0, inertia 13595972.0.\n",
      "Iteration 1, inertia 9763715.090316556.\n",
      "Iteration 2, inertia 9680024.494288158.\n",
      "Iteration 3, inertia 9642003.127802724.\n",
      "Iteration 4, inertia 9608632.604570612.\n",
      "Iteration 5, inertia 9582940.545191543.\n",
      "Iteration 6, inertia 9569758.73200707.\n",
      "Iteration 7, inertia 9566091.627239918.\n",
      "Iteration 8, inertia 9565197.732841205.\n",
      "Iteration 9, inertia 9565047.565156491.\n",
      "Iteration 10, inertia 9565024.164458403.\n",
      "Iteration 11, inertia 9565021.225341184.\n",
      "Iteration 12, inertia 9565020.6564321.\n",
      "Iteration 13, inertia 9565020.481941016.\n",
      "Converged at iteration 13: strict convergence.\n",
      "Initialization complete\n",
      "Iteration 0, inertia 13925203.0.\n",
      "Iteration 1, inertia 9832643.284540841.\n",
      "Iteration 2, inertia 9573577.875744455.\n",
      "Iteration 3, inertia 9261711.758204259.\n",
      "Iteration 4, inertia 9195247.621985702.\n",
      "Iteration 5, inertia 9193118.13110714.\n",
      "Iteration 6, inertia 9192885.537214769.\n",
      "Iteration 7, inertia 9192846.170116857.\n",
      "Iteration 8, inertia 9192839.663281742.\n",
      "Iteration 9, inertia 9192839.020895746.\n",
      "Converged at iteration 9: center shift 1.7058971922092487e-06 within tolerance 1.200445921817421e-05.\n",
      "Initialization complete\n",
      "Iteration 0, inertia 16561787.0.\n",
      "Iteration 1, inertia 10327724.523305418.\n",
      "Iteration 2, inertia 10131745.651904121.\n",
      "Iteration 3, inertia 10070582.454242783.\n",
      "Iteration 4, inertia 10032887.228576038.\n",
      "Iteration 5, inertia 10012582.605206983.\n",
      "Iteration 6, inertia 10006867.288551848.\n",
      "Iteration 7, inertia 10003053.731479155.\n",
      "Iteration 8, inertia 9997949.379976517.\n",
      "Iteration 9, inertia 9990268.758953692.\n",
      "Iteration 10, inertia 9980533.375926754.\n",
      "Iteration 11, inertia 9967633.321297558.\n",
      "Iteration 12, inertia 9955706.874191515.\n",
      "Iteration 13, inertia 9936279.358020462.\n",
      "Iteration 14, inertia 9854129.52703822.\n",
      "Iteration 15, inertia 9579543.009661503.\n",
      "Iteration 16, inertia 9441064.190198485.\n",
      "Iteration 17, inertia 9401269.474549752.\n",
      "Iteration 18, inertia 9390810.706344577.\n",
      "Iteration 19, inertia 9385333.955783406.\n",
      "Iteration 20, inertia 9383614.13170835.\n",
      "Iteration 21, inertia 9383099.48952028.\n",
      "Iteration 22, inertia 9382931.30051921.\n",
      "Iteration 23, inertia 9382883.645598443.\n",
      "Iteration 24, inertia 9382868.482524725.\n",
      "Iteration 25, inertia 9382865.774584118.\n",
      "Iteration 26, inertia 9382864.144430904.\n",
      "Iteration 27, inertia 9382863.064244201.\n",
      "Iteration 28, inertia 9382862.182864118.\n",
      "Iteration 29, inertia 9382861.669632567.\n",
      "Converged at iteration 29: center shift 5.155488918988655e-06 within tolerance 1.200445921817421e-05.\n",
      "Initialization complete\n",
      "Iteration 0, inertia 14933231.0.\n",
      "Iteration 1, inertia 10315846.9227561.\n",
      "Iteration 2, inertia 10179047.99231856.\n",
      "Iteration 3, inertia 10057078.75021008.\n",
      "Iteration 4, inertia 9976033.584440675.\n",
      "Iteration 5, inertia 9940895.771368958.\n",
      "Iteration 6, inertia 9928842.234897602.\n",
      "Iteration 7, inertia 9924331.375067348.\n",
      "Iteration 8, inertia 9921698.900003243.\n",
      "Iteration 9, inertia 9919614.906109624.\n",
      "Iteration 10, inertia 9917846.87387751.\n",
      "Iteration 11, inertia 9915895.28958937.\n",
      "Iteration 12, inertia 9913638.898447964.\n",
      "Iteration 13, inertia 9910984.457382267.\n",
      "Iteration 14, inertia 9907525.270436838.\n",
      "Iteration 15, inertia 9902465.5784839.\n",
      "Iteration 16, inertia 9891230.722608859.\n",
      "Iteration 17, inertia 9849999.073957443.\n",
      "Iteration 18, inertia 9729805.038177373.\n",
      "Iteration 19, inertia 9618846.621110857.\n",
      "Iteration 20, inertia 9585349.48185582.\n",
      "Iteration 21, inertia 9570491.76055266.\n",
      "Iteration 22, inertia 9566304.319627129.\n",
      "Iteration 23, inertia 9565226.969842097.\n",
      "Iteration 24, inertia 9565050.838928819.\n",
      "Iteration 25, inertia 9565025.098820716.\n",
      "Iteration 26, inertia 9565021.300719157.\n",
      "Iteration 27, inertia 9565020.6564321.\n",
      "Iteration 28, inertia 9565020.481941016.\n",
      "Converged at iteration 28: strict convergence.\n",
      "Initialization complete\n",
      "Iteration 0, inertia 14851750.0.\n",
      "Iteration 1, inertia 10504521.114952588.\n",
      "Iteration 2, inertia 10028975.456333067.\n",
      "Iteration 3, inertia 9864711.375092477.\n",
      "Iteration 4, inertia 9853830.310988879.\n",
      "Iteration 5, inertia 9851090.979547776.\n",
      "Iteration 6, inertia 9850254.952842066.\n",
      "Iteration 7, inertia 9849677.20695601.\n",
      "Iteration 8, inertia 9848832.691321295.\n",
      "Iteration 9, inertia 9847900.12861702.\n",
      "Iteration 10, inertia 9846293.026391108.\n",
      "Iteration 11, inertia 9841976.911676478.\n",
      "Iteration 12, inertia 9829006.370157786.\n",
      "Iteration 13, inertia 9768501.133017946.\n",
      "Iteration 14, inertia 9655150.09959164.\n",
      "Iteration 15, inertia 9611246.984672267.\n",
      "Iteration 16, inertia 9609420.28647341.\n",
      "Iteration 17, inertia 9608961.162030535.\n",
      "Iteration 18, inertia 9602462.91909328.\n",
      "Iteration 19, inertia 9595171.00054422.\n",
      "Iteration 20, inertia 9594985.70725886.\n",
      "Iteration 21, inertia 9594972.615816679.\n",
      "Iteration 22, inertia 9594970.5302586.\n",
      "Iteration 23, inertia 9594969.940414933.\n",
      "Iteration 24, inertia 9594969.656222677.\n",
      "Iteration 25, inertia 9594969.053982127.\n",
      "Iteration 26, inertia 9594968.187984763.\n",
      "Iteration 27, inertia 9594967.520193454.\n",
      "Iteration 28, inertia 9594967.349399025.\n",
      "Converged at iteration 28: center shift 1.072974854038864e-05 within tolerance 1.200445921817421e-05.\n",
      "Initialization complete\n",
      "Iteration 0, inertia 13823846.0.\n",
      "Iteration 1, inertia 10250167.041965084.\n",
      "Iteration 2, inertia 9995839.224851051.\n",
      "Iteration 3, inertia 9829498.135614557.\n",
      "Iteration 4, inertia 9747178.808028625.\n",
      "Iteration 5, inertia 9682181.16458963.\n",
      "Iteration 6, inertia 9670649.88062916.\n",
      "Iteration 7, inertia 9669053.841209607.\n",
      "Iteration 8, inertia 9668406.586357547.\n",
      "Iteration 9, inertia 9668158.24100541.\n",
      "Iteration 10, inertia 9668083.542491041.\n",
      "Iteration 11, inertia 9668047.853450248.\n",
      "Iteration 12, inertia 9668029.181468759.\n",
      "Iteration 13, inertia 9668011.769377932.\n",
      "Iteration 14, inertia 9667975.499962857.\n",
      "Iteration 15, inertia 9667944.080739908.\n",
      "Iteration 16, inertia 9667934.842660954.\n",
      "Iteration 17, inertia 9667932.922212735.\n",
      "Iteration 18, inertia 9667932.537735961.\n",
      "Converged at iteration 18: center shift 1.0837542936924713e-05 within tolerance 1.200445921817421e-05.\n",
      "Initialization complete\n",
      "Iteration 0, inertia 14876925.0.\n",
      "Iteration 1, inertia 10009414.824267805.\n",
      "Iteration 2, inertia 9856281.931232221.\n",
      "Iteration 3, inertia 9815750.097281072.\n",
      "Iteration 4, inertia 9804622.504709855.\n",
      "Iteration 5, inertia 9800267.766572662.\n",
      "Iteration 6, inertia 9798548.805695636.\n",
      "Iteration 7, inertia 9797690.354030982.\n",
      "Iteration 8, inertia 9797306.28182619.\n",
      "Iteration 9, inertia 9797209.453942772.\n",
      "Iteration 10, inertia 9797181.68368215.\n",
      "Iteration 11, inertia 9797173.772798613.\n",
      "Iteration 12, inertia 9797170.574065186.\n",
      "Iteration 13, inertia 9797169.555995274.\n",
      "Iteration 14, inertia 9797169.019898323.\n",
      "Iteration 15, inertia 9797168.574436098.\n",
      "Iteration 16, inertia 9797168.143043833.\n",
      "Iteration 17, inertia 9797166.933363149.\n",
      "Iteration 18, inertia 9797166.065141853.\n",
      "Iteration 19, inertia 9797165.813566277.\n",
      "Iteration 20, inertia 9797165.019979026.\n",
      "Iteration 21, inertia 9797164.674142715.\n",
      "Iteration 22, inertia 9797164.38194688.\n",
      "Iteration 23, inertia 9797163.848849583.\n",
      "Iteration 24, inertia 9797163.466956766.\n",
      "Iteration 25, inertia 9797162.535995666.\n",
      "Iteration 26, inertia 9797161.818905227.\n",
      "Converged at iteration 26: center shift 1.0126738364658495e-05 within tolerance 1.200445921817421e-05.\n"
     ]
    }
   ],
   "source": [
    "Kmean = KMeans(n_clusters=5, verbose=1, max_iter=50, random_state=42)\n",
    "_ = Kmean.fit(rxn_diff_fp_train)"
   ]
  },
  {
   "cell_type": "code",
   "execution_count": 77,
   "id": "513fb833",
   "metadata": {},
   "outputs": [],
   "source": [
    "train_clusters = Kmean.predict(rxn_diff_fp_train)"
   ]
  },
  {
   "cell_type": "code",
   "execution_count": 78,
   "id": "a0f4b2f3",
   "metadata": {},
   "outputs": [
    {
     "data": {
      "image/png": "[encoded data removed]",
      "text/plain": [
       "<Figure size 640x480 with 1 Axes>"
      ]
     },
     "metadata": {},
     "output_type": "display_data"
    }
   ],
   "source": [
    "_ = plt.hist(train_clusters)"
   ]
  },
  {
   "cell_type": "code",
   "execution_count": 79,
   "id": "c2f73f41",
   "metadata": {},
   "outputs": [
    {
     "data": {
      "text/plain": [
       "'num classes = 1187'"
      ]
     },
     "execution_count": 79,
     "metadata": {},
     "output_type": "execute_result"
    }
   ],
   "source": [
    "f\"num classes = {reag1_ohe_train.shape[1]}\""
   ]
  },
  {
   "cell_type": "code",
   "execution_count": 111,
   "id": "bbda42b9",
   "metadata": {},
   "outputs": [],
   "source": [
    "class FullyConnectedReactionModel(torch.nn.Module):\n",
    "\n",
    "    def __init__(\n",
    "        self, \n",
    "        *, \n",
    "        input_dim, \n",
    "        hidden_dims, \n",
    "        target_dim,\n",
    "        hidden_act, \n",
    "        output_act, \n",
    "        use_batchnorm, \n",
    "        dropout_prob\n",
    "    ):\n",
    "        super(FullyConnectedReactionModel, self).__init__()\n",
    "        layers = []\n",
    "        prev_dim = input_dim\n",
    "        for dim in hidden_dims:\n",
    "            layers.append(torch.nn.Linear(prev_dim, dim))\n",
    "            layers.append(hidden_act())\n",
    "            if use_batchnorm:\n",
    "                layers.append(torch.nn.BatchNorm1d(dim))\n",
    "            if dropout_prob > 0:\n",
    "                layers.append(torch.nn.Dropout(p=0.2))\n",
    "            prev_dim = dim\n",
    "        layers.append(torch.nn.Linear(prev_dim, target_dim))\n",
    "        if output_act is torch.nn.Softmax:\n",
    "            layers.append(output_act(dim=1))\n",
    "        else:\n",
    "            layers.append(output_act())\n",
    "        self.layers = torch.nn.Sequential(*layers)\n",
    "\n",
    "    def forward(self, x, training=True):\n",
    "\n",
    "        if training:\n",
    "            self.train()\n",
    "        else:\n",
    "            self.eval()\n",
    "\n",
    "        return self.layers(x)\n",
    "\n",
    "\n",
    "\n",
    "def train_loop(model, x_train, y_train, *, epochs, batch_size, loss_fn, optimizer, report_freq, train_cluster_ids_for_downstream=None, train_similarity_dist=None, x_val=None, y_val=None, val_cluster_ids_for_downstream=None, val_similarity_dist=None):\n",
    "    \n",
    "    report_epochs = []\n",
    "    train_loss_trajectory = []\n",
    "    val_loss_trajectory = []\n",
    "    train_acc_trajectory = []\n",
    "    val_acc_trajectory = []\n",
    "    train_acc_trajectory_top5 = []\n",
    "    val_acc_trajectory_top5 = []\n",
    "    train_acc_trajectory_top3 = []\n",
    "    val_acc_trajectory_top3 = []\n",
    "\n",
    "    if report_freq and (x_val is not None) and (y_val is not None):\n",
    "        # if we are reporting the validation data should exist\n",
    "        if train_cluster_ids_for_downstream is not None:\n",
    "            assert val_cluster_ids_for_downstream is not None\n",
    "\n",
    "        if train_similarity_dist is not None:\n",
    "            assert val_similarity_dist is not None\n",
    "\n",
    "    acc_metric = torchmetrics.Accuracy(task=\"multiclass\", num_classes=y_train.shape[1])\n",
    "    acc_metric_top3 = torchmetrics.Accuracy(task=\"multiclass\", num_classes=y_train.shape[1], top_k=3)\n",
    "    acc_metric_top5 = torchmetrics.Accuracy(task=\"multiclass\", num_classes=y_train.shape[1], top_k=5)\n",
    "\n",
    "    for e in (t := trange(epochs, desc='', leave=True)):\n",
    "        idxes = np.arange(x_train.shape[0])\n",
    "        np.random.shuffle(idxes)\n",
    "\n",
    "        prev_idx = 0\n",
    "        interval = int(idxes.shape[0] * batch_size)\n",
    "\n",
    "        epoch_train_acc = []\n",
    "        epoch_train_acc_top3 = []\n",
    "        epoch_train_acc_top5 = []\n",
    "\n",
    "        for idx in range(interval, idxes.shape[0]+1, interval):\n",
    "            if batch_size < 1.0:\n",
    "                batch_idxes = idxes[prev_idx:idx]\n",
    "            else:\n",
    "                batch_idxes = idxes\n",
    "            prev_idx = idx\n",
    "\n",
    "            if train_cluster_ids_for_downstream is None:\n",
    "                pred_train = model(x_train[batch_idxes], training=True)\n",
    "            else:\n",
    "                pred_train = model(x_train[batch_idxes], train_cluster_ids_for_downstream[batch_idxes], training=True)\n",
    "            if train_similarity_dist == None:\n",
    "                loss = loss_fn(pred_train, y_train[batch_idxes])\n",
    "            else:\n",
    "                loss = loss_fn(pred_train, y_train[batch_idxes], train_similarity_dist[batch_idxes])\n",
    "            \n",
    "            epoch_train_acc.append(acc_metric(pred_train, y_train[batch_idxes]).item())\n",
    "            epoch_train_acc_top3.append(acc_metric_top3(pred_train, y_train[batch_idxes].argmax(axis=1)).item())\n",
    "            epoch_train_acc_top5.append(acc_metric_top5(pred_train, y_train[batch_idxes].argmax(axis=1)).item())\n",
    "\n",
    "            optimizer.zero_grad()\n",
    "            loss.backward()\n",
    "            optimizer.step()\n",
    "\n",
    "        train_acc_trajectory.append(np.mean(epoch_train_acc))\n",
    "        train_acc_trajectory_top3.append(np.mean(epoch_train_acc_top3))\n",
    "        train_acc_trajectory_top5.append(np.mean(epoch_train_acc_top5))\n",
    "        \n",
    "        if report_freq:\n",
    "            if e % report_freq == 0:\n",
    "                verbose_str = f\"Epoch: {e} Train [ Loss: {loss.detach().numpy().item():.5f} | Acc: {train_acc_trajectory[-1]:.5f} | Acc (Top 3): {train_acc_trajectory_top3[-1]:.5f} | Acc (Top 5): {train_acc_trajectory_top5[-1]:.5f}]\"\n",
    "                report_epochs.append(e)\n",
    "                train_loss_trajectory.append(loss.detach().numpy().item())\n",
    "\n",
    "                if (x_val is not None) and (y_val is not None):\n",
    "                    with torch.no_grad():\n",
    "                        if val_cluster_ids_for_downstream is None:\n",
    "                            pred_val = model(x_val, training=False)\n",
    "                        else:\n",
    "                            pred_val = model(x_val, val_cluster_ids_for_downstream, training=False)\n",
    "                        if val_similarity_dist == None:\n",
    "                            loss_val = loss_fn(pred_val, y_val)\n",
    "                        else:\n",
    "                            loss_val = loss_fn(pred_val, y_val, val_similarity_dist)\n",
    "\n",
    "                        val_loss_trajectory.append(loss_val.detach().numpy().item())\n",
    "                        val_acc = acc_metric(pred_val, y_val).item()\n",
    "                        val_acc_trajectory.append(val_acc)\n",
    "                        val_acc_top5 = acc_metric_top5(pred_val, y_val.argmax(axis=1)).item()\n",
    "                        val_acc_trajectory_top5.append(val_acc_top5)\n",
    "                        val_acc_top3 = acc_metric_top3(pred_val, y_val.argmax(axis=1)).item()\n",
    "                        val_acc_trajectory_top3.append(val_acc_top3)\n",
    "                        verbose_str += f\"\\t Validation [ Loss: {loss_val.detach().numpy().item():.5f} | Acc: {val_acc:.5f} | Acc (Top 3): {val_acc_top3:.5f} | Acc (Top 5): {val_acc_top5: .5f}]\"\n",
    "                t.set_description(verbose_str, refresh=True)\n",
    "\n",
    "    train_traj = {\n",
    "        (\"train\",\"loss\"): train_loss_trajectory, (\"train\",\"acc\"): train_acc_trajectory,  (\"train\",\"acc_top3\"): train_acc_trajectory_top3, (\"train\",\"acc_top5\"): train_acc_trajectory_top5\n",
    "    }\n",
    "\n",
    "    if val_loss_trajectory:\n",
    "        val_traj = {\n",
    "            (\"val\",\"loss\"): val_loss_trajectory, (\"val\",\"acc\"): val_acc_trajectory, (\"val\",\"acc_top3\"): val_acc_trajectory_top3, (\"val\",\"acc_top5\"): val_acc_trajectory_top5\n",
    "        }\n",
    "        return pd.DataFrame({**train_traj, **val_traj}, index=report_epochs)\n",
    "    else:\n",
    "        return pd.DataFrame(train_traj, index=report_epochs)\n"
   ]
  },
  {
   "cell_type": "code",
   "execution_count": 116,
   "id": "e9148cf1",
   "metadata": {},
   "outputs": [
    {
     "name": "stderr",
     "output_type": "stream",
     "text": [
      "  0%|          | 0/10 [00:00<?, ?it/s]"
     ]
    }
   ],
   "source": [
    "# A data through one model for all reactions\n",
    "# rxn_diff_fp width -> ohe width\n",
    "\n",
    "x_train = torch.Tensor(rxn_diff_fp_train)\n",
    "y_train = torch.Tensor(reag1_ohe_train)\n",
    "x_val = torch.Tensor(rxn_diff_fp_val)\n",
    "y_val = torch.Tensor(reag1_ohe_val)\n",
    "fcrm = FullyConnectedReactionModel(\n",
    "    input_dim=x_train.shape[1],\n",
    "    hidden_dims=[6000, 6000],\n",
    "    target_dim=y_train.shape[1],\n",
    "    hidden_act=torch.nn.ReLU, \n",
    "    output_act=torch.nn.Sigmoid, \n",
    "    use_batchnorm=True, \n",
    "    dropout_prob=0.2,\n",
    ")\n",
    "hist = train_loop(fcrm, x_train, y_train, epochs=10, batch_size=0.1, loss_fn=torch.nn.CrossEntropyLoss(), optimizer=torch.optim.Adam(fcrm.parameters(), lr=1e-2), report_freq=1, x_val=x_val, y_val=y_val)"
   ]
  },
  {
   "cell_type": "code",
   "execution_count": null,
   "id": "29da054c",
   "metadata": {},
   "outputs": [
    {
     "data": {
      "text/plain": [
       "Text(0.5, 0.98, 'All Data')"
      ]
     },
     "execution_count": 115,
     "metadata": {},
     "output_type": "execute_result"
    },
    {
     "data": {
      "image/png": "[encoded data removed]",
      "text/plain": [
       "<Figure size 1500x500 with 4 Axes>"
      ]
     },
     "metadata": {},
     "output_type": "display_data"
    }
   ],
   "source": [
    "f,ax=plt.subplots(1,4, figsize=(15, 5))\n",
    "hist.loc[:, (slice(None), \"loss\")].droplevel(level=1,axis=1).plot(title=\"Cross Entropy (Loss)\", ax=ax[0])\n",
    "hist.loc[:, (slice(None), \"acc\")].droplevel(level=1,axis=1).plot(title=\"Accuracy\", ax=ax[1])\n",
    "hist.loc[:, (slice(None), \"acc_top3\")].droplevel(level=1,axis=1).plot(title=\"Top 3 Accuracy\", ax=ax[2])\n",
    "hist.loc[:, (slice(None), \"acc_top5\")].droplevel(level=1,axis=1).plot(title=\"Top 5 Accuracy\", ax=ax[3])\n",
    "f.suptitle(\"All Data\")"
   ]
  },
  {
   "cell_type": "code",
   "execution_count": null,
   "id": "6a19677f",
   "metadata": {},
   "outputs": [],
   "source": [
    "# Data through one model per reaction cluster\n",
    "# rxn_diff_fp width -> ohe width\n",
    "\n",
    "train_clusters = Kmean.predict(rxn_diff_fp_train)\n",
    "val_clusters = Kmean.predict(rxn_diff_fp_val)\n",
    "\n",
    "cluster_models = {}\n",
    "cluster_histories = {}\n",
    "\n",
    "for cluster in np.unique(train_clusters):\n",
    "    x_train = torch.Tensor(rxn_diff_fp_train[train_clusters == cluster])\n",
    "    y_train = torch.Tensor(reag1_ohe_train[train_clusters == cluster])\n",
    "    x_val = torch.Tensor(rxn_diff_fp_val[val_clusters == cluster])\n",
    "    y_val = torch.Tensor(reag1_ohe_val[val_clusters == cluster])\n",
    "    fcrm = FullyConnectedReactionModel(\n",
    "        input_dim=x_train.shape[1],\n",
    "        hidden_dims=[5000,5000],\n",
    "        target_dim=y_train.shape[1],\n",
    "        hidden_act=torch.nn.ReLU, \n",
    "        output_act=torch.nn.Sigmoid, \n",
    "        use_batchnorm=True, \n",
    "        dropout_prob=0.1,\n",
    "    )\n",
    "\n",
    "    hist = train_loop(fcrm, x_train, y_train, epochs=10, batch_size=0.1, loss_fn=torch.nn.CrossEntropyLoss(), optimizer=torch.optim.Adam(fcrm.parameters(), lr=1e-2), report_freq=1, x_val=x_val, y_val=y_val)\n",
    "    cluster_models[cluster] = fcrm\n",
    "    cluster_histories[cluster] = hist"
   ]
  },
  {
   "cell_type": "code",
   "execution_count": null,
   "id": "4f577900",
   "metadata": {},
   "outputs": [],
   "source": [
    "for cluster in np.unique(train_clusters):   \n",
    "    f,ax=plt.subplots(1,4, figsize=(15, 5))\n",
    "    cluster_histories[cluster].loc[:, (slice(None), \"loss\")].droplevel(level=1,axis=1).plot(title=f\"Cross Entropy (Loss)\", ax=ax[0])\n",
    "    cluster_histories[cluster].loc[:, (slice(None), \"acc\")].droplevel(level=1,axis=1).plot(title=f\"Accuracy\", ax=ax[1])\n",
    "    cluster_histories[cluster].loc[:, (slice(None), \"acc_top3\")].droplevel(level=1,axis=1).plot(title=f\"Top 3 Accuracy\", ax=ax[2])\n",
    "    cluster_histories[cluster].loc[:, (slice(None), \"acc_top5\")].droplevel(level=1,axis=1).plot(title=f\"Top 5 Accuracy\", ax=ax[3])\n",
    "    f.suptitle(f\"Per Cluster\\nCluster {cluster}\")\n",
    "    plt.show()"
   ]
  },
  {
   "cell_type": "code",
   "execution_count": null,
   "id": "ef5ab3e5",
   "metadata": {},
   "outputs": [],
   "source": [
    "# Shared upstream layers but then downstream they become cluster specific\n",
    "\n",
    "# we can either have the model train the clusters at the same time or one after the other (in single epoch steps)\n",
    "# TODO I am unsure how the gradient graph will be built if trained at the same time\n",
    "\n",
    "class SharedUpstreamReactionModel(torch.nn.Module):\n",
    "\n",
    "    def __init__(\n",
    "        self, \n",
    "        *,\n",
    "        num_clusters, \n",
    "        input_dim, \n",
    "        hidden_dims,\n",
    "        target_dim, \n",
    "        hidden_act, \n",
    "        output_act, \n",
    "        use_batchnorm, \n",
    "        dropout_prob,\n",
    "        downstream_input_dim,\n",
    "        downstream_hidden_dims,\n",
    "        downstream_hidden_act, \n",
    "        downstream_output_act, \n",
    "        downstream_use_batchnorm, \n",
    "        downstream_dropout_prob,\n",
    "    ):\n",
    "        super(SharedUpstreamReactionModel, self).__init__()\n",
    "\n",
    "        self.target_dim = target_dim\n",
    "\n",
    "        self.shared_upstream = FullyConnectedReactionModel(\n",
    "            input_dim=input_dim,\n",
    "            hidden_dims=hidden_dims,\n",
    "            target_dim=downstream_input_dim,\n",
    "            hidden_act=hidden_act, \n",
    "            output_act=output_act, \n",
    "            use_batchnorm=use_batchnorm, \n",
    "            dropout_prob=dropout_prob,\n",
    "        )\n",
    "\n",
    "        self.downstream_models = {}\n",
    "        for c in range(num_clusters):\n",
    "            self.downstream_models[c] = FullyConnectedReactionModel(\n",
    "                input_dim=downstream_input_dim,\n",
    "                hidden_dims=downstream_hidden_dims,\n",
    "                target_dim=target_dim,\n",
    "                hidden_act=downstream_hidden_act, \n",
    "                output_act=downstream_output_act, \n",
    "                use_batchnorm=downstream_use_batchnorm, \n",
    "                dropout_prob=downstream_dropout_prob,\n",
    "            )\n",
    "\n",
    "    def forward(self, x, cluster_ids, training=True):\n",
    "        shared_output = self.shared_upstream(x, training=training)\n",
    "        output = torch.zeros(shared_output.shape[0], self.target_dim)\n",
    "\n",
    "        for c in np.unique(cluster_ids):\n",
    "            cluster_model_output = self.downstream_models[c](shared_output[cluster_ids == c], training=training)\n",
    "            output[cluster_ids == c] = cluster_model_output\n",
    "        return output"
   ]
  },
  {
   "cell_type": "code",
   "execution_count": null,
   "id": "012ad3a5",
   "metadata": {},
   "outputs": [],
   "source": [
    "train_clusters = Kmean.predict(rxn_diff_fp_train)\n",
    "val_clusters = Kmean.predict(rxn_diff_fp_val)\n",
    "x_train = torch.Tensor(rxn_diff_fp_train)\n",
    "y_train = torch.Tensor(reag1_ohe_train)\n",
    "x_val = torch.Tensor(rxn_diff_fp_val)\n",
    "y_val = torch.Tensor(reag1_ohe_val)\n",
    "\n",
    "\n",
    "surm = SharedUpstreamReactionModel(\n",
    "    num_clusters=len(np.unique(train_clusters)), \n",
    "    input_dim=x_train.shape[1], \n",
    "    hidden_dims=[10,10],\n",
    "    target_dim=y_train.shape[1], \n",
    "    hidden_act=torch.nn.ReLU, \n",
    "    output_act=torch.nn.ReLU, \n",
    "    use_batchnorm=True, \n",
    "    dropout_prob=0.1,\n",
    "    downstream_input_dim=100,\n",
    "    downstream_hidden_dims=[10,10],\n",
    "    downstream_hidden_act=torch.nn.ReLU, \n",
    "    downstream_output_act=torch.nn.Sigmoid, \n",
    "    downstream_use_batchnorm=True, \n",
    "    downstream_dropout_prob=0.1,\n",
    ")\n",
    "\n",
    "hist = train_loop(surm, x_train, y_train, epochs=10, batch_size=0.1, loss_fn=torch.nn.CrossEntropyLoss(), optimizer=torch.optim.Adam(surm.parameters(), lr=1e-2), report_freq=1, train_cluster_ids_for_downstream=train_clusters, x_val=x_val, y_val=y_val, val_cluster_ids_for_downstream=val_clusters)"
   ]
  },
  {
   "cell_type": "code",
   "execution_count": null,
   "id": "41f3b83c",
   "metadata": {},
   "outputs": [],
   "source": [
    "f,ax=plt.subplots(1, 4, figsize=(15, 5))\n",
    "hist.loc[:, (slice(None), \"loss\")].droplevel(level=1,axis=1).plot(title=\"Cross Entropy (Loss)\", ax=ax[0])\n",
    "hist.loc[:, (slice(None), \"acc\")].droplevel(level=1,axis=1).plot(title=\"Accuracy\", ax=ax[1])\n",
    "hist.loc[:, (slice(None), \"acc_top3\")].droplevel(level=1,axis=1).plot(title=\"Top 3 Accuracy\", ax=ax[2])\n",
    "hist.loc[:, (slice(None), \"acc_top5\")].droplevel(level=1,axis=1).plot(title=\"Top 5 Accuracy\", ax=ax[3])\n",
    "f.suptitle(\"Shared Upstream\")"
   ]
  },
  {
   "cell_type": "code",
   "execution_count": null,
   "id": "7d8dc14c",
   "metadata": {},
   "outputs": [],
   "source": [
    "# Data through one model per reaction cluster but we scale the gradient based on the distance to the cluster, this is not parameter sharing but is infact a form of label smoothing\n",
    "\n",
    "# rxn_diff_fp width -> ohe width\n",
    "# we end up here with 10 valid models so we can either ensemble or just predict based on the which cluster is most near\n"
   ]
  },
  {
   "cell_type": "code",
   "execution_count": null,
   "id": "17e1eeb3",
   "metadata": {},
   "outputs": [],
   "source": [
    "def similarity_CrossEntropyLoss(y_pred, y_true, dist):\n",
    "    loss_fn = torch.nn.CrossEntropyLoss(reduction='none')\n",
    "    return torch.mean(loss_fn(y_pred, y_true) * dist)\n",
    "\n",
    "cluster_models = {}\n",
    "cluster_histories = {}\n",
    "\n",
    "x_train = torch.Tensor(rxn_diff_fp_train)\n",
    "y_train = torch.Tensor(reag1_ohe_train)\n",
    "x_val = torch.Tensor(rxn_diff_fp_val)\n",
    "y_val = torch.Tensor(reag1_ohe_val)\n",
    "train_dist = torch.nn.Softmax(dim=1)(torch.Tensor(Kmean.transform(rxn_diff_fp_train)))\n",
    "val_dist = torch.nn.Softmax(dim=1)(torch.Tensor(Kmean.transform(rxn_diff_fp_val)))\n",
    "\n",
    "for cluster in np.unique(train_clusters):\n",
    "    fcrm = FullyConnectedReactionModel(\n",
    "        input_dim=x_train.shape[1],\n",
    "        hidden_dims=[6000,6000],\n",
    "        target_dim=y_train.shape[1],\n",
    "        hidden_act=torch.nn.ReLU, \n",
    "        output_act=torch.nn.Sigmoid, \n",
    "        use_batchnorm=True, \n",
    "        dropout_prob=0.1,\n",
    "    )\n",
    "    cluster_models[cluster] = fcrm\n",
    "\n",
    "    hist = train_loop(fcrm, x_train, y_train, epochs=10, batch_size=0.1, loss_fn = similarity_CrossEntropyLoss, optimizer = torch.optim.Adam(fcrm.parameters(), lr=1e-2), report_freq=1, train_similarity_dist=train_dist[:, cluster], x_val=x_val, y_val=y_val, val_similarity_dist=val_dist[:, cluster])\n",
    "    cluster_histories[cluster] = hist"
   ]
  },
  {
   "cell_type": "code",
   "execution_count": null,
   "id": "52a32066",
   "metadata": {},
   "outputs": [],
   "source": [
    "for cluster in np.unique(train_clusters):   \n",
    "    f,ax=plt.subplots(1, 4, figsize=(15, 5))\n",
    "    cluster_histories[cluster].loc[:, (slice(None), \"loss\")].droplevel(level=1,axis=1).plot(title=f\"Cross Entropy (Loss)\", ax=ax[0])\n",
    "    cluster_histories[cluster].loc[:, (slice(None), \"acc\")].droplevel(level=1,axis=1).plot(title=f\"Accuracy\", ax=ax[1])\n",
    "    cluster_histories[cluster].loc[:, (slice(None), \"acc_top3\")].droplevel(level=1,axis=1).plot(title=\"Top 3 Accuracy\", ax=ax[2])\n",
    "    cluster_histories[cluster].loc[:, (slice(None), \"acc_top5\")].droplevel(level=1,axis=1).plot(title=\"Top 5 Accuracy\", ax=ax[3])\n",
    "    f.suptitle(f\"Similarity Optimized\\nCluster {cluster}\")\n",
    "    plt.show()"
   ]
  }
 ],
 "metadata": {
  "kernelspec": {
   "display_name": "chemistry",
   "language": "python",
   "name": "python3"
  },
  "language_info": {
   "codemirror_mode": {
    "name": "ipython",
    "version": 3
   },
   "file_extension": ".py",
   "mimetype": "text/x-python",
   "name": "python",
   "nbconvert_exporter": "python",
   "pygments_lexer": "ipython3",
   "version": "3.9.13"
  },
  "toc": {
   "base_numbering": 1,
   "nav_menu": {},
   "number_sections": true,
   "sideBar": true,
   "skip_h1_title": false,
   "title_cell": "Table of Contents",
   "title_sidebar": "Contents",
   "toc_cell": true,
   "toc_position": {},
   "toc_section_display": true,
   "toc_window_display": true
  },
  "varInspector": {
   "cols": {
    "lenName": 16,
    "lenType": 16,
    "lenVar": 40
   },
   "kernels_config": {
    "python": {
     "delete_cmd_postfix": "",
     "delete_cmd_prefix": "del ",
     "library": "var_list.py",
     "varRefreshCmd": "print(var_dic_list())"
    },
    "r": {
     "delete_cmd_postfix": ") ",
     "delete_cmd_prefix": "rm(",
     "library": "var_list.r",
     "varRefreshCmd": "cat(var_dic_list()) "
    }
   },
   "types_to_exclude": [
    "module",
    "function",
    "builtin_function_or_method",
    "instance",
    "_Feature"
   ],
   "window_display": false
  },
  "vscode": {
   "interpreter": {
    "hash": "c1a6c9805cce96d1e29a306d4faa1abec69cf2c9ee1771799b926a7cc969fbbc"
   }
  }
 },
 "nbformat": 4,
 "nbformat_minor": 5
}
