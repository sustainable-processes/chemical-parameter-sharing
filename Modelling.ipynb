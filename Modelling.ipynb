{
 "cells": [
  {
   "cell_type": "markdown",
   "id": "fb278be7",
   "metadata": {
    "toc": true
   },
   "source": [
    "<h1>Table of Contents<span class=\"tocSkip\"></span></h1>\n",
    "<div class=\"toc\"><ul class=\"toc-item\"></ul></div>"
   ]
  },
  {
   "cell_type": "markdown",
   "id": "cfa032f6",
   "metadata": {},
   "source": [
    "# Preprocessing of USPTO (Reaxys formatted)"
   ]
  },
  {
   "cell_type": "code",
   "execution_count": 67,
   "id": "5580e9cc",
   "metadata": {},
   "outputs": [],
   "source": [
    "import pandas as pd\n",
    "from rdkit import Chem\n",
    "from rdkit import DataStructs\n",
    "from rdkit.Chem import AllChem\n",
    "import numpy as np\n",
    "from tqdm import tqdm\n",
    "import pyarrow as pa"
   ]
  },
  {
   "cell_type": "code",
   "execution_count": 68,
   "id": "cc5da17b",
   "metadata": {},
   "outputs": [],
   "source": [
    "\"\"\"\n",
    "Disables RDKit whiny logging.\n",
    "\"\"\"\n",
    "import rdkit.rdBase as rkrb\n",
    "import rdkit.RDLogger as rkl\n",
    "logger = rkl.logger()\n",
    "logger.setLevel(rkl.ERROR)\n",
    "rkrb.DisableLog('rdApp.error')\n"
   ]
  },
  {
   "cell_type": "code",
   "execution_count": 69,
   "id": "5df7bb69",
   "metadata": {},
   "outputs": [
    {
     "data": {
      "text/plain": [
       "Index(['Unnamed: 0', 'level_0', 'index', 'original_rxn', 'fragments', 'source',\n",
       "       'year', 'mapped_rxn', 'confidence', 'canonical_rxn_with_fragment_info',\n",
       "       'canonical_rxn', 'ID', 'reaction_hash', 'reactants', 'products',\n",
       "       'retro_template', 'template_hash', 'selectivity', 'outcomes',\n",
       "       'reagents', 'labels'],\n",
       "      dtype='object')"
      ]
     },
     "execution_count": 69,
     "metadata": {},
     "output_type": "execute_result"
    }
   ],
   "source": [
    "USPTO_elsevier = pd.read_csv('data/USPTO_from_reaxys/uspto_1k_TPL_train_valid.tsv', sep='\\t')\n",
    "USPTO_elsevier.columns"
   ]
  },
  {
   "cell_type": "code",
   "execution_count": 71,
   "id": "59bdfa4e",
   "metadata": {},
   "outputs": [],
   "source": [
    "# create lists for reactants and other stuff\n",
    "reactant1_list = []\n",
    "reactant2_list = []\n",
    "\n",
    "product_list = [] #there's only ever 1 product\n",
    "\n",
    "reagent1_list = []\n",
    "reagent2_list = []\n",
    "\n",
    "other_list = []\n",
    "\n",
    "for i in range(len(USPTO_elsevier)):\n",
    "    #handle reactants first\n",
    "    reactant1 = None\n",
    "    reactant2 = None\n",
    "    other = []\n",
    "    reactants = USPTO_elsevier['reactants'][i].split('.')\n",
    "    for molecule in reactants:\n",
    "        if '[' in molecule: #its a reactant\n",
    "            if not reactant1:\n",
    "                reactant1 = molecule\n",
    "            elif not reactant2:\n",
    "                reactant2 = molecule\n",
    "            else:\n",
    "                other +=[molecule]\n",
    "        else:\n",
    "            other +=[molecule]\n",
    "\n",
    "    #then reagents\n",
    "    reagent1 = None\n",
    "    reagent2 = None\n",
    "    reagents = USPTO_elsevier['reagents'][i]\n",
    "    if reagents == reagents:\n",
    "        reagents = reagents.split('.')\n",
    "        for molecule in reagents:\n",
    "            #populate the first two variables with reagents, add everything else to 'other'\n",
    "            if 'Pd' in molecule:\n",
    "                other += [molecule]\n",
    "            else: \n",
    "                if not reagent1:\n",
    "                    reagent1 = molecule\n",
    "                elif not reagent2:\n",
    "                    reagent2 = molecule\n",
    "                else:\n",
    "                    other +=[molecule]\n",
    "\n",
    "\n",
    "\n",
    "            \n",
    "    reactant1_list += [reactant1]\n",
    "    reactant2_list += [reactant2]\n",
    "    product_list += [USPTO_elsevier['products'][i]]\n",
    "    reagent1_list += [reagent1]\n",
    "    reagent2_list += [reagent2]\n",
    "    other_list += [other]\n"
   ]
  },
  {
   "cell_type": "markdown",
   "id": "88e7c544",
   "metadata": {},
   "source": [
    "# Read in USPTO data from ORD format (pickled data)"
   ]
  },
  {
   "cell_type": "code",
   "execution_count": 1,
   "id": "add31e01",
   "metadata": {},
   "outputs": [],
   "source": [
    "from os import listdir\n",
    "from os.path import isfile, join\n",
    "import pandas as pd\n",
    "from tqdm import tqdm"
   ]
  },
  {
   "cell_type": "code",
   "execution_count": 2,
   "id": "473782c8",
   "metadata": {},
   "outputs": [],
   "source": [
    "mypath = 'data/ORD_USPTO/pickled_data/'\n",
    "onlyfiles = [f for f in listdir(mypath) if isfile(join(mypath, f))]"
   ]
  },
  {
   "cell_type": "code",
   "execution_count": 7,
   "id": "679fadb1",
   "metadata": {},
   "outputs": [
    {
     "name": "stderr",
     "output_type": "stream",
     "text": [
      "100%|██████████| 490/490 [05:05<00:00,  1.60it/s]\n"
     ]
    }
   ],
   "source": [
    "#create one big df of all the pickled data\n",
    "full_df = pd.DataFrame()\n",
    "for file in tqdm(onlyfiles):\n",
    "    if file[0] != '.': #We don't want to try to unpickle .DS_Store\n",
    "        filepath = mypath+file \n",
    "        unpickled_df = pd.read_pickle(filepath)\n",
    "        full_df = pd.concat([full_df, unpickled_df], ignore_index=True)\n"
   ]
  },
  {
   "cell_type": "code",
   "execution_count": 8,
   "id": "9dca6cc0",
   "metadata": {},
   "outputs": [
    {
     "data": {
      "text/html": [
       "<div>\n",
       "<style scoped>\n",
       "    .dataframe tbody tr th:only-of-type {\n",
       "        vertical-align: middle;\n",
       "    }\n",
       "\n",
       "    .dataframe tbody tr th {\n",
       "        vertical-align: top;\n",
       "    }\n",
       "\n",
       "    .dataframe thead th {\n",
       "        text-align: right;\n",
       "    }\n",
       "</style>\n",
       "<table border=\"1\" class=\"dataframe\">\n",
       "  <thead>\n",
       "    <tr style=\"text-align: right;\">\n",
       "      <th></th>\n",
       "      <th>mapped_rxn_0</th>\n",
       "      <th>reactant_0</th>\n",
       "      <th>reactant_1</th>\n",
       "      <th>reactant_2</th>\n",
       "      <th>reactant_3</th>\n",
       "      <th>reactant_4</th>\n",
       "      <th>reactant_5</th>\n",
       "      <th>reagents_0</th>\n",
       "      <th>reagents_1</th>\n",
       "      <th>reagents_2</th>\n",
       "      <th>...</th>\n",
       "      <th>catalyst_4</th>\n",
       "      <th>catalyst_5</th>\n",
       "      <th>catalyst_6</th>\n",
       "      <th>reagents_15</th>\n",
       "      <th>reagents_16</th>\n",
       "      <th>solvent_8</th>\n",
       "      <th>catalyst_7</th>\n",
       "      <th>reactant_9</th>\n",
       "      <th>reagents_17</th>\n",
       "      <th>reagents_18</th>\n",
       "    </tr>\n",
       "  </thead>\n",
       "  <tbody>\n",
       "    <tr>\n",
       "      <th>0</th>\n",
       "      <td>[CH3:1][N:2]([CH2:4][CH:5]1[C:10]([OH:19])([C:...</td>\n",
       "      <td>[OH2:21]</td>\n",
       "      <td>[CH3:1][N:2]([CH2:4][CH:5]1[C:10]([OH:19])([C:...</td>\n",
       "      <td>None</td>\n",
       "      <td>None</td>\n",
       "      <td>None</td>\n",
       "      <td>None</td>\n",
       "      <td></td>\n",
       "      <td>Cl</td>\n",
       "      <td>None</td>\n",
       "      <td>...</td>\n",
       "      <td>NaN</td>\n",
       "      <td>NaN</td>\n",
       "      <td>NaN</td>\n",
       "      <td>NaN</td>\n",
       "      <td>NaN</td>\n",
       "      <td>NaN</td>\n",
       "      <td>NaN</td>\n",
       "      <td>NaN</td>\n",
       "      <td>NaN</td>\n",
       "      <td>NaN</td>\n",
       "    </tr>\n",
       "    <tr>\n",
       "      <th>1</th>\n",
       "      <td>[H-].[K+].C1(S)C=CC=CC=1.[CH3:10][N:11]([CH2:1...</td>\n",
       "      <td>[CH3:10][N:11]([CH2:13][C@H:14]1[C@:19]([OH:28...</td>\n",
       "      <td>None</td>\n",
       "      <td>None</td>\n",
       "      <td>None</td>\n",
       "      <td>None</td>\n",
       "      <td>None</td>\n",
       "      <td>[K+]</td>\n",
       "      <td>[H-]</td>\n",
       "      <td>C(O)COCCO</td>\n",
       "      <td>...</td>\n",
       "      <td>NaN</td>\n",
       "      <td>NaN</td>\n",
       "      <td>NaN</td>\n",
       "      <td>NaN</td>\n",
       "      <td>NaN</td>\n",
       "      <td>NaN</td>\n",
       "      <td>NaN</td>\n",
       "      <td>NaN</td>\n",
       "      <td>NaN</td>\n",
       "      <td>NaN</td>\n",
       "    </tr>\n",
       "    <tr>\n",
       "      <th>2</th>\n",
       "      <td>[CH3:1][N:2]([CH2:4][C@@H:5]1[C@@:10]([OH:19])...</td>\n",
       "      <td>[CH3:1][N:2]([CH2:4][C@@H:5]1[C@@:10]([OH:19])...</td>\n",
       "      <td>None</td>\n",
       "      <td>None</td>\n",
       "      <td>None</td>\n",
       "      <td>None</td>\n",
       "      <td>None</td>\n",
       "      <td>CN(C[C@H]1[C@](O)(C2C=CC=C(OC)C=2)CCCC1)C</td>\n",
       "      <td>None</td>\n",
       "      <td>None</td>\n",
       "      <td>...</td>\n",
       "      <td>NaN</td>\n",
       "      <td>NaN</td>\n",
       "      <td>NaN</td>\n",
       "      <td>NaN</td>\n",
       "      <td>NaN</td>\n",
       "      <td>NaN</td>\n",
       "      <td>NaN</td>\n",
       "      <td>NaN</td>\n",
       "      <td>NaN</td>\n",
       "      <td>NaN</td>\n",
       "    </tr>\n",
       "    <tr>\n",
       "      <th>3</th>\n",
       "      <td>IC1C(C)=C(I)C(C)=C(I)[C:3]=1[CH3:12].[Mn]([O-]...</td>\n",
       "      <td>IC1C(C)=C(I)C(C)=C(I)[C:3]=1[CH3:12]</td>\n",
       "      <td>C([O:22][C:23](=[O:25])[CH3:24])(=O)C</td>\n",
       "      <td>S(=O)(=O)(O)[OH:31]</td>\n",
       "      <td>[C:26]([OH:29])(=O)[CH3:27]</td>\n",
       "      <td>None</td>\n",
       "      <td>None</td>\n",
       "      <td></td>\n",
       "      <td>[K+]</td>\n",
       "      <td>[Mn]([O-])(=O)(=O)=O</td>\n",
       "      <td>...</td>\n",
       "      <td>NaN</td>\n",
       "      <td>NaN</td>\n",
       "      <td>NaN</td>\n",
       "      <td>NaN</td>\n",
       "      <td>NaN</td>\n",
       "      <td>NaN</td>\n",
       "      <td>NaN</td>\n",
       "      <td>NaN</td>\n",
       "      <td>NaN</td>\n",
       "      <td>NaN</td>\n",
       "    </tr>\n",
       "    <tr>\n",
       "      <th>4</th>\n",
       "      <td>[CH2:1]([I:3])[CH3:2].[Cl:4][C:5]1[CH:10]=[CH:...</td>\n",
       "      <td>[Cl:4][C:5]1[CH:10]=[CH:9][C:8]([C:11]2([CH2:1...</td>\n",
       "      <td>[CH2:1]([I:3])[CH3:2]</td>\n",
       "      <td>None</td>\n",
       "      <td>None</td>\n",
       "      <td>None</td>\n",
       "      <td>None</td>\n",
       "      <td>None</td>\n",
       "      <td>None</td>\n",
       "      <td>None</td>\n",
       "      <td>...</td>\n",
       "      <td>NaN</td>\n",
       "      <td>NaN</td>\n",
       "      <td>NaN</td>\n",
       "      <td>NaN</td>\n",
       "      <td>NaN</td>\n",
       "      <td>NaN</td>\n",
       "      <td>NaN</td>\n",
       "      <td>NaN</td>\n",
       "      <td>NaN</td>\n",
       "      <td>NaN</td>\n",
       "    </tr>\n",
       "    <tr>\n",
       "      <th>...</th>\n",
       "      <td>...</td>\n",
       "      <td>...</td>\n",
       "      <td>...</td>\n",
       "      <td>...</td>\n",
       "      <td>...</td>\n",
       "      <td>...</td>\n",
       "      <td>...</td>\n",
       "      <td>...</td>\n",
       "      <td>...</td>\n",
       "      <td>...</td>\n",
       "      <td>...</td>\n",
       "      <td>...</td>\n",
       "      <td>...</td>\n",
       "      <td>...</td>\n",
       "      <td>...</td>\n",
       "      <td>...</td>\n",
       "      <td>...</td>\n",
       "      <td>...</td>\n",
       "      <td>...</td>\n",
       "      <td>...</td>\n",
       "      <td>...</td>\n",
       "    </tr>\n",
       "    <tr>\n",
       "      <th>1771027</th>\n",
       "      <td>[Br:1][C:2]1[CH:7]=[CH:6][C:5]([C:8]2[C:9]3[C:...</td>\n",
       "      <td>[Br:1][C:2]1[CH:7]=[CH:6][C:5]([C:8]2[C:9]3[C:...</td>\n",
       "      <td>C1C(=O)N([Br:29])C(=O)C1</td>\n",
       "      <td>None</td>\n",
       "      <td>None</td>\n",
       "      <td>None</td>\n",
       "      <td>None</td>\n",
       "      <td>CN(C)C=O</td>\n",
       "      <td>None</td>\n",
       "      <td>None</td>\n",
       "      <td>...</td>\n",
       "      <td>NaN</td>\n",
       "      <td>NaN</td>\n",
       "      <td>NaN</td>\n",
       "      <td>NaN</td>\n",
       "      <td>NaN</td>\n",
       "      <td>NaN</td>\n",
       "      <td>NaN</td>\n",
       "      <td>NaN</td>\n",
       "      <td>NaN</td>\n",
       "      <td>NaN</td>\n",
       "    </tr>\n",
       "    <tr>\n",
       "      <th>1771028</th>\n",
       "      <td>Br[C:2]1[C:3]2[C:8]([CH:9]=[C:10]3[C:15]=1[CH:...</td>\n",
       "      <td>[CH:16]([C:18]1[CH:23]=[CH:22][C:21](B(O)O)=[C...</td>\n",
       "      <td>Br[C:2]1[C:3]2[C:8]([CH:9]=[C:10]3[C:15]=1[CH:...</td>\n",
       "      <td>None</td>\n",
       "      <td>None</td>\n",
       "      <td>None</td>\n",
       "      <td>None</td>\n",
       "      <td>[K+]</td>\n",
       "      <td>C1(C)C=CC=CC=1</td>\n",
       "      <td>C1COCC1</td>\n",
       "      <td>...</td>\n",
       "      <td>NaN</td>\n",
       "      <td>NaN</td>\n",
       "      <td>NaN</td>\n",
       "      <td>NaN</td>\n",
       "      <td>NaN</td>\n",
       "      <td>NaN</td>\n",
       "      <td>NaN</td>\n",
       "      <td>NaN</td>\n",
       "      <td>NaN</td>\n",
       "      <td>NaN</td>\n",
       "    </tr>\n",
       "    <tr>\n",
       "      <th>1771029</th>\n",
       "      <td>[CH:1]([C:3]1[CH:8]=[CH:7][C:6]([C:9]2[C:10]3[...</td>\n",
       "      <td>C1C(=O)N([Br:30])C(=O)C1</td>\n",
       "      <td>[CH:1]([C:3]1[CH:8]=[CH:7][C:6]([C:9]2[C:10]3[...</td>\n",
       "      <td>None</td>\n",
       "      <td>None</td>\n",
       "      <td>None</td>\n",
       "      <td>None</td>\n",
       "      <td>CN(C=O)C</td>\n",
       "      <td>None</td>\n",
       "      <td>None</td>\n",
       "      <td>...</td>\n",
       "      <td>NaN</td>\n",
       "      <td>NaN</td>\n",
       "      <td>NaN</td>\n",
       "      <td>NaN</td>\n",
       "      <td>NaN</td>\n",
       "      <td>NaN</td>\n",
       "      <td>NaN</td>\n",
       "      <td>NaN</td>\n",
       "      <td>NaN</td>\n",
       "      <td>NaN</td>\n",
       "    </tr>\n",
       "    <tr>\n",
       "      <th>1771030</th>\n",
       "      <td>[Br:1][C:2]1[C:3]2[C:8]([C:9]([C:16]3[CH:21]=[...</td>\n",
       "      <td>[CH2:24](P(=O)(OCC)OCC)[C:25]1[CH:30]=[CH:29][...</td>\n",
       "      <td>[Br:1][C:2]1[C:3]2[C:8]([C:9]([C:16]3[CH:21]=[...</td>\n",
       "      <td>None</td>\n",
       "      <td>None</td>\n",
       "      <td>None</td>\n",
       "      <td>None</td>\n",
       "      <td>[K+]</td>\n",
       "      <td>CC(C)([O-])C</td>\n",
       "      <td>CS(C)=O</td>\n",
       "      <td>...</td>\n",
       "      <td>NaN</td>\n",
       "      <td>NaN</td>\n",
       "      <td>NaN</td>\n",
       "      <td>NaN</td>\n",
       "      <td>NaN</td>\n",
       "      <td>NaN</td>\n",
       "      <td>NaN</td>\n",
       "      <td>NaN</td>\n",
       "      <td>NaN</td>\n",
       "      <td>NaN</td>\n",
       "    </tr>\n",
       "    <tr>\n",
       "      <th>1771031</th>\n",
       "      <td>Br[C:2]1[C:3]2[C:8]([C:9]([C:16]3[CH:21]=[CH:2...</td>\n",
       "      <td>Br[C:2]1[C:3]2[C:8]([C:9]([C:16]3[CH:21]=[CH:2...</td>\n",
       "      <td>[C:30]1([C:36]([C:47]2[CH:52]=[CH:51][CH:50]=[...</td>\n",
       "      <td>None</td>\n",
       "      <td>None</td>\n",
       "      <td>None</td>\n",
       "      <td>None</td>\n",
       "      <td>C(=O)([O-])[O-]</td>\n",
       "      <td>C1C=CC([P]([Pd]([P](C2C=CC=CC=2)(C2C=CC=CC=2)C...</td>\n",
       "      <td>[Na+]</td>\n",
       "      <td>...</td>\n",
       "      <td>NaN</td>\n",
       "      <td>NaN</td>\n",
       "      <td>NaN</td>\n",
       "      <td>NaN</td>\n",
       "      <td>NaN</td>\n",
       "      <td>NaN</td>\n",
       "      <td>NaN</td>\n",
       "      <td>NaN</td>\n",
       "      <td>NaN</td>\n",
       "      <td>NaN</td>\n",
       "    </tr>\n",
       "  </tbody>\n",
       "</table>\n",
       "<p>1771032 rows × 55 columns</p>\n",
       "</div>"
      ],
      "text/plain": [
       "                                              mapped_rxn_0  \\\n",
       "0        [CH3:1][N:2]([CH2:4][CH:5]1[C:10]([OH:19])([C:...   \n",
       "1        [H-].[K+].C1(S)C=CC=CC=1.[CH3:10][N:11]([CH2:1...   \n",
       "2        [CH3:1][N:2]([CH2:4][C@@H:5]1[C@@:10]([OH:19])...   \n",
       "3        IC1C(C)=C(I)C(C)=C(I)[C:3]=1[CH3:12].[Mn]([O-]...   \n",
       "4        [CH2:1]([I:3])[CH3:2].[Cl:4][C:5]1[CH:10]=[CH:...   \n",
       "...                                                    ...   \n",
       "1771027  [Br:1][C:2]1[CH:7]=[CH:6][C:5]([C:8]2[C:9]3[C:...   \n",
       "1771028  Br[C:2]1[C:3]2[C:8]([CH:9]=[C:10]3[C:15]=1[CH:...   \n",
       "1771029  [CH:1]([C:3]1[CH:8]=[CH:7][C:6]([C:9]2[C:10]3[...   \n",
       "1771030  [Br:1][C:2]1[C:3]2[C:8]([C:9]([C:16]3[CH:21]=[...   \n",
       "1771031  Br[C:2]1[C:3]2[C:8]([C:9]([C:16]3[CH:21]=[CH:2...   \n",
       "\n",
       "                                                reactant_0  \\\n",
       "0                                                 [OH2:21]   \n",
       "1        [CH3:10][N:11]([CH2:13][C@H:14]1[C@:19]([OH:28...   \n",
       "2        [CH3:1][N:2]([CH2:4][C@@H:5]1[C@@:10]([OH:19])...   \n",
       "3                     IC1C(C)=C(I)C(C)=C(I)[C:3]=1[CH3:12]   \n",
       "4        [Cl:4][C:5]1[CH:10]=[CH:9][C:8]([C:11]2([CH2:1...   \n",
       "...                                                    ...   \n",
       "1771027  [Br:1][C:2]1[CH:7]=[CH:6][C:5]([C:8]2[C:9]3[C:...   \n",
       "1771028  [CH:16]([C:18]1[CH:23]=[CH:22][C:21](B(O)O)=[C...   \n",
       "1771029                           C1C(=O)N([Br:30])C(=O)C1   \n",
       "1771030  [CH2:24](P(=O)(OCC)OCC)[C:25]1[CH:30]=[CH:29][...   \n",
       "1771031  Br[C:2]1[C:3]2[C:8]([C:9]([C:16]3[CH:21]=[CH:2...   \n",
       "\n",
       "                                                reactant_1  \\\n",
       "0        [CH3:1][N:2]([CH2:4][CH:5]1[C:10]([OH:19])([C:...   \n",
       "1                                                     None   \n",
       "2                                                     None   \n",
       "3                    C([O:22][C:23](=[O:25])[CH3:24])(=O)C   \n",
       "4                                    [CH2:1]([I:3])[CH3:2]   \n",
       "...                                                    ...   \n",
       "1771027                           C1C(=O)N([Br:29])C(=O)C1   \n",
       "1771028  Br[C:2]1[C:3]2[C:8]([CH:9]=[C:10]3[C:15]=1[CH:...   \n",
       "1771029  [CH:1]([C:3]1[CH:8]=[CH:7][C:6]([C:9]2[C:10]3[...   \n",
       "1771030  [Br:1][C:2]1[C:3]2[C:8]([C:9]([C:16]3[CH:21]=[...   \n",
       "1771031  [C:30]1([C:36]([C:47]2[CH:52]=[CH:51][CH:50]=[...   \n",
       "\n",
       "                  reactant_2                   reactant_3 reactant_4  \\\n",
       "0                       None                         None       None   \n",
       "1                       None                         None       None   \n",
       "2                       None                         None       None   \n",
       "3        S(=O)(=O)(O)[OH:31]  [C:26]([OH:29])(=O)[CH3:27]       None   \n",
       "4                       None                         None       None   \n",
       "...                      ...                          ...        ...   \n",
       "1771027                 None                         None       None   \n",
       "1771028                 None                         None       None   \n",
       "1771029                 None                         None       None   \n",
       "1771030                 None                         None       None   \n",
       "1771031                 None                         None       None   \n",
       "\n",
       "        reactant_5                                 reagents_0  \\\n",
       "0             None                                              \n",
       "1             None                                       [K+]   \n",
       "2             None  CN(C[C@H]1[C@](O)(C2C=CC=C(OC)C=2)CCCC1)C   \n",
       "3             None                                              \n",
       "4             None                                       None   \n",
       "...            ...                                        ...   \n",
       "1771027       None                                   CN(C)C=O   \n",
       "1771028       None                                       [K+]   \n",
       "1771029       None                                   CN(C=O)C   \n",
       "1771030       None                                       [K+]   \n",
       "1771031       None                            C(=O)([O-])[O-]   \n",
       "\n",
       "                                                reagents_1  \\\n",
       "0                                                       Cl   \n",
       "1                                                     [H-]   \n",
       "2                                                     None   \n",
       "3                                                     [K+]   \n",
       "4                                                     None   \n",
       "...                                                    ...   \n",
       "1771027                                               None   \n",
       "1771028                                     C1(C)C=CC=CC=1   \n",
       "1771029                                               None   \n",
       "1771030                                       CC(C)([O-])C   \n",
       "1771031  C1C=CC([P]([Pd]([P](C2C=CC=CC=2)(C2C=CC=CC=2)C...   \n",
       "\n",
       "                   reagents_2  ... catalyst_4 catalyst_5 catalyst_6  \\\n",
       "0                        None  ...        NaN        NaN        NaN   \n",
       "1                   C(O)COCCO  ...        NaN        NaN        NaN   \n",
       "2                        None  ...        NaN        NaN        NaN   \n",
       "3        [Mn]([O-])(=O)(=O)=O  ...        NaN        NaN        NaN   \n",
       "4                        None  ...        NaN        NaN        NaN   \n",
       "...                       ...  ...        ...        ...        ...   \n",
       "1771027                  None  ...        NaN        NaN        NaN   \n",
       "1771028               C1COCC1  ...        NaN        NaN        NaN   \n",
       "1771029                  None  ...        NaN        NaN        NaN   \n",
       "1771030               CS(C)=O  ...        NaN        NaN        NaN   \n",
       "1771031                 [Na+]  ...        NaN        NaN        NaN   \n",
       "\n",
       "        reagents_15 reagents_16 solvent_8 catalyst_7 reactant_9 reagents_17  \\\n",
       "0               NaN         NaN       NaN        NaN        NaN         NaN   \n",
       "1               NaN         NaN       NaN        NaN        NaN         NaN   \n",
       "2               NaN         NaN       NaN        NaN        NaN         NaN   \n",
       "3               NaN         NaN       NaN        NaN        NaN         NaN   \n",
       "4               NaN         NaN       NaN        NaN        NaN         NaN   \n",
       "...             ...         ...       ...        ...        ...         ...   \n",
       "1771027         NaN         NaN       NaN        NaN        NaN         NaN   \n",
       "1771028         NaN         NaN       NaN        NaN        NaN         NaN   \n",
       "1771029         NaN         NaN       NaN        NaN        NaN         NaN   \n",
       "1771030         NaN         NaN       NaN        NaN        NaN         NaN   \n",
       "1771031         NaN         NaN       NaN        NaN        NaN         NaN   \n",
       "\n",
       "        reagents_18  \n",
       "0               NaN  \n",
       "1               NaN  \n",
       "2               NaN  \n",
       "3               NaN  \n",
       "4               NaN  \n",
       "...             ...  \n",
       "1771027         NaN  \n",
       "1771028         NaN  \n",
       "1771029         NaN  \n",
       "1771030         NaN  \n",
       "1771031         NaN  \n",
       "\n",
       "[1771032 rows x 55 columns]"
      ]
     },
     "execution_count": 8,
     "metadata": {},
     "output_type": "execute_result"
    }
   ],
   "source": [
    "full_df"
   ]
  },
  {
   "cell_type": "code",
   "execution_count": null,
   "id": "c7a1f84b",
   "metadata": {},
   "outputs": [],
   "source": []
  },
  {
   "cell_type": "code",
   "execution_count": null,
   "id": "9af52df7",
   "metadata": {},
   "outputs": [],
   "source": []
  },
  {
   "cell_type": "code",
   "execution_count": null,
   "id": "33e7fb20",
   "metadata": {},
   "outputs": [],
   "source": []
  },
  {
   "cell_type": "markdown",
   "id": "d9a391a6",
   "metadata": {},
   "source": [
    "# Calculate FP"
   ]
  },
  {
   "cell_type": "code",
   "execution_count": 72,
   "id": "079f88ca",
   "metadata": {},
   "outputs": [],
   "source": [
    "def calc_fp(lst, radius, nBits):\n",
    "    ans = []\n",
    "    for i in tqdm(lst):\n",
    "        #convert to mole object\n",
    "        try:\n",
    "            mol = Chem.MolFromSmiles(i)\n",
    "            fp = AllChem.GetHashedMorganFingerprint(mol, radius, nBits=nBits)\n",
    "            array = np.zeros((0, ), dtype=np.int8)\n",
    "            DataStructs.ConvertToNumpyArray(fp, array)\n",
    "            ans += [array]\n",
    "        except:\n",
    "            ans += [np.zeros((nBits,), dtype=int)]\n",
    "    return ans"
   ]
  },
  {
   "cell_type": "code",
   "execution_count": 73,
   "id": "3e8b632a",
   "metadata": {},
   "outputs": [],
   "source": [
    "# calculate fingerprints\n",
    "radius = 3\n",
    "nBits = 1024"
   ]
  },
  {
   "cell_type": "code",
   "execution_count": 74,
   "id": "a576e262",
   "metadata": {},
   "outputs": [
    {
     "name": "stderr",
     "output_type": "stream",
     "text": [
      "100%|██████████| 400604/400604 [01:53<00:00, 3534.90it/s]\n"
     ]
    }
   ],
   "source": [
    "reactant1_list_fp = calc_fp(reactant1_list, radius, nBits)"
   ]
  },
  {
   "cell_type": "code",
   "execution_count": 75,
   "id": "64f76acd",
   "metadata": {},
   "outputs": [
    {
     "name": "stderr",
     "output_type": "stream",
     "text": [
      "100%|██████████| 400604/400604 [02:00<00:00, 3336.46it/s]\n"
     ]
    }
   ],
   "source": [
    "reactant2_list_fp = calc_fp(reactant2_list, radius, nBits)"
   ]
  },
  {
   "cell_type": "code",
   "execution_count": 76,
   "id": "66215cf5",
   "metadata": {},
   "outputs": [
    {
     "name": "stderr",
     "output_type": "stream",
     "text": [
      "100%|██████████| 400604/400604 [02:36<00:00, 2551.75it/s]\n"
     ]
    }
   ],
   "source": [
    "product_list_fp = calc_fp(product_list, radius, nBits)"
   ]
  },
  {
   "cell_type": "code",
   "execution_count": 77,
   "id": "12a8bd75",
   "metadata": {},
   "outputs": [
    {
     "name": "stderr",
     "output_type": "stream",
     "text": [
      "100%|██████████| 400604/400604 [02:03<00:00, 3238.93it/s]\n"
     ]
    }
   ],
   "source": [
    "#don't actually need to create a fp of the reagent\n",
    "reagent1_list_fp = calc_fp(reagent1_list, radius, nBits)\n"
   ]
  },
  {
   "cell_type": "code",
   "execution_count": 78,
   "id": "669edf17",
   "metadata": {},
   "outputs": [
    {
     "name": "stderr",
     "output_type": "stream",
     "text": [
      "100%|██████████| 400604/400604 [03:08<00:00, 2129.09it/s]\n"
     ]
    }
   ],
   "source": [
    "#don't actually need to create a fp of the reagent\n",
    "reagent2_list_fp = calc_fp(reagent2_list, radius, nBits)"
   ]
  },
  {
   "cell_type": "code",
   "execution_count": 79,
   "id": "80916524",
   "metadata": {},
   "outputs": [],
   "source": [
    "# convert to arrays\n",
    "p = np.array(product_list_fp)\n",
    "r1 = np.array(reactant1_list_fp)\n",
    "r2 = np.array(reactant2_list_fp)\n",
    "rea1 = np.array(reagent1_list_fp)\n",
    "rea2 = np.array(reagent1_list_fp)\n"
   ]
  },
  {
   "cell_type": "code",
   "execution_count": 80,
   "id": "3c841cb8",
   "metadata": {},
   "outputs": [],
   "source": [
    "# calculate rxn difference fp\n",
    "rxn_diff_fp = p-r1-r2\n"
   ]
  },
  {
   "cell_type": "code",
   "execution_count": 81,
   "id": "09732632",
   "metadata": {},
   "outputs": [
    {
     "data": {
      "text/plain": [
       "(400604, 1024)"
      ]
     },
     "execution_count": 81,
     "metadata": {},
     "output_type": "execute_result"
    }
   ],
   "source": [
    "rxn_diff_fp.shape"
   ]
  },
  {
   "cell_type": "code",
   "execution_count": 121,
   "id": "830fde92",
   "metadata": {},
   "outputs": [
    {
     "ename": "AttributeError",
     "evalue": "module 'pyarrow' has no attribute 'parquet'",
     "output_type": "error",
     "traceback": [
      "\u001b[0;31m---------------------------------------------------------------------------\u001b[0m",
      "\u001b[0;31mAttributeError\u001b[0m                            Traceback (most recent call last)",
      "\u001b[1;32m/Users/dsw46/Library/CloudStorage/OneDrive-UniversityofCambridge/Cambridge/Projects/chem_param_sharing_joe/chemical-parameter-sharing/Modelling.ipynb Cell 17\u001b[0m in \u001b[0;36m<cell line: 4>\u001b[0;34m()\u001b[0m\n\u001b[1;32m      <a href='vscode-notebook-cell:/Users/dsw46/Library/CloudStorage/OneDrive-UniversityofCambridge/Cambridge/Projects/chem_param_sharing_joe/chemical-parameter-sharing/Modelling.ipynb#Y154sZmlsZQ%3D%3D?line=0'>1</a>\u001b[0m \u001b[39m# save to paraquet\u001b[39;00m\n\u001b[1;32m      <a href='vscode-notebook-cell:/Users/dsw46/Library/CloudStorage/OneDrive-UniversityofCambridge/Cambridge/Projects/chem_param_sharing_joe/chemical-parameter-sharing/Modelling.ipynb#Y154sZmlsZQ%3D%3D?line=1'>2</a>\u001b[0m \u001b[39m#X\u001b[39;00m\n\u001b[1;32m      <a href='vscode-notebook-cell:/Users/dsw46/Library/CloudStorage/OneDrive-UniversityofCambridge/Cambridge/Projects/chem_param_sharing_joe/chemical-parameter-sharing/Modelling.ipynb#Y154sZmlsZQ%3D%3D?line=2'>3</a>\u001b[0m X_pa_table \u001b[39m=\u001b[39m pa\u001b[39m.\u001b[39mtable(pd\u001b[39m.\u001b[39mDataFrame(rxn_diff_fp))\n\u001b[0;32m----> <a href='vscode-notebook-cell:/Users/dsw46/Library/CloudStorage/OneDrive-UniversityofCambridge/Cambridge/Projects/chem_param_sharing_joe/chemical-parameter-sharing/Modelling.ipynb#Y154sZmlsZQ%3D%3D?line=3'>4</a>\u001b[0m pa\u001b[39m.\u001b[39mparquet\u001b[39m.\u001b[39mwrite_table(X_pa_table, \u001b[39m\"\u001b[39m\u001b[39mdata/USPTO_from_reaxys/X_rxn_diff_fp.parquet\u001b[39m\u001b[39m\"\u001b[39m)\n",
      "File \u001b[0;32m~/opt/anaconda3/envs/dswigh_default/lib/python3.9/site-packages/pyarrow/__init__.py:335\u001b[0m, in \u001b[0;36m__getattr__\u001b[0;34m(name)\u001b[0m\n\u001b[1;32m    331\u001b[0m     _warnings\u001b[39m.\u001b[39mwarn(_serialization_msg\u001b[39m.\u001b[39mformat(name),\n\u001b[1;32m    332\u001b[0m                    \u001b[39mFutureWarning\u001b[39;00m, stacklevel\u001b[39m=\u001b[39m\u001b[39m2\u001b[39m)\n\u001b[1;32m    333\u001b[0m     \u001b[39mreturn\u001b[39;00m _serialization_deprecatd[name]\n\u001b[0;32m--> 335\u001b[0m \u001b[39mraise\u001b[39;00m \u001b[39mAttributeError\u001b[39;00m(\n\u001b[1;32m    336\u001b[0m     \u001b[39m\"\u001b[39m\u001b[39mmodule \u001b[39m\u001b[39m'\u001b[39m\u001b[39mpyarrow\u001b[39m\u001b[39m'\u001b[39m\u001b[39m has no attribute \u001b[39m\u001b[39m'\u001b[39m\u001b[39m{0}\u001b[39;00m\u001b[39m'\u001b[39m\u001b[39m\"\u001b[39m\u001b[39m.\u001b[39mformat(name)\n\u001b[1;32m    337\u001b[0m )\n",
      "\u001b[0;31mAttributeError\u001b[0m: module 'pyarrow' has no attribute 'parquet'"
     ]
    }
   ],
   "source": [
    "# save to paraquet\n",
    "#X\n",
    "X_pa_table = pa.table(pd.DataFrame(rxn_diff_fp))\n",
    "pa.parquet.write_table(X_pa_table, \"data/USPTO_from_reaxys/X_rxn_diff_fp.parquet\")"
   ]
  },
  {
   "cell_type": "markdown",
   "id": "e8f86ce9",
   "metadata": {},
   "source": [
    "# Clustering"
   ]
  },
  {
   "cell_type": "code",
   "execution_count": null,
   "id": "702780f5",
   "metadata": {
    "ExecuteTime": {
     "end_time": "2022-11-30T19:28:38.295655Z",
     "start_time": "2022-11-30T19:28:29.023522Z"
    }
   },
   "outputs": [],
   "source": [
    "# https://towardsdatascience.com/understanding-k-means-clustering-in-machine-learning-6a6e67336aa1\n",
    "# let's use sklearn KMeans\n",
    "import pandas as pd\n",
    "import numpy as np\n",
    "import matplotlib.pyplot as plt\n",
    "from sklearn.cluster import KMeans\n",
    "%matplotlib inline"
   ]
  },
  {
   "cell_type": "code",
   "execution_count": 82,
   "id": "2c6dacfb",
   "metadata": {},
   "outputs": [],
   "source": [
    "Kmean = KMeans(n_clusters=10, verbose=1, max_iter=50, random_state=42)"
   ]
  },
  {
   "cell_type": "code",
   "execution_count": 83,
   "id": "069cff21",
   "metadata": {},
   "outputs": [
    {
     "name": "stdout",
     "output_type": "stream",
     "text": [
      "Initialization complete\n",
      "Iteration 0, inertia 35800307.0\n",
      "Iteration 1, inertia 24094394.909923248\n",
      "Iteration 2, inertia 23335027.908687636\n",
      "Iteration 3, inertia 23244781.03866532\n",
      "Iteration 4, inertia 23221065.39939336\n",
      "Iteration 5, inertia 23200959.972408965\n",
      "Iteration 6, inertia 23167348.807617933\n",
      "Iteration 7, inertia 23156281.131787464\n",
      "Iteration 8, inertia 23137884.43012575\n",
      "Iteration 9, inertia 23111515.40276076\n",
      "Iteration 10, inertia 23100266.09307847\n",
      "Iteration 11, inertia 23097836.11876832\n",
      "Iteration 12, inertia 23096989.92983185\n",
      "Iteration 13, inertia 23096350.662857138\n",
      "Iteration 14, inertia 23093801.901388418\n",
      "Iteration 15, inertia 23087746.162669748\n",
      "Iteration 16, inertia 23080321.833504938\n",
      "Iteration 17, inertia 23073823.66210745\n",
      "Iteration 18, inertia 23071007.264740333\n",
      "Iteration 19, inertia 23067090.122566305\n",
      "Iteration 20, inertia 23062817.405175336\n",
      "Iteration 21, inertia 23061150.07021009\n",
      "Iteration 22, inertia 23060678.568692554\n",
      "Iteration 23, inertia 23060525.49237822\n",
      "Iteration 24, inertia 23060498.322450172\n",
      "Iteration 25, inertia 23060489.955743723\n",
      "Iteration 26, inertia 23060487.72627653\n",
      "Iteration 27, inertia 23060485.892275512\n",
      "Iteration 28, inertia 23060484.61746464\n",
      "Iteration 29, inertia 23060483.636298306\n",
      "Iteration 30, inertia 23060482.653440807\n",
      "Iteration 31, inertia 23060479.77122812\n",
      "Iteration 32, inertia 23060475.078638814\n",
      "Iteration 33, inertia 23060473.08692553\n",
      "Iteration 34, inertia 23060472.903992303\n",
      "Converged at iteration 34: strict convergence.\n",
      "Initialization complete\n",
      "Iteration 0, inertia 34243257.0\n",
      "Iteration 1, inertia 23319586.32554742\n",
      "Iteration 2, inertia 23106863.39139451\n",
      "Iteration 3, inertia 23032248.37165826\n",
      "Iteration 4, inertia 23000206.407846905\n",
      "Iteration 5, inertia 22981053.4923756\n",
      "Iteration 6, inertia 22969404.439782325\n",
      "Iteration 7, inertia 22962106.47819402\n",
      "Iteration 8, inertia 22957157.993296824\n",
      "Iteration 9, inertia 22952745.041869022\n",
      "Iteration 10, inertia 22950029.262558427\n",
      "Iteration 11, inertia 22948807.5126786\n",
      "Iteration 12, inertia 22948145.748669047\n",
      "Iteration 13, inertia 22947676.39755001\n",
      "Iteration 14, inertia 22947255.121564057\n",
      "Iteration 15, inertia 22946905.26401108\n",
      "Iteration 16, inertia 22946534.70141562\n",
      "Iteration 17, inertia 22946210.41059206\n",
      "Iteration 18, inertia 22945864.42902902\n",
      "Iteration 19, inertia 22945419.99869813\n",
      "Iteration 20, inertia 22944862.305353675\n",
      "Iteration 21, inertia 22944129.164224662\n",
      "Iteration 22, inertia 22943304.71458912\n",
      "Iteration 23, inertia 22942144.85851568\n",
      "Iteration 24, inertia 22940038.434346378\n",
      "Iteration 25, inertia 22935679.781665705\n",
      "Iteration 26, inertia 22924481.344083913\n",
      "Iteration 27, inertia 22892619.85712313\n",
      "Iteration 28, inertia 22824945.350704882\n",
      "Iteration 29, inertia 22720813.81635362\n",
      "Iteration 30, inertia 22624316.37509103\n",
      "Iteration 31, inertia 22578856.410147235\n",
      "Iteration 32, inertia 22559748.478428043\n",
      "Iteration 33, inertia 22551224.14234262\n",
      "Iteration 34, inertia 22547794.01779096\n",
      "Iteration 35, inertia 22546750.093751784\n",
      "Iteration 36, inertia 22546325.269261636\n",
      "Iteration 37, inertia 22545984.664741583\n",
      "Iteration 38, inertia 22545822.254988834\n",
      "Iteration 39, inertia 22545754.87118082\n",
      "Iteration 40, inertia 22545731.60649568\n",
      "Iteration 41, inertia 22545728.70043317\n",
      "Iteration 42, inertia 22545727.68593224\n",
      "Iteration 43, inertia 22545727.05897753\n",
      "Iteration 44, inertia 22545726.103139486\n",
      "Iteration 45, inertia 22545725.584845804\n",
      "Iteration 46, inertia 22545725.194258086\n",
      "Converged at iteration 46: center shift 1.289666401884843e-06 within tolerance 8.026990365996168e-06.\n",
      "Initialization complete\n",
      "Iteration 0, inertia 34950470.0\n",
      "Iteration 1, inertia 24064893.17825395\n",
      "Iteration 2, inertia 23004466.58417534\n",
      "Iteration 3, inertia 22717341.282715045\n",
      "Iteration 4, inertia 22659231.026850723\n",
      "Iteration 5, inertia 22630941.43540106\n",
      "Iteration 6, inertia 22617703.317715116\n",
      "Iteration 7, inertia 22610629.100547582\n",
      "Iteration 8, inertia 22597645.84563326\n",
      "Iteration 9, inertia 22565123.59051172\n",
      "Iteration 10, inertia 22518108.810306676\n",
      "Iteration 11, inertia 22481330.412862703\n",
      "Iteration 12, inertia 22436448.750884775\n",
      "Iteration 13, inertia 22408482.547994442\n",
      "Iteration 14, inertia 22407971.497200392\n",
      "Iteration 15, inertia 22407959.801732853\n",
      "Iteration 16, inertia 22407956.270833142\n",
      "Iteration 17, inertia 22407951.90623203\n",
      "Iteration 18, inertia 22407946.53497334\n",
      "Iteration 19, inertia 22407943.799342386\n",
      "Iteration 20, inertia 22407942.8017895\n",
      "Iteration 21, inertia 22407942.45745022\n",
      "Converged at iteration 21: center shift 4.2146026069445745e-06 within tolerance 8.026990365996168e-06.\n",
      "Initialization complete\n",
      "Iteration 0, inertia 34951097.0\n",
      "Iteration 1, inertia 24369625.304339368\n",
      "Iteration 2, inertia 24019908.498954743\n",
      "Iteration 3, inertia 23878946.03279684\n",
      "Iteration 4, inertia 23801117.942580193\n",
      "Iteration 5, inertia 23755780.258517534\n",
      "Iteration 6, inertia 23706904.192614615\n",
      "Iteration 7, inertia 23695708.332689553\n",
      "Iteration 8, inertia 23666941.921421755\n",
      "Iteration 9, inertia 23650361.71282272\n",
      "Iteration 10, inertia 23646201.143480927\n",
      "Iteration 11, inertia 23642653.74250066\n",
      "Iteration 12, inertia 23634859.936548352\n",
      "Iteration 13, inertia 23620400.02853522\n",
      "Iteration 14, inertia 23585003.301701896\n",
      "Iteration 15, inertia 23526605.729721464\n",
      "Iteration 16, inertia 23432186.26632054\n",
      "Iteration 17, inertia 23419723.50019139\n",
      "Iteration 18, inertia 23417969.781101122\n",
      "Iteration 19, inertia 23417687.884921357\n",
      "Iteration 20, inertia 23417616.39520979\n",
      "Iteration 21, inertia 23417579.998344716\n",
      "Iteration 22, inertia 23417554.61515197\n",
      "Iteration 23, inertia 23417537.547560804\n",
      "Iteration 24, inertia 23417528.825009473\n",
      "Iteration 25, inertia 23417519.633731365\n",
      "Iteration 26, inertia 23417515.44096332\n",
      "Iteration 27, inertia 23417512.958035167\n",
      "Iteration 28, inertia 23417512.181303352\n",
      "Iteration 29, inertia 23417511.380956393\n",
      "Iteration 30, inertia 23417510.91707869\n",
      "Iteration 31, inertia 23417510.466290064\n",
      "Iteration 32, inertia 23417510.217657022\n",
      "Iteration 33, inertia 23417509.89802796\n",
      "Converged at iteration 33: center shift 6.916972605300821e-06 within tolerance 8.026990365996168e-06.\n",
      "Initialization complete\n",
      "Iteration 0, inertia 34076764.0\n",
      "Iteration 1, inertia 23809214.76085646\n",
      "Iteration 2, inertia 23367509.100521468\n",
      "Iteration 3, inertia 23234276.16664029\n",
      "Iteration 4, inertia 23170624.07170017\n",
      "Iteration 5, inertia 23129617.612106577\n",
      "Iteration 6, inertia 23030224.661752135\n",
      "Iteration 7, inertia 23010230.494095642\n",
      "Iteration 8, inertia 22994939.430535417\n",
      "Iteration 9, inertia 22984835.540023446\n",
      "Iteration 10, inertia 22977626.616622925\n",
      "Iteration 11, inertia 22971802.71105899\n",
      "Iteration 12, inertia 22967956.14911532\n",
      "Iteration 13, inertia 22966177.188070156\n",
      "Iteration 14, inertia 22965077.99799358\n",
      "Iteration 15, inertia 22964397.512807883\n",
      "Iteration 16, inertia 22963940.03490533\n",
      "Iteration 17, inertia 22963598.10362987\n",
      "Iteration 18, inertia 22963304.440765012\n",
      "Iteration 19, inertia 22963090.967430618\n",
      "Iteration 20, inertia 22962885.02523329\n",
      "Iteration 21, inertia 22962705.3351132\n",
      "Iteration 22, inertia 22962588.646162946\n",
      "Iteration 23, inertia 22962501.033529878\n",
      "Iteration 24, inertia 22962444.64109704\n",
      "Iteration 25, inertia 22962382.951945975\n",
      "Iteration 26, inertia 22962347.193365164\n",
      "Iteration 27, inertia 22962317.67258639\n",
      "Iteration 28, inertia 22962298.882884283\n",
      "Iteration 29, inertia 22962285.24788753\n",
      "Iteration 30, inertia 22962273.569319665\n",
      "Iteration 31, inertia 22962262.398811854\n",
      "Iteration 32, inertia 22962253.609185603\n",
      "Iteration 33, inertia 22962248.07534443\n",
      "Iteration 34, inertia 22962241.958576806\n",
      "Iteration 35, inertia 22962232.71296951\n",
      "Iteration 36, inertia 22962224.247373387\n",
      "Iteration 37, inertia 22962215.124698617\n",
      "Iteration 38, inertia 22962208.60760569\n",
      "Iteration 39, inertia 22962204.172422037\n",
      "Iteration 40, inertia 22962202.25134687\n",
      "Iteration 41, inertia 22962200.66125709\n",
      "Iteration 42, inertia 22962199.54914032\n",
      "Iteration 43, inertia 22962198.741599586\n",
      "Iteration 44, inertia 22962198.472352203\n",
      "Iteration 45, inertia 22962198.217088245\n",
      "Iteration 46, inertia 22962198.083716244\n",
      "Converged at iteration 46: center shift 5.5240275334949914e-06 within tolerance 8.026990365996168e-06.\n",
      "Initialization complete\n",
      "Iteration 0, inertia 34307067.0\n",
      "Iteration 1, inertia 23902361.623890325\n",
      "Iteration 2, inertia 23657011.012978815\n",
      "Iteration 3, inertia 23585942.953950804\n",
      "Iteration 4, inertia 23548486.98169331\n",
      "Iteration 5, inertia 23528146.79800199\n",
      "Iteration 6, inertia 23348015.75647697\n",
      "Iteration 7, inertia 23196957.194425873\n",
      "Iteration 8, inertia 23178014.437386274\n",
      "Iteration 9, inertia 23176971.56173709\n",
      "Iteration 10, inertia 23176524.505449202\n",
      "Iteration 11, inertia 23176332.321320802\n",
      "Iteration 12, inertia 23176241.769932393\n",
      "Iteration 13, inertia 23176182.820130087\n",
      "Iteration 14, inertia 23176150.028067343\n",
      "Iteration 15, inertia 23176137.348000754\n",
      "Iteration 16, inertia 23176131.328185625\n",
      "Iteration 17, inertia 23176128.843241774\n",
      "Iteration 18, inertia 23176127.620663278\n",
      "Iteration 19, inertia 23176127.031957407\n",
      "Iteration 20, inertia 23176125.626463003\n",
      "Iteration 21, inertia 23176125.32876952\n",
      "Iteration 22, inertia 23176125.134815447\n",
      "Converged at iteration 22: center shift 6.326227132607567e-06 within tolerance 8.026990365996168e-06.\n",
      "Initialization complete\n",
      "Iteration 0, inertia 34118762.0\n",
      "Iteration 1, inertia 24561401.84039376\n",
      "Iteration 2, inertia 23988725.876698125\n",
      "Iteration 3, inertia 23695426.95805668\n",
      "Iteration 4, inertia 23595332.130617514\n",
      "Iteration 5, inertia 23557367.38904772\n",
      "Iteration 6, inertia 23548998.004733857\n",
      "Iteration 7, inertia 23545148.67245575\n",
      "Iteration 8, inertia 23542277.526630454\n",
      "Iteration 9, inertia 23539359.78886515\n",
      "Iteration 10, inertia 23535515.030705493\n",
      "Iteration 11, inertia 23530355.76796477\n",
      "Iteration 12, inertia 23526067.01101518\n",
      "Iteration 13, inertia 23522992.835646026\n",
      "Iteration 14, inertia 23520877.035861477\n",
      "Iteration 15, inertia 23519315.058802716\n",
      "Iteration 16, inertia 23518085.116059065\n",
      "Iteration 17, inertia 23516861.592594605\n",
      "Iteration 18, inertia 23515309.9154192\n",
      "Iteration 19, inertia 23513483.089760125\n",
      "Iteration 20, inertia 23511534.319661207\n",
      "Iteration 21, inertia 23509201.62040474\n",
      "Iteration 22, inertia 23506660.866313055\n",
      "Iteration 23, inertia 23504268.751933485\n",
      "Iteration 24, inertia 23502010.46826796\n",
      "Iteration 25, inertia 23500077.035712697\n",
      "Iteration 26, inertia 23498643.448928513\n",
      "Iteration 27, inertia 23497456.664222002\n",
      "Iteration 28, inertia 23496517.96707558\n",
      "Iteration 29, inertia 23495590.251103323\n",
      "Iteration 30, inertia 23494777.716128107\n",
      "Iteration 31, inertia 23493617.50915663\n",
      "Iteration 32, inertia 23492945.435405307\n",
      "Iteration 33, inertia 23492557.715317413\n",
      "Iteration 34, inertia 23492332.691810966\n",
      "Iteration 35, inertia 23492178.8258558\n",
      "Iteration 36, inertia 23492095.821311325\n",
      "Iteration 37, inertia 23492056.130265653\n",
      "Iteration 38, inertia 23492030.09474787\n",
      "Iteration 39, inertia 23492006.280249894\n",
      "Iteration 40, inertia 23491984.110323608\n",
      "Iteration 41, inertia 23491968.914990623\n",
      "Iteration 42, inertia 23491957.75995534\n",
      "Iteration 43, inertia 23491950.864161693\n",
      "Iteration 44, inertia 23491943.760358892\n",
      "Iteration 45, inertia 23491937.488656342\n",
      "Iteration 46, inertia 23491933.467006825\n",
      "Iteration 47, inertia 23491931.727660492\n",
      "Iteration 48, inertia 23491930.938339807\n",
      "Iteration 49, inertia 23491930.431745075\n",
      "Initialization complete\n",
      "Iteration 0, inertia 33886028.0\n",
      "Iteration 1, inertia 23742589.024972226\n",
      "Iteration 2, inertia 23367808.93296673\n",
      "Iteration 3, inertia 23253497.86413516\n",
      "Iteration 4, inertia 23212072.79785803\n",
      "Iteration 5, inertia 22934054.873947255\n",
      "Iteration 6, inertia 22804397.67835779\n",
      "Iteration 7, inertia 22763872.17198164\n",
      "Iteration 8, inertia 22678273.3288767\n",
      "Iteration 9, inertia 22528461.76335778\n",
      "Iteration 10, inertia 22438749.666835032\n",
      "Iteration 11, inertia 22426824.502894323\n",
      "Iteration 12, inertia 22421802.57167662\n",
      "Iteration 13, inertia 22416563.39740303\n",
      "Iteration 14, inertia 22411647.3729289\n",
      "Iteration 15, inertia 22409236.339951523\n",
      "Iteration 16, inertia 22408425.22583414\n",
      "Iteration 17, inertia 22408155.21781472\n",
      "Iteration 18, inertia 22408025.29782571\n",
      "Iteration 19, inertia 22407968.2980059\n",
      "Iteration 20, inertia 22407950.94305806\n",
      "Iteration 21, inertia 22407947.41680482\n",
      "Iteration 22, inertia 22407945.439557098\n",
      "Iteration 23, inertia 22407943.375257887\n",
      "Iteration 24, inertia 22407942.947054353\n",
      "Iteration 25, inertia 22407942.656021535\n",
      "Iteration 26, inertia 22407942.486469988\n",
      "Converged at iteration 26: center shift 6.863969491017556e-06 within tolerance 8.026990365996168e-06.\n",
      "Initialization complete\n",
      "Iteration 0, inertia 33657584.0\n",
      "Iteration 1, inertia 23060442.68364569\n",
      "Iteration 2, inertia 22742977.12972964\n",
      "Iteration 3, inertia 22719889.50688556\n",
      "Iteration 4, inertia 22705548.007581472\n",
      "Iteration 5, inertia 22683820.98751992\n",
      "Iteration 6, inertia 22654416.015916936\n",
      "Iteration 7, inertia 22612191.353458613\n",
      "Iteration 8, inertia 22597995.51563391\n",
      "Iteration 9, inertia 22596044.664767537\n",
      "Iteration 10, inertia 22595074.339503665\n",
      "Iteration 11, inertia 22594751.000090018\n",
      "Iteration 12, inertia 22594629.331895657\n",
      "Iteration 13, inertia 22594559.01650262\n",
      "Iteration 14, inertia 22594494.002952375\n",
      "Iteration 15, inertia 22594421.684240267\n",
      "Iteration 16, inertia 22594371.781764876\n",
      "Iteration 17, inertia 22594343.11631336\n",
      "Iteration 18, inertia 22594328.301716894\n",
      "Iteration 19, inertia 22594319.9543821\n",
      "Iteration 20, inertia 22594316.180883918\n",
      "Iteration 21, inertia 22594314.13109071\n",
      "Iteration 22, inertia 22594311.562913567\n",
      "Iteration 23, inertia 22594309.83345365\n",
      "Converged at iteration 23: center shift 3.952920673546817e-06 within tolerance 8.026990365996168e-06.\n",
      "Initialization complete\n",
      "Iteration 0, inertia 35721526.0\n",
      "Iteration 1, inertia 24476777.274341147\n",
      "Iteration 2, inertia 24251025.933221288\n",
      "Iteration 3, inertia 24111441.31375863\n",
      "Iteration 4, inertia 23965224.39559834\n",
      "Iteration 5, inertia 23805528.721659172\n",
      "Iteration 6, inertia 23717219.282476142\n",
      "Iteration 7, inertia 23600116.52855751\n",
      "Iteration 8, inertia 23450627.85461823\n",
      "Iteration 9, inertia 23327969.15961399\n",
      "Iteration 10, inertia 23295540.731310464\n",
      "Iteration 11, inertia 23244463.61619385\n",
      "Iteration 12, inertia 23239034.405831903\n",
      "Iteration 13, inertia 23238747.895517305\n",
      "Iteration 14, inertia 23238602.153456233\n",
      "Iteration 15, inertia 23238461.81479437\n",
      "Iteration 16, inertia 23238249.97367378\n",
      "Iteration 17, inertia 23237784.166390605\n",
      "Iteration 18, inertia 23236917.723837767\n",
      "Iteration 19, inertia 23235865.39292495\n",
      "Iteration 20, inertia 23235251.44652712\n",
      "Iteration 21, inertia 23234714.8522481\n",
      "Iteration 22, inertia 23234170.67679398\n",
      "Iteration 23, inertia 23233616.100618344\n",
      "Iteration 24, inertia 23233146.480657667\n",
      "Iteration 25, inertia 23232722.100719456\n",
      "Iteration 26, inertia 23232447.161630437\n",
      "Iteration 27, inertia 23232283.063055605\n",
      "Iteration 28, inertia 23232114.807909217\n",
      "Iteration 29, inertia 23231911.543733813\n",
      "Iteration 30, inertia 23231762.136390835\n",
      "Iteration 31, inertia 23231665.22702062\n",
      "Iteration 32, inertia 23231602.930833623\n",
      "Iteration 33, inertia 23231559.205679316\n",
      "Iteration 34, inertia 23231530.680196725\n",
      "Iteration 35, inertia 23231505.81973376\n",
      "Iteration 36, inertia 23231481.25878898\n",
      "Iteration 37, inertia 23231468.873234794\n",
      "Iteration 38, inertia 23231460.68114134\n",
      "Iteration 39, inertia 23231457.339213364\n",
      "Iteration 40, inertia 23231455.74941297\n",
      "Iteration 41, inertia 23231454.746474482\n",
      "Iteration 42, inertia 23231453.858109266\n",
      "Iteration 43, inertia 23231451.759488527\n",
      "Iteration 44, inertia 23231448.76671171\n",
      "Iteration 45, inertia 23231444.621565413\n",
      "Iteration 46, inertia 23231440.259858586\n",
      "Iteration 47, inertia 23231437.93494325\n",
      "Iteration 48, inertia 23231435.40636807\n",
      "Iteration 49, inertia 23231432.30381781\n"
     ]
    },
    {
     "data": {
      "text/plain": [
       "KMeans(max_iter=50, n_clusters=10, random_state=42, verbose=1)"
      ]
     },
     "execution_count": 83,
     "metadata": {},
     "output_type": "execute_result"
    }
   ],
   "source": [
    "Kmean.fit(rxn_diff_fp)"
   ]
  },
  {
   "cell_type": "code",
   "execution_count": 84,
   "id": "a2cf55ed",
   "metadata": {},
   "outputs": [
    {
     "data": {
      "text/plain": [
       "-22407942.357398737"
      ]
     },
     "execution_count": 84,
     "metadata": {},
     "output_type": "execute_result"
    }
   ],
   "source": [
    "Kmean.score(rxn_diff_fp)"
   ]
  },
  {
   "cell_type": "code",
   "execution_count": 85,
   "id": "b3a78735",
   "metadata": {},
   "outputs": [
    {
     "data": {
      "text/plain": [
       "array([3, 1, 3, ..., 3, 3, 3], dtype=int32)"
      ]
     },
     "execution_count": 85,
     "metadata": {},
     "output_type": "execute_result"
    }
   ],
   "source": [
    "Kmean.labels_"
   ]
  },
  {
   "cell_type": "markdown",
   "id": "20c9fd31",
   "metadata": {},
   "source": [
    "# NN modelling"
   ]
  },
  {
   "cell_type": "code",
   "execution_count": 112,
   "id": "ac83b1b6",
   "metadata": {},
   "outputs": [],
   "source": [
    "from tensorflow.keras.models import Sequential\n",
    "from tensorflow.keras.layers import Dense\n",
    "from sklearn.preprocessing import OneHotEncoder\n",
    "from sklearn.model_selection import train_test_split"
   ]
  },
  {
   "cell_type": "code",
   "execution_count": 93,
   "id": "753ca4a6",
   "metadata": {},
   "outputs": [
    {
     "data": {
      "text/plain": [
       "4"
      ]
     },
     "execution_count": 93,
     "metadata": {},
     "output_type": "execute_result"
    }
   ],
   "source": [
    "len(set([1,2,3,4,3]))"
   ]
  },
  {
   "cell_type": "code",
   "execution_count": 97,
   "id": "ff1332e0",
   "metadata": {},
   "outputs": [
    {
     "name": "stderr",
     "output_type": "stream",
     "text": [
      "100%|██████████| 400604/400604 [01:45<00:00, 3787.27it/s]"
     ]
    },
    {
     "name": "stdout",
     "output_type": "stream",
     "text": [
      "5392\n"
     ]
    },
    {
     "name": "stderr",
     "output_type": "stream",
     "text": [
      "\n"
     ]
    }
   ],
   "source": [
    "# create one-hot encoding of reagent1_list\n",
    "\n",
    "#start by canonicalising all the reagents\n",
    "reag  = []\n",
    "for smiles in tqdm(reagent1_list):\n",
    "    try:\n",
    "        canon_smiles = Chem.MolToSmiles(Chem.MolFromSmiles(smiles))\n",
    "        reag += [canon_smiles]\n",
    "    except TypeError:\n",
    "        reag += [np.nan]\n",
    "print(len(set(reag)))\n",
    "reag = np.array(reag)"
   ]
  },
  {
   "cell_type": "code",
   "execution_count": 104,
   "id": "ecbf1fd4",
   "metadata": {},
   "outputs": [
    {
     "data": {
      "text/plain": [
       "OneHotEncoder(handle_unknown='ignore')"
      ]
     },
     "execution_count": 104,
     "metadata": {},
     "output_type": "execute_result"
    }
   ],
   "source": [
    "# Now do the one-hot encoding\n",
    "enc = OneHotEncoder(handle_unknown='ignore')\n",
    "reag_reshaped = reag.reshape(-1, 1)\n",
    "enc.fit(reag_reshaped)"
   ]
  },
  {
   "cell_type": "code",
   "execution_count": 106,
   "id": "87666904",
   "metadata": {},
   "outputs": [],
   "source": [
    "reag_ohe = enc.transform(reag_reshaped).toarray()"
   ]
  },
  {
   "cell_type": "code",
   "execution_count": 108,
   "id": "ed462433",
   "metadata": {},
   "outputs": [
    {
     "data": {
      "text/plain": [
       "(400604, 5392)"
      ]
     },
     "execution_count": 108,
     "metadata": {},
     "output_type": "execute_result"
    }
   ],
   "source": [
    "reag_ohe.shape"
   ]
  },
  {
   "cell_type": "code",
   "execution_count": 122,
   "id": "41519d44",
   "metadata": {},
   "outputs": [
    {
     "ename": "AttributeError",
     "evalue": "module 'pyarrow' has no attribute 'parquet'",
     "output_type": "error",
     "traceback": [
      "\u001b[0;31m---------------------------------------------------------------------------\u001b[0m",
      "\u001b[0;31mAttributeError\u001b[0m                            Traceback (most recent call last)",
      "\u001b[1;32m/Users/dsw46/Library/CloudStorage/OneDrive-UniversityofCambridge/Cambridge/Projects/chem_param_sharing_joe/chemical-parameter-sharing/Modelling.ipynb Cell 31\u001b[0m in \u001b[0;36m<cell line: 3>\u001b[0;34m()\u001b[0m\n\u001b[1;32m      <a href='vscode-notebook-cell:/Users/dsw46/Library/CloudStorage/OneDrive-UniversityofCambridge/Cambridge/Projects/chem_param_sharing_joe/chemical-parameter-sharing/Modelling.ipynb#Y156sZmlsZQ%3D%3D?line=0'>1</a>\u001b[0m \u001b[39m#y: one hot encoding of reagent 1\u001b[39;00m\n\u001b[1;32m      <a href='vscode-notebook-cell:/Users/dsw46/Library/CloudStorage/OneDrive-UniversityofCambridge/Cambridge/Projects/chem_param_sharing_joe/chemical-parameter-sharing/Modelling.ipynb#Y156sZmlsZQ%3D%3D?line=1'>2</a>\u001b[0m y_reag_ohe \u001b[39m=\u001b[39m pa\u001b[39m.\u001b[39mtable(pd\u001b[39m.\u001b[39mDataFrame(reag_ohe))\n\u001b[0;32m----> <a href='vscode-notebook-cell:/Users/dsw46/Library/CloudStorage/OneDrive-UniversityofCambridge/Cambridge/Projects/chem_param_sharing_joe/chemical-parameter-sharing/Modelling.ipynb#Y156sZmlsZQ%3D%3D?line=2'>3</a>\u001b[0m pa\u001b[39m.\u001b[39mparquet\u001b[39m.\u001b[39mwrite_table(y_reag_ohe, \u001b[39m\"\u001b[39m\u001b[39mdata/USPTO_from_reaxys/reag_ohe.parquet\u001b[39m\u001b[39m\"\u001b[39m)\n",
      "File \u001b[0;32m~/opt/anaconda3/envs/dswigh_default/lib/python3.9/site-packages/pyarrow/__init__.py:335\u001b[0m, in \u001b[0;36m__getattr__\u001b[0;34m(name)\u001b[0m\n\u001b[1;32m    331\u001b[0m     _warnings\u001b[39m.\u001b[39mwarn(_serialization_msg\u001b[39m.\u001b[39mformat(name),\n\u001b[1;32m    332\u001b[0m                    \u001b[39mFutureWarning\u001b[39;00m, stacklevel\u001b[39m=\u001b[39m\u001b[39m2\u001b[39m)\n\u001b[1;32m    333\u001b[0m     \u001b[39mreturn\u001b[39;00m _serialization_deprecatd[name]\n\u001b[0;32m--> 335\u001b[0m \u001b[39mraise\u001b[39;00m \u001b[39mAttributeError\u001b[39;00m(\n\u001b[1;32m    336\u001b[0m     \u001b[39m\"\u001b[39m\u001b[39mmodule \u001b[39m\u001b[39m'\u001b[39m\u001b[39mpyarrow\u001b[39m\u001b[39m'\u001b[39m\u001b[39m has no attribute \u001b[39m\u001b[39m'\u001b[39m\u001b[39m{0}\u001b[39;00m\u001b[39m'\u001b[39m\u001b[39m\"\u001b[39m\u001b[39m.\u001b[39mformat(name)\n\u001b[1;32m    337\u001b[0m )\n",
      "\u001b[0;31mAttributeError\u001b[0m: module 'pyarrow' has no attribute 'parquet'"
     ]
    }
   ],
   "source": [
    "#y: one hot encoding of reagent 1\n",
    "y_reag_ohe = pa.table(pd.DataFrame(reag_ohe))\n",
    "pa.parquet.write_table(y_reag_ohe, \"data/USPTO_from_reaxys/reag_ohe.parquet\")"
   ]
  },
  {
   "cell_type": "markdown",
   "id": "66f0c0da",
   "metadata": {},
   "source": [
    "## Fully connected"
   ]
  },
  {
   "cell_type": "code",
   "execution_count": 113,
   "id": "d02f61b5",
   "metadata": {},
   "outputs": [],
   "source": [
    "X = rxn_diff_fp\n",
    "y = reag_ohe\n",
    "X_train, X_test, y_train, y_test = train_test_split(X, y, test_size=0.2, random_state=42)"
   ]
  },
  {
   "cell_type": "code",
   "execution_count": 109,
   "id": "8ee7045b",
   "metadata": {},
   "outputs": [
    {
     "name": "stderr",
     "output_type": "stream",
     "text": [
      "2022-12-05 02:07:54.934999: I tensorflow/core/platform/cpu_feature_guard.cc:193] This TensorFlow binary is optimized with oneAPI Deep Neural Network Library (oneDNN) to use the following CPU instructions in performance-critical operations:  AVX2 FMA\n",
      "To enable them in other operations, rebuild TensorFlow with the appropriate compiler flags.\n"
     ]
    }
   ],
   "source": [
    "# define the keras model\n",
    "model = Sequential()\n",
    "model.add(Dense(6000, input_shape=(1024,), activation='relu'))\n",
    "model.add(Dense(6000, activation='relu'))\n",
    "model.add(Dense(5392, activation='sigmoid'))\n",
    "# compile the keras model\n",
    "model.compile(loss='binary_crossentropy', optimizer='adam', metrics=['accuracy'])"
   ]
  },
  {
   "cell_type": "code",
   "execution_count": 114,
   "id": "00a2d4e5",
   "metadata": {},
   "outputs": [
    {
     "name": "stdout",
     "output_type": "stream",
     "text": [
      "Epoch 1/50\n",
      "33/33 [==============================] - 760s 23s/step - loss: 0.0039 - accuracy: 0.0724\n",
      "Epoch 2/50\n",
      "33/33 [==============================] - 676s 20s/step - loss: 0.0029 - accuracy: 0.1816\n",
      "Epoch 3/50\n",
      "33/33 [==============================] - 655s 20s/step - loss: 0.0017 - accuracy: 0.2633\n",
      "Epoch 4/50\n",
      "33/33 [==============================] - 623s 19s/step - loss: 0.0013 - accuracy: 0.2789\n",
      "Epoch 5/50\n",
      "33/33 [==============================] - 620s 19s/step - loss: 0.0012 - accuracy: 0.2939\n",
      "Epoch 6/50\n",
      "33/33 [==============================] - 661s 20s/step - loss: 0.0011 - accuracy: 0.3070\n",
      "Epoch 7/50\n",
      "33/33 [==============================] - 651s 20s/step - loss: 0.0010 - accuracy: 0.3202\n",
      "Epoch 8/50\n",
      "33/33 [==============================] - 20625s 644s/step - loss: 9.6839e-04 - accuracy: 0.3332\n",
      "Epoch 9/50\n",
      "33/33 [==============================] - 673s 20s/step - loss: 9.2571e-04 - accuracy: 0.3442\n",
      "Epoch 10/50\n",
      "22/33 [===================>..........] - ETA: 18:49 - loss: 8.9319e-04 - accuracy: 0.3529"
     ]
    },
    {
     "ename": "KeyboardInterrupt",
     "evalue": "",
     "output_type": "error",
     "traceback": [
      "\u001b[0;31m---------------------------------------------------------------------------\u001b[0m",
      "\u001b[0;31mKeyboardInterrupt\u001b[0m                         Traceback (most recent call last)",
      "\u001b[1;32m/Users/dsw46/Library/CloudStorage/OneDrive-UniversityofCambridge/Cambridge/Projects/chem_param_sharing_joe/chemical-parameter-sharing/Modelling.ipynb Cell 33\u001b[0m in \u001b[0;36m<cell line: 2>\u001b[0;34m()\u001b[0m\n\u001b[1;32m      <a href='vscode-notebook-cell:/Users/dsw46/Library/CloudStorage/OneDrive-UniversityofCambridge/Cambridge/Projects/chem_param_sharing_joe/chemical-parameter-sharing/Modelling.ipynb#Y132sZmlsZQ%3D%3D?line=0'>1</a>\u001b[0m \u001b[39m# fit the keras model on the dataset\u001b[39;00m\n\u001b[0;32m----> <a href='vscode-notebook-cell:/Users/dsw46/Library/CloudStorage/OneDrive-UniversityofCambridge/Cambridge/Projects/chem_param_sharing_joe/chemical-parameter-sharing/Modelling.ipynb#Y132sZmlsZQ%3D%3D?line=1'>2</a>\u001b[0m model\u001b[39m.\u001b[39mfit(X_train, y_train, epochs\u001b[39m=\u001b[39m\u001b[39m50\u001b[39m, batch_size\u001b[39m=\u001b[39m\u001b[39m10000\u001b[39m)\n",
      "File \u001b[0;32m~/opt/anaconda3/envs/dswigh_default/lib/python3.9/site-packages/keras/utils/traceback_utils.py:65\u001b[0m, in \u001b[0;36mfilter_traceback.<locals>.error_handler\u001b[0;34m(*args, **kwargs)\u001b[0m\n\u001b[1;32m     63\u001b[0m filtered_tb \u001b[39m=\u001b[39m \u001b[39mNone\u001b[39;00m\n\u001b[1;32m     64\u001b[0m \u001b[39mtry\u001b[39;00m:\n\u001b[0;32m---> 65\u001b[0m     \u001b[39mreturn\u001b[39;00m fn(\u001b[39m*\u001b[39;49margs, \u001b[39m*\u001b[39;49m\u001b[39m*\u001b[39;49mkwargs)\n\u001b[1;32m     66\u001b[0m \u001b[39mexcept\u001b[39;00m \u001b[39mException\u001b[39;00m \u001b[39mas\u001b[39;00m e:\n\u001b[1;32m     67\u001b[0m     filtered_tb \u001b[39m=\u001b[39m _process_traceback_frames(e\u001b[39m.\u001b[39m__traceback__)\n",
      "File \u001b[0;32m~/opt/anaconda3/envs/dswigh_default/lib/python3.9/site-packages/keras/engine/training.py:1564\u001b[0m, in \u001b[0;36mModel.fit\u001b[0;34m(self, x, y, batch_size, epochs, verbose, callbacks, validation_split, validation_data, shuffle, class_weight, sample_weight, initial_epoch, steps_per_epoch, validation_steps, validation_batch_size, validation_freq, max_queue_size, workers, use_multiprocessing)\u001b[0m\n\u001b[1;32m   1556\u001b[0m \u001b[39mwith\u001b[39;00m tf\u001b[39m.\u001b[39mprofiler\u001b[39m.\u001b[39mexperimental\u001b[39m.\u001b[39mTrace(\n\u001b[1;32m   1557\u001b[0m     \u001b[39m\"\u001b[39m\u001b[39mtrain\u001b[39m\u001b[39m\"\u001b[39m,\n\u001b[1;32m   1558\u001b[0m     epoch_num\u001b[39m=\u001b[39mepoch,\n\u001b[0;32m   (...)\u001b[0m\n\u001b[1;32m   1561\u001b[0m     _r\u001b[39m=\u001b[39m\u001b[39m1\u001b[39m,\n\u001b[1;32m   1562\u001b[0m ):\n\u001b[1;32m   1563\u001b[0m     callbacks\u001b[39m.\u001b[39mon_train_batch_begin(step)\n\u001b[0;32m-> 1564\u001b[0m     tmp_logs \u001b[39m=\u001b[39m \u001b[39mself\u001b[39;49m\u001b[39m.\u001b[39;49mtrain_function(iterator)\n\u001b[1;32m   1565\u001b[0m     \u001b[39mif\u001b[39;00m data_handler\u001b[39m.\u001b[39mshould_sync:\n\u001b[1;32m   1566\u001b[0m         context\u001b[39m.\u001b[39masync_wait()\n",
      "File \u001b[0;32m~/opt/anaconda3/envs/dswigh_default/lib/python3.9/site-packages/tensorflow/python/util/traceback_utils.py:150\u001b[0m, in \u001b[0;36mfilter_traceback.<locals>.error_handler\u001b[0;34m(*args, **kwargs)\u001b[0m\n\u001b[1;32m    148\u001b[0m filtered_tb \u001b[39m=\u001b[39m \u001b[39mNone\u001b[39;00m\n\u001b[1;32m    149\u001b[0m \u001b[39mtry\u001b[39;00m:\n\u001b[0;32m--> 150\u001b[0m   \u001b[39mreturn\u001b[39;00m fn(\u001b[39m*\u001b[39;49margs, \u001b[39m*\u001b[39;49m\u001b[39m*\u001b[39;49mkwargs)\n\u001b[1;32m    151\u001b[0m \u001b[39mexcept\u001b[39;00m \u001b[39mException\u001b[39;00m \u001b[39mas\u001b[39;00m e:\n\u001b[1;32m    152\u001b[0m   filtered_tb \u001b[39m=\u001b[39m _process_traceback_frames(e\u001b[39m.\u001b[39m__traceback__)\n",
      "File \u001b[0;32m~/opt/anaconda3/envs/dswigh_default/lib/python3.9/site-packages/tensorflow/python/eager/def_function.py:915\u001b[0m, in \u001b[0;36mFunction.__call__\u001b[0;34m(self, *args, **kwds)\u001b[0m\n\u001b[1;32m    912\u001b[0m compiler \u001b[39m=\u001b[39m \u001b[39m\"\u001b[39m\u001b[39mxla\u001b[39m\u001b[39m\"\u001b[39m \u001b[39mif\u001b[39;00m \u001b[39mself\u001b[39m\u001b[39m.\u001b[39m_jit_compile \u001b[39melse\u001b[39;00m \u001b[39m\"\u001b[39m\u001b[39mnonXla\u001b[39m\u001b[39m\"\u001b[39m\n\u001b[1;32m    914\u001b[0m \u001b[39mwith\u001b[39;00m OptionalXlaContext(\u001b[39mself\u001b[39m\u001b[39m.\u001b[39m_jit_compile):\n\u001b[0;32m--> 915\u001b[0m   result \u001b[39m=\u001b[39m \u001b[39mself\u001b[39;49m\u001b[39m.\u001b[39;49m_call(\u001b[39m*\u001b[39;49margs, \u001b[39m*\u001b[39;49m\u001b[39m*\u001b[39;49mkwds)\n\u001b[1;32m    917\u001b[0m new_tracing_count \u001b[39m=\u001b[39m \u001b[39mself\u001b[39m\u001b[39m.\u001b[39mexperimental_get_tracing_count()\n\u001b[1;32m    918\u001b[0m without_tracing \u001b[39m=\u001b[39m (tracing_count \u001b[39m==\u001b[39m new_tracing_count)\n",
      "File \u001b[0;32m~/opt/anaconda3/envs/dswigh_default/lib/python3.9/site-packages/tensorflow/python/eager/def_function.py:947\u001b[0m, in \u001b[0;36mFunction._call\u001b[0;34m(self, *args, **kwds)\u001b[0m\n\u001b[1;32m    944\u001b[0m   \u001b[39mself\u001b[39m\u001b[39m.\u001b[39m_lock\u001b[39m.\u001b[39mrelease()\n\u001b[1;32m    945\u001b[0m   \u001b[39m# In this case we have created variables on the first call, so we run the\u001b[39;00m\n\u001b[1;32m    946\u001b[0m   \u001b[39m# defunned version which is guaranteed to never create variables.\u001b[39;00m\n\u001b[0;32m--> 947\u001b[0m   \u001b[39mreturn\u001b[39;00m \u001b[39mself\u001b[39;49m\u001b[39m.\u001b[39;49m_stateless_fn(\u001b[39m*\u001b[39;49margs, \u001b[39m*\u001b[39;49m\u001b[39m*\u001b[39;49mkwds)  \u001b[39m# pylint: disable=not-callable\u001b[39;00m\n\u001b[1;32m    948\u001b[0m \u001b[39melif\u001b[39;00m \u001b[39mself\u001b[39m\u001b[39m.\u001b[39m_stateful_fn \u001b[39mis\u001b[39;00m \u001b[39mnot\u001b[39;00m \u001b[39mNone\u001b[39;00m:\n\u001b[1;32m    949\u001b[0m   \u001b[39m# Release the lock early so that multiple threads can perform the call\u001b[39;00m\n\u001b[1;32m    950\u001b[0m   \u001b[39m# in parallel.\u001b[39;00m\n\u001b[1;32m    951\u001b[0m   \u001b[39mself\u001b[39m\u001b[39m.\u001b[39m_lock\u001b[39m.\u001b[39mrelease()\n",
      "File \u001b[0;32m~/opt/anaconda3/envs/dswigh_default/lib/python3.9/site-packages/tensorflow/python/eager/function.py:2496\u001b[0m, in \u001b[0;36mFunction.__call__\u001b[0;34m(self, *args, **kwargs)\u001b[0m\n\u001b[1;32m   2493\u001b[0m \u001b[39mwith\u001b[39;00m \u001b[39mself\u001b[39m\u001b[39m.\u001b[39m_lock:\n\u001b[1;32m   2494\u001b[0m   (graph_function,\n\u001b[1;32m   2495\u001b[0m    filtered_flat_args) \u001b[39m=\u001b[39m \u001b[39mself\u001b[39m\u001b[39m.\u001b[39m_maybe_define_function(args, kwargs)\n\u001b[0;32m-> 2496\u001b[0m \u001b[39mreturn\u001b[39;00m graph_function\u001b[39m.\u001b[39;49m_call_flat(\n\u001b[1;32m   2497\u001b[0m     filtered_flat_args, captured_inputs\u001b[39m=\u001b[39;49mgraph_function\u001b[39m.\u001b[39;49mcaptured_inputs)\n",
      "File \u001b[0;32m~/opt/anaconda3/envs/dswigh_default/lib/python3.9/site-packages/tensorflow/python/eager/function.py:1862\u001b[0m, in \u001b[0;36mConcreteFunction._call_flat\u001b[0;34m(self, args, captured_inputs, cancellation_manager)\u001b[0m\n\u001b[1;32m   1858\u001b[0m possible_gradient_type \u001b[39m=\u001b[39m gradients_util\u001b[39m.\u001b[39mPossibleTapeGradientTypes(args)\n\u001b[1;32m   1859\u001b[0m \u001b[39mif\u001b[39;00m (possible_gradient_type \u001b[39m==\u001b[39m gradients_util\u001b[39m.\u001b[39mPOSSIBLE_GRADIENT_TYPES_NONE\n\u001b[1;32m   1860\u001b[0m     \u001b[39mand\u001b[39;00m executing_eagerly):\n\u001b[1;32m   1861\u001b[0m   \u001b[39m# No tape is watching; skip to running the function.\u001b[39;00m\n\u001b[0;32m-> 1862\u001b[0m   \u001b[39mreturn\u001b[39;00m \u001b[39mself\u001b[39m\u001b[39m.\u001b[39m_build_call_outputs(\u001b[39mself\u001b[39;49m\u001b[39m.\u001b[39;49m_inference_function\u001b[39m.\u001b[39;49mcall(\n\u001b[1;32m   1863\u001b[0m       ctx, args, cancellation_manager\u001b[39m=\u001b[39;49mcancellation_manager))\n\u001b[1;32m   1864\u001b[0m forward_backward \u001b[39m=\u001b[39m \u001b[39mself\u001b[39m\u001b[39m.\u001b[39m_select_forward_and_backward_functions(\n\u001b[1;32m   1865\u001b[0m     args,\n\u001b[1;32m   1866\u001b[0m     possible_gradient_type,\n\u001b[1;32m   1867\u001b[0m     executing_eagerly)\n\u001b[1;32m   1868\u001b[0m forward_function, args_with_tangents \u001b[39m=\u001b[39m forward_backward\u001b[39m.\u001b[39mforward()\n",
      "File \u001b[0;32m~/opt/anaconda3/envs/dswigh_default/lib/python3.9/site-packages/tensorflow/python/eager/function.py:499\u001b[0m, in \u001b[0;36m_EagerDefinedFunction.call\u001b[0;34m(self, ctx, args, cancellation_manager)\u001b[0m\n\u001b[1;32m    497\u001b[0m \u001b[39mwith\u001b[39;00m _InterpolateFunctionError(\u001b[39mself\u001b[39m):\n\u001b[1;32m    498\u001b[0m   \u001b[39mif\u001b[39;00m cancellation_manager \u001b[39mis\u001b[39;00m \u001b[39mNone\u001b[39;00m:\n\u001b[0;32m--> 499\u001b[0m     outputs \u001b[39m=\u001b[39m execute\u001b[39m.\u001b[39;49mexecute(\n\u001b[1;32m    500\u001b[0m         \u001b[39mstr\u001b[39;49m(\u001b[39mself\u001b[39;49m\u001b[39m.\u001b[39;49msignature\u001b[39m.\u001b[39;49mname),\n\u001b[1;32m    501\u001b[0m         num_outputs\u001b[39m=\u001b[39;49m\u001b[39mself\u001b[39;49m\u001b[39m.\u001b[39;49m_num_outputs,\n\u001b[1;32m    502\u001b[0m         inputs\u001b[39m=\u001b[39;49margs,\n\u001b[1;32m    503\u001b[0m         attrs\u001b[39m=\u001b[39;49mattrs,\n\u001b[1;32m    504\u001b[0m         ctx\u001b[39m=\u001b[39;49mctx)\n\u001b[1;32m    505\u001b[0m   \u001b[39melse\u001b[39;00m:\n\u001b[1;32m    506\u001b[0m     outputs \u001b[39m=\u001b[39m execute\u001b[39m.\u001b[39mexecute_with_cancellation(\n\u001b[1;32m    507\u001b[0m         \u001b[39mstr\u001b[39m(\u001b[39mself\u001b[39m\u001b[39m.\u001b[39msignature\u001b[39m.\u001b[39mname),\n\u001b[1;32m    508\u001b[0m         num_outputs\u001b[39m=\u001b[39m\u001b[39mself\u001b[39m\u001b[39m.\u001b[39m_num_outputs,\n\u001b[0;32m   (...)\u001b[0m\n\u001b[1;32m    511\u001b[0m         ctx\u001b[39m=\u001b[39mctx,\n\u001b[1;32m    512\u001b[0m         cancellation_manager\u001b[39m=\u001b[39mcancellation_manager)\n",
      "File \u001b[0;32m~/opt/anaconda3/envs/dswigh_default/lib/python3.9/site-packages/tensorflow/python/eager/execute.py:54\u001b[0m, in \u001b[0;36mquick_execute\u001b[0;34m(op_name, num_outputs, inputs, attrs, ctx, name)\u001b[0m\n\u001b[1;32m     52\u001b[0m \u001b[39mtry\u001b[39;00m:\n\u001b[1;32m     53\u001b[0m   ctx\u001b[39m.\u001b[39mensure_initialized()\n\u001b[0;32m---> 54\u001b[0m   tensors \u001b[39m=\u001b[39m pywrap_tfe\u001b[39m.\u001b[39;49mTFE_Py_Execute(ctx\u001b[39m.\u001b[39;49m_handle, device_name, op_name,\n\u001b[1;32m     55\u001b[0m                                       inputs, attrs, num_outputs)\n\u001b[1;32m     56\u001b[0m \u001b[39mexcept\u001b[39;00m core\u001b[39m.\u001b[39m_NotOkStatusException \u001b[39mas\u001b[39;00m e:\n\u001b[1;32m     57\u001b[0m   \u001b[39mif\u001b[39;00m name \u001b[39mis\u001b[39;00m \u001b[39mnot\u001b[39;00m \u001b[39mNone\u001b[39;00m:\n",
      "\u001b[0;31mKeyboardInterrupt\u001b[0m: "
     ]
    }
   ],
   "source": [
    "# fit the keras model on the dataset\n",
    "model.fit(X_train, y_train, epochs=50, batch_size=10000)\n"
   ]
  },
  {
   "cell_type": "code",
   "execution_count": 116,
   "id": "3e7482a0",
   "metadata": {},
   "outputs": [
    {
     "name": "stdout",
     "output_type": "stream",
     "text": [
      "2504/2504 [==============================] - 118s 47ms/step - loss: 9.1857e-04 - accuracy: 0.3512\n",
      "Accuracy: 35.12\n"
     ]
    }
   ],
   "source": [
    "# evaluate the keras model\n",
    "_, accuracy = model.evaluate(X_test, y_test)\n",
    "print('Accuracy: %.2f' % (accuracy*100))"
   ]
  },
  {
   "cell_type": "markdown",
   "id": "da606758",
   "metadata": {},
   "source": []
  }
 ],
 "metadata": {
  "kernelspec": {
   "display_name": "chemistry",
   "language": "python",
   "name": "python3"
  },
  "language_info": {
   "codemirror_mode": {
    "name": "ipython",
    "version": 3
   },
   "file_extension": ".py",
   "mimetype": "text/x-python",
   "name": "python",
   "nbconvert_exporter": "python",
   "pygments_lexer": "ipython3",
   "version": "3.10.8"
  },
  "toc": {
   "base_numbering": 1,
   "nav_menu": {},
   "number_sections": true,
   "sideBar": true,
   "skip_h1_title": false,
   "title_cell": "Table of Contents",
   "title_sidebar": "Contents",
   "toc_cell": true,
   "toc_position": {},
   "toc_section_display": true,
   "toc_window_display": true
  },
  "varInspector": {
   "cols": {
    "lenName": 16,
    "lenType": 16,
    "lenVar": 40
   },
   "kernels_config": {
    "python": {
     "delete_cmd_postfix": "",
     "delete_cmd_prefix": "del ",
     "library": "var_list.py",
     "varRefreshCmd": "print(var_dic_list())"
    },
    "r": {
     "delete_cmd_postfix": ") ",
     "delete_cmd_prefix": "rm(",
     "library": "var_list.r",
     "varRefreshCmd": "cat(var_dic_list()) "
    }
   },
   "types_to_exclude": [
    "module",
    "function",
    "builtin_function_or_method",
    "instance",
    "_Feature"
   ],
   "window_display": false
  },
  "vscode": {
   "interpreter": {
    "hash": "c1a6c9805cce96d1e29a306d4faa1abec69cf2c9ee1771799b926a7cc969fbbc"
   }
  }
 },
 "nbformat": 4,
 "nbformat_minor": 5
}
