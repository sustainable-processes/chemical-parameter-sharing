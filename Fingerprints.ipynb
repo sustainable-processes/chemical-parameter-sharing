{
 "cells": [
  {
   "cell_type": "markdown",
   "id": "f20d4c9b",
   "metadata": {
    "toc": true
   },
   "source": [
    "<h1>Table of Contents<span class=\"tocSkip\"></span></h1>\n",
    "<div class=\"toc\"><ul class=\"toc-item\"><li><span><a href=\"#Process-the-reaction-string\" data-toc-modified-id=\"Process-the-reaction-string-1\"><span class=\"toc-item-num\">1&nbsp;&nbsp;</span>Process the reaction string</a></span></li><li><span><a href=\"#Calculate-the-FP\" data-toc-modified-id=\"Calculate-the-FP-2\"><span class=\"toc-item-num\">2&nbsp;&nbsp;</span>Calculate the FP</a></span></li></ul></div>"
   ]
  },
  {
   "cell_type": "code",
   "execution_count": null,
   "id": "5f477c3e",
   "metadata": {
    "ExecuteTime": {
     "end_time": "2022-11-30T19:31:48.062084Z",
     "start_time": "2022-11-30T19:31:45.231622Z"
    }
   },
   "outputs": [],
   "source": [
    "from rdkit import DataStructs\n",
    "from rdkit import Chem\n",
    "from rdkit.Chem import AllChem"
   ]
  },
  {
   "cell_type": "markdown",
   "id": "6fbeb994",
   "metadata": {},
   "source": [
    "# Process the reaction string"
   ]
  },
  {
   "cell_type": "code",
   "execution_count": null,
   "id": "f80035d5",
   "metadata": {},
   "outputs": [],
   "source": [
    "reactant1 = []\n",
    "reactant2 = []\n",
    "solvent = []\n",
    "reagent1 = []\n",
    "reagent2 = []\n",
    "\n",
    "for i in range(len(LHS.index)):\n",
    "    molecules = LHS.iloc[i, :].sort_values(key=lambda x: x.str.len(), ascending = False, ignore_index = True)\n",
    "    reactant1 += [molecules[0]]\n",
    "    reactant2 += [molecules[1]]\n",
    "    solvent += [molecules[2]]\n",
    "    reagent1 += [molecules[3]]\n",
    "    reagent2 += [molecules[4]]\n",
    "    \n",
    "product = rxn.products\n",
    "\n",
    "reaction_df = pd.DataFrame([reactant1, reactant2, solvent, reagent1, reagent2, product]).T\n",
    "reaction_df.columns = ['reactant1', 'reactant2', 'solvent', 'reagent1', 'reagent2', 'product']"
   ]
  },
  {
   "cell_type": "code",
   "execution_count": null,
   "id": "2498eafc",
   "metadata": {},
   "outputs": [],
   "source": []
  },
  {
   "cell_type": "markdown",
   "id": "13d98b18",
   "metadata": {},
   "source": [
    "# Calculate the FP"
   ]
  },
  {
   "cell_type": "code",
   "execution_count": null,
   "id": "dd557f55",
   "metadata": {
    "ExecuteTime": {
     "end_time": "2022-11-30T19:31:56.466786Z",
     "start_time": "2022-11-30T19:31:56.350510Z"
    }
   },
   "outputs": [],
   "source": [
    "# Calculate rxn difference fp for all rows in the df\n",
    "rxn_fps = []\n",
    "solvent_fp = []\n",
    "for i in range(len(reaction_df.index)):\n",
    "    #convert to mole object\n",
    "    mol1 = Chem.MolFromSmiles(reaction_df['reactant1'][i])\n",
    "    mol2 = Chem.MolFromSmiles(reaction_df['reactant2'][i])\n",
    "    mol3 = Chem.MolFromSmiles(reaction_df['product'][i])\n",
    "    try:\n",
    "        mol4 = Chem.MolFromSmiles(reaction_df['solvent'][i])\n",
    "    except:\n",
    "        continue\n",
    "    \n",
    "    #calculate fp\n",
    "    fp1 = AllChem.GetHashedMorganFingerprint(mol1, 2, nBits=128)\n",
    "    fp2 = AllChem.GetHashedMorganFingerprint(mol2, 2, nBits=128)\n",
    "    fp3 = AllChem.GetHashedMorganFingerprint(mol3, 2, nBits=128)\n",
    "    fp4 = AllChem.GetHashedMorganFingerprint(mol4, 2, nBits=128)\n",
    "    \n",
    "    # convert to array\n",
    "    array1 = np.zeros((0, ), dtype=np.int8)\n",
    "    array2 = np.zeros((0, ), dtype=np.int8)\n",
    "    array3 = np.zeros((0, ), dtype=np.int8)\n",
    "    array4 = np.zeros((0, ), dtype=np.int8)\n",
    "    \n",
    "    DataStructs.ConvertToNumpyArray(fp1, array1)\n",
    "    DataStructs.ConvertToNumpyArray(fp2, array2)\n",
    "    DataStructs.ConvertToNumpyArray(fp3, array3)\n",
    "    DataStructs.ConvertToNumpyArray(fp4, array4)\n",
    "    \n",
    "    \n",
    "    rxn_fp = array3-array2-array1\n",
    "    rxn_fps += [rxn_fp]\n",
    "    solvent_fp += [array4]\n",
    "\n",
    "\n",
    "    \n",
    "    \n",
    "    "
   ]
  },
  {
   "cell_type": "code",
   "execution_count": null,
   "id": "5198a25b",
   "metadata": {},
   "outputs": [],
   "source": [
    "len(solvent_fp)"
   ]
  }
 ],
 "metadata": {
  "kernelspec": {
   "display_name": "Python 3.9.13 ('cps-env')",
   "language": "python",
   "name": "python3"
  },
  "language_info": {
   "codemirror_mode": {
    "name": "ipython",
    "version": 3
   },
   "file_extension": ".py",
   "mimetype": "text/x-python",
   "name": "python",
   "nbconvert_exporter": "python",
   "pygments_lexer": "ipython3",
   "version": "3.9.13"
  },
  "toc": {
   "base_numbering": 1,
   "nav_menu": {},
   "number_sections": true,
   "sideBar": true,
   "skip_h1_title": false,
   "title_cell": "Table of Contents",
   "title_sidebar": "Contents",
   "toc_cell": true,
   "toc_position": {},
   "toc_section_display": true,
   "toc_window_display": true
  },
  "varInspector": {
   "cols": {
    "lenName": 16,
    "lenType": 16,
    "lenVar": 40
   },
   "kernels_config": {
    "python": {
     "delete_cmd_postfix": "",
     "delete_cmd_prefix": "del ",
     "library": "var_list.py",
     "varRefreshCmd": "print(var_dic_list())"
    },
    "r": {
     "delete_cmd_postfix": ") ",
     "delete_cmd_prefix": "rm(",
     "library": "var_list.r",
     "varRefreshCmd": "cat(var_dic_list()) "
    }
   },
   "types_to_exclude": [
    "module",
    "function",
    "builtin_function_or_method",
    "instance",
    "_Feature"
   ],
   "window_display": false
  },
  "vscode": {
   "interpreter": {
    "hash": "8a8c66dd8df8d8e9fce8cd6f94944dc962461cf40f8c855feba90b69189199c9"
   }
  }
 },
 "nbformat": 4,
 "nbformat_minor": 5
}
