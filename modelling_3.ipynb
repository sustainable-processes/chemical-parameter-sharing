{
 "cells": [
  {
   "cell_type": "markdown",
   "metadata": {},
   "source": [
    "# Read in data"
   ]
  },
  {
   "cell_type": "code",
   "execution_count": 1,
   "metadata": {},
   "outputs": [],
   "source": [
    "import pandas as pd\n",
    "from rdkit import Chem\n",
    "from rdkit import DataStructs\n",
    "from rdkit.Chem import AllChem\n",
    "import numpy as np\n",
    "from tqdm import tqdm\n",
    "from tqdm import trange\n",
    "import matplotlib.pyplot as plt\n",
    "# import pyarrow as pa"
   ]
  },
  {
   "cell_type": "code",
   "execution_count": 2,
   "metadata": {},
   "outputs": [],
   "source": [
    "\"\"\"\n",
    "Disables RDKit whiny logging.\n",
    "\"\"\"\n",
    "import rdkit.rdBase as rkrb\n",
    "import rdkit.RDLogger as rkl\n",
    "logger = rkl.logger()\n",
    "logger.setLevel(rkl.ERROR)\n",
    "rkrb.DisableLog('rdApp.error')"
   ]
  },
  {
   "cell_type": "code",
   "execution_count": 3,
   "metadata": {},
   "outputs": [],
   "source": [
    "# This is the data preprocessed in USPTO_preprocessing.ipynb\n",
    "# There's around 500k reactions, and columns for reactant, product, solvent, reagent, etc.\n",
    "# So there's quite a bit more data than in Modelling.ipynb"
   ]
  },
  {
   "cell_type": "code",
   "execution_count": 4,
   "metadata": {},
   "outputs": [],
   "source": [
    "# read in pickled clean data\n",
    "cleaned_df = pd.read_pickle(f\"data/ORD_USPTO/cleaned_data.pkl\")"
   ]
  },
  {
   "cell_type": "code",
   "execution_count": 5,
   "metadata": {},
   "outputs": [],
   "source": [
    "# read in the reaction classes\n",
    "rxn_classes_filename = '/Users/dsw46/nextmove/HazELNut/build/data/classified_rxn.smi'\n",
    "\n",
    "with open(rxn_classes_filename) as f:\n",
    "    lines = f.readlines()\n",
    "lines = [line.rstrip('\\n') for line in lines] # remove the \\n at the end of each line\n",
    "\n",
    "# create df of the reaction classes\n",
    "# 2 columns: mapped_rxn, rxn_classes\n",
    "rxns = []\n",
    "rxn_classes = []\n",
    "for line in lines:\n",
    "    try:\n",
    "        rxn, rxn_class = line.split(' ')\n",
    "        rxns += [rxn]\n",
    "        rxn_classes += [rxn_class]\n",
    "    except AttributeError:\n",
    "        continue\n",
    "    \n",
    "rxn_classes_df = pd.DataFrame(list(zip(rxns, rxn_classes)),\n",
    "               columns =['mapped_rxn', 'rxn_class'])\n",
    "    "
   ]
  },
  {
   "cell_type": "code",
   "execution_count": 6,
   "metadata": {},
   "outputs": [
    {
     "data": {
      "text/plain": [
       "9"
      ]
     },
     "execution_count": 6,
     "metadata": {},
     "output_type": "execute_result"
    }
   ],
   "source": [
    "# combine the two dfs\n",
    "data_df_temp = cleaned_df.merge(rxn_classes_df, how='inner', left_on='mapped_rxn_0', right_on='mapped_rxn')\n",
    "len(data_df_temp)"
   ]
  },
  {
   "cell_type": "code",
   "execution_count": 7,
   "metadata": {},
   "outputs": [
    {
     "name": "stdout",
     "output_type": "stream",
     "text": [
      "526999\n"
     ]
    }
   ],
   "source": [
    "# I used the following command to generate the rxn classification:\n",
    "# ./namerxn -nomap data/mapped_rxn.smi data/classified_rxn.smi\n",
    "\n",
    "# The -nomap I thought would mean that it wouldn't change the atom mapping, yet it clearly did...\n",
    "# I'll just have to trust that namerxn didn't change the order of my reactions, and just append the reaction classes, and finally remove any reactions that couldn't be classified\n",
    "data_df = cleaned_df.copy().reset_index(drop=True)\n",
    "data_df['rxn_class'] = rxn_classes_df['rxn_class']\n",
    "data_df = data_df.dropna(subset=['rxn_class'])\n",
    "data_df.reset_index()\n",
    "print(len(data_df))"
   ]
  },
  {
   "cell_type": "code",
   "execution_count": 8,
   "metadata": {},
   "outputs": [
    {
     "name": "stdout",
     "output_type": "stream",
     "text": [
      "419295\n"
     ]
    }
   ],
   "source": [
    "# remove all the unclassified reactions, ie where rxn_class = '0.0'\n",
    "remove_unclassified_rxn_data_df = data_df[~data_df.rxn_class.str.contains(\"0.0\")]\n",
    "print(len(remove_unclassified_rxn_data_df))"
   ]
  },
  {
   "cell_type": "markdown",
   "metadata": {},
   "source": [
    "# Manual cleaning"
   ]
  },
  {
   "cell_type": "markdown",
   "metadata": {},
   "source": [
    "## Apply the cleaning that Alexander did"
   ]
  },
  {
   "cell_type": "code",
   "execution_count": 9,
   "metadata": {},
   "outputs": [],
   "source": [
    "# print out all catalysts\n",
    "#sorted(list(set(df['catalyst_0'].dropna())))\n",
    "\n",
    "# initialize a dict that maps catalysts to the humanly cleaned smiles\n",
    "catalyst_replacements = {}\n",
    "\n",
    "catalyst_wrong = []\n",
    "# All the data should have already been cleaned using rdkit.canonsmiles so I'm very surprised that there are some catalysts that are wrong. If you see any wrong catalysts, just remove them"
   ]
  },
  {
   "cell_type": "code",
   "execution_count": 10,
   "metadata": {},
   "outputs": [],
   "source": [
    "# Add a catalyst to the catalyst_replacements dict\n",
    "catalyst_replacements['CC(=O)[O-].CC(=O)[O-].CC(=O)[O-].CC(=O)[O-].[Rh+3].[Rh+3]'] = 'CC(=O)[O-].CC(=O)[O-].CC(=O)[O-].CC(=O)[O-].[Rh+2].[Rh+2]'\n",
    "catalyst_replacements['[CC(=O)[O-].CC(=O)[O-].CC(=O)[O-].[Rh+3]]'] = 'CC(=O)[O-].CC(=O)[O-].CC(=O)[O-].CC(=O)[O-].[Rh+2].[Rh+2]'\n",
    "catalyst_replacements['[CC(C)(C)[P]([Pd][P](C(C)(C)C)(C(C)(C)C)C(C)(C)C)(C(C)(C)C)C(C)(C)C]'] = 'CC(C)(C)[PH]([Pd][PH](C(C)(C)C)(C(C)(C)C)C(C)(C)C)(C(C)(C)C)C(C)(C)C'\n",
    "catalyst_replacements['CCCC[N+](CCCC)(CCCC)CCCC.CCCC[N+](CCCC)(CCCC)CCCC.CCCC[N+](CCCC)(CCCC)CCCC.[Br-].[Br-].[Br-]'] = 'CCCC[N+](CCCC)(CCCC)CCCC.[Br-]'\n",
    "catalyst_replacements['[CCO.CCO.CCO.CCO.[Ti]]'] = 'CCO[Ti](OCC)(OCC)OCC'\n",
    "catalyst_replacements['[CC[O-].CC[O-].CC[O-].CC[O-].[Ti+4]]'] = 'CCO[Ti](OCC)(OCC)OCC'\n",
    "catalyst_replacements['[Cl[Ni]Cl.c1ccc(P(CCCP(c2ccccc2)c2ccccc2)c2ccccc2)cc1]'] = 'Cl[Ni]1(Cl)[P](c2ccccc2)(c2ccccc2)CCC[P]1(c1ccccc1)c1ccccc1'\n",
    "catalyst_replacements['[Cl[Pd](Cl)([P](c1ccccc1)(c1ccccc1)c1ccccc1)[P](c1ccccc1)(c1ccccc1)c1ccccc1]'] = 'Cl[Pd](Cl)([PH](c1ccccc1)(c1ccccc1)c1ccccc1)[PH](c1ccccc1)(c1ccccc1)c1ccccc1'\n",
    "catalyst_replacements['[Cl[Pd+2](Cl)(Cl)Cl.[Na+].[Na+]]'] = 'Cl[Pd]Cl'\n",
    "catalyst_replacements['Karstedt catalyst'] = 'C[Si](C)(C=C)O[Si](C)(C)C=C.[Pt]'\n",
    "catalyst_replacements[\"Karstedt's catalyst\"] = 'C[Si](C)(C=C)O[Si](C)(C)C=C.[Pt]'\n",
    "catalyst_replacements['[O=C([O-])[O-].[Ag+2]]'] = 'O=C([O-])[O-].[Ag+].[Ag+]'\n",
    "catalyst_replacements['[O=S(=O)([O-])[O-].[Ag+2]]'] = 'O=S(=O)([O-])[O-].[Ag+].[Ag+]'\n",
    "catalyst_replacements['[O=[Ag-]]'] = 'O=[Ag]'\n",
    "catalyst_replacements['[O=[Cu-]]'] = 'O=[Cu]'\n",
    "catalyst_replacements['[Pd on-carbon]'] = '[C].[Pd]'\n",
    "catalyst_replacements['[TEA]'] = 'OCCN(CCO)CCO'\n",
    "catalyst_replacements['[Ti-superoxide]'] = 'O=[O-].[Ti]'\n",
    "catalyst_replacements['[[Pd].c1ccc(P(c2ccccc2)c2ccccc2)cc1]'] = '[Pd].c1ccc(P(c2ccccc2)c2ccccc2)cc1.c1ccc(P(c2ccccc2)c2ccccc2)cc1.c1ccc(P(c2ccccc2)c2ccccc2)cc1.c1ccc(P(c2ccccc2)c2ccccc2)cc1'\n",
    "catalyst_replacements['[c1ccc([PH](c2ccccc2)(c2ccccc2)[Pd-4]([PH](c2ccccc2)(c2ccccc2)c2ccccc2)([PH](c2ccccc2)(c2ccccc2)c2ccccc2)[PH](c2ccccc2)(c2ccccc2)c2ccccc2)cc1]'] = 'c1ccc([PH](c2ccccc2)(c2ccccc2)[Pd]([PH](c2ccccc2)(c2ccccc2)c2ccccc2)([PH](c2ccccc2)(c2ccccc2)c2ccccc2)[PH](c2ccccc2)(c2ccccc2)c2ccccc2)cc1'\n",
    "catalyst_replacements['[c1ccc([P]([Pd][P](c2ccccc2)(c2ccccc2)c2ccccc2)(c2ccccc2)c2ccccc2)cc1]'] = 'c1ccc([PH](c2ccccc2)(c2ccccc2)[Pd]([PH](c2ccccc2)(c2ccccc2)c2ccccc2)([PH](c2ccccc2)(c2ccccc2)c2ccccc2)[PH](c2ccccc2)(c2ccccc2)c2ccccc2)cc1'\n",
    "catalyst_replacements['[c1ccc([P](c2ccccc2)(c2ccccc2)[Pd]([P](c2ccccc2)(c2ccccc2)c2ccccc2)([P](c2ccccc2)(c2ccccc2)c2ccccc2)[P](c2ccccc2)(c2ccccc2)c2ccccc2)cc1]'] = 'c1ccc([PH](c2ccccc2)(c2ccccc2)[Pd]([PH](c2ccccc2)(c2ccccc2)c2ccccc2)([PH](c2ccccc2)(c2ccccc2)c2ccccc2)[PH](c2ccccc2)(c2ccccc2)c2ccccc2)cc1'\n",
    "catalyst_replacements['[sulfated tin oxide]'] = 'O=S(O[Sn])(O[Sn])O[Sn]'\n",
    "catalyst_replacements['[tereakis(triphenylphosphine)palladium(0)]'] = 'c1ccc([PH](c2ccccc2)(c2ccccc2)[Pd]([PH](c2ccccc2)(c2ccccc2)c2ccccc2)([PH](c2ccccc2)(c2ccccc2)c2ccccc2)[PH](c2ccccc2)(c2ccccc2)c2ccccc2)cc1'\n",
    "catalyst_replacements['[zeolite]'] = 'O=[Al]O[Al]=O.O=[Si]=O'"
   ]
  },
  {
   "cell_type": "code",
   "execution_count": 11,
   "metadata": {},
   "outputs": [],
   "source": [
    "# add any wrong catalysts you spot, e.g.\n",
    "catalyst_wrong += ['Catalyst A',\n",
    "'catalyst',\n",
    "'catalyst 1',\n",
    "'catalyst A',\n",
    "'catalyst VI',\n",
    "'reaction mixture',\n",
    "'same catalyst',\n",
    "'solution']\n"
   ]
  },
  {
   "cell_type": "code",
   "execution_count": 12,
   "metadata": {},
   "outputs": [],
   "source": [
    "# drop all rows that contain a 'catalyst_wrong\n",
    "df2 = data_df[~data_df[\"catalyst_0\"].isin(catalyst_wrong)]"
   ]
  },
  {
   "cell_type": "code",
   "execution_count": 13,
   "metadata": {},
   "outputs": [],
   "source": [
    "# do the catalyst replacements that Alexander found\n",
    "df3 = df2.replace(catalyst_replacements)"
   ]
  },
  {
   "cell_type": "code",
   "execution_count": 14,
   "metadata": {},
   "outputs": [],
   "source": [
    "df3.reset_index(inplace=True)"
   ]
  },
  {
   "cell_type": "code",
   "execution_count": 15,
   "metadata": {},
   "outputs": [
    {
     "name": "stdout",
     "output_type": "stream",
     "text": [
      "Number of Pd in the reagents columns:  1205\n"
     ]
    }
   ],
   "source": [
    "count = 0\n",
    "for i in range(len(data_df['reagents_0'])):\n",
    "    r = data_df['reagents_0'][i]\n",
    "    if r ==r:\n",
    "        if 'pd' in r or 'Pd' in r or 'palladium' in r or 'Palladium' in r:\n",
    "            count +=1\n",
    "print('Number of Pd in the reagents columns: ', count )"
   ]
  },
  {
   "cell_type": "code",
   "execution_count": 16,
   "metadata": {},
   "outputs": [],
   "source": [
    "# Quite a few of the rows have Pd as a reagent. Probably worth going through all of them, and if the value in reagent_0 is already in catalyst_0, then replace the reagent value with np.NaN\n",
    "df3[\"reagents_0\"] = df3.apply(lambda x: np.nan if (pd.notna(x[\"reagents_0\"]) and pd.notna(x[\"catalyst_0\"]) and x[\"reagents_0\"] in x[\"catalyst_0\"]) else x[\"reagents_0\"], axis=1)\n",
    "df3[\"reagents_1\"] = df3.apply(lambda x: np.nan if (pd.notna(x[\"reagents_1\"]) and pd.notna(x[\"catalyst_0\"]) and x[\"reagents_1\"] in x[\"catalyst_0\"]) else x[\"reagents_1\"], axis=1)\n"
   ]
  },
  {
   "cell_type": "code",
   "execution_count": 17,
   "metadata": {},
   "outputs": [],
   "source": [
    "# That took care of a majority of the cases! Now there are only 9+7 cases left, just drop these rows\n",
    "df3 = df3[df3[\"reagents_0\"] != '[Pd]']\n",
    "df3 = df3[df3[\"reagents_0\"] != '[Pd+2]']\n",
    "df3 = df3[df3[\"reagents_1\"] != '[Pd]']\n",
    "df3 = df3[df3[\"reagents_1\"] != '[Pd+2]']\n",
    "df3 = df3.reset_index(drop=True)\n",
    "\n"
   ]
  },
  {
   "cell_type": "code",
   "execution_count": 18,
   "metadata": {},
   "outputs": [
    {
     "name": "stdout",
     "output_type": "stream",
     "text": [
      "Number of Pd in the reagents columns:  0\n"
     ]
    }
   ],
   "source": [
    "count = 0\n",
    "for i in range(len(df3['reagents_1'])):\n",
    "    r = df3['reagents_1'][i]\n",
    "    if r ==r:\n",
    "        if 'Pd' in r:\n",
    "            print(r)\n",
    "            count +=1\n",
    "print('Number of Pd in the reagents columns: ', count )"
   ]
  },
  {
   "cell_type": "code",
   "execution_count": 19,
   "metadata": {},
   "outputs": [
    {
     "data": {
      "text/plain": [
       "526802"
      ]
     },
     "execution_count": 19,
     "metadata": {},
     "output_type": "execute_result"
    }
   ],
   "source": [
    "len(df3)"
   ]
  },
  {
   "cell_type": "markdown",
   "metadata": {},
   "source": [
    "## Add a cluster column"
   ]
  },
  {
   "cell_type": "code",
   "execution_count": 21,
   "metadata": {},
   "outputs": [],
   "source": [
    "df3['rxn_super_class'] = df3['rxn_class'].str.rsplit('.', expand=True)[0].astype(int)\n",
    "test_df = df3['rxn_class'].str.rsplit(';', expand=True)\n",
    "# 2.5% of reactions have been assigned 2 reaction classes. 3 or 4 reaction classes is very rare."
   ]
  },
  {
   "attachments": {},
   "cell_type": "markdown",
   "metadata": {},
   "source": [
    "# Prepare fingerprints"
   ]
  },
  {
   "cell_type": "code",
   "execution_count": 21,
   "metadata": {},
   "outputs": [
    {
     "name": "stderr",
     "output_type": "stream",
     "text": [
      "/Users/dsw46/opt/anaconda3/envs/chemistry/lib/python3.10/site-packages/tqdm/auto.py:22: TqdmWarning: IProgress not found. Please update jupyter and ipywidgets. See https://ipywidgets.readthedocs.io/en/stable/user_install.html\n",
      "  from .autonotebook import tqdm as notebook_tqdm\n"
     ]
    }
   ],
   "source": [
    "from modelling_3 import calc_fp\n",
    "from modelling_3 import calc_fp_individual\n",
    "import multiprocessing\n",
    "from joblib import Parallel, delayed\n",
    "from tqdm import tqdm\n",
    "import numpy as np\n",
    "from rdkit.rdBase import BlockLogs\n",
    "from rdkit import Chem\n",
    "from rdkit import DataStructs\n",
    "from rdkit.Chem import AllChem"
   ]
  },
  {
   "cell_type": "code",
   "execution_count": 23,
   "metadata": {},
   "outputs": [
    {
     "name": "stderr",
     "output_type": "stream",
     "text": [
      "100%|██████████| 526802/526802 [00:23<00:00, 22431.69it/s]\n",
      "100%|██████████| 526802/526802 [00:49<00:00, 10623.62it/s]\n",
      "100%|██████████| 526802/526802 [00:49<00:00, 10740.24it/s]\n",
      "100%|██████████| 526802/526802 [00:51<00:00, 10169.07it/s]\n"
     ]
    },
    {
     "name": "stdout",
     "output_type": "stream",
     "text": [
      "CPU times: user 36.5 s, sys: 21.9 s, total: 58.4 s\n",
      "Wall time: 2min 56s\n"
     ]
    }
   ],
   "source": [
    "%%time\n",
    "num_cores = multiprocessing.cpu_count()\n",
    "inputs = tqdm(df3['product_0'])\n",
    "p0 = Parallel(n_jobs=num_cores)(delayed(calc_fp_individual)(i) for i in inputs)\n",
    "\n",
    "inputs = tqdm(df3['product_1'])\n",
    "p1 = Parallel(n_jobs=num_cores)(delayed(calc_fp_individual)(i) for i in inputs)\n",
    "\n",
    "inputs = tqdm(df3['product_2'])\n",
    "p2 = Parallel(n_jobs=num_cores)(delayed(calc_fp_individual)(i) for i in inputs)\n",
    "\n",
    "inputs = tqdm(df3['product_3'])\n",
    "p3 = Parallel(n_jobs=num_cores)(delayed(calc_fp_individual)(i) for i in inputs)"
   ]
  },
  {
   "cell_type": "code",
   "execution_count": 24,
   "metadata": {},
   "outputs": [
    {
     "name": "stderr",
     "output_type": "stream",
     "text": [
      "100%|██████████| 526802/526802 [00:19<00:00, 27664.06it/s]\n",
      "100%|██████████| 526802/526802 [00:19<00:00, 27432.05it/s]\n",
      "100%|██████████| 526802/526802 [00:47<00:00, 11145.09it/s]\n",
      "100%|██████████| 526802/526802 [00:50<00:00, 10400.59it/s]\n"
     ]
    },
    {
     "name": "stdout",
     "output_type": "stream",
     "text": [
      "CPU times: user 30.6 s, sys: 17.1 s, total: 47.7 s\n",
      "Wall time: 2min 17s\n"
     ]
    }
   ],
   "source": [
    "%%time\n",
    "num_cores = multiprocessing.cpu_count()\n",
    "inputs = tqdm(df3['reactant_0'])\n",
    "r0 = Parallel(n_jobs=num_cores)(delayed(calc_fp_individual)(i) for i in inputs)\n",
    "\n",
    "inputs = tqdm(df3['reactant_1'])\n",
    "r1 = Parallel(n_jobs=num_cores)(delayed(calc_fp_individual)(i) for i in inputs)\n",
    "\n",
    "inputs = tqdm(df3['reactant_2'])\n",
    "r2 = Parallel(n_jobs=num_cores)(delayed(calc_fp_individual)(i) for i in inputs)\n",
    "\n",
    "inputs = tqdm(df3['reactant_3'])\n",
    "r3 = Parallel(n_jobs=num_cores)(delayed(calc_fp_individual)(i) for i in inputs)"
   ]
  },
  {
   "cell_type": "code",
   "execution_count": 25,
   "metadata": {},
   "outputs": [],
   "source": [
    "# calculate rxn difference fp\n",
    "# converting one 500k by 2k list to array takes roughly 15s, so the whole thing should take about 2-3 min\n",
    "# need to split into different cells for memory purposes\n",
    "ar_p0 = np.array(p0)\n",
    "ar_p1 = np.array(p1)\n",
    "ar_p2 = np.array(p2)\n",
    "ar_p3 = np.array(p3)\n",
    "ar_r0 = np.array(r0)\n",
    "ar_r1 = np.array(r1)\n",
    "ar_r2 = np.array(r2)\n",
    "ar_r3 = np.array(r3)"
   ]
  },
  {
   "cell_type": "code",
   "execution_count": 26,
   "metadata": {},
   "outputs": [
    {
     "data": {
      "text/plain": [
       "(526802, 2048)"
      ]
     },
     "execution_count": 26,
     "metadata": {},
     "output_type": "execute_result"
    }
   ],
   "source": [
    "product_fp = ar_p0 + ar_p1 + ar_p2 + ar_p3\n",
    "product_fp.shape"
   ]
  },
  {
   "cell_type": "code",
   "execution_count": 27,
   "metadata": {},
   "outputs": [
    {
     "data": {
      "text/plain": [
       "(526802, 2048)"
      ]
     },
     "execution_count": 27,
     "metadata": {},
     "output_type": "execute_result"
    }
   ],
   "source": [
    "rxn_diff_fp = product_fp - ar_r0 - ar_r1 - ar_r2 - ar_r3\n",
    "rxn_diff_fp.shape"
   ]
  },
  {
   "cell_type": "code",
   "execution_count": 30,
   "metadata": {},
   "outputs": [],
   "source": [
    "#save to pickle\n",
    "np.save(\"data/ORD_USPTO/USPTO_rxn_diff_fp.pkl\", rxn_diff_fp)\n",
    "np.save(\"data/ORD_USPTO/USPTO_product_fp.pkl\", product_fp)"
   ]
  },
  {
   "cell_type": "markdown",
   "metadata": {},
   "source": [
    "# NN modelling"
   ]
  },
  {
   "cell_type": "code",
   "execution_count": 22,
   "metadata": {},
   "outputs": [
    {
     "name": "stderr",
     "output_type": "stream",
     "text": [
      "/Users/dsw46/opt/anaconda3/envs/chemistry/lib/python3.10/site-packages/tqdm/auto.py:22: TqdmWarning: IProgress not found. Please update jupyter and ipywidgets. See https://ipywidgets.readthedocs.io/en/stable/user_install.html\n",
      "  from .autonotebook import tqdm as notebook_tqdm\n"
     ]
    }
   ],
   "source": [
    "import torch\n",
    "import torch.nn as nn\n",
    "from sklearn.preprocessing import OneHotEncoder\n",
    "from sklearn.model_selection import train_test_split\n",
    "import matplotlib.pyplot as plt\n",
    "from torchmetrics.classification import MulticlassAccuracy\n",
    "from torchmetrics import Accuracy"
   ]
  },
  {
   "attachments": {},
   "cell_type": "markdown",
   "metadata": {},
   "source": [
    "## Gao model"
   ]
  },
  {
   "cell_type": "code",
   "execution_count": 23,
   "metadata": {},
   "outputs": [],
   "source": [
    "# https://pubs.acs.org/doi/full/10.1021/acscentsci.8b00357"
   ]
  },
  {
   "cell_type": "code",
   "execution_count": 24,
   "metadata": {},
   "outputs": [],
   "source": [
    "#unpickle\n",
    "rxn_diff_fp = np.load(\"data/ORD_USPTO/USPTO_rxn_diff_fp.pkl.npy\", allow_pickle=True)\n",
    "product_fp = np.load(\"data/ORD_USPTO/USPTO_product_fp.pkl.npy\", allow_pickle=True)\n",
    "# Run all cells in the \"Read in data\" section to get data_df\n",
    "\n",
    "# find the data in df3"
   ]
  },
  {
   "cell_type": "code",
   "execution_count": 25,
   "metadata": {},
   "outputs": [
    {
     "data": {
      "text/plain": [
       "True"
      ]
     },
     "execution_count": 25,
     "metadata": {},
     "output_type": "execute_result"
    }
   ],
   "source": [
    "rxn_diff_fp.shape == product_fp.shape"
   ]
  },
  {
   "cell_type": "code",
   "execution_count": 121,
   "metadata": {},
   "outputs": [],
   "source": [
    "# prepare input for model\n",
    "np_input = np.concatenate((product_fp, rxn_diff_fp), axis=1)\n",
    "\n",
    "X = torch.from_numpy(np_input).float()\n",
    "# prepare output for model\n",
    "enc = OneHotEncoder()\n",
    "c_encoded = enc.fit_transform(df3[['catalyst_0']])\n",
    "s1_encoded = enc.fit_transform(df3[['solvent_0']])\n",
    "\n",
    "c_encoded = c_encoded.toarray()\n",
    "s1_encoded = s1_encoded.toarray()\n",
    "\n",
    "y_c = torch.from_numpy(c_encoded).float()\n",
    "y_s1 = torch.from_numpy(s1_encoded).float()"
   ]
  },
  {
   "cell_type": "code",
   "execution_count": 122,
   "metadata": {},
   "outputs": [],
   "source": [
    "# Split the data into train and test sets\n",
    "\n",
    "X_train, X_test, y_catalyst_train, y_catalyst_test, y_solvent_train, y_solvent_test = train_test_split(X, y_catalyst, y_solvent, test_size=0.2, random_state=42)\n"
   ]
  },
  {
   "cell_type": "code",
   "execution_count": 173,
   "metadata": {},
   "outputs": [],
   "source": [
    "# use torch.nn\n",
    "class NeuralNet(nn.Module):\n",
    "    def __init__(self):\n",
    "        super(NeuralNet, self).__init__()\n",
    "        \n",
    "        # Architecture\n",
    "        self.input_layer = nn.Linear(X_train.shape[1], 1000)\n",
    "        \n",
    "        self.linear1000_1000 = nn.Linear(1000, 1000)\n",
    "        self.linear1000_500 = nn.Linear(1000, 500)\n",
    "        self.linear1000_300 = nn.Linear(1000, 300)\n",
    "        self.linear600_300 = nn.Linear(600, 300)\n",
    "        self.linear500_300 = nn.Linear(500, 300)\n",
    "        self.linear300_300_cat = nn.Linear(300, 300)\n",
    "        self.linear300_300_solv = nn.Linear(300, 300)\n",
    "        \n",
    "        # Catalyst_0 output layer\n",
    "        self.catalyst_output = nn.Linear(300, len(df3['catalyst_0'].unique()))\n",
    "        self.softmax_cat = nn.Softmax(dim = 1)\n",
    "        \n",
    "        \n",
    "        # Solvent_0 output layer\n",
    "        self.solvent_input = nn.Linear(len(df3['catalyst_0'].unique()), 100)\n",
    "\n",
    "        self.solvent_output = nn.Linear(300, len(df3['solvent_0'].unique()))\n",
    "        self.softmax_solv = nn.Softmax(dim = 1)\n",
    "        \n",
    "        # Activation functions etc. (stuff with parameters)\n",
    "        self.relu = nn.ReLU()\n",
    "        self.tanh = nn.Tanh()\n",
    "        self.dropout = nn.Dropout(p=0.5)\n",
    "        \n",
    "        \n",
    "    def forward(self, x, y_cat, y_solv, train):\n",
    "        x = self.input_layer(x)\n",
    "        x = self.relu(x)\n",
    "        x = self.linear1000_1000(x)\n",
    "        x = self.relu(x)\n",
    "        cat_latent_1 = self.dropout(x)\n",
    "        x = self.linear1000_300(cat_latent_1)\n",
    "        x = self.relu(x)\n",
    "        x = self.linear300_300_cat(x)\n",
    "        x = self.tanh(x)\n",
    "        \n",
    "        # Catalyst_0 output\n",
    "        catalyst_out = self.catalyst_output(x)\n",
    "        #catalyst_out = self.softmax_cat(catalyst_out)\n",
    "        \n",
    "        \n",
    "        # Solvent_0 output\n",
    "        if train:\n",
    "            solvent_input = self.solvent_input(y_cat)\n",
    "        else:\n",
    "            # Feed in the probabilities:\n",
    "            #solvent_input = self.solvent_input(catalyst_out)\n",
    "            \n",
    "            # convert softmax output to one-hot encoding\n",
    "            \n",
    "            max_idx = torch.argmax(catalyst_out, 1, keepdim=True)\n",
    "            cat_one_hot = torch.FloatTensor(catalyst_out.shape)\n",
    "            cat_one_hot.zero_()\n",
    "            cat_one_hot.scatter_(1, max_idx, 1)\n",
    "            solvent_input = self.solvent_input(cat_one_hot)\n",
    "\n",
    "            \n",
    "        x = self.relu(solvent_input)\n",
    "        cat_latent_2 = self.linear1000_500(cat_latent_1)\n",
    "        x = torch.cat((x, cat_latent_2), 1)\n",
    "        x = self.linear600_300(x)\n",
    "        x = self.relu(x)\n",
    "        x = self.linear300_300_solv(x)\n",
    "        x = self.tanh(x)\n",
    "        solvent_out = self.solvent_output(x)\n",
    "        #solvent_out = self.softmax_solv(solvent_out)\n",
    "        \n",
    "        return catalyst_out, solvent_out\n"
   ]
  },
  {
   "cell_type": "code",
   "execution_count": 174,
   "metadata": {},
   "outputs": [],
   "source": [
    "model = NeuralNet()\n",
    "# Define the loss function and optimizer\n",
    "criterion = nn.CrossEntropyLoss()\n",
    "optimizer = torch.optim.Adam(model.parameters(), lr=0.1)\n",
    "\n",
    "# Define the number of training iterations\n",
    "num_epochs = 100"
   ]
  },
  {
   "cell_type": "code",
   "execution_count": 175,
   "metadata": {},
   "outputs": [],
   "source": [
    "def top_k_accuracy(k, predicted, actual):\n",
    "    accuracy = Accuracy(task=\"multiclass\", num_classes=len(predicted[1]), top_k=k)\n",
    "    acc = accuracy(predicted, torch.argmax(actual, dim=1))\n",
    "    return acc"
   ]
  },
  {
   "cell_type": "code",
   "execution_count": 176,
   "metadata": {},
   "outputs": [
    {
     "name": "stderr",
     "output_type": "stream",
     "text": [
      "100%|██████████| 103/103 [01:55<00:00,  1.12s/it]\n"
     ]
    },
    {
     "name": "stdout",
     "output_type": "stream",
     "text": [
      "Epoch [1/100], Train Loss: 137.2185\n",
      "Epoch [1/100], Test Loss: 146.4711\n"
     ]
    },
    {
     "name": "stderr",
     "output_type": "stream",
     "text": [
      "100%|██████████| 103/103 [01:56<00:00,  1.13s/it]\n"
     ]
    },
    {
     "name": "stdout",
     "output_type": "stream",
     "text": [
      "Epoch [2/100], Train Loss: 151.1056\n",
      "Epoch [2/100], Test Loss: 150.1249\n"
     ]
    },
    {
     "name": "stderr",
     "output_type": "stream",
     "text": [
      "100%|██████████| 103/103 [01:59<00:00,  1.16s/it]\n"
     ]
    },
    {
     "name": "stdout",
     "output_type": "stream",
     "text": [
      "Epoch [3/100], Train Loss: 131.3088\n",
      "Epoch [3/100], Test Loss: 133.6638\n"
     ]
    },
    {
     "name": "stderr",
     "output_type": "stream",
     "text": [
      "100%|██████████| 103/103 [02:06<00:00,  1.22s/it]\n"
     ]
    },
    {
     "name": "stdout",
     "output_type": "stream",
     "text": [
      "Epoch [4/100], Train Loss: 126.2378\n",
      "Epoch [4/100], Test Loss: 120.2795\n"
     ]
    },
    {
     "name": "stderr",
     "output_type": "stream",
     "text": [
      "100%|██████████| 103/103 [01:57<00:00,  1.14s/it]\n"
     ]
    },
    {
     "name": "stdout",
     "output_type": "stream",
     "text": [
      "Epoch [5/100], Train Loss: 112.9956\n",
      "Epoch [5/100], Test Loss: 108.4432\n"
     ]
    },
    {
     "name": "stderr",
     "output_type": "stream",
     "text": [
      "  6%|▌         | 6/103 [00:06<01:52,  1.16s/it]\n"
     ]
    },
    {
     "ename": "KeyboardInterrupt",
     "evalue": "",
     "output_type": "error",
     "traceback": [
      "\u001b[0;31m---------------------------------------------------------------------------\u001b[0m",
      "\u001b[0;31mKeyboardInterrupt\u001b[0m                         Traceback (most recent call last)",
      "Cell \u001b[0;32mIn[176], line 58\u001b[0m\n\u001b[1;32m     55\u001b[0m optimizer\u001b[39m.\u001b[39mzero_grad()\n\u001b[1;32m     57\u001b[0m \u001b[39m# Backward pass\u001b[39;00m\n\u001b[0;32m---> 58\u001b[0m loss\u001b[39m.\u001b[39;49mbackward()\n\u001b[1;32m     60\u001b[0m \u001b[39m# Update the parameters\u001b[39;00m\n\u001b[1;32m     61\u001b[0m optimizer\u001b[39m.\u001b[39mstep()\n",
      "File \u001b[0;32m~/opt/anaconda3/envs/chemistry/lib/python3.10/site-packages/torch/_tensor.py:488\u001b[0m, in \u001b[0;36mTensor.backward\u001b[0;34m(self, gradient, retain_graph, create_graph, inputs)\u001b[0m\n\u001b[1;32m    478\u001b[0m \u001b[39mif\u001b[39;00m has_torch_function_unary(\u001b[39mself\u001b[39m):\n\u001b[1;32m    479\u001b[0m     \u001b[39mreturn\u001b[39;00m handle_torch_function(\n\u001b[1;32m    480\u001b[0m         Tensor\u001b[39m.\u001b[39mbackward,\n\u001b[1;32m    481\u001b[0m         (\u001b[39mself\u001b[39m,),\n\u001b[0;32m   (...)\u001b[0m\n\u001b[1;32m    486\u001b[0m         inputs\u001b[39m=\u001b[39minputs,\n\u001b[1;32m    487\u001b[0m     )\n\u001b[0;32m--> 488\u001b[0m torch\u001b[39m.\u001b[39;49mautograd\u001b[39m.\u001b[39;49mbackward(\n\u001b[1;32m    489\u001b[0m     \u001b[39mself\u001b[39;49m, gradient, retain_graph, create_graph, inputs\u001b[39m=\u001b[39;49minputs\n\u001b[1;32m    490\u001b[0m )\n",
      "File \u001b[0;32m~/opt/anaconda3/envs/chemistry/lib/python3.10/site-packages/torch/autograd/__init__.py:197\u001b[0m, in \u001b[0;36mbackward\u001b[0;34m(tensors, grad_tensors, retain_graph, create_graph, grad_variables, inputs)\u001b[0m\n\u001b[1;32m    192\u001b[0m     retain_graph \u001b[39m=\u001b[39m create_graph\n\u001b[1;32m    194\u001b[0m \u001b[39m# The reason we repeat same the comment below is that\u001b[39;00m\n\u001b[1;32m    195\u001b[0m \u001b[39m# some Python versions print out the first line of a multi-line function\u001b[39;00m\n\u001b[1;32m    196\u001b[0m \u001b[39m# calls in the traceback and some print out the last line\u001b[39;00m\n\u001b[0;32m--> 197\u001b[0m Variable\u001b[39m.\u001b[39;49m_execution_engine\u001b[39m.\u001b[39;49mrun_backward(  \u001b[39m# Calls into the C++ engine to run the backward pass\u001b[39;49;00m\n\u001b[1;32m    198\u001b[0m     tensors, grad_tensors_, retain_graph, create_graph, inputs,\n\u001b[1;32m    199\u001b[0m     allow_unreachable\u001b[39m=\u001b[39;49m\u001b[39mTrue\u001b[39;49;00m, accumulate_grad\u001b[39m=\u001b[39;49m\u001b[39mTrue\u001b[39;49;00m)\n",
      "\u001b[0;31mKeyboardInterrupt\u001b[0m: "
     ]
    }
   ],
   "source": [
    "# Initialize lists to store the train and test loss\n",
    "train_loss = []\n",
    "test_loss = []\n",
    "\n",
    "top_1_cat_train = []\n",
    "top_3_cat_train = []\n",
    "top_1_solv_train = []\n",
    "top_3_solv_train = []\n",
    "\n",
    "top_1_cat_test = []\n",
    "top_3_cat_test = []\n",
    "top_1_solv_test = []\n",
    "top_3_solv_test = []\n",
    "\n",
    "# Define the batch size\n",
    "batch_size = 4096\n",
    "num_batches = int(X_train.shape[0] / batch_size)\n",
    "\n",
    "# Create data loaders for the training data\n",
    "train_loader = torch.utils.data.DataLoader(\n",
    "    torch.utils.data.TensorDataset(X_train, y_catalyst_train, y_solvent_train),\n",
    "    batch_size=batch_size,\n",
    "    shuffle=True\n",
    ")\n",
    "\n",
    "# Create data loader for test data\n",
    "test_loader = torch.utils.data.DataLoader(\n",
    "    torch.utils.data.TensorDataset(X_test, y_catalyst_test, y_solvent_test),\n",
    "    batch_size=batch_size,\n",
    "    shuffle=False\n",
    ")\n",
    "\n",
    "\n",
    "# Training the model\n",
    "for epoch in range(num_epochs):\n",
    "    train_loss_batch = []\n",
    "    \n",
    "    top_1_cat_train_batch = []\n",
    "    top_3_cat_train_batch = []\n",
    "    \n",
    "    top_1_solv_train_batch = []\n",
    "    top_3_solv_train_batch = []\n",
    "    \n",
    "    for X_batch, y_catalyst_batch, y_solvent_batch in tqdm(train_loader):\n",
    "        # Forward pass\n",
    "        catalyst_out, solvent_out = model(X_batch, y_catalyst_batch, y_solvent_batch, train = True)\n",
    "        \n",
    "        # Compute the train loss\n",
    "        loss_catalyst = criterion(catalyst_out, y_catalyst_batch)\n",
    "        loss_solvent = criterion(solvent_out, y_solvent_batch)\n",
    "        loss = loss_catalyst + loss_solvent\n",
    "        train_loss_batch.append(loss.item())\n",
    "        \n",
    "        # Zero gradients\n",
    "        optimizer.zero_grad()\n",
    "        \n",
    "        # Backward pass\n",
    "        loss.backward()\n",
    "        \n",
    "        # Update the parameters\n",
    "        optimizer.step()\n",
    "        \n",
    "        # Compute accuracy for catalyst\n",
    "        top_1_cat_train_batch += [top_k_accuracy(1, catalyst_out, y_catalyst_batch)]\n",
    "        top_3_cat_train_batch += [top_k_accuracy(3, catalyst_out, y_catalyst_batch)]\n",
    "        \n",
    "        # Compute accuracy for solvent\n",
    "        top_1_solv_train_batch += [top_k_accuracy(1, solvent_out, y_solvent_batch)]\n",
    "        top_3_solv_train_batch += [top_k_accuracy(3, solvent_out, y_solvent_batch)]\n",
    "    \n",
    "    train_loss += [np.mean(train_loss_batch)]\n",
    "        \n",
    "    top_1_cat_train += [np.mean(top_1_cat_train_batch)]\n",
    "    top_3_cat_train += [np.mean(top_3_cat_train_batch)]\n",
    "    \n",
    "    top_1_solv_train += [np.mean(top_1_cat_train_batch)]\n",
    "    top_3_solv_train += [np.mean(top_3_cat_train_batch)]\n",
    "        \n",
    "        \n",
    "    # Compute the test loss\n",
    "    with torch.no_grad():\n",
    "        top_1_cat_test_batch = []\n",
    "        top_3_cat_test_batch = []\n",
    "        \n",
    "        top_1_solv_test_batch = []\n",
    "        top_3_solv_test_batch = []\n",
    "        \n",
    "        test_loss_batch = []\n",
    "        \n",
    "        for X_batch, y_catalyst_batch, y_solvent_batch in test_loader:\n",
    "            catalyst_out, solvent_out = model(X_batch, y_catalyst_batch, y_solvent_batch, train=False)\n",
    "            loss_catalyst = criterion(catalyst_out, y_catalyst_batch)\n",
    "            loss_solvent = criterion(solvent_out, y_solvent_batch)\n",
    "            loss = loss_catalyst + loss_solvent\n",
    "            test_loss_batch.append(loss.item())\n",
    "            \n",
    "            # Compute accuracy for catalyst\n",
    "            top_1_cat_test_batch += [top_k_accuracy(1, catalyst_out, y_catalyst_batch)]\n",
    "            top_3_cat_test_batch += [top_k_accuracy(3, catalyst_out, y_catalyst_batch)]\n",
    "            \n",
    "            # Compute accuracy for solvent\n",
    "            top_1_solv_test_batch += [top_k_accuracy(1, solvent_out, y_solvent_batch)]\n",
    "            top_3_solv_test_batch += [top_k_accuracy(3, solvent_out, y_solvent_batch)]\n",
    "        \n",
    "        top_1_cat_test += [np.mean(top_1_cat_test_batch)]\n",
    "        top_3_cat_test += [np.mean(top_3_cat_test_batch)]\n",
    "        \n",
    "        top_1_solv_test += [np.mean(top_1_solv_test_batch)]\n",
    "        top_3_solv_test += [np.mean(top_3_solv_test_batch)]\n",
    "        \n",
    "        test_loss += [np.mean(test_loss_batch)]\n",
    "            \n",
    "    # Print train loss and accuracy\n",
    "    print('Epoch [{}/{}], Train Loss: {:.4f}'.format(epoch+1, num_epochs, train_loss[-1]))\n",
    "    print('Epoch [{}/{}], Test Loss: {:.4f}'.format(epoch+1, num_epochs, test_loss[-1]))\n"
   ]
  },
  {
   "cell_type": "code",
   "execution_count": 177,
   "metadata": {},
   "outputs": [
    {
     "data": {
      "image/png": "[encoded data removed]",
      "text/plain": [
       "<Figure size 640x480 with 1 Axes>"
      ]
     },
     "metadata": {},
     "output_type": "display_data"
    },
    {
     "data": {
      "image/png": "[encoded data removed]",
      "text/plain": [
       "<Figure size 640x480 with 1 Axes>"
      ]
     },
     "metadata": {},
     "output_type": "display_data"
    },
    {
     "data": {
      "image/png": "[encoded data removed]",
      "text/plain": [
       "<Figure size 640x480 with 1 Axes>"
      ]
     },
     "metadata": {},
     "output_type": "display_data"
    },
    {
     "data": {
      "text/plain": [
       "<Figure size 640x480 with 0 Axes>"
      ]
     },
     "metadata": {},
     "output_type": "display_data"
    }
   ],
   "source": [
    "# Plot the train and test loss\n",
    "plt.plot(train_loss, label='train loss')\n",
    "plt.plot(test_loss, label='test loss')\n",
    "plt.xlabel('Epochs')\n",
    "plt.ylabel('Loss')\n",
    "plt.legend()\n",
    "plt.show()\n",
    "plt.clf()\n",
    "\n",
    "# Plot the train and test accuracy\n",
    "# Catalyst\n",
    "plt.plot(top_1_cat_test, label='top_1_cat_test')\n",
    "plt.plot(top_3_cat_test, label='top_3_cat_test')\n",
    "plt.plot(top_1_cat_train, label='top_1_cat_train')\n",
    "plt.plot(top_3_cat_train, label='top_3_cat_train')\n",
    "plt.xlabel('Epochs')\n",
    "plt.ylabel('Accuracy')\n",
    "plt.legend()\n",
    "plt.show()\n",
    "plt.clf()\n",
    "\n",
    "# Plot the train and test accuracy\n",
    "# Solvent\n",
    "plt.plot(top_1_solv_test, label='top_1_solv_test')\n",
    "plt.plot(top_3_solv_test, label='top_3_solv_test')\n",
    "plt.plot(top_1_solv_train, label='top_1_solv_train')\n",
    "plt.plot(top_3_solv_train, label='top_3_solv_train')\n",
    "plt.xlabel('Epochs')\n",
    "plt.ylabel('Accuracy')\n",
    "plt.legend()\n",
    "plt.show()\n",
    "plt.clf()\n",
    "\n",
    "\n"
   ]
  },
  {
   "cell_type": "code",
   "execution_count": null,
   "metadata": {},
   "outputs": [],
   "source": []
  },
  {
   "cell_type": "code",
   "execution_count": null,
   "metadata": {},
   "outputs": [],
   "source": []
  },
  {
   "cell_type": "code",
   "execution_count": null,
   "metadata": {},
   "outputs": [],
   "source": []
  },
  {
   "cell_type": "code",
   "execution_count": null,
   "metadata": {},
   "outputs": [],
   "source": []
  },
  {
   "cell_type": "code",
   "execution_count": null,
   "metadata": {},
   "outputs": [],
   "source": []
  },
  {
   "cell_type": "code",
   "execution_count": null,
   "metadata": {},
   "outputs": [],
   "source": []
  },
  {
   "cell_type": "code",
   "execution_count": null,
   "metadata": {},
   "outputs": [],
   "source": []
  },
  {
   "cell_type": "markdown",
   "metadata": {},
   "source": [
    "## Other models"
   ]
  },
  {
   "cell_type": "code",
   "execution_count": 9,
   "metadata": {},
   "outputs": [
    {
     "name": "stderr",
     "output_type": "stream",
     "text": [
      "/Users/dsw46/opt/anaconda3/envs/chemistry/lib/python3.10/site-packages/tqdm/auto.py:22: TqdmWarning: IProgress not found. Please update jupyter and ipywidgets. See https://ipywidgets.readthedocs.io/en/stable/user_install.html\n",
      "  from .autonotebook import tqdm as notebook_tqdm\n"
     ]
    }
   ],
   "source": [
    "import torch\n",
    "import torchmetrics\n",
    "from sklearn.preprocessing import OneHotEncoder\n",
    "from sklearn.model_selection import train_test_split\n",
    "from tqdm import trange\n",
    "\n",
    "from modelling_3 import FullyConnectedReactionModel\n",
    "from modelling_3 import train_loop\n",
    "\n",
    "e=70\n",
    "batch_size=0.07\n",
    "lr=1e-4\n"
   ]
  },
  {
   "cell_type": "code",
   "execution_count": 28,
   "metadata": {},
   "outputs": [],
   "source": [
    "#unpickle\n",
    "rxn_diff_fp = np.load(\"data/ORD_USPTO/USPTO_rxn_diff_fp.pkl.npy\", allow_pickle=True)\n",
    "# Run all cells in the \"Read in data\" section to get data_df"
   ]
  },
  {
   "cell_type": "code",
   "execution_count": 29,
   "metadata": {},
   "outputs": [
    {
     "data": {
      "text/plain": [
       "(526999, 2048)"
      ]
     },
     "execution_count": 29,
     "metadata": {},
     "output_type": "execute_result"
    }
   ],
   "source": [
    "rxn_diff_fp.shape"
   ]
  },
  {
   "cell_type": "code",
   "execution_count": 12,
   "metadata": {},
   "outputs": [
    {
     "data": {
      "text/plain": [
       "Index(['mapped_rxn_0', 'reactant_0', 'reactant_1', 'reactant_2', 'reactant_3',\n",
       "       'reagents_0', 'reagents_1', 'solvent_0', 'solvent_1', 'catalyst_0',\n",
       "       'temperature_0', 'rxn_time_0', 'rxn_time_1', 'product_0', 'product_1',\n",
       "       'product_2', 'product_3', 'yields_0', 'yields_1', 'yields_2',\n",
       "       'yields_3', 'rxn_class'],\n",
       "      dtype='object')"
      ]
     },
     "execution_count": 12,
     "metadata": {},
     "output_type": "execute_result"
    }
   ],
   "source": [
    "data_df.columns"
   ]
  },
  {
   "cell_type": "code",
   "execution_count": 13,
   "metadata": {},
   "outputs": [
    {
     "data": {
      "text/plain": [
       "526999"
      ]
     },
     "execution_count": 13,
     "metadata": {},
     "output_type": "execute_result"
    }
   ],
   "source": [
    "len(data_df)"
   ]
  },
  {
   "cell_type": "code",
   "execution_count": 14,
   "metadata": {},
   "outputs": [],
   "source": [
    "# prep the data\n",
    "cat = np.array(data_df['catalyst_0'])\n",
    "# Do the one-hot encoding\n",
    "enc = OneHotEncoder(handle_unknown='ignore')\n",
    "cat_reshaped = cat.reshape(-1, 1)\n",
    "_ = enc.fit(cat_reshaped)\n",
    "\n",
    "cat_ohe = enc.transform(cat.reshape(-1, 1)).toarray()\n",
    "\n",
    "rxn_diff_fp_train, rxn_diff_fp_val, cat_ohe_train, cat_ohe_val = train_test_split(rxn_diff_fp, cat_ohe, test_size=0.2, random_state=42)"
   ]
  },
  {
   "cell_type": "markdown",
   "metadata": {},
   "source": [
    "## Big NN (full sharing)"
   ]
  },
  {
   "cell_type": "code",
   "execution_count": 15,
   "metadata": {},
   "outputs": [
    {
     "name": "stderr",
     "output_type": "stream",
     "text": [
      "Epoch: 69 Train [ Loss: 0.15031 | Acc (Top 1): 0.96769 | Acc (Top 3): 0.98997 | Acc (Top 5): 0.99344]\t Validation [ Loss: 0.81797 | Acc (Top 1): 0.92578 | Acc (Top 3): 0.96625 | Acc (Top 5):  0.97294]: 100%|██████████| 70/70 [58:29<00:00, 50.14s/it]\n"
     ]
    },
    {
     "ename": "NameError",
     "evalue": "name 'pd' is not defined",
     "output_type": "error",
     "traceback": [
      "\u001b[0;31m---------------------------------------------------------------------------\u001b[0m",
      "\u001b[0;31mNameError\u001b[0m                                 Traceback (most recent call last)",
      "Cell \u001b[0;32mIn[15], line 22\u001b[0m\n\u001b[1;32m     19\u001b[0m scheduler \u001b[39m=\u001b[39m \u001b[39mNone\u001b[39;00m  \u001b[39m# torch.optim.lr_scheduler.ReduceLROnPlateau(optimizer, 'min', patience=10, factor=0.5, verbose=True)\u001b[39;00m\n\u001b[1;32m     20\u001b[0m early_stopper \u001b[39m=\u001b[39m \u001b[39mNone\u001b[39;00m  \u001b[39m# EarlyStopper(patience=50, min_delta=0, verbose=True)\u001b[39;00m\n\u001b[0;32m---> 22\u001b[0m hist \u001b[39m=\u001b[39m train_loop(fcrm, x_train, y_train, epochs\u001b[39m=\u001b[39;49me, batch_size\u001b[39m=\u001b[39;49mbatch_size, loss_fn\u001b[39m=\u001b[39;49mtorch\u001b[39m.\u001b[39;49mnn\u001b[39m.\u001b[39;49mCrossEntropyLoss(), optimizer\u001b[39m=\u001b[39;49moptimizer, report_freq\u001b[39m=\u001b[39;49m\u001b[39m1\u001b[39;49m, x_val\u001b[39m=\u001b[39;49mx_val, y_val\u001b[39m=\u001b[39;49my_val, scheduler\u001b[39m=\u001b[39;49mscheduler, early_stopper\u001b[39m=\u001b[39;49mearly_stopper)\n",
      "File \u001b[0;32m~/Library/CloudStorage/OneDrive-UniversityofCambridge/Cambridge/Projects/chem_param_sharing_joe/chemical-parameter-sharing/modelling_3.py:222\u001b[0m, in \u001b[0;36mtrain_loop\u001b[0;34m(model, x_train, y_train, epochs, batch_size, loss_fn, optimizer, report_freq, scheduler, early_stopper, train_cluster_ids_for_downstream, train_similarity_dist, x_val, y_val, val_cluster_ids_for_downstream, val_similarity_dist)\u001b[0m\n\u001b[1;32m    218\u001b[0m \u001b[39mif\u001b[39;00m val_loss_trajectory:\n\u001b[1;32m    219\u001b[0m     val_traj \u001b[39m=\u001b[39m {\n\u001b[1;32m    220\u001b[0m         (\u001b[39m\"\u001b[39m\u001b[39mval\u001b[39m\u001b[39m\"\u001b[39m,\u001b[39m\"\u001b[39m\u001b[39mloss\u001b[39m\u001b[39m\"\u001b[39m): val_loss_trajectory, (\u001b[39m\"\u001b[39m\u001b[39mval\u001b[39m\u001b[39m\"\u001b[39m,\u001b[39m\"\u001b[39m\u001b[39macc\u001b[39m\u001b[39m\"\u001b[39m): val_acc_trajectory, (\u001b[39m\"\u001b[39m\u001b[39mval\u001b[39m\u001b[39m\"\u001b[39m,\u001b[39m\"\u001b[39m\u001b[39macc_top3\u001b[39m\u001b[39m\"\u001b[39m): val_acc_trajectory_top3, (\u001b[39m\"\u001b[39m\u001b[39mval\u001b[39m\u001b[39m\"\u001b[39m,\u001b[39m\"\u001b[39m\u001b[39macc_top5\u001b[39m\u001b[39m\"\u001b[39m): val_acc_trajectory_top5\n\u001b[1;32m    221\u001b[0m     }\n\u001b[0;32m--> 222\u001b[0m     \u001b[39mreturn\u001b[39;00m pd\u001b[39m.\u001b[39mDataFrame({\u001b[39m*\u001b[39m\u001b[39m*\u001b[39mtrain_traj, \u001b[39m*\u001b[39m\u001b[39m*\u001b[39mval_traj}, index\u001b[39m=\u001b[39mreport_epochs)\n\u001b[1;32m    223\u001b[0m \u001b[39melse\u001b[39;00m:\n\u001b[1;32m    224\u001b[0m     \u001b[39mreturn\u001b[39;00m pd\u001b[39m.\u001b[39mDataFrame(train_traj, index\u001b[39m=\u001b[39mreport_epochs)\n",
      "\u001b[0;31mNameError\u001b[0m: name 'pd' is not defined"
     ]
    }
   ],
   "source": [
    "# A data through one model for all reactions\n",
    "# rxn_diff_fp width -> ohe width\n",
    "\n",
    "x_train = torch.Tensor(rxn_diff_fp_train)\n",
    "y_train = torch.Tensor(cat_ohe_train)\n",
    "x_val = torch.Tensor(rxn_diff_fp_val)\n",
    "y_val = torch.Tensor(cat_ohe_val)\n",
    "fcrm = FullyConnectedReactionModel(\n",
    "    input_dim=x_train.shape[1],\n",
    "    hidden_dims=[600, 600],\n",
    "    target_dim=y_train.shape[1],\n",
    "    hidden_act=torch.nn.ReLU, \n",
    "    output_act=torch.nn.Identity, \n",
    "    use_batchnorm=True, \n",
    "    dropout_prob=0.2,\n",
    ")\n",
    "\n",
    "optimizer = torch.optim.Adam(fcrm.parameters(), lr=lr)\n",
    "scheduler = None  # torch.optim.lr_scheduler.ReduceLROnPlateau(optimizer, 'min', patience=10, factor=0.5, verbose=True)\n",
    "early_stopper = None  # EarlyStopper(patience=50, min_delta=0, verbose=True)\n",
    "\n",
    "hist = train_loop(fcrm, x_train, y_train, epochs=e, batch_size=batch_size, loss_fn=torch.nn.CrossEntropyLoss(), optimizer=optimizer, report_freq=1, x_val=x_val, y_val=y_val, scheduler=scheduler, early_stopper=early_stopper)"
   ]
  },
  {
   "cell_type": "code",
   "execution_count": 20,
   "metadata": {},
   "outputs": [
    {
     "ename": "NameError",
     "evalue": "name 'hist' is not defined",
     "output_type": "error",
     "traceback": [
      "\u001b[0;31m---------------------------------------------------------------------------\u001b[0m",
      "\u001b[0;31mNameError\u001b[0m                                 Traceback (most recent call last)",
      "Cell \u001b[0;32mIn[20], line 2\u001b[0m\n\u001b[1;32m      1\u001b[0m f,ax\u001b[39m=\u001b[39mplt\u001b[39m.\u001b[39msubplots(\u001b[39m1\u001b[39m,\u001b[39m4\u001b[39m, figsize\u001b[39m=\u001b[39m(\u001b[39m15\u001b[39m, \u001b[39m5\u001b[39m))\n\u001b[0;32m----> 2\u001b[0m hist\u001b[39m.\u001b[39mloc[:, (\u001b[39mslice\u001b[39m(\u001b[39mNone\u001b[39;00m), \u001b[39m\"\u001b[39m\u001b[39mloss\u001b[39m\u001b[39m\"\u001b[39m)]\u001b[39m.\u001b[39mdroplevel(level\u001b[39m=\u001b[39m\u001b[39m1\u001b[39m,axis\u001b[39m=\u001b[39m\u001b[39m1\u001b[39m)\u001b[39m.\u001b[39mplot(title\u001b[39m=\u001b[39m\u001b[39m\"\u001b[39m\u001b[39mCross Entropy (Loss)\u001b[39m\u001b[39m\"\u001b[39m, ax\u001b[39m=\u001b[39max[\u001b[39m0\u001b[39m])\n\u001b[1;32m      3\u001b[0m hist\u001b[39m.\u001b[39mloc[:, (\u001b[39mslice\u001b[39m(\u001b[39mNone\u001b[39;00m), \u001b[39m\"\u001b[39m\u001b[39macc\u001b[39m\u001b[39m\"\u001b[39m)]\u001b[39m.\u001b[39mdroplevel(level\u001b[39m=\u001b[39m\u001b[39m1\u001b[39m,axis\u001b[39m=\u001b[39m\u001b[39m1\u001b[39m)\u001b[39m.\u001b[39mplot(title\u001b[39m=\u001b[39m\u001b[39m\"\u001b[39m\u001b[39mAccuracy\u001b[39m\u001b[39m\"\u001b[39m, ax\u001b[39m=\u001b[39max[\u001b[39m1\u001b[39m])\n\u001b[1;32m      4\u001b[0m hist\u001b[39m.\u001b[39mloc[:, (\u001b[39mslice\u001b[39m(\u001b[39mNone\u001b[39;00m), \u001b[39m\"\u001b[39m\u001b[39macc_top3\u001b[39m\u001b[39m\"\u001b[39m)]\u001b[39m.\u001b[39mdroplevel(level\u001b[39m=\u001b[39m\u001b[39m1\u001b[39m,axis\u001b[39m=\u001b[39m\u001b[39m1\u001b[39m)\u001b[39m.\u001b[39mplot(title\u001b[39m=\u001b[39m\u001b[39m\"\u001b[39m\u001b[39mTop 3 Accuracy\u001b[39m\u001b[39m\"\u001b[39m, ax\u001b[39m=\u001b[39max[\u001b[39m2\u001b[39m])\n",
      "\u001b[0;31mNameError\u001b[0m: name 'hist' is not defined"
     ]
    },
    {
     "data": {
      "image/png": "[encoded data removed]",
      "text/plain": [
       "<Figure size 1500x500 with 4 Axes>"
      ]
     },
     "metadata": {},
     "output_type": "display_data"
    }
   ],
   "source": [
    "f,ax=plt.subplots(1,4, figsize=(15, 5))\n",
    "hist.loc[:, (slice(None), \"loss\")].droplevel(level=1,axis=1).plot(title=\"Cross Entropy (Loss)\", ax=ax[0])\n",
    "hist.loc[:, (slice(None), \"acc\")].droplevel(level=1,axis=1).plot(title=\"Accuracy\", ax=ax[1])\n",
    "hist.loc[:, (slice(None), \"acc_top3\")].droplevel(level=1,axis=1).plot(title=\"Top 3 Accuracy\", ax=ax[2])\n",
    "hist.loc[:, (slice(None), \"acc_top5\")].droplevel(level=1,axis=1).plot(title=\"Top 5 Accuracy\", ax=ax[3])\n",
    "f.suptitle(\"All Data\")"
   ]
  },
  {
   "cell_type": "markdown",
   "metadata": {},
   "source": [
    "## 1 model per cluster"
   ]
  },
  {
   "cell_type": "code",
   "execution_count": 22,
   "metadata": {},
   "outputs": [
    {
     "ename": "NameError",
     "evalue": "name 'Kmean' is not defined",
     "output_type": "error",
     "traceback": [
      "\u001b[0;31m---------------------------------------------------------------------------\u001b[0m",
      "\u001b[0;31mNameError\u001b[0m                                 Traceback (most recent call last)",
      "Cell \u001b[0;32mIn[22], line 4\u001b[0m\n\u001b[1;32m      1\u001b[0m \u001b[39m# Data through one model per reaction cluster\u001b[39;00m\n\u001b[1;32m      2\u001b[0m \u001b[39m# rxn_diff_fp width -> ohe width\u001b[39;00m\n\u001b[0;32m----> 4\u001b[0m train_clusters \u001b[39m=\u001b[39m Kmean\u001b[39m.\u001b[39mpredict(rxn_diff_fp_train)\n\u001b[1;32m      5\u001b[0m val_clusters \u001b[39m=\u001b[39m Kmean\u001b[39m.\u001b[39mpredict(rxn_diff_fp_val)\n\u001b[1;32m      7\u001b[0m cluster_models \u001b[39m=\u001b[39m {}\n",
      "\u001b[0;31mNameError\u001b[0m: name 'Kmean' is not defined"
     ]
    }
   ],
   "source": [
    "# Data through one model per reaction cluster\n",
    "# rxn_diff_fp width -> ohe width\n",
    "\n",
    "train_clusters = Kmean.predict(rxn_diff_fp_train)\n",
    "val_clusters = Kmean.predict(rxn_diff_fp_val)\n",
    "\n",
    "cluster_models = {}\n",
    "cluster_histories = {}\n",
    "\n",
    "for cluster in np.unique(train_clusters):\n",
    "    print(cluster)\n",
    "    x_train = torch.Tensor(rxn_diff_fp_train[train_clusters == cluster])\n",
    "    y_train = torch.Tensor(reag1_ohe_train[train_clusters == cluster])\n",
    "    x_val = torch.Tensor(rxn_diff_fp_val[val_clusters == cluster])\n",
    "    y_val = torch.Tensor(reag1_ohe_val[val_clusters == cluster])\n",
    "    fcrm = FullyConnectedReactionModel(\n",
    "        input_dim=x_train.shape[1],\n",
    "        hidden_dims=[600,600],\n",
    "        target_dim=y_train.shape[1],\n",
    "        hidden_act=torch.nn.ReLU, \n",
    "        output_act=torch.nn.Identity, \n",
    "        use_batchnorm=True, \n",
    "        dropout_prob=0.2,\n",
    "    )\n",
    "\n",
    "    optimizer=torch.optim.Adam(fcrm.parameters(), lr=lr)\n",
    "    scheduler = None#torch.optim.lr_scheduler.ReduceLROnPlateau(optimizer, 'min', patience=10, factor=0.5, verbose=True)\n",
    "    early_stopper = None#EarlyStopper(patience=50, min_delta=0, verbose=True)\n",
    "\n",
    "    hist = train_loop(fcrm, x_train, y_train, epochs=e, batch_size=batch_size, loss_fn=torch.nn.CrossEntropyLoss(), optimizer=optimizer, report_freq=1, x_val=x_val, y_val=y_val, scheduler=scheduler, early_stopper=early_stopper)\n",
    "    cluster_models[cluster] = fcrm\n",
    "    cluster_histories[cluster] = hist"
   ]
  },
  {
   "cell_type": "code",
   "execution_count": null,
   "metadata": {},
   "outputs": [],
   "source": [
    "y_train = torch.Tensor(reag1_ohe_train)\n",
    "y_val = torch.Tensor(reag1_ohe_val)\n",
    "pred_train = torch.zeros_like(y_train)\n",
    "pred_val = torch.zeros_like(y_val)\n",
    "for cluster in np.unique(train_clusters):\n",
    "    x_train = torch.Tensor(rxn_diff_fp_train[train_clusters == cluster])\n",
    "    x_val = torch.Tensor(rxn_diff_fp_val[val_clusters == cluster])\n",
    "    cluster_pred_train = cluster_models[cluster](x_train, training=False)\n",
    "    cluster_pred_val = cluster_models[cluster](x_val, training=False)\n",
    "    pred_train[train_clusters == cluster] = cluster_pred_train\n",
    "    pred_val[val_clusters == cluster] = cluster_pred_val\n",
    "\n",
    "acc_metric_top1 = torchmetrics.Accuracy(task=\"multiclass\", num_classes=y_train.shape[1], top_k=1)\n",
    "acc_metric_top3 = torchmetrics.Accuracy(task=\"multiclass\", num_classes=y_train.shape[1], top_k=3)\n",
    "acc_metric_top5 = torchmetrics.Accuracy(task=\"multiclass\", num_classes=y_train.shape[1], top_k=5)\n",
    "\n",
    "train_acc, train_acc_top3, train_acc_top5 = acc_metric_top1(pred_train, y_train.argmax(axis=1)).item(), acc_metric_top3(pred_train, y_train.argmax(axis=1)).item(), acc_metric_top5(pred_train, y_train.argmax(axis=1)).item()\n",
    "val_acc, val_acc_top3, val_acc_top5 = acc_metric_top1(pred_val, y_val.argmax(axis=1)).item(), acc_metric_top3(pred_val, y_val.argmax(axis=1)).item(), acc_metric_top5(pred_val, y_val.argmax(axis=1)).item()\n",
    "\n",
    "print(f\"Train      [ Acc (Top 1): {train_acc:.5f} | Acc (Top 3): {train_acc_top3:.5f} | Acc (Top 5): {train_acc_top5: .5f}]\")\n",
    "print(f\"Validation [ Acc (Top 1): {val_acc:.5f} | Acc (Top 3): {val_acc_top3:.5f} | Acc (Top 5): {val_acc_top5: .5f}]\")"
   ]
  }
 ],
 "metadata": {
  "kernelspec": {
   "display_name": "chemistry",
   "language": "python",
   "name": "python3"
  },
  "language_info": {
   "codemirror_mode": {
    "name": "ipython",
    "version": 3
   },
   "file_extension": ".py",
   "mimetype": "text/x-python",
   "name": "python",
   "nbconvert_exporter": "python",
   "pygments_lexer": "ipython3",
   "version": "3.10.8"
  },
  "orig_nbformat": 4,
  "vscode": {
   "interpreter": {
    "hash": "c1a6c9805cce96d1e29a306d4faa1abec69cf2c9ee1771799b926a7cc969fbbc"
   }
  }
 },
 "nbformat": 4,
 "nbformat_minor": 2
}
